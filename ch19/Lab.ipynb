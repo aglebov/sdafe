{
 "cells": [
  {
   "cell_type": "code",
   "execution_count": 1,
   "id": "2bc11e91-700b-4ae7-8f3e-694b701d67aa",
   "metadata": {
    "tags": []
   },
   "outputs": [],
   "source": [
    "import math\n",
    "\n",
    "import numpy as np\n",
    "import pandas as pd\n",
    "import matplotlib.pyplot as plt\n",
    "import scipy.stats as stats\n",
    "import seaborn as sns\n",
    "from statsmodels.nonparametric.smoothers_lowess import lowess"
   ]
  },
  {
   "cell_type": "code",
   "execution_count": 2,
   "id": "6eb7de4e-4d8c-4f71-90cf-66eecd6165c3",
   "metadata": {
    "tags": []
   },
   "outputs": [],
   "source": [
    "import sys\n",
    "sys.path.append('../') # go to parent dir\n",
    "sys.path.append('/home/artem/git/sdafe')"
   ]
  },
  {
   "cell_type": "code",
   "execution_count": 3,
   "id": "cf47252a-7cfd-4e0a-89dd-e4ae061495e3",
   "metadata": {
    "tags": []
   },
   "outputs": [],
   "source": [
    "from sdafe.plot import plot_qq_norm\n",
    "from sdafe.r import fv, tl, el\n",
    "from sdafe.ch07.multivariate import fit_mvt\n",
    "from sdafe.ch19.risk import VaR_t, ES_t, VaR_norm, ES_norm\n",
    "from sdafe.ch19.tail_index import hill_curve"
   ]
  },
  {
   "cell_type": "code",
   "execution_count": 4,
   "id": "d16992a3-2f3e-4f30-8bb4-697f91d35401",
   "metadata": {
    "tags": []
   },
   "outputs": [],
   "source": [
    "import rpy2.robjects as robjects\n",
    "from rpy2.robjects.packages import importr\n",
    "from rpy2.robjects import pandas2ri, numpy2ri, default_converter\n",
    "\n",
    "np_cv_rules = default_converter + numpy2ri.converter"
   ]
  },
  {
   "cell_type": "markdown",
   "id": "27289f39-568c-494a-ac7e-104a925fa1b3",
   "metadata": {},
   "source": [
    "### 19.11.1 Univariate VaR and ES"
   ]
  },
  {
   "cell_type": "code",
   "execution_count": 5,
   "id": "e5df60c0-231b-47f2-bb95-11a65ab16c1c",
   "metadata": {
    "tags": []
   },
   "outputs": [
    {
     "data": {
      "text/html": [
       "<div>\n",
       "<style scoped>\n",
       "    .dataframe tbody tr th:only-of-type {\n",
       "        vertical-align: middle;\n",
       "    }\n",
       "\n",
       "    .dataframe tbody tr th {\n",
       "        vertical-align: top;\n",
       "    }\n",
       "\n",
       "    .dataframe thead th {\n",
       "        text-align: right;\n",
       "    }\n",
       "</style>\n",
       "<table border=\"1\" class=\"dataframe\">\n",
       "  <thead>\n",
       "    <tr style=\"text-align: right;\">\n",
       "      <th></th>\n",
       "      <th>KO.Adjusted</th>\n",
       "      <th>PEP.Adjusted</th>\n",
       "    </tr>\n",
       "  </thead>\n",
       "  <tbody>\n",
       "    <tr>\n",
       "      <th>0</th>\n",
       "      <td>20.52</td>\n",
       "      <td>53.31</td>\n",
       "    </tr>\n",
       "    <tr>\n",
       "      <th>1</th>\n",
       "      <td>20.53</td>\n",
       "      <td>53.67</td>\n",
       "    </tr>\n",
       "    <tr>\n",
       "      <th>2</th>\n",
       "      <td>20.39</td>\n",
       "      <td>53.50</td>\n",
       "    </tr>\n",
       "    <tr>\n",
       "      <th>3</th>\n",
       "      <td>20.52</td>\n",
       "      <td>53.62</td>\n",
       "    </tr>\n",
       "    <tr>\n",
       "      <th>4</th>\n",
       "      <td>20.54</td>\n",
       "      <td>53.84</td>\n",
       "    </tr>\n",
       "  </tbody>\n",
       "</table>\n",
       "</div>"
      ],
      "text/plain": [
       "   KO.Adjusted  PEP.Adjusted\n",
       "0        20.52         53.31\n",
       "1        20.53         53.67\n",
       "2        20.39         53.50\n",
       "3        20.52         53.62\n",
       "4        20.54         53.84"
      ]
     },
     "execution_count": 5,
     "metadata": {},
     "output_type": "execute_result"
    }
   ],
   "source": [
    "data = pd.read_csv('../data/CokePepsi.csv', sep='\\\\s+')\n",
    "data.head()"
   ]
  },
  {
   "cell_type": "code",
   "execution_count": 6,
   "id": "852cfc62-0e05-4a41-8d08-5954a9c36aee",
   "metadata": {
    "tags": []
   },
   "outputs": [],
   "source": [
    "price = data['KO.Adjusted']\n",
    "ret = price.pct_change().dropna()"
   ]
  },
  {
   "cell_type": "code",
   "execution_count": 7,
   "id": "bc7c5d71-8398-40a2-878b-5eed4558c5e6",
   "metadata": {
    "tags": []
   },
   "outputs": [
    {
     "data": {
      "text/plain": [
       "0       20.52\n",
       "1       20.53\n",
       "2       20.39\n",
       "3       20.52\n",
       "4       20.54\n",
       "        ...  \n",
       "1472    37.42\n",
       "1473    36.72\n",
       "1474    36.36\n",
       "1475    36.29\n",
       "1476    36.08\n",
       "Name: KO.Adjusted, Length: 1477, dtype: float64"
      ]
     },
     "execution_count": 7,
     "metadata": {},
     "output_type": "execute_result"
    }
   ],
   "source": [
    "price"
   ]
  },
  {
   "cell_type": "code",
   "execution_count": 8,
   "id": "d7de662d-0173-4c54-8411-86f80974d00a",
   "metadata": {
    "tags": []
   },
   "outputs": [
    {
     "data": {
      "image/png": "[encoded data removed]",
      "text/plain": [
       "<Figure size 640x480 with 1 Axes>"
      ]
     },
     "metadata": {},
     "output_type": "display_data"
    }
   ],
   "source": [
    "fig, ax = plt.subplots()\n",
    "ax.plot(ret);\n",
    "ax.set_title('KO returns');"
   ]
  },
  {
   "cell_type": "code",
   "execution_count": 9,
   "id": "fc57196e-6959-49e6-9606-3a71488c313a",
   "metadata": {
    "tags": []
   },
   "outputs": [
    {
     "data": {
      "text/plain": [
       "(3.087006854390861, 0.0005453564371979491, 0.008324591226676198)"
      ]
     },
     "execution_count": 9,
     "metadata": {},
     "output_type": "execute_result"
    }
   ],
   "source": [
    "fit = stats.t.fit(ret)\n",
    "fit"
   ]
  },
  {
   "cell_type": "code",
   "execution_count": 10,
   "id": "9de26084-adff-4e8c-9022-702d654d91bf",
   "metadata": {
    "tags": []
   },
   "outputs": [],
   "source": [
    "S = 4000\n",
    "alpha = 0.05"
   ]
  },
  {
   "cell_type": "markdown",
   "id": "66a59f23-7634-42d0-8cf2-59ce1feb5e9e",
   "metadata": {},
   "source": [
    "#### Problem 1\n",
    "\n",
    "The $\\alpha$-quantile of the fitted t-distribution:"
   ]
  },
  {
   "cell_type": "code",
   "execution_count": 11,
   "id": "1b9ce4db-be65-4e3f-995b-ef1478bf72fe",
   "metadata": {},
   "outputs": [
    {
     "data": {
      "text/plain": [
       "-2.3265671511067914"
      ]
     },
     "execution_count": 11,
     "metadata": {},
     "output_type": "execute_result"
    }
   ],
   "source": [
    "q = stats.t.ppf(alpha, df=fit[0])\n",
    "q"
   ]
  },
  {
   "cell_type": "markdown",
   "id": "ea8220fc-fbcc-4e1a-8134-5759466779d7",
   "metadata": {},
   "source": [
    "The PDF of the fitted t-distribution evaluated at the $\\alpha$-quantile:"
   ]
  },
  {
   "cell_type": "code",
   "execution_count": 12,
   "id": "8b95e863-d5ba-4f3a-80b3-5d605859efc6",
   "metadata": {
    "tags": []
   },
   "outputs": [
    {
     "data": {
      "text/plain": [
       "0.04649456932837549"
      ]
     },
     "execution_count": 12,
     "metadata": {},
     "output_type": "execute_result"
    }
   ],
   "source": [
    "p = stats.t.pdf(q, df=fit[0])\n",
    "p"
   ]
  },
  {
   "cell_type": "markdown",
   "id": "7e53e3eb-b064-41bb-9183-72a25468f016",
   "metadata": {},
   "source": [
    "#### Problem 2"
   ]
  },
  {
   "cell_type": "markdown",
   "id": "adcecf09-9840-427e-b049-80d617e530b1",
   "metadata": {},
   "source": [
    "The estimate of VaR is:"
   ]
  },
  {
   "cell_type": "code",
   "execution_count": 13,
   "id": "2e990b45-af9a-4037-868b-ed942d5e2b40",
   "metadata": {
    "tags": []
   },
   "outputs": [
    {
     "data": {
      "text/plain": [
       "75.28945622871473"
      ]
     },
     "execution_count": 13,
     "metadata": {},
     "output_type": "execute_result"
    }
   ],
   "source": [
    "VaR_t(*fit, alpha, S)"
   ]
  },
  {
   "cell_type": "markdown",
   "id": "97c3ff81-220f-4e10-83d4-989678596521",
   "metadata": {},
   "source": [
    "The estimate of ES is:"
   ]
  },
  {
   "cell_type": "code",
   "execution_count": 14,
   "id": "57acc334-094e-4672-8aca-face932f0062",
   "metadata": {
    "tags": []
   },
   "outputs": [
    {
     "data": {
      "text/plain": [
       "123.92760154009827"
      ]
     },
     "execution_count": 14,
     "metadata": {},
     "output_type": "execute_result"
    }
   ],
   "source": [
    "ES_t(*fit, alpha, S)"
   ]
  },
  {
   "cell_type": "markdown",
   "id": "a4486e76-aff2-4fea-958a-99a9e5d57acd",
   "metadata": {},
   "source": [
    "#### Problem 3"
   ]
  },
  {
   "cell_type": "markdown",
   "id": "d28a9638-bf12-42fb-a48e-ca6dae588f1b",
   "metadata": {},
   "source": [
    "We fit the following ARMA(0, 0)+GARCH(1, 1) model:\n",
    "$$\n",
    "\\begin{equation}\n",
    "\\begin{split}\n",
    "r_t &=& \\mu + a_t \\\\\n",
    "a_t &=& \\epsilon_t \\sigma_t \\\\\n",
    "\\sigma_t^2 &=& \\omega + \\alpha_1 a_{t-1}^2 + \\beta_1 \\sigma_{t-1}^2,\n",
    "\\end{split}\n",
    "\\end{equation}\n",
    "$$\n",
    "where $\\epsilon_t$ has t-distribution with $\\nu$ degrees of freedom."
   ]
  },
  {
   "cell_type": "code",
   "execution_count": 15,
   "id": "6acb6e23-3e76-4359-9fc2-bf5f8da58835",
   "metadata": {
    "tags": []
   },
   "outputs": [],
   "source": [
    "rugarch = importr('rugarch')\n",
    "rmethods = importr('methods')\n",
    "rstats = importr('stats')"
   ]
  },
  {
   "cell_type": "code",
   "execution_count": 16,
   "id": "3118dd19-3d5e-4698-b227-d0a5ee582d44",
   "metadata": {
    "tags": []
   },
   "outputs": [
    {
     "name": "stdout",
     "output_type": "stream",
     "text": [
      "\n",
      "*---------------------------------*\n",
      "*          GARCH Model Fit        *\n",
      "*---------------------------------*\n",
      "\n",
      "Conditional Variance Dynamics \t\n",
      "-----------------------------------\n",
      "GARCH Model\t: sGARCH(1,1)\n",
      "Mean Model\t: ARFIMA(0,0,0)\n",
      "Distribution\t: std \n",
      "\n",
      "Optimal Parameters\n",
      "------------------------------------\n",
      "        Estimate  Std. Error  t value Pr(>|t|)\n",
      "mu      0.000675    0.000240  2.81442 0.004887\n",
      "omega   0.000003    0.000004  0.80152 0.422833\n",
      "alpha1  0.093818    0.034957  2.68381 0.007279\n",
      "beta1   0.892159    0.038578 23.12598 0.000000\n",
      "shape   5.889673    1.095606  5.37572 0.000000\n",
      "\n",
      "Robust Standard Errors:\n",
      "        Estimate  Std. Error  t value Pr(>|t|)\n",
      "mu      0.000675    0.000257  2.62791 0.008591\n",
      "omega   0.000003    0.000016  0.17396 0.861894\n",
      "alpha1  0.093818    0.148004  0.63389 0.526154\n",
      "beta1   0.892159    0.169003  5.27894 0.000000\n",
      "shape   5.889673    2.468554  2.38588 0.017038\n",
      "\n",
      "LogLikelihood : 4596.056 \n",
      "\n",
      "Information Criteria\n",
      "------------------------------------\n",
      "                    \n",
      "Akaike       -6.2209\n",
      "Bayes        -6.2030\n",
      "Shibata      -6.2210\n",
      "Hannan-Quinn -6.2143\n",
      "\n",
      "Weighted Ljung-Box Test on Standardized Residuals\n",
      "------------------------------------\n",
      "                        statistic p-value\n",
      "Lag[1]                     0.8039  0.3699\n",
      "Lag[2*(p+q)+(p+q)-1][2]    0.8718  0.5417\n",
      "Lag[4*(p+q)+(p+q)-1][5]    2.1466  0.5842\n",
      "d.o.f=0\n",
      "H0 : No serial correlation\n",
      "\n",
      "Weighted Ljung-Box Test on Standardized Squared Residuals\n",
      "------------------------------------\n",
      "                        statistic p-value\n",
      "Lag[1]                     0.9118  0.3396\n",
      "Lag[2*(p+q)+(p+q)-1][5]    5.1816  0.1392\n",
      "Lag[4*(p+q)+(p+q)-1][9]    6.7252  0.2233\n",
      "d.o.f=2\n",
      "\n",
      "Weighted ARCH LM Tests\n",
      "------------------------------------\n",
      "            Statistic Shape Scale P-Value\n",
      "ARCH Lag[3]     0.119 0.500 2.000  0.7301\n",
      "ARCH Lag[5]     0.839 1.440 1.667  0.7812\n",
      "ARCH Lag[7]     1.960 2.315 1.543  0.7258\n",
      "\n",
      "Nyblom stability test\n",
      "------------------------------------\n",
      "Joint Statistic:  15.7774\n",
      "Individual Statistics:              \n",
      "mu     0.05676\n",
      "omega  2.24174\n",
      "alpha1 0.28843\n",
      "beta1  0.12932\n",
      "shape  0.14100\n",
      "\n",
      "Asymptotic Critical Values (10% 5% 1%)\n",
      "Joint Statistic:     \t 1.28 1.47 1.88\n",
      "Individual Statistic:\t 0.35 0.47 0.75\n",
      "\n",
      "Sign Bias Test\n",
      "------------------------------------\n",
      "                   t-value    prob sig\n",
      "Sign Bias            1.040 0.29850    \n",
      "Negative Sign Bias   1.760 0.07861   *\n",
      "Positive Sign Bias   1.041 0.29816    \n",
      "Joint Effect         4.374 0.22383    \n",
      "\n",
      "\n",
      "Adjusted Pearson Goodness-of-Fit Test:\n",
      "------------------------------------\n",
      "  group statistic p-value(g-1)\n",
      "1    20     20.23       0.3807\n",
      "2    30     26.52       0.5976\n",
      "3    40     35.17       0.6455\n",
      "4    50     42.36       0.7374\n",
      "\n",
      "\n",
      "Elapsed time : 0.3539135 \n",
      "\n"
     ]
    }
   ],
   "source": [
    "spec = rugarch.ugarchspec(mean_model=tl({'armaOrder': fv(0, 0)}), variance_model=tl({'garchOrder': fv(1, 1)}), distribution_model=\"std\")\n",
    "with np_cv_rules.context():\n",
    "    fit = rugarch.ugarchfit(data=ret.values, spec=spec)\n",
    "    pred = rugarch.ugarchforecast(fit, data=ret.values, n_ahead=1)\n",
    "rmethods.show(fit);"
   ]
  },
  {
   "cell_type": "markdown",
   "id": "d006d3c3-8cfa-4940-97eb-261f4f4748e1",
   "metadata": {
    "tags": []
   },
   "source": [
    "#### Problem 4\n",
    "\n",
    "The one-step ahead predictions of the conditional mean and standard deviation are:"
   ]
  },
  {
   "cell_type": "code",
   "execution_count": 17,
   "id": "5f8dd285-0259-428e-9d59-8b5c044f9f31",
   "metadata": {
    "tags": []
   },
   "outputs": [
    {
     "data": {
      "text/plain": [
       "0.0006752321843790069"
      ]
     },
     "execution_count": 17,
     "metadata": {},
     "output_type": "execute_result"
    }
   ],
   "source": [
    "mu = el(pred.slots['forecast'], 'seriesFor')[0]\n",
    "mu"
   ]
  },
  {
   "cell_type": "code",
   "execution_count": 18,
   "id": "43524753-6063-405b-b62f-309f2b6d979a",
   "metadata": {
    "tags": []
   },
   "outputs": [
    {
     "data": {
      "text/plain": [
       "0.010382744027570273"
      ]
     },
     "execution_count": 18,
     "metadata": {},
     "output_type": "execute_result"
    }
   ],
   "source": [
    "sd = el(pred.slots['forecast'], 'sigmaFor')[0]\n",
    "sd"
   ]
  },
  {
   "cell_type": "markdown",
   "id": "203a7d16-ae86-48c2-97eb-6adff34662f0",
   "metadata": {},
   "source": [
    "#### Problem 5\n",
    "\n",
    "The estimated one-day VaR(0.05) is"
   ]
  },
  {
   "cell_type": "code",
   "execution_count": 19,
   "id": "d57089ce-5400-4251-9f87-1ac4bc7e5842",
   "metadata": {
    "tags": []
   },
   "outputs": [],
   "source": [
    "nu = el(fit.slots['fit'], 'coef')[4]"
   ]
  },
  {
   "cell_type": "code",
   "execution_count": 20,
   "id": "96425a7d-f19d-447a-b2e0-95232a6341f1",
   "metadata": {
    "tags": []
   },
   "outputs": [],
   "source": [
    "scale = sd / np.sqrt(nu / (nu - 2))"
   ]
  },
  {
   "cell_type": "code",
   "execution_count": 21,
   "id": "e3a66e1f-b93c-4155-98a0-d42f0ff9f118",
   "metadata": {
    "tags": []
   },
   "outputs": [
    {
     "data": {
      "text/plain": [
       "63.10348763170147"
      ]
     },
     "execution_count": 21,
     "metadata": {},
     "output_type": "execute_result"
    }
   ],
   "source": [
    "VaR_t(nu, mu, scale, 0.05, 4000)"
   ]
  },
  {
   "cell_type": "markdown",
   "id": "3bb19fb3-fc93-4eea-890e-ae3c0f5e60d2",
   "metadata": {},
   "source": [
    "The estimated one-day ES(0.05) is:"
   ]
  },
  {
   "cell_type": "code",
   "execution_count": 22,
   "id": "3004057e-7a59-4065-b190-9690d669515f",
   "metadata": {
    "tags": []
   },
   "outputs": [
    {
     "data": {
      "text/plain": [
       "89.32590213767732"
      ]
     },
     "execution_count": 22,
     "metadata": {},
     "output_type": "execute_result"
    }
   ],
   "source": [
    "ES_t(nu, mu, scale, 0.05, 4000)"
   ]
  },
  {
   "cell_type": "markdown",
   "id": "7b5e7a8d-e070-44ef-8596-83e06c5ed9ce",
   "metadata": {},
   "source": [
    "### 19.11.2 VaR Using a Multivariate-t Model"
   ]
  },
  {
   "cell_type": "code",
   "execution_count": 23,
   "id": "11a8314f-1ac4-4605-9bb6-17b139d7d291",
   "metadata": {
    "tags": []
   },
   "outputs": [
    {
     "data": {
      "text/html": [
       "<div>\n",
       "<style scoped>\n",
       "    .dataframe tbody tr th:only-of-type {\n",
       "        vertical-align: middle;\n",
       "    }\n",
       "\n",
       "    .dataframe tbody tr th {\n",
       "        vertical-align: top;\n",
       "    }\n",
       "\n",
       "    .dataframe thead th {\n",
       "        text-align: right;\n",
       "    }\n",
       "</style>\n",
       "<table border=\"1\" class=\"dataframe\">\n",
       "  <thead>\n",
       "    <tr style=\"text-align: right;\">\n",
       "      <th></th>\n",
       "      <th>CITCRP</th>\n",
       "      <th>CONED</th>\n",
       "      <th>CONTIL</th>\n",
       "      <th>DATGEN</th>\n",
       "      <th>DEC</th>\n",
       "      <th>DELTA</th>\n",
       "      <th>GENMIL</th>\n",
       "      <th>GERBER</th>\n",
       "      <th>IBM</th>\n",
       "      <th>MARKET</th>\n",
       "      <th>MOBIL</th>\n",
       "      <th>PANAM</th>\n",
       "      <th>PSNH</th>\n",
       "      <th>TANDY</th>\n",
       "      <th>TEXACO</th>\n",
       "      <th>WEYER</th>\n",
       "      <th>RKFREE</th>\n",
       "    </tr>\n",
       "    <tr>\n",
       "      <th>X.Y..m..d</th>\n",
       "      <th></th>\n",
       "      <th></th>\n",
       "      <th></th>\n",
       "      <th></th>\n",
       "      <th></th>\n",
       "      <th></th>\n",
       "      <th></th>\n",
       "      <th></th>\n",
       "      <th></th>\n",
       "      <th></th>\n",
       "      <th></th>\n",
       "      <th></th>\n",
       "      <th></th>\n",
       "      <th></th>\n",
       "      <th></th>\n",
       "      <th></th>\n",
       "      <th></th>\n",
       "    </tr>\n",
       "  </thead>\n",
       "  <tbody>\n",
       "    <tr>\n",
       "      <th>1978-01-01</th>\n",
       "      <td>-0.115</td>\n",
       "      <td>-0.079</td>\n",
       "      <td>-0.129</td>\n",
       "      <td>-0.084</td>\n",
       "      <td>-0.100</td>\n",
       "      <td>-0.028</td>\n",
       "      <td>-0.099</td>\n",
       "      <td>-0.048</td>\n",
       "      <td>-0.029</td>\n",
       "      <td>-0.045</td>\n",
       "      <td>-0.046</td>\n",
       "      <td>0.025</td>\n",
       "      <td>-0.008</td>\n",
       "      <td>-0.075</td>\n",
       "      <td>-0.054</td>\n",
       "      <td>-0.116</td>\n",
       "      <td>0.00487</td>\n",
       "    </tr>\n",
       "    <tr>\n",
       "      <th>1978-02-01</th>\n",
       "      <td>-0.019</td>\n",
       "      <td>-0.003</td>\n",
       "      <td>0.037</td>\n",
       "      <td>-0.097</td>\n",
       "      <td>-0.063</td>\n",
       "      <td>-0.033</td>\n",
       "      <td>0.018</td>\n",
       "      <td>0.160</td>\n",
       "      <td>-0.043</td>\n",
       "      <td>0.010</td>\n",
       "      <td>-0.017</td>\n",
       "      <td>-0.073</td>\n",
       "      <td>-0.025</td>\n",
       "      <td>-0.004</td>\n",
       "      <td>-0.010</td>\n",
       "      <td>-0.135</td>\n",
       "      <td>0.00494</td>\n",
       "    </tr>\n",
       "    <tr>\n",
       "      <th>1978-03-01</th>\n",
       "      <td>0.059</td>\n",
       "      <td>0.022</td>\n",
       "      <td>0.003</td>\n",
       "      <td>0.063</td>\n",
       "      <td>0.010</td>\n",
       "      <td>0.070</td>\n",
       "      <td>-0.023</td>\n",
       "      <td>-0.036</td>\n",
       "      <td>-0.063</td>\n",
       "      <td>0.050</td>\n",
       "      <td>0.049</td>\n",
       "      <td>0.184</td>\n",
       "      <td>0.026</td>\n",
       "      <td>0.124</td>\n",
       "      <td>0.015</td>\n",
       "      <td>0.084</td>\n",
       "      <td>0.00526</td>\n",
       "    </tr>\n",
       "    <tr>\n",
       "      <th>1978-04-01</th>\n",
       "      <td>0.127</td>\n",
       "      <td>-0.005</td>\n",
       "      <td>0.180</td>\n",
       "      <td>0.179</td>\n",
       "      <td>0.165</td>\n",
       "      <td>0.150</td>\n",
       "      <td>0.046</td>\n",
       "      <td>0.004</td>\n",
       "      <td>0.130</td>\n",
       "      <td>0.063</td>\n",
       "      <td>0.077</td>\n",
       "      <td>0.089</td>\n",
       "      <td>-0.008</td>\n",
       "      <td>0.055</td>\n",
       "      <td>0.000</td>\n",
       "      <td>0.144</td>\n",
       "      <td>0.00491</td>\n",
       "    </tr>\n",
       "    <tr>\n",
       "      <th>1978-05-01</th>\n",
       "      <td>0.005</td>\n",
       "      <td>-0.014</td>\n",
       "      <td>0.061</td>\n",
       "      <td>0.052</td>\n",
       "      <td>0.038</td>\n",
       "      <td>-0.031</td>\n",
       "      <td>0.063</td>\n",
       "      <td>0.046</td>\n",
       "      <td>-0.018</td>\n",
       "      <td>0.067</td>\n",
       "      <td>-0.011</td>\n",
       "      <td>0.082</td>\n",
       "      <td>0.019</td>\n",
       "      <td>0.176</td>\n",
       "      <td>-0.029</td>\n",
       "      <td>-0.031</td>\n",
       "      <td>0.00513</td>\n",
       "    </tr>\n",
       "  </tbody>\n",
       "</table>\n",
       "</div>"
      ],
      "text/plain": [
       "            CITCRP  CONED  CONTIL  DATGEN    DEC  DELTA  GENMIL  GERBER   \n",
       "X.Y..m..d                                                                 \n",
       "1978-01-01  -0.115 -0.079  -0.129  -0.084 -0.100 -0.028  -0.099  -0.048  \\\n",
       "1978-02-01  -0.019 -0.003   0.037  -0.097 -0.063 -0.033   0.018   0.160   \n",
       "1978-03-01   0.059  0.022   0.003   0.063  0.010  0.070  -0.023  -0.036   \n",
       "1978-04-01   0.127 -0.005   0.180   0.179  0.165  0.150   0.046   0.004   \n",
       "1978-05-01   0.005 -0.014   0.061   0.052  0.038 -0.031   0.063   0.046   \n",
       "\n",
       "              IBM  MARKET  MOBIL  PANAM   PSNH  TANDY  TEXACO  WEYER   RKFREE  \n",
       "X.Y..m..d                                                                      \n",
       "1978-01-01 -0.029  -0.045 -0.046  0.025 -0.008 -0.075  -0.054 -0.116  0.00487  \n",
       "1978-02-01 -0.043   0.010 -0.017 -0.073 -0.025 -0.004  -0.010 -0.135  0.00494  \n",
       "1978-03-01 -0.063   0.050  0.049  0.184  0.026  0.124   0.015  0.084  0.00526  \n",
       "1978-04-01  0.130   0.063  0.077  0.089 -0.008  0.055   0.000  0.144  0.00491  \n",
       "1978-05-01 -0.018   0.067 -0.011  0.082  0.019  0.176  -0.029 -0.031  0.00513  "
      ]
     },
     "execution_count": 23,
     "metadata": {},
     "output_type": "execute_result"
    }
   ],
   "source": [
    "data = pd.read_csv('../data/berndtInvest.csv', index_col=0, parse_dates=[0])\n",
    "data.head()"
   ]
  },
  {
   "cell_type": "code",
   "execution_count": 24,
   "id": "1c27b4b9-c33b-4b7b-9df9-e314980b9a18",
   "metadata": {
    "tags": []
   },
   "outputs": [],
   "source": [
    "ret = data[['DATGEN', 'DEC']]"
   ]
  },
  {
   "cell_type": "code",
   "execution_count": 25,
   "id": "a8445273-898c-46e0-91c0-0a22e1d28ac1",
   "metadata": {
    "tags": []
   },
   "outputs": [
    {
     "data": {
      "text/plain": [
       "  message: CONVERGENCE: REL_REDUCTION_OF_F_<=_FACTR*EPSMCH\n",
       "  success: True\n",
       "   status: 0\n",
       "      fun: -222.25234328005212\n",
       "        x: [ 5.422e-03  2.164e-02  9.991e-02  4.546e-02  5.772e-02\n",
       "             4.295e+00]\n",
       "      nit: 24\n",
       "      jac: [-1.588e-02 -4.988e-03 -3.087e-03 -1.379e-02 -1.019e-02\n",
       "             1.990e-05]\n",
       "     nfev: 196\n",
       "     njev: 28\n",
       " hess_inv: <6x6 LbfgsInvHessProduct with dtype=float64>"
      ]
     },
     "execution_count": 25,
     "metadata": {},
     "output_type": "execute_result"
    }
   ],
   "source": [
    "fit = fit_mvt(ret, mu_bounds=(-0.05, 0.05), a_bounds=(-0.5, 0.5), df_bounds=(2, 15))\n",
    "fit"
   ]
  },
  {
   "cell_type": "markdown",
   "id": "86010692-a9e9-4bbf-b749-cdcf7b990fda",
   "metadata": {},
   "source": [
    "#### Prpoblem 6"
   ]
  },
  {
   "cell_type": "markdown",
   "id": "271e8256-7284-4c40-b993-165b889cfc74",
   "metadata": {
    "tags": []
   },
   "source": [
    "The estimates of means are:"
   ]
  },
  {
   "cell_type": "code",
   "execution_count": 26,
   "id": "f5e2ce6f-def9-49de-b4bb-0d8389a7fa09",
   "metadata": {
    "tags": []
   },
   "outputs": [
    {
     "data": {
      "text/plain": [
       "array([0.00542233, 0.02164206])"
      ]
     },
     "execution_count": 26,
     "metadata": {},
     "output_type": "execute_result"
    }
   ],
   "source": [
    "fit.x[:2]"
   ]
  },
  {
   "cell_type": "markdown",
   "id": "debe743c-7de0-4430-ab78-df823fd1eb2a",
   "metadata": {},
   "source": [
    "The estimate of the scale matrix is:"
   ]
  },
  {
   "cell_type": "code",
   "execution_count": 27,
   "id": "15c7e8c8-6810-4182-a7c8-fc954f3be13c",
   "metadata": {
    "tags": []
   },
   "outputs": [
    {
     "data": {
      "text/plain": [
       "array([[0.00998277, 0.00454242],\n",
       "       [0.00454242, 0.00539825]])"
      ]
     },
     "execution_count": 27,
     "metadata": {},
     "output_type": "execute_result"
    }
   ],
   "source": [
    "A = np.zeros((2, 2))\n",
    "A[np.triu_indices(2)] = fit.x[2:5]\n",
    "A.T @ A"
   ]
  },
  {
   "cell_type": "markdown",
   "id": "f86faf7e-c7fb-4e4b-8b98-e91fbf704e54",
   "metadata": {},
   "source": [
    "The estimate of the tail index is:"
   ]
  },
  {
   "cell_type": "code",
   "execution_count": 28,
   "id": "2ad62446-2ebd-44b9-b82a-b39e0c581793",
   "metadata": {
    "tags": []
   },
   "outputs": [
    {
     "data": {
      "text/plain": [
       "4.295072981333025"
      ]
     },
     "execution_count": 28,
     "metadata": {},
     "output_type": "execute_result"
    }
   ],
   "source": [
    "nu = fit.x[-1]\n",
    "nu"
   ]
  },
  {
   "cell_type": "markdown",
   "id": "1b58a2d4-8c03-4ccc-8730-6430e4ce8b49",
   "metadata": {},
   "source": [
    "The estimate of the covariance matrix:"
   ]
  },
  {
   "cell_type": "code",
   "execution_count": 29,
   "id": "35ea43c0-575c-4c69-ae7a-c21970c22ec4",
   "metadata": {
    "tags": []
   },
   "outputs": [
    {
     "data": {
      "text/plain": [
       "array([[0.01868208, 0.00850084],\n",
       "       [0.00850084, 0.01010245]])"
      ]
     },
     "execution_count": 29,
     "metadata": {},
     "output_type": "execute_result"
    }
   ],
   "source": [
    "Sigma = A.T @ A * nu / (nu - 2)\n",
    "Sigma"
   ]
  },
  {
   "cell_type": "markdown",
   "id": "a233f61f-6878-4acb-b24a-0dec2d44e2fa",
   "metadata": {},
   "source": [
    "The sample covariance matrix:"
   ]
  },
  {
   "cell_type": "code",
   "execution_count": 30,
   "id": "f46f1da7-baa4-4d4e-b458-df4e7921dc84",
   "metadata": {
    "tags": []
   },
   "outputs": [
    {
     "data": {
      "text/html": [
       "<div>\n",
       "<style scoped>\n",
       "    .dataframe tbody tr th:only-of-type {\n",
       "        vertical-align: middle;\n",
       "    }\n",
       "\n",
       "    .dataframe tbody tr th {\n",
       "        vertical-align: top;\n",
       "    }\n",
       "\n",
       "    .dataframe thead th {\n",
       "        text-align: right;\n",
       "    }\n",
       "</style>\n",
       "<table border=\"1\" class=\"dataframe\">\n",
       "  <thead>\n",
       "    <tr style=\"text-align: right;\">\n",
       "      <th></th>\n",
       "      <th>DATGEN</th>\n",
       "      <th>DEC</th>\n",
       "    </tr>\n",
       "  </thead>\n",
       "  <tbody>\n",
       "    <tr>\n",
       "      <th>DATGEN</th>\n",
       "      <td>0.016266</td>\n",
       "      <td>0.007283</td>\n",
       "    </tr>\n",
       "    <tr>\n",
       "      <th>DEC</th>\n",
       "      <td>0.007283</td>\n",
       "      <td>0.009829</td>\n",
       "    </tr>\n",
       "  </tbody>\n",
       "</table>\n",
       "</div>"
      ],
      "text/plain": [
       "          DATGEN       DEC\n",
       "DATGEN  0.016266  0.007283\n",
       "DEC     0.007283  0.009829"
      ]
     },
     "execution_count": 30,
     "metadata": {},
     "output_type": "execute_result"
    }
   ],
   "source": [
    "ret.cov()"
   ]
  },
  {
   "cell_type": "markdown",
   "id": "0f128730-4c2a-4ee0-96b5-365553ff4f22",
   "metadata": {
    "tags": []
   },
   "source": [
    "#### Problem 7"
   ]
  },
  {
   "cell_type": "code",
   "execution_count": 31,
   "id": "fbba8bcb-9e9e-4999-8e73-d082b0c0ba08",
   "metadata": {
    "tags": []
   },
   "outputs": [],
   "source": [
    "w = np.array([0.3, 0.7]).reshape(-1, 1)"
   ]
  },
  {
   "cell_type": "markdown",
   "id": "de20b433-9bef-4ddc-a6ad-66cf6c09fb74",
   "metadata": {},
   "source": [
    "(a) The distribution is univariate t with mean:"
   ]
  },
  {
   "cell_type": "code",
   "execution_count": 32,
   "id": "8b96e7d3-bb76-4f5e-b9a0-4ecb1fe17492",
   "metadata": {
    "tags": []
   },
   "outputs": [
    {
     "data": {
      "text/plain": [
       "0.016776138621595764"
      ]
     },
     "execution_count": 32,
     "metadata": {},
     "output_type": "execute_result"
    }
   ],
   "source": [
    "mu = (w.T @ fit.x[:2])[0]\n",
    "mu"
   ]
  },
  {
   "cell_type": "markdown",
   "id": "7568a095-8eeb-470f-a0f1-64163d9ca2ad",
   "metadata": {},
   "source": [
    "and standard deviation:"
   ]
  },
  {
   "cell_type": "code",
   "execution_count": 33,
   "id": "ec43a8b9-e131-42bd-ae24-ebbff15402f7",
   "metadata": {
    "tags": []
   },
   "outputs": [
    {
     "data": {
      "text/plain": [
       "0.10100465186972196"
      ]
     },
     "execution_count": 33,
     "metadata": {},
     "output_type": "execute_result"
    }
   ],
   "source": [
    "sd = np.sqrt((w.T @ Sigma @ w)[0, 0])\n",
    "sd"
   ]
  },
  {
   "cell_type": "markdown",
   "id": "de10dbc9-4e23-4dd9-9c05-b368dd372590",
   "metadata": {},
   "source": [
    "(b) The estimate of VaR for this portfolio:"
   ]
  },
  {
   "cell_type": "code",
   "execution_count": 34,
   "id": "10b3d980-36c5-4f8c-8142-5e7a45db2eeb",
   "metadata": {
    "tags": []
   },
   "outputs": [],
   "source": [
    "scale = sd / np.sqrt(nu / (nu - 2))"
   ]
  },
  {
   "cell_type": "code",
   "execution_count": 35,
   "id": "2f4dc41b-ecb5-4b00-a65c-3ba46e5af3de",
   "metadata": {
    "tags": []
   },
   "outputs": [
    {
     "data": {
      "text/plain": [
       "13756.973753373944"
      ]
     },
     "execution_count": 35,
     "metadata": {},
     "output_type": "execute_result"
    }
   ],
   "source": [
    "VaR_est = VaR_t(nu, mu, scale, 0.05, 100_000)\n",
    "VaR_est"
   ]
  },
  {
   "cell_type": "markdown",
   "id": "42fbb48c-efe6-42fa-aaa3-0ac45a517872",
   "metadata": {},
   "source": [
    "The estimate of ES for this portfolio:"
   ]
  },
  {
   "cell_type": "code",
   "execution_count": 36,
   "id": "500e031b-e7cd-4355-ab13-82c70fd3f616",
   "metadata": {
    "tags": []
   },
   "outputs": [
    {
     "data": {
      "text/plain": [
       "21129.21519920964"
      ]
     },
     "execution_count": 36,
     "metadata": {},
     "output_type": "execute_result"
    }
   ],
   "source": [
    "ES_t(nu, mu, scale, 0.05, 100_000)"
   ]
  },
  {
   "cell_type": "markdown",
   "id": "972c0581-185b-4b08-ac87-a354d5a7790a",
   "metadata": {
    "tags": []
   },
   "source": [
    "#### Problem 8"
   ]
  },
  {
   "cell_type": "code",
   "execution_count": 37,
   "id": "e5ce644e-29a3-4886-91b9-e757b10e02e6",
   "metadata": {
    "tags": []
   },
   "outputs": [],
   "source": [
    "def boot_VaR(n_boot, ret, w, alpha, S, rng=None):\n",
    "    if rng is None:\n",
    "        rng = np.random.default_rng()\n",
    "    \n",
    "    n = ret.shape[1]\n",
    "    n_mu = n\n",
    "    n_cov = n * (n + 1) // 2\n",
    "    \n",
    "    VaRs = np.zeros(n_boot)\n",
    "    nus = np.zeros(n_boot)\n",
    "    for i in range(n_boot):\n",
    "        sample = ret.sample(frac=1, axis=0, replace=True, random_state=rng)\n",
    "        fit = fit_mvt(sample, mu_bounds=(-0.05, 0.05), a_bounds=(-0.5, 0.5), df_bounds=(2, 15))\n",
    "        mu = (w.T @ fit.x[:n_mu])[0]\n",
    "        A = np.zeros((n, n))\n",
    "        A[np.triu_indices(n)] = fit.x[n_mu:n_mu + n_cov]\n",
    "        scale = np.sqrt(w.T @ A.T @ A @ w)\n",
    "        nu = fit.x[-1]\n",
    "        VaRs[i] = VaR_t(nu, mu, scale, alpha, S)\n",
    "        nus[i] = nu\n",
    "\n",
    "    return VaRs, nus"
   ]
  },
  {
   "cell_type": "code",
   "execution_count": 38,
   "id": "6639929e-3bfb-44c4-a50a-1d9a54a585f5",
   "metadata": {
    "tags": []
   },
   "outputs": [],
   "source": [
    "n_boot = 250"
   ]
  },
  {
   "cell_type": "code",
   "execution_count": 39,
   "id": "36f0b99f-361b-4cd4-a41c-a801edf540e4",
   "metadata": {
    "tags": []
   },
   "outputs": [],
   "source": [
    "rng = np.random.default_rng(12345)\n",
    "VaRs, nus = boot_VaR(n_boot, ret, w, 0.05, 100_000, rng=rng)"
   ]
  },
  {
   "cell_type": "code",
   "execution_count": 40,
   "id": "a58de840-fb9e-4f88-a192-e27fb65d8341",
   "metadata": {
    "tags": []
   },
   "outputs": [],
   "source": [
    "boot_alpha = 0.1"
   ]
  },
  {
   "cell_type": "markdown",
   "id": "49d8b317-6fc2-4312-b0ab-ea62dfa46d8e",
   "metadata": {},
   "source": [
    "The basic confidence interval for VaR is:"
   ]
  },
  {
   "cell_type": "code",
   "execution_count": 41,
   "id": "1eff67a0-22ca-497d-a19f-dce732555d4d",
   "metadata": {
    "tags": []
   },
   "outputs": [
    {
     "data": {
      "text/plain": [
       "array([13712.85848149, 14126.24287433])"
      ]
     },
     "execution_count": 41,
     "metadata": {},
     "output_type": "execute_result"
    }
   ],
   "source": [
    "2 * VaR_est - np.quantile(VaRs, [(1 + boot_alpha) / 2, (1 - boot_alpha) / 2])"
   ]
  },
  {
   "cell_type": "markdown",
   "id": "53a8abe4-9876-4203-99ee-95ae620d2695",
   "metadata": {},
   "source": [
    "The density of the VaR estimates appears reasonably Gaussian based on the histogram, whereas the density of $\\nu$ is obviously skewed:"
   ]
  },
  {
   "cell_type": "code",
   "execution_count": 46,
   "id": "380f2827-a62a-468c-ad98-dfcc049a0a44",
   "metadata": {
    "tags": []
   },
   "outputs": [
    {
     "data": {
      "image/png": "[encoded data removed]",
      "text/plain": [
       "<Figure size 900x900 with 4 Axes>"
      ]
     },
     "metadata": {},
     "output_type": "display_data"
    }
   ],
   "source": [
    "fig, axs = plt.subplots(2, 2, figsize=(9, 9))\n",
    "\n",
    "# histogram of VaR values\n",
    "axs[0][0].hist(VaRs, bins=20, density=True, alpha=0.4);\n",
    "axs[0][0].set_title('Distribution of boostrap VaR estimates');\n",
    "\n",
    "# KDE of VaR values\n",
    "sns.kdeplot(VaRs, ax=axs[0][0]);\n",
    "\n",
    "# histogram of nu\n",
    "axs[0][1].hist(nus, bins=20, density=True, alpha=0.4);\n",
    "axs[0][1].set_title('Distribution of bootstrap $\\\\nu$ estimates');\n",
    "\n",
    "# KDE of nu\n",
    "sns.kdeplot(nus, ax=axs[0][1]);\n",
    "\n",
    "plot_qq_norm(axs[1][0], VaRs);\n",
    "axs[1][0].set_title('QQ plot for boostrat VaR estimates');\n",
    "\n",
    "plot_qq_norm(axs[1][1], nus);\n",
    "axs[1][1].set_title('QQ plot for boostrat $\\\\nu$ estimates');"
   ]
  },
  {
   "cell_type": "markdown",
   "id": "6ae2eca1-2e1c-4587-8fce-dc9a6122f2af",
   "metadata": {},
   "source": [
    "#### Problem 9"
   ]
  },
  {
   "cell_type": "code",
   "execution_count": 43,
   "id": "dcc4eb71-a8dd-43a1-92f4-03f1981005da",
   "metadata": {
    "tags": []
   },
   "outputs": [],
   "source": [
    "def unzip(x: np.array):\n",
    "    return x[:, 0], x[:, 1]"
   ]
  },
  {
   "cell_type": "code",
   "execution_count": 44,
   "id": "4c1bf9e3-9718-429b-ae0a-7d229ab72f30",
   "metadata": {
    "tags": []
   },
   "outputs": [],
   "source": [
    "c, nc, a = hill_curve(ret['DEC'])"
   ]
  },
  {
   "cell_type": "code",
   "execution_count": 45,
   "id": "28f9dbfc-4f18-45a7-a860-f51d0e734b54",
   "metadata": {
    "tags": []
   },
   "outputs": [
    {
     "data": {
      "image/png": "[encoded data removed]",
      "text/plain": [
       "<Figure size 640x480 with 1 Axes>"
      ]
     },
     "metadata": {},
     "output_type": "display_data"
    }
   ],
   "source": [
    "fig, ax = plt.subplots()\n",
    "ax.plot(nc, a);\n",
    "ax.plot(*unzip(lowess(a, nc, frac=0.3)));\n",
    "ax.set_title('Hill Plot');"
   ]
  },
  {
   "cell_type": "markdown",
   "id": "8a81e5e9-d98d-42e2-af8e-d3199697fed9",
   "metadata": {},
   "source": [
    "The estimate is quite stable in the region 5-25, so we can use the value of 2 as the estimate."
   ]
  }
 ],
 "metadata": {
  "kernelspec": {
   "display_name": "Python 3 (ipykernel)",
   "language": "python",
   "name": "python3"
  },
  "language_info": {
   "codemirror_mode": {
    "name": "ipython",
    "version": 3
   },
   "file_extension": ".py",
   "mimetype": "text/x-python",
   "name": "python",
   "nbconvert_exporter": "python",
   "pygments_lexer": "ipython3",
   "version": "3.11.2"
  }
 },
 "nbformat": 4,
 "nbformat_minor": 5
}
