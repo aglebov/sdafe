{
 "cells": [
  {
   "cell_type": "code",
   "execution_count": 1,
   "id": "88e6e746-faf3-4175-93ac-3d7299b822cb",
   "metadata": {
    "tags": []
   },
   "outputs": [],
   "source": [
    "import math\n",
    "\n",
    "import numpy as np\n",
    "import pandas as pd\n",
    "import matplotlib.pyplot as plt\n",
    "import scipy.stats as stats\n",
    "import seaborn as sns\n",
    "from statsmodels.nonparametric.smoothers_lowess import lowess\n",
    "\n",
    "import yfinance as yf"
   ]
  },
  {
   "cell_type": "code",
   "execution_count": 2,
   "id": "ba2eb80c-ca3e-480e-a594-0fa29c885fcd",
   "metadata": {
    "tags": []
   },
   "outputs": [],
   "source": [
    "import sys\n",
    "sys.path.append('../utils')"
   ]
  },
  {
   "cell_type": "code",
   "execution_count": 3,
   "id": "39c3cb9a-c564-4f1a-baaf-75b2c1ba696c",
   "metadata": {
    "tags": []
   },
   "outputs": [],
   "source": [
    "from sdafe.plot import plot_qq_norm, plot_qq_t\n",
    "from sdafe.ch19.risk import VaR, ES, VaR_norm, ES_norm, VaR_t, ES_t\n",
    "from sdafe.ch19.tail_index import hill_curve"
   ]
  },
  {
   "cell_type": "markdown",
   "id": "da6390d8-af52-43ab-afb0-c39b86dd5857",
   "metadata": {
    "tags": []
   },
   "source": [
    "#### Exercise 1"
   ]
  },
  {
   "cell_type": "code",
   "execution_count": 4,
   "id": "45e9601a-ff0d-43e8-8a81-04516b511171",
   "metadata": {
    "tags": []
   },
   "outputs": [
    {
     "data": {
      "text/html": [
       "<div>\n",
       "<style scoped>\n",
       "    .dataframe tbody tr th:only-of-type {\n",
       "        vertical-align: middle;\n",
       "    }\n",
       "\n",
       "    .dataframe tbody tr th {\n",
       "        vertical-align: top;\n",
       "    }\n",
       "\n",
       "    .dataframe thead th {\n",
       "        text-align: right;\n",
       "    }\n",
       "</style>\n",
       "<table border=\"1\" class=\"dataframe\">\n",
       "  <thead>\n",
       "    <tr style=\"text-align: right;\">\n",
       "      <th></th>\n",
       "      <th>BMW.RET</th>\n",
       "    </tr>\n",
       "    <tr>\n",
       "      <th>X.Y..m..d</th>\n",
       "      <th></th>\n",
       "    </tr>\n",
       "  </thead>\n",
       "  <tbody>\n",
       "    <tr>\n",
       "      <th>1973-01-02</th>\n",
       "      <td>0.047704</td>\n",
       "    </tr>\n",
       "    <tr>\n",
       "      <th>1973-01-03</th>\n",
       "      <td>0.007127</td>\n",
       "    </tr>\n",
       "    <tr>\n",
       "      <th>1973-01-04</th>\n",
       "      <td>0.008883</td>\n",
       "    </tr>\n",
       "    <tr>\n",
       "      <th>1973-01-05</th>\n",
       "      <td>-0.012441</td>\n",
       "    </tr>\n",
       "    <tr>\n",
       "      <th>1973-01-08</th>\n",
       "      <td>-0.003570</td>\n",
       "    </tr>\n",
       "  </tbody>\n",
       "</table>\n",
       "</div>"
      ],
      "text/plain": [
       "             BMW.RET\n",
       "X.Y..m..d           \n",
       "1973-01-02  0.047704\n",
       "1973-01-03  0.007127\n",
       "1973-01-04  0.008883\n",
       "1973-01-05 -0.012441\n",
       "1973-01-08 -0.003570"
      ]
     },
     "execution_count": 4,
     "metadata": {},
     "output_type": "execute_result"
    }
   ],
   "source": [
    "data = pd.read_csv('../data/bmwRet.csv', index_col=0, parse_dates=[0])\n",
    "data.head()"
   ]
  },
  {
   "cell_type": "code",
   "execution_count": 5,
   "id": "c1461d4b-cc26-4b9e-9bf4-bfa622513847",
   "metadata": {
    "tags": []
   },
   "outputs": [],
   "source": [
    "ret = data['BMW.RET']"
   ]
  },
  {
   "cell_type": "markdown",
   "id": "be3676b9-75d4-4e30-8988-8e3c3142b028",
   "metadata": {},
   "source": [
    "(a) The non-parametric estimate of VaR(0.01) is:"
   ]
  },
  {
   "cell_type": "code",
   "execution_count": 6,
   "id": "145819e8-65ae-40b6-b672-24e0e524f6d0",
   "metadata": {
    "tags": []
   },
   "outputs": [],
   "source": [
    "alpha = 0.01\n",
    "S = 1000"
   ]
  },
  {
   "cell_type": "code",
   "execution_count": 7,
   "id": "85c62515-9d3b-4da9-b8e4-ee653ae95af4",
   "metadata": {
    "tags": []
   },
   "outputs": [
    {
     "data": {
      "text/plain": [
       "40.7975671"
      ]
     },
     "execution_count": 7,
     "metadata": {},
     "output_type": "execute_result"
    }
   ],
   "source": [
    "VaR(ret, alpha, S)"
   ]
  },
  {
   "cell_type": "markdown",
   "id": "d172b10a-3fda-43fd-961d-94594dcae235",
   "metadata": {},
   "source": [
    "The non-parametric estimate of ES(0.01) is:"
   ]
  },
  {
   "cell_type": "code",
   "execution_count": 8,
   "id": "78a8f14b-7074-4d8f-b8fe-acff6a2cf32c",
   "metadata": {
    "tags": []
   },
   "outputs": [
    {
     "data": {
      "text/plain": [
       "56.49151364516129"
      ]
     },
     "execution_count": 8,
     "metadata": {},
     "output_type": "execute_result"
    }
   ],
   "source": [
    "ES(ret, alpha, S)"
   ]
  },
  {
   "cell_type": "markdown",
   "id": "f2bcf76b-8b29-4977-b12e-ffcffbd02652",
   "metadata": {
    "tags": []
   },
   "source": [
    "(b)"
   ]
  },
  {
   "cell_type": "code",
   "execution_count": 9,
   "id": "7b28e621-4a99-4d4e-bedb-ef49d005199f",
   "metadata": {
    "tags": []
   },
   "outputs": [],
   "source": [
    "mu = np.mean(ret)\n",
    "sigma = np.std(ret, ddof=1)"
   ]
  },
  {
   "cell_type": "markdown",
   "id": "cc1aca54-c2bb-4d83-9eb4-9cdb4753a0e2",
   "metadata": {},
   "source": [
    "The estimate of VaR(0.01) assuming the normal distribution:"
   ]
  },
  {
   "cell_type": "code",
   "execution_count": 10,
   "id": "d7092b56-c451-446a-b433-7dd51682f61d",
   "metadata": {
    "tags": []
   },
   "outputs": [
    {
     "data": {
      "text/plain": [
       "33.98576884637943"
      ]
     },
     "execution_count": 10,
     "metadata": {},
     "output_type": "execute_result"
    }
   ],
   "source": [
    "VaR_norm(mu, sigma, alpha, S)"
   ]
  },
  {
   "cell_type": "markdown",
   "id": "55f028d2-95fe-4122-bbf7-6a36022ce126",
   "metadata": {},
   "source": [
    "The estimate of ES(0.01) assuming the normal distribution:"
   ]
  },
  {
   "cell_type": "code",
   "execution_count": 11,
   "id": "fbd128db-6146-42b0-b1f2-0966129f1705",
   "metadata": {
    "tags": []
   },
   "outputs": [
    {
     "data": {
      "text/plain": [
       "38.98592000945358"
      ]
     },
     "execution_count": 11,
     "metadata": {},
     "output_type": "execute_result"
    }
   ],
   "source": [
    "ES_norm(mu, sigma, alpha, S)"
   ]
  },
  {
   "cell_type": "markdown",
   "id": "45358c42-1568-4ea5-b32d-189ee5b363d5",
   "metadata": {},
   "source": [
    "(c)"
   ]
  },
  {
   "cell_type": "code",
   "execution_count": 12,
   "id": "993a07cf-6c0e-4939-8289-eb3dc12dcd1b",
   "metadata": {
    "tags": []
   },
   "outputs": [
    {
     "data": {
      "text/plain": [
       "(2.987509723919021, 0.0001323283188838053, 0.009264924408060928)"
      ]
     },
     "execution_count": 12,
     "metadata": {},
     "output_type": "execute_result"
    }
   ],
   "source": [
    "fit = stats.t.fit(ret)\n",
    "fit"
   ]
  },
  {
   "cell_type": "markdown",
   "id": "2dc4819d-32c9-4b6e-83cb-6f0ac3033ba0",
   "metadata": {},
   "source": [
    "The estimate of VaR(0.01) assuming t-distribution:"
   ]
  },
  {
   "cell_type": "code",
   "execution_count": 13,
   "id": "e561994f-7a19-43a0-8dfd-ff882361d7e3",
   "metadata": {
    "tags": []
   },
   "outputs": [
    {
     "data": {
      "text/plain": [
       "42.07789576763188"
      ]
     },
     "execution_count": 13,
     "metadata": {},
     "output_type": "execute_result"
    }
   ],
   "source": [
    "VaR_t(*fit, alpha, S)"
   ]
  },
  {
   "cell_type": "markdown",
   "id": "0c8b8de5-6754-4ba6-87a4-62b5d1e41235",
   "metadata": {},
   "source": [
    "The estimate of ES assuming t-distribution:"
   ]
  },
  {
   "cell_type": "code",
   "execution_count": 14,
   "id": "3bc4021b-6db9-47ff-a4d6-f179b90f3e2a",
   "metadata": {
    "tags": []
   },
   "outputs": [
    {
     "data": {
      "text/plain": [
       "65.09008646540109"
      ]
     },
     "execution_count": 14,
     "metadata": {},
     "output_type": "execute_result"
    }
   ],
   "source": [
    "ES_t(*fit, alpha, S)"
   ]
  },
  {
   "cell_type": "markdown",
   "id": "5d722d44-5ec8-488a-84f4-52514fba25c3",
   "metadata": {
    "tags": []
   },
   "source": [
    "(d) The QQ-plot against the normal quantiles shows clear evidence of fat tails, but the tails appear lighted than the fitted t-distribution:"
   ]
  },
  {
   "cell_type": "code",
   "execution_count": 15,
   "id": "8a142afa-5e3c-49c5-b2a6-6ac8cd8460d6",
   "metadata": {
    "tags": []
   },
   "outputs": [
    {
     "data": {
      "image/png": "[encoded data removed]",
      "text/plain": [
       "<Figure size 900x400 with 2 Axes>"
      ]
     },
     "metadata": {},
     "output_type": "display_data"
    }
   ],
   "source": [
    "fig, axs = plt.subplots(1, 2, figsize=(9, 4))\n",
    "\n",
    "plot_qq_norm(axs[0], ret);\n",
    "axs[0].set_title('QQ normal plot');\n",
    "\n",
    "plot_qq_t(axs[1], ret, df=fit[0]);\n",
    "axs[1].set_title('QQ t plot');"
   ]
  },
  {
   "cell_type": "markdown",
   "id": "9c60d187-86ac-470b-959b-60573cd749fe",
   "metadata": {},
   "source": [
    "Given a fairly large sample, the non-parametric are the best choice."
   ]
  },
  {
   "cell_type": "markdown",
   "id": "b8064d3e-591d-46db-a300-e0c6950f4722",
   "metadata": {},
   "source": [
    "#### Exercise 2"
   ]
  },
  {
   "cell_type": "markdown",
   "id": "ed4de554-795f-40cc-8880-8a2c0ca68e7b",
   "metadata": {},
   "source": [
    "Using Eq. (19.20):"
   ]
  },
  {
   "cell_type": "code",
   "execution_count": 16,
   "id": "0f0b98b1-1bbf-437a-998d-0ce5da242e88",
   "metadata": {
    "tags": []
   },
   "outputs": [],
   "source": [
    "def VaR_poly(VaR0, alpha0, alpha, a):\n",
    "    return VaR0 * (alpha0 / alpha) ** (1 / a)"
   ]
  },
  {
   "cell_type": "code",
   "execution_count": 17,
   "id": "bd808abb-8cc1-4c85-9a4c-a1447bcce024",
   "metadata": {
    "tags": []
   },
   "outputs": [
    {
     "data": {
      "text/plain": [
       "529.6404988557871"
      ]
     },
     "execution_count": 17,
     "metadata": {},
     "output_type": "execute_result"
    }
   ],
   "source": [
    "VaR_poly(252, 0.05, 0.005, 3.1)"
   ]
  },
  {
   "cell_type": "markdown",
   "id": "d0ffa73a-6ff4-4c0d-a8ff-4debeaad5993",
   "metadata": {
    "tags": []
   },
   "source": [
    "#### Exercise 3"
   ]
  },
  {
   "cell_type": "code",
   "execution_count": 18,
   "id": "c71df3dd-bfd7-4487-bab5-b946ebda3193",
   "metadata": {
    "tags": []
   },
   "outputs": [
    {
     "name": "stdout",
     "output_type": "stream",
     "text": [
      "[*********************100%***********************]  1 of 1 completed\n"
     ]
    },
    {
     "data": {
      "text/html": [
       "<div>\n",
       "<style scoped>\n",
       "    .dataframe tbody tr th:only-of-type {\n",
       "        vertical-align: middle;\n",
       "    }\n",
       "\n",
       "    .dataframe tbody tr th {\n",
       "        vertical-align: top;\n",
       "    }\n",
       "\n",
       "    .dataframe thead th {\n",
       "        text-align: right;\n",
       "    }\n",
       "</style>\n",
       "<table border=\"1\" class=\"dataframe\">\n",
       "  <thead>\n",
       "    <tr style=\"text-align: right;\">\n",
       "      <th></th>\n",
       "      <th>Open</th>\n",
       "      <th>High</th>\n",
       "      <th>Low</th>\n",
       "      <th>Close</th>\n",
       "      <th>Adj Close</th>\n",
       "      <th>Volume</th>\n",
       "    </tr>\n",
       "    <tr>\n",
       "      <th>Date</th>\n",
       "      <th></th>\n",
       "      <th></th>\n",
       "      <th></th>\n",
       "      <th></th>\n",
       "      <th></th>\n",
       "      <th></th>\n",
       "    </tr>\n",
       "  </thead>\n",
       "  <tbody>\n",
       "    <tr>\n",
       "      <th>2019-01-02</th>\n",
       "      <td>20.406668</td>\n",
       "      <td>21.008667</td>\n",
       "      <td>19.920000</td>\n",
       "      <td>20.674667</td>\n",
       "      <td>20.674667</td>\n",
       "      <td>174879000</td>\n",
       "    </tr>\n",
       "    <tr>\n",
       "      <th>2019-01-03</th>\n",
       "      <td>20.466667</td>\n",
       "      <td>20.626667</td>\n",
       "      <td>19.825333</td>\n",
       "      <td>20.024000</td>\n",
       "      <td>20.024000</td>\n",
       "      <td>104478000</td>\n",
       "    </tr>\n",
       "    <tr>\n",
       "      <th>2019-01-04</th>\n",
       "      <td>20.400000</td>\n",
       "      <td>21.200001</td>\n",
       "      <td>20.181999</td>\n",
       "      <td>21.179333</td>\n",
       "      <td>21.179333</td>\n",
       "      <td>110911500</td>\n",
       "    </tr>\n",
       "    <tr>\n",
       "      <th>2019-01-07</th>\n",
       "      <td>21.448000</td>\n",
       "      <td>22.449333</td>\n",
       "      <td>21.183332</td>\n",
       "      <td>22.330667</td>\n",
       "      <td>22.330667</td>\n",
       "      <td>113268000</td>\n",
       "    </tr>\n",
       "    <tr>\n",
       "      <th>2019-01-08</th>\n",
       "      <td>22.797333</td>\n",
       "      <td>22.934000</td>\n",
       "      <td>21.801332</td>\n",
       "      <td>22.356667</td>\n",
       "      <td>22.356667</td>\n",
       "      <td>105127500</td>\n",
       "    </tr>\n",
       "    <tr>\n",
       "      <th>...</th>\n",
       "      <td>...</td>\n",
       "      <td>...</td>\n",
       "      <td>...</td>\n",
       "      <td>...</td>\n",
       "      <td>...</td>\n",
       "      <td>...</td>\n",
       "    </tr>\n",
       "    <tr>\n",
       "      <th>2023-05-12</th>\n",
       "      <td>176.070007</td>\n",
       "      <td>177.380005</td>\n",
       "      <td>167.229996</td>\n",
       "      <td>167.979996</td>\n",
       "      <td>167.979996</td>\n",
       "      <td>157577100</td>\n",
       "    </tr>\n",
       "    <tr>\n",
       "      <th>2023-05-15</th>\n",
       "      <td>167.660004</td>\n",
       "      <td>169.759995</td>\n",
       "      <td>164.550003</td>\n",
       "      <td>166.350006</td>\n",
       "      <td>166.350006</td>\n",
       "      <td>105592500</td>\n",
       "    </tr>\n",
       "    <tr>\n",
       "      <th>2023-05-16</th>\n",
       "      <td>165.649994</td>\n",
       "      <td>169.520004</td>\n",
       "      <td>164.350006</td>\n",
       "      <td>166.520004</td>\n",
       "      <td>166.520004</td>\n",
       "      <td>98288800</td>\n",
       "    </tr>\n",
       "    <tr>\n",
       "      <th>2023-05-17</th>\n",
       "      <td>168.410004</td>\n",
       "      <td>174.500000</td>\n",
       "      <td>167.190002</td>\n",
       "      <td>173.860001</td>\n",
       "      <td>173.860001</td>\n",
       "      <td>125473600</td>\n",
       "    </tr>\n",
       "    <tr>\n",
       "      <th>2023-05-18</th>\n",
       "      <td>174.220001</td>\n",
       "      <td>177.059998</td>\n",
       "      <td>172.449997</td>\n",
       "      <td>176.889999</td>\n",
       "      <td>176.889999</td>\n",
       "      <td>108213700</td>\n",
       "    </tr>\n",
       "  </tbody>\n",
       "</table>\n",
       "<p>1103 rows × 6 columns</p>\n",
       "</div>"
      ],
      "text/plain": [
       "                  Open        High         Low       Close   Adj Close   \n",
       "Date                                                                     \n",
       "2019-01-02   20.406668   21.008667   19.920000   20.674667   20.674667  \\\n",
       "2019-01-03   20.466667   20.626667   19.825333   20.024000   20.024000   \n",
       "2019-01-04   20.400000   21.200001   20.181999   21.179333   21.179333   \n",
       "2019-01-07   21.448000   22.449333   21.183332   22.330667   22.330667   \n",
       "2019-01-08   22.797333   22.934000   21.801332   22.356667   22.356667   \n",
       "...                ...         ...         ...         ...         ...   \n",
       "2023-05-12  176.070007  177.380005  167.229996  167.979996  167.979996   \n",
       "2023-05-15  167.660004  169.759995  164.550003  166.350006  166.350006   \n",
       "2023-05-16  165.649994  169.520004  164.350006  166.520004  166.520004   \n",
       "2023-05-17  168.410004  174.500000  167.190002  173.860001  173.860001   \n",
       "2023-05-18  174.220001  177.059998  172.449997  176.889999  176.889999   \n",
       "\n",
       "               Volume  \n",
       "Date                   \n",
       "2019-01-02  174879000  \n",
       "2019-01-03  104478000  \n",
       "2019-01-04  110911500  \n",
       "2019-01-07  113268000  \n",
       "2019-01-08  105127500  \n",
       "...               ...  \n",
       "2023-05-12  157577100  \n",
       "2023-05-15  105592500  \n",
       "2023-05-16   98288800  \n",
       "2023-05-17  125473600  \n",
       "2023-05-18  108213700  \n",
       "\n",
       "[1103 rows x 6 columns]"
      ]
     },
     "execution_count": 18,
     "metadata": {},
     "output_type": "execute_result"
    }
   ],
   "source": [
    "prices = yf.download('TSLA', start='2019-01-01', end='2023-12-31')\n",
    "prices"
   ]
  },
  {
   "cell_type": "code",
   "execution_count": 19,
   "id": "4d214dce-ab63-433d-aa13-169143518dd8",
   "metadata": {
    "tags": []
   },
   "outputs": [],
   "source": [
    "ret = prices['Adj Close'].pct_change().dropna()[-1000:]"
   ]
  },
  {
   "cell_type": "code",
   "execution_count": 20,
   "id": "21b9d876-ab36-4345-a5d0-7b2d91664192",
   "metadata": {
    "tags": []
   },
   "outputs": [
    {
     "data": {
      "text/plain": [
       "(3.2630485282191213, 0.003027875452052736, 0.02896586363033639)"
      ]
     },
     "execution_count": 20,
     "metadata": {},
     "output_type": "execute_result"
    }
   ],
   "source": [
    "fit = stats.t.fit(ret)\n",
    "fit"
   ]
  },
  {
   "cell_type": "markdown",
   "id": "243c35ed-7f98-428c-9ec5-9beb9f571296",
   "metadata": {},
   "source": [
    "(a) The VaR(0.025) estimate is:"
   ]
  },
  {
   "cell_type": "code",
   "execution_count": 21,
   "id": "739dd4f7-31b6-46bc-aeb7-42d8ebde657b",
   "metadata": {
    "tags": []
   },
   "outputs": [
    {
     "data": {
      "text/plain": [
       "85.08975631968656"
      ]
     },
     "execution_count": 21,
     "metadata": {},
     "output_type": "execute_result"
    }
   ],
   "source": [
    "VaR_t(*fit, 0.025, 1000)"
   ]
  },
  {
   "cell_type": "markdown",
   "id": "ce820c27-0f39-47b2-81d0-4e50d53915e4",
   "metadata": {},
   "source": [
    "(b) The non-parametric estimate is:"
   ]
  },
  {
   "cell_type": "code",
   "execution_count": 22,
   "id": "eb6908e9-4b5b-42ec-9f4e-fc1bb53476f7",
   "metadata": {
    "tags": []
   },
   "outputs": [
    {
     "data": {
      "text/plain": [
       "81.03122649986364"
      ]
     },
     "execution_count": 22,
     "metadata": {},
     "output_type": "execute_result"
    }
   ],
   "source": [
    "VaR(ret, 0.025, 1000)"
   ]
  },
  {
   "cell_type": "markdown",
   "id": "9e1b9413-dcb3-4074-8b05-daaf550f55da",
   "metadata": {},
   "source": [
    "(c) t-distribution provides a reasonable fit to the data:"
   ]
  },
  {
   "cell_type": "code",
   "execution_count": 23,
   "id": "56dfc66e-146a-4f45-98a5-fe967066bf8e",
   "metadata": {
    "tags": []
   },
   "outputs": [
    {
     "data": {
      "image/png": "[encoded data removed]",
      "text/plain": [
       "<Figure size 900x400 with 2 Axes>"
      ]
     },
     "metadata": {},
     "output_type": "display_data"
    }
   ],
   "source": [
    "fig, axs = plt.subplots(1, 2, figsize=(9, 4))\n",
    "\n",
    "plot_qq_norm(axs[0], ret);\n",
    "axs[0].set_title('QQ normal plot');\n",
    "\n",
    "plot_qq_t(axs[1], ret, df=fit[0]);\n",
    "axs[1].set_title('QQ t plot');"
   ]
  },
  {
   "cell_type": "markdown",
   "id": "aa53305c-839b-4136-ac92-9aa965506056",
   "metadata": {
    "tags": []
   },
   "source": [
    "(d) We estimate the tail index using the Hill plot:"
   ]
  },
  {
   "cell_type": "code",
   "execution_count": 24,
   "id": "579bfe42-4fb8-45d2-9ee1-f1c45fd32cd6",
   "metadata": {
    "tags": []
   },
   "outputs": [],
   "source": [
    "def unzip(x: np.array):\n",
    "    return x[:, 0], x[:, 1]"
   ]
  },
  {
   "cell_type": "code",
   "execution_count": 25,
   "id": "a20beb32-b295-46ae-af2c-d4a2327e1277",
   "metadata": {
    "tags": []
   },
   "outputs": [],
   "source": [
    "c, nc, a = hill_curve(ret)"
   ]
  },
  {
   "cell_type": "code",
   "execution_count": 26,
   "id": "c1613769-1af4-4d6a-8db5-f1e14889e370",
   "metadata": {
    "tags": []
   },
   "outputs": [
    {
     "data": {
      "image/png": "[encoded data removed]",
      "text/plain": [
       "<Figure size 900x400 with 2 Axes>"
      ]
     },
     "metadata": {},
     "output_type": "display_data"
    }
   ],
   "source": [
    "fig, axs = plt.subplots(1, 2, figsize=(9, 4))\n",
    "\n",
    "axs[0].plot(nc, a);\n",
    "axs[0].plot(*unzip(lowess(a, nc, frac=0.1)));\n",
    "axs[0].set_title('Hill Plot');\n",
    "\n",
    "axs[1].plot(nc, a);\n",
    "axs[1].plot(*unzip(lowess(a, nc, frac=0.1)));\n",
    "axs[1].set_title('Hill Plot - zoomed in');\n",
    "axs[1].set_xlim([0, 100]);\n",
    "axs[1].set_ylim([2, 4]);"
   ]
  },
  {
   "cell_type": "markdown",
   "id": "b4e88913-d5f6-4926-b485-fd593f224a1e",
   "metadata": {},
   "source": [
    "We can use 3 as the estimate for $a$, therefore the estimate of VaR(0.0025) is:"
   ]
  },
  {
   "cell_type": "code",
   "execution_count": 27,
   "id": "67a1d8c9-ddac-40c3-b89a-05d740c5a4b6",
   "metadata": {
    "tags": []
   },
   "outputs": [
    {
     "data": {
      "text/plain": [
       "183.32032278149242"
      ]
     },
     "execution_count": 27,
     "metadata": {},
     "output_type": "execute_result"
    }
   ],
   "source": [
    "VaR_poly(VaR_t(*fit, 0.025, 1000), 0.025, 0.0025, 3)"
   ]
  },
  {
   "cell_type": "markdown",
   "id": "08bc17b2-af86-47ae-a48d-341ca5b8ff30",
   "metadata": {},
   "source": [
    "#### Exercise 4"
   ]
  },
  {
   "cell_type": "code",
   "execution_count": 28,
   "id": "9efd28eb-b587-4556-966a-318eca845cbb",
   "metadata": {
    "tags": []
   },
   "outputs": [
    {
     "data": {
      "text/html": [
       "<div>\n",
       "<style scoped>\n",
       "    .dataframe tbody tr th:only-of-type {\n",
       "        vertical-align: middle;\n",
       "    }\n",
       "\n",
       "    .dataframe tbody tr th {\n",
       "        vertical-align: top;\n",
       "    }\n",
       "\n",
       "    .dataframe thead th {\n",
       "        text-align: right;\n",
       "    }\n",
       "</style>\n",
       "<table border=\"1\" class=\"dataframe\">\n",
       "  <thead>\n",
       "    <tr style=\"text-align: right;\">\n",
       "      <th></th>\n",
       "      <th>Open</th>\n",
       "      <th>High</th>\n",
       "      <th>Low</th>\n",
       "      <th>Close</th>\n",
       "      <th>Volume</th>\n",
       "    </tr>\n",
       "    <tr>\n",
       "      <th>X.Y..m..d</th>\n",
       "      <th></th>\n",
       "      <th></th>\n",
       "      <th></th>\n",
       "      <th></th>\n",
       "      <th></th>\n",
       "    </tr>\n",
       "  </thead>\n",
       "  <tbody>\n",
       "    <tr>\n",
       "      <th>2000-09-27</th>\n",
       "      <td>63.4375</td>\n",
       "      <td>63.5625</td>\n",
       "      <td>59.8125</td>\n",
       "      <td>60.6250</td>\n",
       "      <td>53077800</td>\n",
       "    </tr>\n",
       "    <tr>\n",
       "      <th>2000-09-28</th>\n",
       "      <td>60.8125</td>\n",
       "      <td>61.8750</td>\n",
       "      <td>60.6250</td>\n",
       "      <td>61.3125</td>\n",
       "      <td>26180200</td>\n",
       "    </tr>\n",
       "    <tr>\n",
       "      <th>2000-09-29</th>\n",
       "      <td>61.0000</td>\n",
       "      <td>61.3125</td>\n",
       "      <td>58.6250</td>\n",
       "      <td>60.3125</td>\n",
       "      <td>37026800</td>\n",
       "    </tr>\n",
       "    <tr>\n",
       "      <th>2000-10-02</th>\n",
       "      <td>60.5000</td>\n",
       "      <td>60.8125</td>\n",
       "      <td>58.2500</td>\n",
       "      <td>59.1250</td>\n",
       "      <td>29281200</td>\n",
       "    </tr>\n",
       "    <tr>\n",
       "      <th>2000-10-03</th>\n",
       "      <td>59.5625</td>\n",
       "      <td>59.8125</td>\n",
       "      <td>56.5000</td>\n",
       "      <td>56.5625</td>\n",
       "      <td>42687000</td>\n",
       "    </tr>\n",
       "  </tbody>\n",
       "</table>\n",
       "</div>"
      ],
      "text/plain": [
       "               Open     High      Low    Close    Volume\n",
       "X.Y..m..d                                               \n",
       "2000-09-27  63.4375  63.5625  59.8125  60.6250  53077800\n",
       "2000-09-28  60.8125  61.8750  60.6250  61.3125  26180200\n",
       "2000-09-29  61.0000  61.3125  58.6250  60.3125  37026800\n",
       "2000-10-02  60.5000  60.8125  58.2500  59.1250  29281200\n",
       "2000-10-03  59.5625  59.8125  56.5000  56.5625  42687000"
      ]
     },
     "execution_count": 28,
     "metadata": {},
     "output_type": "execute_result"
    }
   ],
   "source": [
    "data = pd.read_csv('../data/msft.csv', index_col=0, parse_dates=[0])\n",
    "data.head()"
   ]
  },
  {
   "cell_type": "code",
   "execution_count": 29,
   "id": "dc8d384e-4942-415f-8408-eeeac9d2aabb",
   "metadata": {
    "tags": []
   },
   "outputs": [],
   "source": [
    "ret = data['Close'].pct_change().dropna()"
   ]
  },
  {
   "cell_type": "code",
   "execution_count": 30,
   "id": "8534be59-0f3c-4ebf-ae3d-01a212f38ff9",
   "metadata": {
    "tags": []
   },
   "outputs": [],
   "source": [
    "alpha = 0.005\n",
    "S = 1000"
   ]
  },
  {
   "cell_type": "code",
   "execution_count": 31,
   "id": "11a5f07d-66cd-49cb-9dab-e4e28caebf6d",
   "metadata": {
    "tags": []
   },
   "outputs": [
    {
     "data": {
      "text/plain": [
       "(3.8917896357429482, -0.0015546971880293294, 0.024432875168114675)"
      ]
     },
     "execution_count": 31,
     "metadata": {},
     "output_type": "execute_result"
    }
   ],
   "source": [
    "fit = stats.t.fit(ret)\n",
    "fit"
   ]
  },
  {
   "cell_type": "markdown",
   "id": "8cf2982e-8d25-44cc-8aee-1ce4c63c0e95",
   "metadata": {},
   "source": [
    "The estimate of VaR(0.005) is:"
   ]
  },
  {
   "cell_type": "code",
   "execution_count": 32,
   "id": "ebaefc81-dd74-422a-830c-594c1770d0e9",
   "metadata": {
    "tags": []
   },
   "outputs": [
    {
     "data": {
      "text/plain": [
       "116.21070941938575"
      ]
     },
     "execution_count": 32,
     "metadata": {},
     "output_type": "execute_result"
    }
   ],
   "source": [
    "VaR_est = VaR_t(*fit, alpha, S)\n",
    "VaR_est"
   ]
  },
  {
   "cell_type": "markdown",
   "id": "5ee97ca9-8a45-42d0-9e25-8d160584401a",
   "metadata": {},
   "source": [
    "The estimate of ES(0.005) is:"
   ]
  },
  {
   "cell_type": "code",
   "execution_count": 33,
   "id": "61fc4b3d-4854-49f5-a584-fd3e3c186227",
   "metadata": {
    "tags": []
   },
   "outputs": [
    {
     "data": {
      "text/plain": [
       "160.3279770460806"
      ]
     },
     "execution_count": 33,
     "metadata": {},
     "output_type": "execute_result"
    }
   ],
   "source": [
    "ES_est = ES_t(*fit, alpha, S)\n",
    "ES_est"
   ]
  },
  {
   "cell_type": "code",
   "execution_count": 34,
   "id": "e79ce454-44c0-4529-a9d0-87e560e762dc",
   "metadata": {
    "tags": []
   },
   "outputs": [],
   "source": [
    "def boot_VaR(n_boot, ret, alpha, S, rng=None):\n",
    "    if rng is None:\n",
    "        rng = np.random.default_rng()\n",
    "    \n",
    "    VaRs = np.zeros(n_boot)\n",
    "    ESs = np.zeros(n_boot)\n",
    "\n",
    "    for i in range(n_boot):\n",
    "        sample = ret.sample(frac=1, axis=0, replace=True, random_state=rng)\n",
    "        fit = stats.t.fit(sample)\n",
    "        VaRs[i] = VaR_t(*fit, alpha, S)\n",
    "        ESs[i] = ES_t(*fit, alpha, S)\n",
    "\n",
    "    return VaRs, ESs"
   ]
  },
  {
   "cell_type": "code",
   "execution_count": 35,
   "id": "8b76b795-b4a2-4ce5-803e-6415517908ae",
   "metadata": {
    "tags": []
   },
   "outputs": [],
   "source": [
    "n_boot = 1000"
   ]
  },
  {
   "cell_type": "code",
   "execution_count": 36,
   "id": "7c72bb4e-e841-4069-b29e-a1146d5de442",
   "metadata": {
    "tags": []
   },
   "outputs": [],
   "source": [
    "rng = np.random.default_rng(12345)\n",
    "VaRs, ESs = boot_VaR(n_boot, ret, alpha, S, rng=rng)"
   ]
  },
  {
   "cell_type": "markdown",
   "id": "f1289893-85ef-4046-8fd5-2d80d94e9c0a",
   "metadata": {},
   "source": [
    "The confidence interval for VaR(0.005) is:"
   ]
  },
  {
   "cell_type": "code",
   "execution_count": 37,
   "id": "649a07ea-8cf3-42c5-af8f-f31f794d4071",
   "metadata": {
    "tags": []
   },
   "outputs": [],
   "source": [
    "alpha_boot = 0.05"
   ]
  },
  {
   "cell_type": "code",
   "execution_count": 38,
   "id": "c04ea40e-b156-4b19-8e9d-d766681626a1",
   "metadata": {
    "tags": []
   },
   "outputs": [
    {
     "data": {
      "text/plain": [
       "array([117.21280036, 119.06828878])"
      ]
     },
     "execution_count": 38,
     "metadata": {},
     "output_type": "execute_result"
    }
   ],
   "source": [
    "2 * VaR_est - np.quantile(VaRs, [(1 + alpha_boot) / 2, (1 - alpha_boot) / 2])"
   ]
  },
  {
   "cell_type": "markdown",
   "id": "aa15e3a9-6b06-41cc-83c7-9873442ff717",
   "metadata": {},
   "source": [
    "The confidence interval for ES(0.005) is:"
   ]
  },
  {
   "cell_type": "code",
   "execution_count": 39,
   "id": "51b38551-397e-41a5-80de-8652a067e1cc",
   "metadata": {
    "tags": []
   },
   "outputs": [
    {
     "data": {
      "text/plain": [
       "array([163.10558508, 166.96114998])"
      ]
     },
     "execution_count": 39,
     "metadata": {},
     "output_type": "execute_result"
    }
   ],
   "source": [
    "2 * ES_est - np.quantile(ESs, [(1 + alpha_boot) / 2, (1 - alpha_boot) / 2])"
   ]
  },
  {
   "cell_type": "markdown",
   "id": "e2119358-db07-4c7b-8455-0600faa573ce",
   "metadata": {},
   "source": [
    "#### Exercise 5"
   ]
  },
  {
   "cell_type": "markdown",
   "id": "219d6bf5-bcfa-4a54-888a-061c142b1e6d",
   "metadata": {
    "tags": []
   },
   "source": [
    "Let $w = \\frac{S_1}{S_1 + S_2}$, then the expected return of the portfolio with a position of size $S_1$ in the first asset and $S_2$ in the second asset is\n",
    "$$w \\mu_1 + (1-w) \\mu_2$$\n",
    "and the variance of the portfolio is\n",
    "$$w^2 \\sigma_1^2 + 2w (1-w) \\rho \\sigma_1 \\sigma_2 + (1-w)^2 \\sigma_2^2.$$\n",
    "Therefore\n",
    "$$\\mathfrak{R}(P_1 + P_2) = -(S_1 + S_2)\\left(w \\mu_1 + (1-w) \\mu_2 + \\sqrt{w^2 \\sigma_1^2 + 2w (1-w) \\rho \\sigma_1 \\sigma_2 + (1-w)^2 \\sigma_2^2} \\Phi^{-1}(\\alpha)\\right).$$\n",
    "On the other hand, the VaR of $P_1$ alone is\n",
    "$$\\mathfrak{R}(P_1) = -S_1 ( \\mu_1 + \\sigma_1 \\Phi^{-1}(\\alpha)) = -(S_1 + S_2) w ( \\mu_1 + \\sigma_1 \\Phi^{-1}(\\alpha))$$\n",
    "and the VaR of $P_2$ alone is\n",
    "$$\\mathfrak{R}(P_2) = -S_2 ( \\mu_2 + \\sigma_2 \\Phi^{-1}(\\alpha)) = -(S_1 + S_2) (1 - w) ( \\mu_2 + \\sigma_2 \\Phi^{-1}(\\alpha))$$\n",
    "hence\n",
    "$$\\mathfrak{R}(P_1) + \\mathfrak{R}(P_2) = -(S_1 + S_2)\\left(w \\mu_1 + (1-w) \\mu_2 + (w \\sigma_1 + (1-w) \\sigma_2) \\Phi^{-1}(\\alpha)\\right).$$\n",
    "\n",
    "Then\n",
    "$$\\mathfrak{R}(P_1 + P_2) - \\mathfrak{R}(P_1) - \\mathfrak{R}(P_2) = \\Phi^{-1}(\\alpha)\\left( -\\sqrt{w^2 \\sigma_1^2 + 2w (1-w) \\rho \\sigma_1 \\sigma_2 + (1-w)^2 \\sigma_2^2} + (w \\sigma_1 + (1-w) \\sigma_2) \\right).$$\n",
    "\n",
    "Denote \n",
    "$$A = \\sqrt{w^2 \\sigma_1^2 + 2w (1-w) \\rho \\sigma_1 \\sigma_2 + (1-w)^2 \\sigma_2^2}$$\n",
    "and\n",
    "$$B = w \\sigma_1 + (1-w) \\sigma_2),$$\n",
    "so that\n",
    "$$\\mathfrak{R}(P_1 + P_2) - \\mathfrak{R}(P_1) - \\mathfrak{R}(P_2) = \\Phi^{-1}(\\alpha)(B-A).$$\n",
    "\n",
    "Taking squares, we have\n",
    "$$A^2 = w^2 \\sigma_1^2 + 2w (1-w) \\rho \\sigma_1 \\sigma_2 + (1-w)^2 \\sigma_2^2$$\n",
    "and\n",
    "$$B^2 = w^2 \\sigma_1^2 + 2 w (1-w) \\sigma_1 \\sigma_2 + (1-w)^2 \\sigma_2^2.$$\n",
    "Since $\\rho \\leq 1$, we have $A^2 \\leq B^2$ and therefore also $A \\leq B$ and $B - A \\geq 0$.\n",
    "\n",
    "If $\\Phi^{-1}(\\alpha) < 0$, we have \n",
    "$$\\mathfrak{R}(P_1 + P_2) - \\mathfrak{R}(P_1) - \\mathfrak{R}(P_2) \\leq 0,$$\n",
    "from which finally\n",
    "$$\\mathfrak{R}(P_1 + P_2) \\leq \\mathfrak{R}(P_1) + \\mathfrak{R}(P_2).$$"
   ]
  },
  {
   "cell_type": "markdown",
   "id": "691db836-fb3c-4a21-a5cb-5a4d1ba3ddf2",
   "metadata": {
    "tags": []
   },
   "source": [
    "#### Proof that a transformed multivariate normal distribution remains multivariate normal"
   ]
  },
  {
   "cell_type": "markdown",
   "id": "5b8bd840-8fb1-42eb-83bd-f1cb8e9795be",
   "metadata": {
    "tags": []
   },
   "source": [
    "Given a multivariate normal distribution:\n",
    "$$f(\\mathbf{x}) = \\frac{1}{\\sqrt{(2 \\pi)^k |\\mathbf{\\Sigma}| }} \\exp\\left(-\\frac12 (\\mathbf{x} - \\mathbf{\\mu})^T \\mathbf{\\Sigma}^{-1} (\\mathbf{x} - \\mathbf{\\mu})\\right).$$\n",
    "\n",
    "For an invertible matrix $A$ let $\\mathbf{x}' = A \\mathbf{x}$, so $\\mathbf{x} = A^{-1} \\mathbf{x}'$. Then\n",
    "$$g(\\mathbf{x}')\n",
    "= |A^{-1}| f(A^{-1} \\mathbf{x}')\n",
    "= \\frac{|A^{-1}|}{\\sqrt{(2 \\pi)^k |\\mathbf{\\Sigma}| }} \\exp\\left(-\\frac12 (A^{-1} \\mathbf{x}' - \\mathbf{\\mu})^T \\mathbf{\\Sigma}^{-1} (A^{-1} \\mathbf{x}' - \\mathbf{\\mu})\\right)\n",
    "= \\frac{|A^{-1}|}{\\sqrt{(2 \\pi)^k |\\mathbf{\\Sigma}| }} \\exp\\left(-\\frac12 (\\mathbf{x}' - A \\mathbf{\\mu})^T A^{-T} \\mathbf{\\Sigma}^{-1} A^{-1} (\\mathbf{x}' - A \\mathbf{\\mu})\\right).$$\n",
    "\n",
    "Let\n",
    "$$\\mathbf{\\Sigma}'^{-1} = A^{-T} \\mathbf{\\Sigma}^{-1} A^{-1}$$\n",
    "then\n",
    "$$\\mathbf{\\Sigma}' = A \\mathbf{\\Sigma} A^T$$\n",
    "and\n",
    "$$\\mathbf{\\Sigma} = A^{-1} \\mathbf{\\Sigma}' A^{-T}.$$\n",
    "\n",
    "Take the matrix\n",
    "$$A = \n",
    "\\begin{pmatrix}\n",
    "1 & 1 \\\\\n",
    "1 & -1\n",
    "\\end{pmatrix},$$\n",
    "for which $A^T = A$, $A^{-1} = \\frac12 A$, $|A| = 2$ and $|A^{-1}| = \\frac12$.\n",
    "\n",
    "Then\n",
    "$$|\\mathbf{\\Sigma}| = |A^{-1} \\mathbf{\\Sigma}' A^{-T}| = |A^{-1}|^2 |\\mathbf{\\Sigma}'|$$\n",
    "and \n",
    "$$g(\\mathbf{x}') = \\frac{1}{\\sqrt{(2 \\pi)^k |\\mathbf{\\Sigma}'| }} \\exp\\left(-\\frac12 (\\mathbf{x}' - A \\mathbf{\\mu})^T \\mathbf{\\Sigma}'^{-1} (\\mathbf{x}' - A \\mathbf{\\mu})\\right),$$\n",
    "where $\\mathbf{\\Sigma}' = A \\mathbf{\\Sigma} A^T$. Therefore $\\mathbf{x}' = A \\mathbf{x}$ has a multivariate normal distribution with means $A \\mathbf{\\mu}$ and covariance matrix $A \\mathbf{\\Sigma} A^T$."
   ]
  },
  {
   "cell_type": "markdown",
   "id": "aa3ad7b4-2d51-4e3e-8b78-942e90d45bf7",
   "metadata": {
    "tags": []
   },
   "source": [
    "#### Exercise 6"
   ]
  },
  {
   "cell_type": "code",
   "execution_count": 40,
   "id": "49fdabd6-9f3d-4008-9ab8-93fdfabe6d47",
   "metadata": {
    "tags": []
   },
   "outputs": [
    {
     "data": {
      "text/html": [
       "<div>\n",
       "<style scoped>\n",
       "    .dataframe tbody tr th:only-of-type {\n",
       "        vertical-align: middle;\n",
       "    }\n",
       "\n",
       "    .dataframe tbody tr th {\n",
       "        vertical-align: top;\n",
       "    }\n",
       "\n",
       "    .dataframe thead th {\n",
       "        text-align: right;\n",
       "    }\n",
       "</style>\n",
       "<table border=\"1\" class=\"dataframe\">\n",
       "  <thead>\n",
       "    <tr style=\"text-align: right;\">\n",
       "      <th></th>\n",
       "      <th>GM_Volume</th>\n",
       "      <th>GM_AC</th>\n",
       "      <th>F_Volume</th>\n",
       "      <th>F_AC</th>\n",
       "      <th>UTX_Volume</th>\n",
       "      <th>UTX_AC</th>\n",
       "      <th>CAT_Volume</th>\n",
       "      <th>CAT_AC</th>\n",
       "      <th>MRK_Volume</th>\n",
       "      <th>MRK_AC</th>\n",
       "      <th>...</th>\n",
       "      <th>XOM_Volume</th>\n",
       "      <th>XOM_AC</th>\n",
       "      <th>S&amp;P_AC</th>\n",
       "      <th>S&amp;P_Volume</th>\n",
       "      <th>1 year Treasury Constant Maturity Rate</th>\n",
       "      <th>3-Year Treasury Constant Maturity Rate</th>\n",
       "      <th>10 year Treasury Constant Maturity Rate</th>\n",
       "      <th>30 year Treasury Constant Maturity Rate</th>\n",
       "      <th>Aaa Bond Yield</th>\n",
       "      <th>Baa Bond Yield</th>\n",
       "    </tr>\n",
       "    <tr>\n",
       "      <th>Date</th>\n",
       "      <th></th>\n",
       "      <th></th>\n",
       "      <th></th>\n",
       "      <th></th>\n",
       "      <th></th>\n",
       "      <th></th>\n",
       "      <th></th>\n",
       "      <th></th>\n",
       "      <th></th>\n",
       "      <th></th>\n",
       "      <th></th>\n",
       "      <th></th>\n",
       "      <th></th>\n",
       "      <th></th>\n",
       "      <th></th>\n",
       "      <th></th>\n",
       "      <th></th>\n",
       "      <th></th>\n",
       "      <th></th>\n",
       "      <th></th>\n",
       "      <th></th>\n",
       "    </tr>\n",
       "  </thead>\n",
       "  <tbody>\n",
       "    <tr>\n",
       "      <th>1987-01-02</th>\n",
       "      <td>922200</td>\n",
       "      <td>11.45</td>\n",
       "      <td>2540100</td>\n",
       "      <td>2.31</td>\n",
       "      <td>1130400</td>\n",
       "      <td>3.66</td>\n",
       "      <td>1218400</td>\n",
       "      <td>3.38</td>\n",
       "      <td>14454000</td>\n",
       "      <td>4.02</td>\n",
       "      <td>...</td>\n",
       "      <td>3611200</td>\n",
       "      <td>4.52</td>\n",
       "      <td>246.45</td>\n",
       "      <td>91880000</td>\n",
       "      <td>5.86</td>\n",
       "      <td>6.48</td>\n",
       "      <td>7.18</td>\n",
       "      <td>7.44</td>\n",
       "      <td>8.49</td>\n",
       "      <td>9.97</td>\n",
       "    </tr>\n",
       "    <tr>\n",
       "      <th>1987-01-05</th>\n",
       "      <td>2100000</td>\n",
       "      <td>11.73</td>\n",
       "      <td>8670000</td>\n",
       "      <td>2.40</td>\n",
       "      <td>3032800</td>\n",
       "      <td>3.70</td>\n",
       "      <td>1752000</td>\n",
       "      <td>3.48</td>\n",
       "      <td>11538000</td>\n",
       "      <td>4.10</td>\n",
       "      <td>...</td>\n",
       "      <td>9040000</td>\n",
       "      <td>4.63</td>\n",
       "      <td>252.19</td>\n",
       "      <td>181900000</td>\n",
       "      <td>5.85</td>\n",
       "      <td>6.41</td>\n",
       "      <td>7.08</td>\n",
       "      <td>7.35</td>\n",
       "      <td>8.44</td>\n",
       "      <td>9.90</td>\n",
       "    </tr>\n",
       "    <tr>\n",
       "      <th>1987-01-06</th>\n",
       "      <td>2720000</td>\n",
       "      <td>11.77</td>\n",
       "      <td>6992000</td>\n",
       "      <td>2.43</td>\n",
       "      <td>6614400</td>\n",
       "      <td>3.74</td>\n",
       "      <td>1206400</td>\n",
       "      <td>3.48</td>\n",
       "      <td>14279400</td>\n",
       "      <td>4.07</td>\n",
       "      <td>...</td>\n",
       "      <td>7931200</td>\n",
       "      <td>4.62</td>\n",
       "      <td>252.78</td>\n",
       "      <td>189300000</td>\n",
       "      <td>5.85</td>\n",
       "      <td>6.42</td>\n",
       "      <td>7.08</td>\n",
       "      <td>7.36</td>\n",
       "      <td>8.41</td>\n",
       "      <td>9.86</td>\n",
       "    </tr>\n",
       "    <tr>\n",
       "      <th>1987-01-07</th>\n",
       "      <td>2000400</td>\n",
       "      <td>11.83</td>\n",
       "      <td>7621200</td>\n",
       "      <td>2.53</td>\n",
       "      <td>4233600</td>\n",
       "      <td>3.78</td>\n",
       "      <td>2188000</td>\n",
       "      <td>3.45</td>\n",
       "      <td>13003200</td>\n",
       "      <td>4.08</td>\n",
       "      <td>...</td>\n",
       "      <td>5351200</td>\n",
       "      <td>4.61</td>\n",
       "      <td>255.33</td>\n",
       "      <td>190900000</td>\n",
       "      <td>5.78</td>\n",
       "      <td>6.37</td>\n",
       "      <td>7.05</td>\n",
       "      <td>7.33</td>\n",
       "      <td>8.40</td>\n",
       "      <td>9.82</td>\n",
       "    </tr>\n",
       "    <tr>\n",
       "      <th>1987-01-08</th>\n",
       "      <td>2460000</td>\n",
       "      <td>11.66</td>\n",
       "      <td>5807500</td>\n",
       "      <td>2.51</td>\n",
       "      <td>3816800</td>\n",
       "      <td>3.82</td>\n",
       "      <td>2195200</td>\n",
       "      <td>3.44</td>\n",
       "      <td>16320600</td>\n",
       "      <td>4.13</td>\n",
       "      <td>...</td>\n",
       "      <td>9680000</td>\n",
       "      <td>4.61</td>\n",
       "      <td>257.28</td>\n",
       "      <td>194500000</td>\n",
       "      <td>5.78</td>\n",
       "      <td>6.36</td>\n",
       "      <td>7.04</td>\n",
       "      <td>7.31</td>\n",
       "      <td>8.37</td>\n",
       "      <td>9.76</td>\n",
       "    </tr>\n",
       "    <tr>\n",
       "      <th>...</th>\n",
       "      <td>...</td>\n",
       "      <td>...</td>\n",
       "      <td>...</td>\n",
       "      <td>...</td>\n",
       "      <td>...</td>\n",
       "      <td>...</td>\n",
       "      <td>...</td>\n",
       "      <td>...</td>\n",
       "      <td>...</td>\n",
       "      <td>...</td>\n",
       "      <td>...</td>\n",
       "      <td>...</td>\n",
       "      <td>...</td>\n",
       "      <td>...</td>\n",
       "      <td>...</td>\n",
       "      <td>...</td>\n",
       "      <td>...</td>\n",
       "      <td>...</td>\n",
       "      <td>...</td>\n",
       "      <td>...</td>\n",
       "      <td>...</td>\n",
       "    </tr>\n",
       "    <tr>\n",
       "      <th>2006-08-28</th>\n",
       "      <td>7543600</td>\n",
       "      <td>29.43</td>\n",
       "      <td>21840600</td>\n",
       "      <td>8.05</td>\n",
       "      <td>2580900</td>\n",
       "      <td>61.53</td>\n",
       "      <td>3839300</td>\n",
       "      <td>66.07</td>\n",
       "      <td>8882900</td>\n",
       "      <td>40.57</td>\n",
       "      <td>...</td>\n",
       "      <td>18132300</td>\n",
       "      <td>70.10</td>\n",
       "      <td>1301.78</td>\n",
       "      <td>1834919936</td>\n",
       "      <td>5.08</td>\n",
       "      <td>4.80</td>\n",
       "      <td>4.80</td>\n",
       "      <td>4.94</td>\n",
       "      <td>5.61</td>\n",
       "      <td>6.53</td>\n",
       "    </tr>\n",
       "    <tr>\n",
       "      <th>2006-08-29</th>\n",
       "      <td>4788100</td>\n",
       "      <td>29.45</td>\n",
       "      <td>34175700</td>\n",
       "      <td>8.26</td>\n",
       "      <td>3403800</td>\n",
       "      <td>62.17</td>\n",
       "      <td>4912700</td>\n",
       "      <td>65.45</td>\n",
       "      <td>10621000</td>\n",
       "      <td>40.89</td>\n",
       "      <td>...</td>\n",
       "      <td>21559900</td>\n",
       "      <td>69.41</td>\n",
       "      <td>1304.28</td>\n",
       "      <td>2093720064</td>\n",
       "      <td>5.06</td>\n",
       "      <td>4.79</td>\n",
       "      <td>4.79</td>\n",
       "      <td>4.93</td>\n",
       "      <td>5.60</td>\n",
       "      <td>6.53</td>\n",
       "    </tr>\n",
       "    <tr>\n",
       "      <th>2006-08-30</th>\n",
       "      <td>6961500</td>\n",
       "      <td>29.25</td>\n",
       "      <td>37627700</td>\n",
       "      <td>8.27</td>\n",
       "      <td>2331500</td>\n",
       "      <td>62.27</td>\n",
       "      <td>4251500</td>\n",
       "      <td>65.06</td>\n",
       "      <td>7847000</td>\n",
       "      <td>40.80</td>\n",
       "      <td>...</td>\n",
       "      <td>26310600</td>\n",
       "      <td>68.30</td>\n",
       "      <td>1305.37</td>\n",
       "      <td>2060690048</td>\n",
       "      <td>5.03</td>\n",
       "      <td>4.76</td>\n",
       "      <td>4.76</td>\n",
       "      <td>4.91</td>\n",
       "      <td>5.57</td>\n",
       "      <td>6.50</td>\n",
       "    </tr>\n",
       "    <tr>\n",
       "      <th>2006-08-31</th>\n",
       "      <td>3976300</td>\n",
       "      <td>29.18</td>\n",
       "      <td>28471100</td>\n",
       "      <td>8.37</td>\n",
       "      <td>2792800</td>\n",
       "      <td>62.71</td>\n",
       "      <td>6410000</td>\n",
       "      <td>66.35</td>\n",
       "      <td>6917700</td>\n",
       "      <td>40.55</td>\n",
       "      <td>...</td>\n",
       "      <td>19244400</td>\n",
       "      <td>67.67</td>\n",
       "      <td>1303.82</td>\n",
       "      <td>12460000</td>\n",
       "      <td>5.01</td>\n",
       "      <td>4.71</td>\n",
       "      <td>4.74</td>\n",
       "      <td>4.88</td>\n",
       "      <td>5.54</td>\n",
       "      <td>6.47</td>\n",
       "    </tr>\n",
       "    <tr>\n",
       "      <th>2006-09-01</th>\n",
       "      <td>8545200</td>\n",
       "      <td>30.27</td>\n",
       "      <td>30763200</td>\n",
       "      <td>8.27</td>\n",
       "      <td>2796200</td>\n",
       "      <td>63.26</td>\n",
       "      <td>5712000</td>\n",
       "      <td>67.27</td>\n",
       "      <td>5722700</td>\n",
       "      <td>40.96</td>\n",
       "      <td>...</td>\n",
       "      <td>17579700</td>\n",
       "      <td>68.10</td>\n",
       "      <td>1311.01</td>\n",
       "      <td>1800519936</td>\n",
       "      <td>4.99</td>\n",
       "      <td>4.70</td>\n",
       "      <td>4.73</td>\n",
       "      <td>4.87</td>\n",
       "      <td>5.53</td>\n",
       "      <td>6.46</td>\n",
       "    </tr>\n",
       "  </tbody>\n",
       "</table>\n",
       "<p>4963 rows × 28 columns</p>\n",
       "</div>"
      ],
      "text/plain": [
       "            GM_Volume  GM_AC  F_Volume  F_AC  UTX_Volume  UTX_AC  CAT_Volume   \n",
       "Date                                                                           \n",
       "1987-01-02     922200  11.45   2540100  2.31     1130400    3.66     1218400  \\\n",
       "1987-01-05    2100000  11.73   8670000  2.40     3032800    3.70     1752000   \n",
       "1987-01-06    2720000  11.77   6992000  2.43     6614400    3.74     1206400   \n",
       "1987-01-07    2000400  11.83   7621200  2.53     4233600    3.78     2188000   \n",
       "1987-01-08    2460000  11.66   5807500  2.51     3816800    3.82     2195200   \n",
       "...               ...    ...       ...   ...         ...     ...         ...   \n",
       "2006-08-28    7543600  29.43  21840600  8.05     2580900   61.53     3839300   \n",
       "2006-08-29    4788100  29.45  34175700  8.26     3403800   62.17     4912700   \n",
       "2006-08-30    6961500  29.25  37627700  8.27     2331500   62.27     4251500   \n",
       "2006-08-31    3976300  29.18  28471100  8.37     2792800   62.71     6410000   \n",
       "2006-09-01    8545200  30.27  30763200  8.27     2796200   63.26     5712000   \n",
       "\n",
       "            CAT_AC  MRK_Volume  MRK_AC  ...  XOM_Volume  XOM_AC   S&P_AC   \n",
       "Date                                    ...                                \n",
       "1987-01-02    3.38    14454000    4.02  ...     3611200    4.52   246.45  \\\n",
       "1987-01-05    3.48    11538000    4.10  ...     9040000    4.63   252.19   \n",
       "1987-01-06    3.48    14279400    4.07  ...     7931200    4.62   252.78   \n",
       "1987-01-07    3.45    13003200    4.08  ...     5351200    4.61   255.33   \n",
       "1987-01-08    3.44    16320600    4.13  ...     9680000    4.61   257.28   \n",
       "...            ...         ...     ...  ...         ...     ...      ...   \n",
       "2006-08-28   66.07     8882900   40.57  ...    18132300   70.10  1301.78   \n",
       "2006-08-29   65.45    10621000   40.89  ...    21559900   69.41  1304.28   \n",
       "2006-08-30   65.06     7847000   40.80  ...    26310600   68.30  1305.37   \n",
       "2006-08-31   66.35     6917700   40.55  ...    19244400   67.67  1303.82   \n",
       "2006-09-01   67.27     5722700   40.96  ...    17579700   68.10  1311.01   \n",
       "\n",
       "            S&P_Volume  1 year Treasury Constant Maturity Rate   \n",
       "Date                                                             \n",
       "1987-01-02    91880000                                    5.86  \\\n",
       "1987-01-05   181900000                                    5.85   \n",
       "1987-01-06   189300000                                    5.85   \n",
       "1987-01-07   190900000                                    5.78   \n",
       "1987-01-08   194500000                                    5.78   \n",
       "...                ...                                     ...   \n",
       "2006-08-28  1834919936                                    5.08   \n",
       "2006-08-29  2093720064                                    5.06   \n",
       "2006-08-30  2060690048                                    5.03   \n",
       "2006-08-31    12460000                                    5.01   \n",
       "2006-09-01  1800519936                                    4.99   \n",
       "\n",
       "            3-Year Treasury Constant Maturity Rate   \n",
       "Date                                                 \n",
       "1987-01-02                                    6.48  \\\n",
       "1987-01-05                                    6.41   \n",
       "1987-01-06                                    6.42   \n",
       "1987-01-07                                    6.37   \n",
       "1987-01-08                                    6.36   \n",
       "...                                            ...   \n",
       "2006-08-28                                    4.80   \n",
       "2006-08-29                                    4.79   \n",
       "2006-08-30                                    4.76   \n",
       "2006-08-31                                    4.71   \n",
       "2006-09-01                                    4.70   \n",
       "\n",
       "            10 year Treasury Constant Maturity Rate   \n",
       "Date                                                  \n",
       "1987-01-02                                     7.18  \\\n",
       "1987-01-05                                     7.08   \n",
       "1987-01-06                                     7.08   \n",
       "1987-01-07                                     7.05   \n",
       "1987-01-08                                     7.04   \n",
       "...                                             ...   \n",
       "2006-08-28                                     4.80   \n",
       "2006-08-29                                     4.79   \n",
       "2006-08-30                                     4.76   \n",
       "2006-08-31                                     4.74   \n",
       "2006-09-01                                     4.73   \n",
       "\n",
       "            30 year Treasury Constant Maturity Rate  Aaa Bond Yield   \n",
       "Date                                                                  \n",
       "1987-01-02                                     7.44            8.49  \\\n",
       "1987-01-05                                     7.35            8.44   \n",
       "1987-01-06                                     7.36            8.41   \n",
       "1987-01-07                                     7.33            8.40   \n",
       "1987-01-08                                     7.31            8.37   \n",
       "...                                             ...             ...   \n",
       "2006-08-28                                     4.94            5.61   \n",
       "2006-08-29                                     4.93            5.60   \n",
       "2006-08-30                                     4.91            5.57   \n",
       "2006-08-31                                     4.88            5.54   \n",
       "2006-09-01                                     4.87            5.53   \n",
       "\n",
       "            Baa Bond Yield  \n",
       "Date                        \n",
       "1987-01-02            9.97  \n",
       "1987-01-05            9.90  \n",
       "1987-01-06            9.86  \n",
       "1987-01-07            9.82  \n",
       "1987-01-08            9.76  \n",
       "...                    ...  \n",
       "2006-08-28            6.53  \n",
       "2006-08-29            6.53  \n",
       "2006-08-30            6.50  \n",
       "2006-08-31            6.47  \n",
       "2006-09-01            6.46  \n",
       "\n",
       "[4963 rows x 28 columns]"
      ]
     },
     "execution_count": 40,
     "metadata": {},
     "output_type": "execute_result"
    }
   ],
   "source": [
    "data = pd.read_csv('../data/Stock_Bond.csv', index_col=0, parse_dates=[0], date_format='%d-%b-%y')\n",
    "data"
   ]
  },
  {
   "cell_type": "code",
   "execution_count": 41,
   "id": "9c6f7e7a-f1f8-4c51-8123-05796c1b9062",
   "metadata": {
    "tags": []
   },
   "outputs": [],
   "source": [
    "prices = data.iloc[:500, [1, 3, 5, 7, 9]]"
   ]
  },
  {
   "cell_type": "code",
   "execution_count": 42,
   "id": "b3690d1a-1844-4a32-8bb4-762dc400f2d2",
   "metadata": {
    "tags": []
   },
   "outputs": [],
   "source": [
    "ret = np.log(prices).diff().dropna()"
   ]
  },
  {
   "cell_type": "markdown",
   "id": "9d6a3bdb-a8fd-42ff-a311-731d3d0058b1",
   "metadata": {},
   "source": [
    "(a) The mean vector is:"
   ]
  },
  {
   "cell_type": "code",
   "execution_count": 43,
   "id": "ae050e48-ce49-4192-9ca8-caed9f82fff9",
   "metadata": {
    "tags": []
   },
   "outputs": [
    {
     "data": {
      "text/plain": [
       "GM_AC     0.000771\n",
       "F_AC      0.001327\n",
       "UTX_AC   -0.000136\n",
       "CAT_AC    0.000972\n",
       "MRK_AC    0.000700\n",
       "dtype: float64"
      ]
     },
     "execution_count": 43,
     "metadata": {},
     "output_type": "execute_result"
    }
   ],
   "source": [
    "ret.mean()"
   ]
  },
  {
   "cell_type": "markdown",
   "id": "013dbfab-7a92-4d7e-a183-35ee22e1d6ea",
   "metadata": {},
   "source": [
    "The sample covariance matrix is:"
   ]
  },
  {
   "cell_type": "code",
   "execution_count": 44,
   "id": "89e17b33-eba7-4876-be5e-f3fe77365581",
   "metadata": {
    "tags": []
   },
   "outputs": [
    {
     "data": {
      "text/html": [
       "<div>\n",
       "<style scoped>\n",
       "    .dataframe tbody tr th:only-of-type {\n",
       "        vertical-align: middle;\n",
       "    }\n",
       "\n",
       "    .dataframe tbody tr th {\n",
       "        vertical-align: top;\n",
       "    }\n",
       "\n",
       "    .dataframe thead th {\n",
       "        text-align: right;\n",
       "    }\n",
       "</style>\n",
       "<table border=\"1\" class=\"dataframe\">\n",
       "  <thead>\n",
       "    <tr style=\"text-align: right;\">\n",
       "      <th></th>\n",
       "      <th>GM_AC</th>\n",
       "      <th>F_AC</th>\n",
       "      <th>UTX_AC</th>\n",
       "      <th>CAT_AC</th>\n",
       "      <th>MRK_AC</th>\n",
       "    </tr>\n",
       "  </thead>\n",
       "  <tbody>\n",
       "    <tr>\n",
       "      <th>GM_AC</th>\n",
       "      <td>0.000425</td>\n",
       "      <td>0.000309</td>\n",
       "      <td>0.000205</td>\n",
       "      <td>0.000257</td>\n",
       "      <td>0.000197</td>\n",
       "    </tr>\n",
       "    <tr>\n",
       "      <th>F_AC</th>\n",
       "      <td>0.000309</td>\n",
       "      <td>0.000462</td>\n",
       "      <td>0.000211</td>\n",
       "      <td>0.000297</td>\n",
       "      <td>0.000228</td>\n",
       "    </tr>\n",
       "    <tr>\n",
       "      <th>UTX_AC</th>\n",
       "      <td>0.000205</td>\n",
       "      <td>0.000211</td>\n",
       "      <td>0.000384</td>\n",
       "      <td>0.000242</td>\n",
       "      <td>0.000178</td>\n",
       "    </tr>\n",
       "    <tr>\n",
       "      <th>CAT_AC</th>\n",
       "      <td>0.000257</td>\n",
       "      <td>0.000297</td>\n",
       "      <td>0.000242</td>\n",
       "      <td>0.000528</td>\n",
       "      <td>0.000240</td>\n",
       "    </tr>\n",
       "    <tr>\n",
       "      <th>MRK_AC</th>\n",
       "      <td>0.000197</td>\n",
       "      <td>0.000228</td>\n",
       "      <td>0.000178</td>\n",
       "      <td>0.000240</td>\n",
       "      <td>0.000315</td>\n",
       "    </tr>\n",
       "  </tbody>\n",
       "</table>\n",
       "</div>"
      ],
      "text/plain": [
       "           GM_AC      F_AC    UTX_AC    CAT_AC    MRK_AC\n",
       "GM_AC   0.000425  0.000309  0.000205  0.000257  0.000197\n",
       "F_AC    0.000309  0.000462  0.000211  0.000297  0.000228\n",
       "UTX_AC  0.000205  0.000211  0.000384  0.000242  0.000178\n",
       "CAT_AC  0.000257  0.000297  0.000242  0.000528  0.000240\n",
       "MRK_AC  0.000197  0.000228  0.000178  0.000240  0.000315"
      ]
     },
     "execution_count": 44,
     "metadata": {},
     "output_type": "execute_result"
    }
   ],
   "source": [
    "ret.cov(ddof=1)"
   ]
  },
  {
   "cell_type": "markdown",
   "id": "29d9fc32-8c69-44b1-80f0-bd74c24ff74c",
   "metadata": {
    "tags": []
   },
   "source": [
    "(b) For an equally invested portfolio of $50 million, one needs to buy:"
   ]
  },
  {
   "cell_type": "code",
   "execution_count": 45,
   "id": "9cef9892-9969-4d3d-b11c-c3d781befa2a",
   "metadata": {
    "tags": []
   },
   "outputs": [
    {
     "data": {
      "text/plain": [
       "GM_AC      594530\n",
       "F_AC      2232142\n",
       "UTX_AC    2923976\n",
       "CAT_AC    1821493\n",
       "MRK_AC    1754385\n",
       "Name: 1988-12-21 00:00:00, dtype: int64"
      ]
     },
     "execution_count": 45,
     "metadata": {},
     "output_type": "execute_result"
    }
   ],
   "source": [
    "S = 50_000_000\n",
    "(S / prices.shape[1] / prices.iloc[-1]).astype(int)"
   ]
  },
  {
   "cell_type": "markdown",
   "id": "80453633-9190-47ba-8dce-3dbd881ce255",
   "metadata": {
    "tags": []
   },
   "source": [
    "(c) For one-day VaR(0.1):"
   ]
  },
  {
   "cell_type": "code",
   "execution_count": 46,
   "id": "73fc053b-b178-4d42-8029-20a5f93b2ab4",
   "metadata": {
    "tags": []
   },
   "outputs": [],
   "source": [
    "w = (np.ones(ret.shape[1]) / ret.shape[1]).reshape(-1, 1)"
   ]
  },
  {
   "cell_type": "code",
   "execution_count": 47,
   "id": "534968de-1ccf-45e7-914d-bd43351cd821",
   "metadata": {
    "tags": []
   },
   "outputs": [],
   "source": [
    "var_alpha = 0.1"
   ]
  },
  {
   "cell_type": "code",
   "execution_count": 48,
   "id": "c8a63bb0-ad05-4191-9b38-546bf755ec60",
   "metadata": {
    "tags": []
   },
   "outputs": [],
   "source": [
    "mu_p = (w.T @ ret.mean())[0]\n",
    "sigma_p = np.sqrt(w.T @ ret.cov(ddof=1).values @ w)[0, 0]"
   ]
  },
  {
   "cell_type": "code",
   "execution_count": 49,
   "id": "8e2a5a7a-e66d-4355-87de-87113689802d",
   "metadata": {
    "tags": []
   },
   "outputs": [
    {
     "data": {
      "text/plain": [
       "1023854.6884306398"
      ]
     },
     "execution_count": 49,
     "metadata": {},
     "output_type": "execute_result"
    }
   ],
   "source": [
    "VaR_norm(mu_p, sigma_p, var_alpha, S)"
   ]
  },
  {
   "cell_type": "markdown",
   "id": "e47d7e34-a9bb-467a-a45c-61ae55f02da2",
   "metadata": {},
   "source": [
    "(d) For five-day VaR(0.1)"
   ]
  },
  {
   "cell_type": "code",
   "execution_count": 50,
   "id": "6cea3a42-a0e7-417a-a8c0-4a346de85750",
   "metadata": {
    "tags": []
   },
   "outputs": [],
   "source": [
    "days = 5"
   ]
  },
  {
   "cell_type": "code",
   "execution_count": 51,
   "id": "7083c6b5-2d9a-46c3-8c90-48a7f6f00bec",
   "metadata": {
    "tags": []
   },
   "outputs": [
    {
     "data": {
      "text/plain": [
       "2188967.2449175906"
      ]
     },
     "execution_count": 51,
     "metadata": {},
     "output_type": "execute_result"
    }
   ],
   "source": [
    "VaR_norm(mu_p * days, sigma_p * np.sqrt(days), var_alpha, S)"
   ]
  }
 ],
 "metadata": {
  "kernelspec": {
   "display_name": "Python 3 (ipykernel)",
   "language": "python",
   "name": "python3"
  },
  "language_info": {
   "codemirror_mode": {
    "name": "ipython",
    "version": 3
   },
   "file_extension": ".py",
   "mimetype": "text/x-python",
   "name": "python",
   "nbconvert_exporter": "python",
   "pygments_lexer": "ipython3",
   "version": "3.11.3"
  }
 },
 "nbformat": 4,
 "nbformat_minor": 5
}
