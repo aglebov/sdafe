{
 "cells": [
  {
   "cell_type": "code",
   "execution_count": 1,
   "id": "f74fb867-8dd5-463e-8e69-058e57cb6451",
   "metadata": {
    "tags": []
   },
   "outputs": [],
   "source": [
    "import math\n",
    "\n",
    "import numpy as np\n",
    "import pandas as pd\n",
    "import matplotlib.pyplot as plt\n",
    "import scipy.stats as stats\n",
    "import seaborn as sns\n",
    "import statsmodels.api as sm"
   ]
  },
  {
   "cell_type": "markdown",
   "id": "9ff5dee6-3c38-4ee0-aab6-c30f756e72dd",
   "metadata": {
    "tags": []
   },
   "source": [
    "#### Exercise 1"
   ]
  },
  {
   "cell_type": "markdown",
   "id": "eaf4dc53-7e94-46ae-9dfc-cb0753d73bc9",
   "metadata": {
    "tags": []
   },
   "source": [
    "(a) Given that the spline is linear, we can interpolate values between knots, therefore:\n",
    "$$s(0.5) = \\frac{s(0) + s(1)}{2} = 1.15$$\n",
    "\n",
    "(b) The last knot is at $t=3$, so the slope must be constant for $t \\geq 3$. We see that $s(4) = s(5) = 6$, so the slope for $t \\geq 3$ must be 0, and $s(3) = 6$.\n",
    "\n",
    "(c) We have\n",
    "$$s(t) = \\begin{cases}\n",
    "s(2) + (s(3) - s(2)) (t - 2), &\\text{if } 2 \\leq t \\leq 3 \\\\\n",
    "s(3), &\\text{if } t \\geq 3\n",
    "\\end{cases}$$\n",
    "\n",
    "Therefore,\n",
    "$$\\int_2^4 s(t) dt \n",
    "= \\int_2^3 (s(2) + (s(3) - s(2)) (t - 2)) dt + \\int_3^4 s(3) dt \n",
    "=\\left.\\left(s(2) t + (s(3) - s(2))\\left(\\frac{t^2}{2} - 2t\\right)\\right)\\right|_2^3 + \\left.s(3)t\\right|_3^4\n",
    "=s(2) + \\frac12 (s(3) - s(2)) + s(3) \n",
    "=\\frac12 s(2) + \\frac32 s(3)\n",
    "=11.75.$$"
   ]
  },
  {
   "cell_type": "markdown",
   "id": "cf96c99e-b449-4445-85fa-e6d011d9b83b",
   "metadata": {
    "tags": []
   },
   "source": [
    "#### Exercise 2\n",
    "\n",
    "The model is as follows:\n",
    "$$\\Delta r_t = \\mu(r_{t-1}) + \\sigma(r_{t-1}) \\epsilon_t.$$\n",
    "\n",
    "(a) The expected value of $r_t$ given $r_{t-1}$is\n",
    "$$E[r_t] = E[r_{t-1} + \\Delta r_t|r_{t-1}] = r_{t-1} + \\mu(r_{t-1}):$$"
   ]
  },
  {
   "cell_type": "code",
   "execution_count": 6,
   "id": "2e02c29e-962f-440e-a275-a3787f8bf5cf",
   "metadata": {
    "tags": []
   },
   "outputs": [
    {
     "data": {
      "text/plain": [
       "0.0395"
      ]
     },
     "execution_count": 6,
     "metadata": {},
     "output_type": "execute_result"
    }
   ],
   "source": [
    "0.04 + 0.1 * (0.035 - 0.04)"
   ]
  },
  {
   "cell_type": "markdown",
   "id": "1ca6c2cf-55f4-42c7-9d29-edf6ad09b225",
   "metadata": {
    "tags": []
   },
   "source": [
    "(b) The variance of $r_t$ given $r_{t-1}$ is\n",
    "$$\\mathrm{Var}[r_t|r_{t-1}] = \\mathrm{Var}[r_{t-1} + \\Delta r_t|r_{t-1}] = \\sigma^2(r_{t-1}):$$"
   ]
  },
  {
   "cell_type": "code",
   "execution_count": 8,
   "id": "ac5f3bd2-e73a-4752-b8d0-264c781f3f72",
   "metadata": {
    "tags": []
   },
   "outputs": [
    {
     "data": {
      "text/plain": [
       "0.002116"
      ]
     },
     "execution_count": 8,
     "metadata": {},
     "output_type": "execute_result"
    }
   ],
   "source": [
    "(2.3 * 0.02) ** 2"
   ]
  },
  {
   "cell_type": "markdown",
   "id": "ce52b424-fd77-4071-bf17-566f12dfc132",
   "metadata": {},
   "source": [
    "#### Exercise 3\n",
    "\n",
    "(a) For $x \\geq 2$ we have\n",
    "$$s(x) = x - 2(x - 1) + (x - 2) = 0,$$\n",
    "hence $s(x)$ is not a CDF.\n",
    "\n",
    "For all $x$, $s(x) \\geq 0$ and also $\\int_{-\\infty}^{+\\infty} s(x) dx = \\int_0^1 x dx + \\int_1^2 (2 - x) dx = \\frac12 + \\frac12 = 1$, so $s(x)$ is a PDF.\n",
    "\n",
    "(b) If $s(x)$ is the PDF of a variable $X$, then the CDF is\n",
    "$$P(X \\leq a) = \\int_{-\\infty}^{a} s(x) dx = \\begin{cases}\n",
    "0, &\\text{if } a < 0 \\\\\n",
    "\\int_0^a x dx = \\frac{a^2}{2}, &\\text{it } 0 \\leq a < 1 \\\\\n",
    "\\int_0^1 x dx + \\int_1^a (2 - x) dx = 2 a - \\frac{a^2}{2} - 1, &\\text{if } 1 \\leq a < 2 \\\\\n",
    "1, &\\text{if } a \\geq 2\n",
    "\\end{cases}$$\n",
    "\n",
    "We see that $P(X \\leq 1) = 0.5$ and $P(X \\leq 2) = 1$, so the 90th percentile lies between 1 and 2. Solving the equation for this segment:\n",
    "$$a^2 - 4 a + 3.8 = 0,$$\n",
    "we have $a = 2 - \\sqrt{0.2}:$"
   ]
  },
  {
   "cell_type": "code",
   "execution_count": 13,
   "id": "67b2a429-a6b7-415d-971f-600b57e10d30",
   "metadata": {
    "tags": []
   },
   "outputs": [
    {
     "data": {
      "text/plain": [
       "1.5527864045000421"
      ]
     },
     "execution_count": 13,
     "metadata": {},
     "output_type": "execute_result"
    }
   ],
   "source": [
    "2 - np.sqrt(0.2)"
   ]
  },
  {
   "cell_type": "markdown",
   "id": "996cdca7-c9b3-4d15-9bde-12d4ccb464c2",
   "metadata": {
    "tags": []
   },
   "source": [
    "#### Exercise 4\n",
    "\n",
    "(a) At $x=1.5$, we have\n",
    "$$s(x) = 1 + 0.62 x + x^2 + (x - 1)^2:$$"
   ]
  },
  {
   "cell_type": "code",
   "execution_count": 15,
   "id": "752e1e80-843f-43ac-be7c-8dafe716fcc5",
   "metadata": {
    "tags": []
   },
   "outputs": [
    {
     "data": {
      "text/plain": [
       "4.43"
      ]
     },
     "execution_count": 15,
     "metadata": {},
     "output_type": "execute_result"
    }
   ],
   "source": [
    "x = 1.5\n",
    "1 + 0.62 * x + x ** 2 + (x - 1) ** 2"
   ]
  },
  {
   "cell_type": "markdown",
   "id": "da5c9fe6-5718-46a5-a21f-06fef8086a91",
   "metadata": {},
   "source": [
    "and\n",
    "$$s'(x) = 0.62 + 2 x + 2 (x - 1):$$"
   ]
  },
  {
   "cell_type": "code",
   "execution_count": 16,
   "id": "d72e91a2-bcf7-424e-8312-ff5ce793c573",
   "metadata": {
    "tags": []
   },
   "outputs": [
    {
     "data": {
      "text/plain": [
       "4.62"
      ]
     },
     "execution_count": 16,
     "metadata": {},
     "output_type": "execute_result"
    }
   ],
   "source": [
    "0.62 + 2 * x + 2 * (x - 1)"
   ]
  },
  {
   "cell_type": "markdown",
   "id": "988aa470-3b2c-453a-ba61-bc97c073a382",
   "metadata": {
    "tags": []
   },
   "source": [
    "(b) At $x = 2.2$, we have\n",
    "$$s(x) = 1 + 0.62 x + x^2 + (x - 1)^2 + 0.6 (x - 2)^2:$$"
   ]
  },
  {
   "cell_type": "code",
   "execution_count": 18,
   "id": "8ccc90e5-4eb5-40ea-9176-bc00af3b5a49",
   "metadata": {
    "tags": []
   },
   "outputs": [
    {
     "data": {
      "text/plain": [
       "8.668000000000003"
      ]
     },
     "execution_count": 18,
     "metadata": {},
     "output_type": "execute_result"
    }
   ],
   "source": [
    "x = 2.2\n",
    "1 + 0.62 * x + x ** 2 + (x - 1) ** 2 + 0.6 * (x - 2) ** 2"
   ]
  },
  {
   "cell_type": "markdown",
   "id": "94a9d79e-ccb9-44d4-96c2-9a7ff4e23137",
   "metadata": {},
   "source": [
    "and\n",
    "$$s'(x) = 0.62 + 2 x + 2 (x - 1) + 1.2 (x - 2):$$"
   ]
  },
  {
   "cell_type": "code",
   "execution_count": 19,
   "id": "e112ccf7-3fd3-41eb-8c7a-d52eed5d627f",
   "metadata": {
    "tags": []
   },
   "outputs": [
    {
     "data": {
      "text/plain": [
       "7.660000000000001"
      ]
     },
     "execution_count": 19,
     "metadata": {},
     "output_type": "execute_result"
    }
   ],
   "source": [
    "0.62 + 2 * x + 2 * (x - 1) + 1.2 * (x - 2)"
   ]
  }
 ],
 "metadata": {
  "kernelspec": {
   "display_name": "Python 3 (ipykernel)",
   "language": "python",
   "name": "python3"
  },
  "language_info": {
   "codemirror_mode": {
    "name": "ipython",
    "version": 3
   },
   "file_extension": ".py",
   "mimetype": "text/x-python",
   "name": "python",
   "nbconvert_exporter": "python",
   "pygments_lexer": "ipython3",
   "version": "3.11.3"
  }
 },
 "nbformat": 4,
 "nbformat_minor": 5
}
