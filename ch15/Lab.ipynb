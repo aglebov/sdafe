{
 "cells": [
  {
   "cell_type": "code",
   "execution_count": 7,
   "id": "757c68ff-3ae4-4812-9f97-3b41b3448a96",
   "metadata": {
    "tags": []
   },
   "outputs": [],
   "source": [
    "import math\n",
    "\n",
    "import numpy as np\n",
    "import pandas as pd\n",
    "import matplotlib.pyplot as plt\n",
    "import scipy.stats as stats\n",
    "import seaborn as sns\n",
    "import statsmodels.api as sm\n",
    "\n",
    "from statsmodels.tsa.vector_ar.vecm import coint_johansen"
   ]
  },
  {
   "cell_type": "markdown",
   "id": "2bed0678-e712-4586-8924-b4a7365cec10",
   "metadata": {},
   "source": [
    "### 15.5.1 Cointegration Analysis of Midcap Prices"
   ]
  },
  {
   "cell_type": "code",
   "execution_count": 3,
   "id": "4fd44e81-a324-4892-bc03-212ceb496e2c",
   "metadata": {
    "tags": []
   },
   "outputs": [
    {
     "data": {
      "text/html": [
       "<div>\n",
       "<style scoped>\n",
       "    .dataframe tbody tr th:only-of-type {\n",
       "        vertical-align: middle;\n",
       "    }\n",
       "\n",
       "    .dataframe tbody tr th {\n",
       "        vertical-align: top;\n",
       "    }\n",
       "\n",
       "    .dataframe thead th {\n",
       "        text-align: right;\n",
       "    }\n",
       "</style>\n",
       "<table border=\"1\" class=\"dataframe\">\n",
       "  <thead>\n",
       "    <tr style=\"text-align: right;\">\n",
       "      <th></th>\n",
       "      <th>LSCC</th>\n",
       "      <th>CSGS</th>\n",
       "      <th>EC</th>\n",
       "      <th>NYB</th>\n",
       "      <th>ALTR</th>\n",
       "      <th>APH</th>\n",
       "      <th>CLS</th>\n",
       "      <th>NET</th>\n",
       "      <th>SBUX</th>\n",
       "      <th>AYE</th>\n",
       "      <th>...</th>\n",
       "      <th>SBL</th>\n",
       "      <th>PCZ</th>\n",
       "      <th>OSI</th>\n",
       "      <th>TRP</th>\n",
       "      <th>ROH</th>\n",
       "      <th>SU</th>\n",
       "      <th>MTD</th>\n",
       "      <th>RAD</th>\n",
       "      <th>GUC</th>\n",
       "      <th>market</th>\n",
       "    </tr>\n",
       "    <tr>\n",
       "      <th>X.Y..m..d</th>\n",
       "      <th></th>\n",
       "      <th></th>\n",
       "      <th></th>\n",
       "      <th></th>\n",
       "      <th></th>\n",
       "      <th></th>\n",
       "      <th></th>\n",
       "      <th></th>\n",
       "      <th></th>\n",
       "      <th></th>\n",
       "      <th></th>\n",
       "      <th></th>\n",
       "      <th></th>\n",
       "      <th></th>\n",
       "      <th></th>\n",
       "      <th></th>\n",
       "      <th></th>\n",
       "      <th></th>\n",
       "      <th></th>\n",
       "      <th></th>\n",
       "      <th></th>\n",
       "    </tr>\n",
       "  </thead>\n",
       "  <tbody>\n",
       "    <tr>\n",
       "      <th>2000-01-03</th>\n",
       "      <td>0.031167</td>\n",
       "      <td>0.051724</td>\n",
       "      <td>-0.019868</td>\n",
       "      <td>-0.009217</td>\n",
       "      <td>0.058008</td>\n",
       "      <td>0.010329</td>\n",
       "      <td>-0.040541</td>\n",
       "      <td>-0.016393</td>\n",
       "      <td>0.016753</td>\n",
       "      <td>-0.037123</td>\n",
       "      <td>...</td>\n",
       "      <td>-0.000983</td>\n",
       "      <td>-0.021739</td>\n",
       "      <td>-0.019277</td>\n",
       "      <td>0.007143</td>\n",
       "      <td>-0.007680</td>\n",
       "      <td>-0.017964</td>\n",
       "      <td>-0.073650</td>\n",
       "      <td>0.067416</td>\n",
       "      <td>0.002183</td>\n",
       "      <td>-0.007124</td>\n",
       "    </tr>\n",
       "    <tr>\n",
       "      <th>2000-01-04</th>\n",
       "      <td>-0.075241</td>\n",
       "      <td>-0.023845</td>\n",
       "      <td>-0.050676</td>\n",
       "      <td>-0.032558</td>\n",
       "      <td>-0.050060</td>\n",
       "      <td>-0.034387</td>\n",
       "      <td>-0.115023</td>\n",
       "      <td>-0.064286</td>\n",
       "      <td>-0.031686</td>\n",
       "      <td>0.012048</td>\n",
       "      <td>...</td>\n",
       "      <td>-0.083661</td>\n",
       "      <td>-0.017778</td>\n",
       "      <td>0.007371</td>\n",
       "      <td>-0.014184</td>\n",
       "      <td>-0.017028</td>\n",
       "      <td>0.033537</td>\n",
       "      <td>-0.021201</td>\n",
       "      <td>-0.042105</td>\n",
       "      <td>-0.032135</td>\n",
       "      <td>-0.039521</td>\n",
       "    </tr>\n",
       "    <tr>\n",
       "      <th>2000-01-05</th>\n",
       "      <td>-0.025730</td>\n",
       "      <td>-0.003053</td>\n",
       "      <td>0.021352</td>\n",
       "      <td>-0.002404</td>\n",
       "      <td>-0.011292</td>\n",
       "      <td>-0.022137</td>\n",
       "      <td>-0.071618</td>\n",
       "      <td>0.012723</td>\n",
       "      <td>0.013089</td>\n",
       "      <td>0.045238</td>\n",
       "      <td>...</td>\n",
       "      <td>-0.066595</td>\n",
       "      <td>0.063348</td>\n",
       "      <td>0.000000</td>\n",
       "      <td>0.000000</td>\n",
       "      <td>0.061417</td>\n",
       "      <td>0.085546</td>\n",
       "      <td>-0.021661</td>\n",
       "      <td>-0.021978</td>\n",
       "      <td>-0.018571</td>\n",
       "      <td>-0.000856</td>\n",
       "    </tr>\n",
       "    <tr>\n",
       "      <th>2000-01-06</th>\n",
       "      <td>-0.049251</td>\n",
       "      <td>-0.050536</td>\n",
       "      <td>0.027875</td>\n",
       "      <td>0.002410</td>\n",
       "      <td>-0.025381</td>\n",
       "      <td>-0.027559</td>\n",
       "      <td>0.002857</td>\n",
       "      <td>-0.042714</td>\n",
       "      <td>0.036176</td>\n",
       "      <td>-0.009112</td>\n",
       "      <td>...</td>\n",
       "      <td>-0.024166</td>\n",
       "      <td>-0.021277</td>\n",
       "      <td>-0.004878</td>\n",
       "      <td>0.000000</td>\n",
       "      <td>0.037092</td>\n",
       "      <td>-0.027174</td>\n",
       "      <td>0.022140</td>\n",
       "      <td>-0.033708</td>\n",
       "      <td>-0.018349</td>\n",
       "      <td>-0.007353</td>\n",
       "    </tr>\n",
       "    <tr>\n",
       "      <th>2000-01-07</th>\n",
       "      <td>0.041291</td>\n",
       "      <td>-0.008065</td>\n",
       "      <td>0.013559</td>\n",
       "      <td>0.002404</td>\n",
       "      <td>0.104167</td>\n",
       "      <td>0.010121</td>\n",
       "      <td>0.048433</td>\n",
       "      <td>0.055118</td>\n",
       "      <td>-0.004988</td>\n",
       "      <td>0.002299</td>\n",
       "      <td>...</td>\n",
       "      <td>-0.003538</td>\n",
       "      <td>-0.004348</td>\n",
       "      <td>-0.031863</td>\n",
       "      <td>-0.035971</td>\n",
       "      <td>0.072961</td>\n",
       "      <td>0.006983</td>\n",
       "      <td>0.028881</td>\n",
       "      <td>0.023256</td>\n",
       "      <td>0.032710</td>\n",
       "      <td>0.032511</td>\n",
       "    </tr>\n",
       "  </tbody>\n",
       "</table>\n",
       "<p>5 rows × 21 columns</p>\n",
       "</div>"
      ],
      "text/plain": [
       "                LSCC      CSGS        EC       NYB      ALTR       APH   \n",
       "X.Y..m..d                                                                \n",
       "2000-01-03  0.031167  0.051724 -0.019868 -0.009217  0.058008  0.010329  \\\n",
       "2000-01-04 -0.075241 -0.023845 -0.050676 -0.032558 -0.050060 -0.034387   \n",
       "2000-01-05 -0.025730 -0.003053  0.021352 -0.002404 -0.011292 -0.022137   \n",
       "2000-01-06 -0.049251 -0.050536  0.027875  0.002410 -0.025381 -0.027559   \n",
       "2000-01-07  0.041291 -0.008065  0.013559  0.002404  0.104167  0.010121   \n",
       "\n",
       "                 CLS       NET      SBUX       AYE  ...       SBL       PCZ   \n",
       "X.Y..m..d                                           ...                       \n",
       "2000-01-03 -0.040541 -0.016393  0.016753 -0.037123  ... -0.000983 -0.021739  \\\n",
       "2000-01-04 -0.115023 -0.064286 -0.031686  0.012048  ... -0.083661 -0.017778   \n",
       "2000-01-05 -0.071618  0.012723  0.013089  0.045238  ... -0.066595  0.063348   \n",
       "2000-01-06  0.002857 -0.042714  0.036176 -0.009112  ... -0.024166 -0.021277   \n",
       "2000-01-07  0.048433  0.055118 -0.004988  0.002299  ... -0.003538 -0.004348   \n",
       "\n",
       "                 OSI       TRP       ROH        SU       MTD       RAD   \n",
       "X.Y..m..d                                                                \n",
       "2000-01-03 -0.019277  0.007143 -0.007680 -0.017964 -0.073650  0.067416  \\\n",
       "2000-01-04  0.007371 -0.014184 -0.017028  0.033537 -0.021201 -0.042105   \n",
       "2000-01-05  0.000000  0.000000  0.061417  0.085546 -0.021661 -0.021978   \n",
       "2000-01-06 -0.004878  0.000000  0.037092 -0.027174  0.022140 -0.033708   \n",
       "2000-01-07 -0.031863 -0.035971  0.072961  0.006983  0.028881  0.023256   \n",
       "\n",
       "                 GUC    market  \n",
       "X.Y..m..d                       \n",
       "2000-01-03  0.002183 -0.007124  \n",
       "2000-01-04 -0.032135 -0.039521  \n",
       "2000-01-05 -0.018571 -0.000856  \n",
       "2000-01-06 -0.018349 -0.007353  \n",
       "2000-01-07  0.032710  0.032511  \n",
       "\n",
       "[5 rows x 21 columns]"
      ]
     },
     "execution_count": 3,
     "metadata": {},
     "output_type": "execute_result"
    }
   ],
   "source": [
    "data = pd.read_csv('../data/midcapD.ts.csv', index_col=0, parse_dates=[0])\n",
    "data.head()"
   ]
  },
  {
   "cell_type": "code",
   "execution_count": 18,
   "id": "6d11a583-6ba3-4928-b0a7-39b8239daba6",
   "metadata": {
    "tags": []
   },
   "outputs": [],
   "source": [
    "prices = np.exp(np.cumsum(data.iloc[:, :10], axis=0))"
   ]
  },
  {
   "cell_type": "code",
   "execution_count": 66,
   "id": "84b999e2-78ed-4000-8302-0e6b695d77d1",
   "metadata": {
    "tags": []
   },
   "outputs": [],
   "source": [
    "def johansen_summary(res):\n",
    "    d = len(res.max_eig_stat)\n",
    "    return pd.DataFrame({\n",
    "        'hypothesis': [f'r <= {i}' if i > 0 else 'r = 0' for i in range(d)],\n",
    "        'test': res.max_eig_stat,\n",
    "        '10pct': res.max_eig_stat_crit_vals[:, 0],\n",
    "        '5pct': res.max_eig_stat_crit_vals[:, 1],\n",
    "        '1pct': res.max_eig_stat_crit_vals[:, 2],\n",
    "    })"
   ]
  },
  {
   "cell_type": "code",
   "execution_count": 67,
   "id": "0cbc4df1-66eb-4e6b-b33d-b5b791e1eb6a",
   "metadata": {
    "tags": []
   },
   "outputs": [
    {
     "data": {
      "text/html": [
       "<div>\n",
       "<style scoped>\n",
       "    .dataframe tbody tr th:only-of-type {\n",
       "        vertical-align: middle;\n",
       "    }\n",
       "\n",
       "    .dataframe tbody tr th {\n",
       "        vertical-align: top;\n",
       "    }\n",
       "\n",
       "    .dataframe thead th {\n",
       "        text-align: right;\n",
       "    }\n",
       "</style>\n",
       "<table border=\"1\" class=\"dataframe\">\n",
       "  <thead>\n",
       "    <tr style=\"text-align: right;\">\n",
       "      <th></th>\n",
       "      <th>hypothesis</th>\n",
       "      <th>test</th>\n",
       "      <th>10pct</th>\n",
       "      <th>5pct</th>\n",
       "      <th>1pct</th>\n",
       "    </tr>\n",
       "  </thead>\n",
       "  <tbody>\n",
       "    <tr>\n",
       "      <th>0</th>\n",
       "      <td>r = 0</td>\n",
       "      <td>42.729262</td>\n",
       "      <td>57.7954</td>\n",
       "      <td>61.0404</td>\n",
       "      <td>67.6415</td>\n",
       "    </tr>\n",
       "    <tr>\n",
       "      <th>1</th>\n",
       "      <td>r &lt;= 1</td>\n",
       "      <td>34.042894</td>\n",
       "      <td>51.8528</td>\n",
       "      <td>54.9629</td>\n",
       "      <td>61.3449</td>\n",
       "    </tr>\n",
       "    <tr>\n",
       "      <th>2</th>\n",
       "      <td>r &lt;= 2</td>\n",
       "      <td>24.822775</td>\n",
       "      <td>45.8930</td>\n",
       "      <td>48.8795</td>\n",
       "      <td>55.0335</td>\n",
       "    </tr>\n",
       "    <tr>\n",
       "      <th>3</th>\n",
       "      <td>r &lt;= 3</td>\n",
       "      <td>20.838499</td>\n",
       "      <td>39.9085</td>\n",
       "      <td>42.7679</td>\n",
       "      <td>48.6606</td>\n",
       "    </tr>\n",
       "    <tr>\n",
       "      <th>4</th>\n",
       "      <td>r &lt;= 4</td>\n",
       "      <td>14.863683</td>\n",
       "      <td>33.9271</td>\n",
       "      <td>36.6301</td>\n",
       "      <td>42.2333</td>\n",
       "    </tr>\n",
       "    <tr>\n",
       "      <th>5</th>\n",
       "      <td>r &lt;= 5</td>\n",
       "      <td>12.841105</td>\n",
       "      <td>27.9160</td>\n",
       "      <td>30.4428</td>\n",
       "      <td>35.7359</td>\n",
       "    </tr>\n",
       "    <tr>\n",
       "      <th>6</th>\n",
       "      <td>r &lt;= 6</td>\n",
       "      <td>9.056691</td>\n",
       "      <td>21.8370</td>\n",
       "      <td>24.1592</td>\n",
       "      <td>29.0609</td>\n",
       "    </tr>\n",
       "    <tr>\n",
       "      <th>7</th>\n",
       "      <td>r &lt;= 7</td>\n",
       "      <td>7.326792</td>\n",
       "      <td>15.7175</td>\n",
       "      <td>17.7961</td>\n",
       "      <td>22.2519</td>\n",
       "    </tr>\n",
       "    <tr>\n",
       "      <th>8</th>\n",
       "      <td>r &lt;= 8</td>\n",
       "      <td>4.320931</td>\n",
       "      <td>9.4748</td>\n",
       "      <td>11.2246</td>\n",
       "      <td>15.0923</td>\n",
       "    </tr>\n",
       "    <tr>\n",
       "      <th>9</th>\n",
       "      <td>r &lt;= 9</td>\n",
       "      <td>1.425430</td>\n",
       "      <td>2.9762</td>\n",
       "      <td>4.1296</td>\n",
       "      <td>6.9406</td>\n",
       "    </tr>\n",
       "  </tbody>\n",
       "</table>\n",
       "</div>"
      ],
      "text/plain": [
       "  hypothesis       test    10pct     5pct     1pct\n",
       "0      r = 0  42.729262  57.7954  61.0404  67.6415\n",
       "1     r <= 1  34.042894  51.8528  54.9629  61.3449\n",
       "2     r <= 2  24.822775  45.8930  48.8795  55.0335\n",
       "3     r <= 3  20.838499  39.9085  42.7679  48.6606\n",
       "4     r <= 4  14.863683  33.9271  36.6301  42.2333\n",
       "5     r <= 5  12.841105  27.9160  30.4428  35.7359\n",
       "6     r <= 6   9.056691  21.8370  24.1592  29.0609\n",
       "7     r <= 7   7.326792  15.7175  17.7961  22.2519\n",
       "8     r <= 8   4.320931   9.4748  11.2246  15.0923\n",
       "9     r <= 9   1.425430   2.9762   4.1296   6.9406"
      ]
     },
     "execution_count": 67,
     "metadata": {},
     "output_type": "execute_result"
    }
   ],
   "source": [
    "res = coint_johansen(prices, det_order=-1, k_ar_diff=2)\n",
    "johansen_summary(res)"
   ]
  },
  {
   "cell_type": "markdown",
   "id": "ddba1ebd-59ce-4a29-9ecb-e7df8fe63812",
   "metadata": {},
   "source": [
    "#### Problem 1\n",
    "\n",
    "None of the null hypothesis is rejected, suggesting that no cointegration vectors are found."
   ]
  },
  {
   "cell_type": "markdown",
   "id": "82c6288b-9997-47f9-92b6-ea3a6a0e1005",
   "metadata": {
    "tags": []
   },
   "source": [
    "### 15.5.2 Cointegration Analysis of Yields"
   ]
  },
  {
   "cell_type": "code",
   "execution_count": 70,
   "id": "72df45f2-7ae4-4464-8f87-c65710d782da",
   "metadata": {
    "tags": []
   },
   "outputs": [
    {
     "data": {
      "text/html": [
       "<div>\n",
       "<style scoped>\n",
       "    .dataframe tbody tr th:only-of-type {\n",
       "        vertical-align: middle;\n",
       "    }\n",
       "\n",
       "    .dataframe tbody tr th {\n",
       "        vertical-align: top;\n",
       "    }\n",
       "\n",
       "    .dataframe thead th {\n",
       "        text-align: right;\n",
       "    }\n",
       "</style>\n",
       "<table border=\"1\" class=\"dataframe\">\n",
       "  <thead>\n",
       "    <tr style=\"text-align: right;\">\n",
       "      <th></th>\n",
       "      <th>M.1</th>\n",
       "      <th>M.2</th>\n",
       "      <th>M.3</th>\n",
       "      <th>M.4</th>\n",
       "      <th>M.5</th>\n",
       "      <th>M.6</th>\n",
       "      <th>M.7</th>\n",
       "      <th>M.8</th>\n",
       "      <th>M.9</th>\n",
       "      <th>M.10</th>\n",
       "      <th>...</th>\n",
       "      <th>M.46</th>\n",
       "      <th>M.47</th>\n",
       "      <th>M.48</th>\n",
       "      <th>M.49</th>\n",
       "      <th>M.50</th>\n",
       "      <th>M.51</th>\n",
       "      <th>M.52</th>\n",
       "      <th>M.53</th>\n",
       "      <th>M.54</th>\n",
       "      <th>M.55</th>\n",
       "    </tr>\n",
       "    <tr>\n",
       "      <th>X.Y..m..d</th>\n",
       "      <th></th>\n",
       "      <th></th>\n",
       "      <th></th>\n",
       "      <th></th>\n",
       "      <th></th>\n",
       "      <th></th>\n",
       "      <th></th>\n",
       "      <th></th>\n",
       "      <th></th>\n",
       "      <th></th>\n",
       "      <th></th>\n",
       "      <th></th>\n",
       "      <th></th>\n",
       "      <th></th>\n",
       "      <th></th>\n",
       "      <th></th>\n",
       "      <th></th>\n",
       "      <th></th>\n",
       "      <th></th>\n",
       "      <th></th>\n",
       "      <th></th>\n",
       "    </tr>\n",
       "  </thead>\n",
       "  <tbody>\n",
       "    <tr>\n",
       "      <th>1985-08-01</th>\n",
       "      <td>0.07242</td>\n",
       "      <td>0.07212</td>\n",
       "      <td>0.07271</td>\n",
       "      <td>0.07372</td>\n",
       "      <td>0.07469</td>\n",
       "      <td>0.07546</td>\n",
       "      <td>0.07609</td>\n",
       "      <td>0.07670</td>\n",
       "      <td>0.07734</td>\n",
       "      <td>0.07808</td>\n",
       "      <td>...</td>\n",
       "      <td>0.10108</td>\n",
       "      <td>0.09997</td>\n",
       "      <td>0.09908</td>\n",
       "      <td>NaN</td>\n",
       "      <td>NaN</td>\n",
       "      <td>NaN</td>\n",
       "      <td>NaN</td>\n",
       "      <td>NaN</td>\n",
       "      <td>NaN</td>\n",
       "      <td>NaN</td>\n",
       "    </tr>\n",
       "    <tr>\n",
       "      <th>1985-09-01</th>\n",
       "      <td>0.07109</td>\n",
       "      <td>0.07189</td>\n",
       "      <td>0.07255</td>\n",
       "      <td>0.07314</td>\n",
       "      <td>0.07375</td>\n",
       "      <td>0.07443</td>\n",
       "      <td>0.07519</td>\n",
       "      <td>0.07603</td>\n",
       "      <td>0.07696</td>\n",
       "      <td>0.07799</td>\n",
       "      <td>...</td>\n",
       "      <td>0.10125</td>\n",
       "      <td>0.10027</td>\n",
       "      <td>0.09966</td>\n",
       "      <td>NaN</td>\n",
       "      <td>NaN</td>\n",
       "      <td>NaN</td>\n",
       "      <td>NaN</td>\n",
       "      <td>NaN</td>\n",
       "      <td>NaN</td>\n",
       "      <td>NaN</td>\n",
       "    </tr>\n",
       "    <tr>\n",
       "      <th>1985-10-01</th>\n",
       "      <td>0.07165</td>\n",
       "      <td>0.07297</td>\n",
       "      <td>0.07354</td>\n",
       "      <td>0.07389</td>\n",
       "      <td>0.07439</td>\n",
       "      <td>0.07509</td>\n",
       "      <td>0.07580</td>\n",
       "      <td>0.07638</td>\n",
       "      <td>0.07678</td>\n",
       "      <td>0.07714</td>\n",
       "      <td>...</td>\n",
       "      <td>0.09463</td>\n",
       "      <td>0.09565</td>\n",
       "      <td>0.09836</td>\n",
       "      <td>NaN</td>\n",
       "      <td>NaN</td>\n",
       "      <td>NaN</td>\n",
       "      <td>NaN</td>\n",
       "      <td>NaN</td>\n",
       "      <td>NaN</td>\n",
       "      <td>NaN</td>\n",
       "    </tr>\n",
       "    <tr>\n",
       "      <th>1985-11-01</th>\n",
       "      <td>0.06592</td>\n",
       "      <td>0.07164</td>\n",
       "      <td>0.07381</td>\n",
       "      <td>0.07404</td>\n",
       "      <td>0.07411</td>\n",
       "      <td>0.07460</td>\n",
       "      <td>0.07529</td>\n",
       "      <td>0.07595</td>\n",
       "      <td>0.07645</td>\n",
       "      <td>0.07682</td>\n",
       "      <td>...</td>\n",
       "      <td>0.09514</td>\n",
       "      <td>0.09397</td>\n",
       "      <td>0.09312</td>\n",
       "      <td>NaN</td>\n",
       "      <td>NaN</td>\n",
       "      <td>NaN</td>\n",
       "      <td>NaN</td>\n",
       "      <td>NaN</td>\n",
       "      <td>NaN</td>\n",
       "      <td>NaN</td>\n",
       "    </tr>\n",
       "    <tr>\n",
       "      <th>1985-12-01</th>\n",
       "      <td>0.06237</td>\n",
       "      <td>0.06895</td>\n",
       "      <td>0.07169</td>\n",
       "      <td>0.07228</td>\n",
       "      <td>0.07256</td>\n",
       "      <td>0.07297</td>\n",
       "      <td>0.07344</td>\n",
       "      <td>0.07386</td>\n",
       "      <td>0.07419</td>\n",
       "      <td>0.07446</td>\n",
       "      <td>...</td>\n",
       "      <td>0.09041</td>\n",
       "      <td>0.08891</td>\n",
       "      <td>0.08755</td>\n",
       "      <td>NaN</td>\n",
       "      <td>NaN</td>\n",
       "      <td>NaN</td>\n",
       "      <td>NaN</td>\n",
       "      <td>NaN</td>\n",
       "      <td>NaN</td>\n",
       "      <td>NaN</td>\n",
       "    </tr>\n",
       "  </tbody>\n",
       "</table>\n",
       "<p>5 rows × 55 columns</p>\n",
       "</div>"
      ],
      "text/plain": [
       "                M.1      M.2      M.3      M.4      M.5      M.6      M.7   \n",
       "X.Y..m..d                                                                   \n",
       "1985-08-01  0.07242  0.07212  0.07271  0.07372  0.07469  0.07546  0.07609  \\\n",
       "1985-09-01  0.07109  0.07189  0.07255  0.07314  0.07375  0.07443  0.07519   \n",
       "1985-10-01  0.07165  0.07297  0.07354  0.07389  0.07439  0.07509  0.07580   \n",
       "1985-11-01  0.06592  0.07164  0.07381  0.07404  0.07411  0.07460  0.07529   \n",
       "1985-12-01  0.06237  0.06895  0.07169  0.07228  0.07256  0.07297  0.07344   \n",
       "\n",
       "                M.8      M.9     M.10  ...     M.46     M.47     M.48  M.49   \n",
       "X.Y..m..d                              ...                                    \n",
       "1985-08-01  0.07670  0.07734  0.07808  ...  0.10108  0.09997  0.09908   NaN  \\\n",
       "1985-09-01  0.07603  0.07696  0.07799  ...  0.10125  0.10027  0.09966   NaN   \n",
       "1985-10-01  0.07638  0.07678  0.07714  ...  0.09463  0.09565  0.09836   NaN   \n",
       "1985-11-01  0.07595  0.07645  0.07682  ...  0.09514  0.09397  0.09312   NaN   \n",
       "1985-12-01  0.07386  0.07419  0.07446  ...  0.09041  0.08891  0.08755   NaN   \n",
       "\n",
       "            M.50  M.51  M.52  M.53  M.54  M.55  \n",
       "X.Y..m..d                                       \n",
       "1985-08-01   NaN   NaN   NaN   NaN   NaN   NaN  \n",
       "1985-09-01   NaN   NaN   NaN   NaN   NaN   NaN  \n",
       "1985-10-01   NaN   NaN   NaN   NaN   NaN   NaN  \n",
       "1985-11-01   NaN   NaN   NaN   NaN   NaN   NaN  \n",
       "1985-12-01   NaN   NaN   NaN   NaN   NaN   NaN  \n",
       "\n",
       "[5 rows x 55 columns]"
      ]
     },
     "execution_count": 70,
     "metadata": {},
     "output_type": "execute_result"
    }
   ],
   "source": [
    "data = pd.read_csv('../data/mk.zero2.csv', index_col=0, parse_dates=[0])\n",
    "data.head()"
   ]
  },
  {
   "cell_type": "markdown",
   "id": "1b767852-f7ac-40cd-81a0-eb018eb6cad0",
   "metadata": {},
   "source": [
    "#### Problem 2\n",
    "\n",
    "Short maturities from 1 to 10 months are used:"
   ]
  },
  {
   "cell_type": "code",
   "execution_count": 75,
   "id": "e40ae3c2-f661-40bc-a034-956b8640382f",
   "metadata": {
    "tags": []
   },
   "outputs": [
    {
     "data": {
      "text/html": [
       "<div>\n",
       "<style scoped>\n",
       "    .dataframe tbody tr th:only-of-type {\n",
       "        vertical-align: middle;\n",
       "    }\n",
       "\n",
       "    .dataframe tbody tr th {\n",
       "        vertical-align: top;\n",
       "    }\n",
       "\n",
       "    .dataframe thead th {\n",
       "        text-align: right;\n",
       "    }\n",
       "</style>\n",
       "<table border=\"1\" class=\"dataframe\">\n",
       "  <thead>\n",
       "    <tr style=\"text-align: right;\">\n",
       "      <th></th>\n",
       "      <th>Maturity</th>\n",
       "    </tr>\n",
       "  </thead>\n",
       "  <tbody>\n",
       "    <tr>\n",
       "      <th>0</th>\n",
       "      <td>0.996</td>\n",
       "    </tr>\n",
       "    <tr>\n",
       "      <th>1</th>\n",
       "      <td>2.004</td>\n",
       "    </tr>\n",
       "    <tr>\n",
       "      <th>2</th>\n",
       "      <td>3.000</td>\n",
       "    </tr>\n",
       "    <tr>\n",
       "      <th>3</th>\n",
       "      <td>3.996</td>\n",
       "    </tr>\n",
       "    <tr>\n",
       "      <th>4</th>\n",
       "      <td>5.004</td>\n",
       "    </tr>\n",
       "    <tr>\n",
       "      <th>5</th>\n",
       "      <td>6.000</td>\n",
       "    </tr>\n",
       "    <tr>\n",
       "      <th>6</th>\n",
       "      <td>6.996</td>\n",
       "    </tr>\n",
       "    <tr>\n",
       "      <th>7</th>\n",
       "      <td>8.004</td>\n",
       "    </tr>\n",
       "    <tr>\n",
       "      <th>8</th>\n",
       "      <td>9.000</td>\n",
       "    </tr>\n",
       "    <tr>\n",
       "      <th>9</th>\n",
       "      <td>9.996</td>\n",
       "    </tr>\n",
       "  </tbody>\n",
       "</table>\n",
       "</div>"
      ],
      "text/plain": [
       "   Maturity\n",
       "0     0.996\n",
       "1     2.004\n",
       "2     3.000\n",
       "3     3.996\n",
       "4     5.004\n",
       "5     6.000\n",
       "6     6.996\n",
       "7     8.004\n",
       "8     9.000\n",
       "9     9.996"
      ]
     },
     "execution_count": 75,
     "metadata": {},
     "output_type": "execute_result"
    }
   ],
   "source": [
    "maturities = pd.read_csv('../data/mk.maturity.csv')\n",
    "maturities[:10] * 12"
   ]
  },
  {
   "cell_type": "markdown",
   "id": "58377330-97b1-47c9-9c8b-654d28d1dd2b",
   "metadata": {},
   "source": [
    "#### Problem 3"
   ]
  },
  {
   "cell_type": "markdown",
   "id": "8c00979f-3082-46cb-b5bf-b6726a8c4ac4",
   "metadata": {},
   "source": [
    "Using 1% level tests identifies 2 cointegration vectors:"
   ]
  },
  {
   "cell_type": "code",
   "execution_count": 76,
   "id": "bba0e6f8-c20f-4f11-bcd9-71314c6eaf43",
   "metadata": {
    "tags": []
   },
   "outputs": [
    {
     "data": {
      "text/html": [
       "<div>\n",
       "<style scoped>\n",
       "    .dataframe tbody tr th:only-of-type {\n",
       "        vertical-align: middle;\n",
       "    }\n",
       "\n",
       "    .dataframe tbody tr th {\n",
       "        vertical-align: top;\n",
       "    }\n",
       "\n",
       "    .dataframe thead th {\n",
       "        text-align: right;\n",
       "    }\n",
       "</style>\n",
       "<table border=\"1\" class=\"dataframe\">\n",
       "  <thead>\n",
       "    <tr style=\"text-align: right;\">\n",
       "      <th></th>\n",
       "      <th>hypothesis</th>\n",
       "      <th>test</th>\n",
       "      <th>10pct</th>\n",
       "      <th>5pct</th>\n",
       "      <th>1pct</th>\n",
       "    </tr>\n",
       "  </thead>\n",
       "  <tbody>\n",
       "    <tr>\n",
       "      <th>0</th>\n",
       "      <td>r = 0</td>\n",
       "      <td>90.319188</td>\n",
       "      <td>57.7954</td>\n",
       "      <td>61.0404</td>\n",
       "      <td>67.6415</td>\n",
       "    </tr>\n",
       "    <tr>\n",
       "      <th>1</th>\n",
       "      <td>r &lt;= 1</td>\n",
       "      <td>64.716939</td>\n",
       "      <td>51.8528</td>\n",
       "      <td>54.9629</td>\n",
       "      <td>61.3449</td>\n",
       "    </tr>\n",
       "    <tr>\n",
       "      <th>2</th>\n",
       "      <td>r &lt;= 2</td>\n",
       "      <td>54.155352</td>\n",
       "      <td>45.8930</td>\n",
       "      <td>48.8795</td>\n",
       "      <td>55.0335</td>\n",
       "    </tr>\n",
       "    <tr>\n",
       "      <th>3</th>\n",
       "      <td>r &lt;= 3</td>\n",
       "      <td>32.459247</td>\n",
       "      <td>39.9085</td>\n",
       "      <td>42.7679</td>\n",
       "      <td>48.6606</td>\n",
       "    </tr>\n",
       "    <tr>\n",
       "      <th>4</th>\n",
       "      <td>r &lt;= 4</td>\n",
       "      <td>28.815666</td>\n",
       "      <td>33.9271</td>\n",
       "      <td>36.6301</td>\n",
       "      <td>42.2333</td>\n",
       "    </tr>\n",
       "    <tr>\n",
       "      <th>5</th>\n",
       "      <td>r &lt;= 5</td>\n",
       "      <td>24.588676</td>\n",
       "      <td>27.9160</td>\n",
       "      <td>30.4428</td>\n",
       "      <td>35.7359</td>\n",
       "    </tr>\n",
       "    <tr>\n",
       "      <th>6</th>\n",
       "      <td>r &lt;= 6</td>\n",
       "      <td>14.774660</td>\n",
       "      <td>21.8370</td>\n",
       "      <td>24.1592</td>\n",
       "      <td>29.0609</td>\n",
       "    </tr>\n",
       "    <tr>\n",
       "      <th>7</th>\n",
       "      <td>r &lt;= 7</td>\n",
       "      <td>10.917143</td>\n",
       "      <td>15.7175</td>\n",
       "      <td>17.7961</td>\n",
       "      <td>22.2519</td>\n",
       "    </tr>\n",
       "    <tr>\n",
       "      <th>8</th>\n",
       "      <td>r &lt;= 8</td>\n",
       "      <td>5.045418</td>\n",
       "      <td>9.4748</td>\n",
       "      <td>11.2246</td>\n",
       "      <td>15.0923</td>\n",
       "    </tr>\n",
       "    <tr>\n",
       "      <th>9</th>\n",
       "      <td>r &lt;= 9</td>\n",
       "      <td>0.636128</td>\n",
       "      <td>2.9762</td>\n",
       "      <td>4.1296</td>\n",
       "      <td>6.9406</td>\n",
       "    </tr>\n",
       "  </tbody>\n",
       "</table>\n",
       "</div>"
      ],
      "text/plain": [
       "  hypothesis       test    10pct     5pct     1pct\n",
       "0      r = 0  90.319188  57.7954  61.0404  67.6415\n",
       "1     r <= 1  64.716939  51.8528  54.9629  61.3449\n",
       "2     r <= 2  54.155352  45.8930  48.8795  55.0335\n",
       "3     r <= 3  32.459247  39.9085  42.7679  48.6606\n",
       "4     r <= 4  28.815666  33.9271  36.6301  42.2333\n",
       "5     r <= 5  24.588676  27.9160  30.4428  35.7359\n",
       "6     r <= 6  14.774660  21.8370  24.1592  29.0609\n",
       "7     r <= 7  10.917143  15.7175  17.7961  22.2519\n",
       "8     r <= 8   5.045418   9.4748  11.2246  15.0923\n",
       "9     r <= 9   0.636128   2.9762   4.1296   6.9406"
      ]
     },
     "execution_count": 76,
     "metadata": {},
     "output_type": "execute_result"
    }
   ],
   "source": [
    "johansen_summary(coint_johansen(data.iloc[:, :10], det_order=-1, k_ar_diff=2))"
   ]
  },
  {
   "cell_type": "markdown",
   "id": "8010453f-9b5c-4756-b9c4-0f9b2b0ce9d3",
   "metadata": {},
   "source": [
    "### 15.5.3 Cointegration Analysis of Daily Stock Prices"
   ]
  },
  {
   "cell_type": "code",
   "execution_count": 78,
   "id": "d2fe1c98-fa9d-4a65-92bd-7e49ee12d8c7",
   "metadata": {
    "tags": []
   },
   "outputs": [
    {
     "data": {
      "text/html": [
       "<div>\n",
       "<style scoped>\n",
       "    .dataframe tbody tr th:only-of-type {\n",
       "        vertical-align: middle;\n",
       "    }\n",
       "\n",
       "    .dataframe tbody tr th {\n",
       "        vertical-align: top;\n",
       "    }\n",
       "\n",
       "    .dataframe thead th {\n",
       "        text-align: right;\n",
       "    }\n",
       "</style>\n",
       "<table border=\"1\" class=\"dataframe\">\n",
       "  <thead>\n",
       "    <tr style=\"text-align: right;\">\n",
       "      <th></th>\n",
       "      <th>KO.Adjusted</th>\n",
       "      <th>PEP.Adjusted</th>\n",
       "    </tr>\n",
       "  </thead>\n",
       "  <tbody>\n",
       "    <tr>\n",
       "      <th>0</th>\n",
       "      <td>20.52</td>\n",
       "      <td>53.31</td>\n",
       "    </tr>\n",
       "    <tr>\n",
       "      <th>1</th>\n",
       "      <td>20.53</td>\n",
       "      <td>53.67</td>\n",
       "    </tr>\n",
       "    <tr>\n",
       "      <th>2</th>\n",
       "      <td>20.39</td>\n",
       "      <td>53.50</td>\n",
       "    </tr>\n",
       "    <tr>\n",
       "      <th>3</th>\n",
       "      <td>20.52</td>\n",
       "      <td>53.62</td>\n",
       "    </tr>\n",
       "    <tr>\n",
       "      <th>4</th>\n",
       "      <td>20.54</td>\n",
       "      <td>53.84</td>\n",
       "    </tr>\n",
       "  </tbody>\n",
       "</table>\n",
       "</div>"
      ],
      "text/plain": [
       "   KO.Adjusted  PEP.Adjusted\n",
       "0        20.52         53.31\n",
       "1        20.53         53.67\n",
       "2        20.39         53.50\n",
       "3        20.52         53.62\n",
       "4        20.54         53.84"
      ]
     },
     "execution_count": 78,
     "metadata": {},
     "output_type": "execute_result"
    }
   ],
   "source": [
    "data = pd.read_csv('../data/CokePepsi.csv', sep='\\t')\n",
    "data.head()"
   ]
  },
  {
   "cell_type": "markdown",
   "id": "334d59cf-0042-4f8a-aa4f-149760292bb1",
   "metadata": {},
   "source": [
    "#### Problem 4\n",
    "\n",
    "The price time series appear cointegrated based on the plots:"
   ]
  },
  {
   "cell_type": "code",
   "execution_count": 84,
   "id": "89ddb254-72ef-4972-8c63-d9a7168ad9b7",
   "metadata": {
    "tags": []
   },
   "outputs": [
    {
     "data": {
      "image/png": "[encoded data removed]",
      "text/plain": [
       "<Figure size 800x800 with 2 Axes>"
      ]
     },
     "metadata": {},
     "output_type": "display_data"
    }
   ],
   "source": [
    "fig, axs = plt.subplots(2, 1, figsize=(8, 8))\n",
    "for i, col in enumerate(data.columns):\n",
    "    axs[i].plot(data[col]);\n",
    "    axs[i].set_title(col);"
   ]
  },
  {
   "cell_type": "markdown",
   "id": "0225c6c9-0e30-4d47-80a8-0f6543c2e3ce",
   "metadata": {
    "tags": []
   },
   "source": [
    "#### Problem 5\n",
    "\n",
    "The price difference appears to be mean-reverting to a level around 32-33, however it is difficult to conclude from the plot if it is stationary:"
   ]
  },
  {
   "cell_type": "code",
   "execution_count": 87,
   "id": "ee24c7ad-41fe-49aa-8ac3-9c04917bba08",
   "metadata": {
    "tags": []
   },
   "outputs": [
    {
     "data": {
      "image/png": "[encoded data removed]",
      "text/plain": [
       "<Figure size 640x480 with 1 Axes>"
      ]
     },
     "metadata": {},
     "output_type": "display_data"
    }
   ],
   "source": [
    "fig, ax = plt.subplots()\n",
    "ax.plot(data['PEP.Adjusted'] - data['KO.Adjusted']);"
   ]
  },
  {
   "cell_type": "markdown",
   "id": "f926e891-a08d-40ef-8491-a4fadddf48e2",
   "metadata": {
    "tags": []
   },
   "source": [
    "#### Problem 6"
   ]
  },
  {
   "cell_type": "markdown",
   "id": "e8963e5c-3e28-432c-baa6-569e7bba34dd",
   "metadata": {},
   "source": [
    "Based on the results of the Johansen test, the two time series are not cointegrated:"
   ]
  },
  {
   "cell_type": "code",
   "execution_count": 89,
   "id": "daaba4e7-b454-4be3-a21f-3fda6a2becb1",
   "metadata": {
    "tags": []
   },
   "outputs": [
    {
     "data": {
      "text/html": [
       "<div>\n",
       "<style scoped>\n",
       "    .dataframe tbody tr th:only-of-type {\n",
       "        vertical-align: middle;\n",
       "    }\n",
       "\n",
       "    .dataframe tbody tr th {\n",
       "        vertical-align: top;\n",
       "    }\n",
       "\n",
       "    .dataframe thead th {\n",
       "        text-align: right;\n",
       "    }\n",
       "</style>\n",
       "<table border=\"1\" class=\"dataframe\">\n",
       "  <thead>\n",
       "    <tr style=\"text-align: right;\">\n",
       "      <th></th>\n",
       "      <th>hypothesis</th>\n",
       "      <th>test</th>\n",
       "      <th>10pct</th>\n",
       "      <th>5pct</th>\n",
       "      <th>1pct</th>\n",
       "    </tr>\n",
       "  </thead>\n",
       "  <tbody>\n",
       "    <tr>\n",
       "      <th>0</th>\n",
       "      <td>r = 0</td>\n",
       "      <td>2.669295</td>\n",
       "      <td>9.4748</td>\n",
       "      <td>11.2246</td>\n",
       "      <td>15.0923</td>\n",
       "    </tr>\n",
       "    <tr>\n",
       "      <th>1</th>\n",
       "      <td>r &lt;= 1</td>\n",
       "      <td>1.206100</td>\n",
       "      <td>2.9762</td>\n",
       "      <td>4.1296</td>\n",
       "      <td>6.9406</td>\n",
       "    </tr>\n",
       "  </tbody>\n",
       "</table>\n",
       "</div>"
      ],
      "text/plain": [
       "  hypothesis      test   10pct     5pct     1pct\n",
       "0      r = 0  2.669295  9.4748  11.2246  15.0923\n",
       "1     r <= 1  1.206100  2.9762   4.1296   6.9406"
      ]
     },
     "execution_count": 89,
     "metadata": {},
     "output_type": "execute_result"
    }
   ],
   "source": [
    "johansen_summary(coint_johansen(data, det_order=-1, k_ar_diff=2))"
   ]
  },
  {
   "cell_type": "markdown",
   "id": "48ec198a-85f5-469b-a650-96e54f9f0b5a",
   "metadata": {},
   "source": [
    "#### Problem 7"
   ]
  },
  {
   "cell_type": "code",
   "execution_count": 100,
   "id": "424b0217-3adb-49a0-bee7-1ae72a72838c",
   "metadata": {
    "tags": []
   },
   "outputs": [
    {
     "data": {
      "text/html": [
       "<div>\n",
       "<style scoped>\n",
       "    .dataframe tbody tr th:only-of-type {\n",
       "        vertical-align: middle;\n",
       "    }\n",
       "\n",
       "    .dataframe tbody tr th {\n",
       "        vertical-align: top;\n",
       "    }\n",
       "\n",
       "    .dataframe thead th {\n",
       "        text-align: right;\n",
       "    }\n",
       "</style>\n",
       "<table border=\"1\" class=\"dataframe\">\n",
       "  <thead>\n",
       "    <tr style=\"text-align: right;\">\n",
       "      <th></th>\n",
       "      <th>Date</th>\n",
       "      <th>GM_Volume</th>\n",
       "      <th>GM_AC</th>\n",
       "      <th>F_Volume</th>\n",
       "      <th>F_AC</th>\n",
       "      <th>UTX_Volume</th>\n",
       "      <th>UTX_AC</th>\n",
       "      <th>CAT_Volume</th>\n",
       "      <th>CAT_AC</th>\n",
       "      <th>MRK_Volume</th>\n",
       "      <th>...</th>\n",
       "      <th>SP_Volume</th>\n",
       "      <th>1 year Treasury Constant Maturity Rate</th>\n",
       "      <th>3-Year Treasury Constant Maturity Rate</th>\n",
       "      <th>10 year Treasury Constant Maturity Rate</th>\n",
       "      <th>30 year Treasury Constant Maturity Rate</th>\n",
       "      <th>Aaa Bond Yield</th>\n",
       "      <th>Baa Bond Yield</th>\n",
       "      <th>$/Euro</th>\n",
       "      <th>Yen/$</th>\n",
       "      <th>Brazil Real/$</th>\n",
       "    </tr>\n",
       "  </thead>\n",
       "  <tbody>\n",
       "    <tr>\n",
       "      <th>0</th>\n",
       "      <td>2-Jan-87</td>\n",
       "      <td>922200</td>\n",
       "      <td>11.45</td>\n",
       "      <td>2540100</td>\n",
       "      <td>2.31</td>\n",
       "      <td>1130400</td>\n",
       "      <td>3.66</td>\n",
       "      <td>1218400</td>\n",
       "      <td>3.38</td>\n",
       "      <td>14454000</td>\n",
       "      <td>...</td>\n",
       "      <td>91880000</td>\n",
       "      <td>5.86</td>\n",
       "      <td>6.48</td>\n",
       "      <td>7.18</td>\n",
       "      <td>7.44</td>\n",
       "      <td>8.49</td>\n",
       "      <td>9.97</td>\n",
       "      <td>NaN</td>\n",
       "      <td>158.25</td>\n",
       "      <td>NaN</td>\n",
       "    </tr>\n",
       "    <tr>\n",
       "      <th>1</th>\n",
       "      <td>5-Jan-87</td>\n",
       "      <td>2100000</td>\n",
       "      <td>11.73</td>\n",
       "      <td>8670000</td>\n",
       "      <td>2.40</td>\n",
       "      <td>3032800</td>\n",
       "      <td>3.70</td>\n",
       "      <td>1752000</td>\n",
       "      <td>3.48</td>\n",
       "      <td>11538000</td>\n",
       "      <td>...</td>\n",
       "      <td>181900000</td>\n",
       "      <td>5.85</td>\n",
       "      <td>6.41</td>\n",
       "      <td>7.08</td>\n",
       "      <td>7.35</td>\n",
       "      <td>8.44</td>\n",
       "      <td>9.90</td>\n",
       "      <td>NaN</td>\n",
       "      <td>159.40</td>\n",
       "      <td>NaN</td>\n",
       "    </tr>\n",
       "    <tr>\n",
       "      <th>2</th>\n",
       "      <td>6-Jan-87</td>\n",
       "      <td>2720000</td>\n",
       "      <td>11.77</td>\n",
       "      <td>6992000</td>\n",
       "      <td>2.43</td>\n",
       "      <td>6614400</td>\n",
       "      <td>3.74</td>\n",
       "      <td>1206400</td>\n",
       "      <td>3.48</td>\n",
       "      <td>14279400</td>\n",
       "      <td>...</td>\n",
       "      <td>189300000</td>\n",
       "      <td>5.85</td>\n",
       "      <td>6.42</td>\n",
       "      <td>7.08</td>\n",
       "      <td>7.36</td>\n",
       "      <td>8.41</td>\n",
       "      <td>9.86</td>\n",
       "      <td>NaN</td>\n",
       "      <td>158.78</td>\n",
       "      <td>NaN</td>\n",
       "    </tr>\n",
       "    <tr>\n",
       "      <th>3</th>\n",
       "      <td>7-Jan-87</td>\n",
       "      <td>2000400</td>\n",
       "      <td>11.83</td>\n",
       "      <td>7621200</td>\n",
       "      <td>2.53</td>\n",
       "      <td>4233600</td>\n",
       "      <td>3.78</td>\n",
       "      <td>2188000</td>\n",
       "      <td>3.45</td>\n",
       "      <td>13003200</td>\n",
       "      <td>...</td>\n",
       "      <td>190900000</td>\n",
       "      <td>5.78</td>\n",
       "      <td>6.37</td>\n",
       "      <td>7.05</td>\n",
       "      <td>7.33</td>\n",
       "      <td>8.40</td>\n",
       "      <td>9.82</td>\n",
       "      <td>NaN</td>\n",
       "      <td>158.05</td>\n",
       "      <td>NaN</td>\n",
       "    </tr>\n",
       "    <tr>\n",
       "      <th>4</th>\n",
       "      <td>8-Jan-87</td>\n",
       "      <td>2460000</td>\n",
       "      <td>11.66</td>\n",
       "      <td>5807500</td>\n",
       "      <td>2.51</td>\n",
       "      <td>3816800</td>\n",
       "      <td>3.82</td>\n",
       "      <td>2195200</td>\n",
       "      <td>3.44</td>\n",
       "      <td>16320600</td>\n",
       "      <td>...</td>\n",
       "      <td>194500000</td>\n",
       "      <td>5.78</td>\n",
       "      <td>6.36</td>\n",
       "      <td>7.04</td>\n",
       "      <td>7.31</td>\n",
       "      <td>8.37</td>\n",
       "      <td>9.76</td>\n",
       "      <td>NaN</td>\n",
       "      <td>158.23</td>\n",
       "      <td>NaN</td>\n",
       "    </tr>\n",
       "  </tbody>\n",
       "</table>\n",
       "<p>5 rows × 32 columns</p>\n",
       "</div>"
      ],
      "text/plain": [
       "       Date  GM_Volume  GM_AC  F_Volume  F_AC  UTX_Volume  UTX_AC  CAT_Volume   \n",
       "0  2-Jan-87     922200  11.45   2540100  2.31     1130400    3.66     1218400  \\\n",
       "1  5-Jan-87    2100000  11.73   8670000  2.40     3032800    3.70     1752000   \n",
       "2  6-Jan-87    2720000  11.77   6992000  2.43     6614400    3.74     1206400   \n",
       "3  7-Jan-87    2000400  11.83   7621200  2.53     4233600    3.78     2188000   \n",
       "4  8-Jan-87    2460000  11.66   5807500  2.51     3816800    3.82     2195200   \n",
       "\n",
       "   CAT_AC  MRK_Volume  ...  SP_Volume  1 year Treasury Constant Maturity Rate   \n",
       "0    3.38    14454000  ...   91880000                                    5.86  \\\n",
       "1    3.48    11538000  ...  181900000                                    5.85   \n",
       "2    3.48    14279400  ...  189300000                                    5.85   \n",
       "3    3.45    13003200  ...  190900000                                    5.78   \n",
       "4    3.44    16320600  ...  194500000                                    5.78   \n",
       "\n",
       "   3-Year Treasury Constant Maturity Rate   \n",
       "0                                    6.48  \\\n",
       "1                                    6.41   \n",
       "2                                    6.42   \n",
       "3                                    6.37   \n",
       "4                                    6.36   \n",
       "\n",
       "   10 year Treasury Constant Maturity Rate   \n",
       "0                                     7.18  \\\n",
       "1                                     7.08   \n",
       "2                                     7.08   \n",
       "3                                     7.05   \n",
       "4                                     7.04   \n",
       "\n",
       "   30 year Treasury Constant Maturity Rate  Aaa Bond Yield  Baa Bond Yield   \n",
       "0                                     7.44            8.49            9.97  \\\n",
       "1                                     7.35            8.44            9.90   \n",
       "2                                     7.36            8.41            9.86   \n",
       "3                                     7.33            8.40            9.82   \n",
       "4                                     7.31            8.37            9.76   \n",
       "\n",
       "   $/Euro   Yen/$  Brazil Real/$  \n",
       "0     NaN  158.25            NaN  \n",
       "1     NaN  159.40            NaN  \n",
       "2     NaN  158.78            NaN  \n",
       "3     NaN  158.05            NaN  \n",
       "4     NaN  158.23            NaN  \n",
       "\n",
       "[5 rows x 32 columns]"
      ]
     },
     "execution_count": 100,
     "metadata": {},
     "output_type": "execute_result"
    }
   ],
   "source": [
    "data = pd.read_csv('../data/Stock_FX_Bond.csv')\n",
    "data.head()"
   ]
  },
  {
   "cell_type": "markdown",
   "id": "4f8c301f-11a8-4afb-9173-6438b01d2832",
   "metadata": {},
   "source": [
    "At 1% level, the Johansen test does not identify cointegrated vectors:"
   ]
  },
  {
   "cell_type": "code",
   "execution_count": 103,
   "id": "22c4536f-5bb5-4407-9ea4-468dcc75b9ae",
   "metadata": {
    "tags": []
   },
   "outputs": [
    {
     "data": {
      "text/html": [
       "<div>\n",
       "<style scoped>\n",
       "    .dataframe tbody tr th:only-of-type {\n",
       "        vertical-align: middle;\n",
       "    }\n",
       "\n",
       "    .dataframe tbody tr th {\n",
       "        vertical-align: top;\n",
       "    }\n",
       "\n",
       "    .dataframe thead th {\n",
       "        text-align: right;\n",
       "    }\n",
       "</style>\n",
       "<table border=\"1\" class=\"dataframe\">\n",
       "  <thead>\n",
       "    <tr style=\"text-align: right;\">\n",
       "      <th></th>\n",
       "      <th>hypothesis</th>\n",
       "      <th>test</th>\n",
       "      <th>10pct</th>\n",
       "      <th>5pct</th>\n",
       "      <th>1pct</th>\n",
       "    </tr>\n",
       "  </thead>\n",
       "  <tbody>\n",
       "    <tr>\n",
       "      <th>0</th>\n",
       "      <td>r = 0</td>\n",
       "      <td>67.357528</td>\n",
       "      <td>57.7954</td>\n",
       "      <td>61.0404</td>\n",
       "      <td>67.6415</td>\n",
       "    </tr>\n",
       "    <tr>\n",
       "      <th>1</th>\n",
       "      <td>r &lt;= 1</td>\n",
       "      <td>44.001302</td>\n",
       "      <td>51.8528</td>\n",
       "      <td>54.9629</td>\n",
       "      <td>61.3449</td>\n",
       "    </tr>\n",
       "    <tr>\n",
       "      <th>2</th>\n",
       "      <td>r &lt;= 2</td>\n",
       "      <td>39.286669</td>\n",
       "      <td>45.8930</td>\n",
       "      <td>48.8795</td>\n",
       "      <td>55.0335</td>\n",
       "    </tr>\n",
       "    <tr>\n",
       "      <th>3</th>\n",
       "      <td>r &lt;= 3</td>\n",
       "      <td>34.652217</td>\n",
       "      <td>39.9085</td>\n",
       "      <td>42.7679</td>\n",
       "      <td>48.6606</td>\n",
       "    </tr>\n",
       "    <tr>\n",
       "      <th>4</th>\n",
       "      <td>r &lt;= 4</td>\n",
       "      <td>30.544753</td>\n",
       "      <td>33.9271</td>\n",
       "      <td>36.6301</td>\n",
       "      <td>42.2333</td>\n",
       "    </tr>\n",
       "    <tr>\n",
       "      <th>5</th>\n",
       "      <td>r &lt;= 5</td>\n",
       "      <td>25.928491</td>\n",
       "      <td>27.9160</td>\n",
       "      <td>30.4428</td>\n",
       "      <td>35.7359</td>\n",
       "    </tr>\n",
       "    <tr>\n",
       "      <th>6</th>\n",
       "      <td>r &lt;= 6</td>\n",
       "      <td>16.958686</td>\n",
       "      <td>21.8370</td>\n",
       "      <td>24.1592</td>\n",
       "      <td>29.0609</td>\n",
       "    </tr>\n",
       "    <tr>\n",
       "      <th>7</th>\n",
       "      <td>r &lt;= 7</td>\n",
       "      <td>13.945114</td>\n",
       "      <td>15.7175</td>\n",
       "      <td>17.7961</td>\n",
       "      <td>22.2519</td>\n",
       "    </tr>\n",
       "    <tr>\n",
       "      <th>8</th>\n",
       "      <td>r &lt;= 8</td>\n",
       "      <td>7.107390</td>\n",
       "      <td>9.4748</td>\n",
       "      <td>11.2246</td>\n",
       "      <td>15.0923</td>\n",
       "    </tr>\n",
       "    <tr>\n",
       "      <th>9</th>\n",
       "      <td>r &lt;= 9</td>\n",
       "      <td>1.141663</td>\n",
       "      <td>2.9762</td>\n",
       "      <td>4.1296</td>\n",
       "      <td>6.9406</td>\n",
       "    </tr>\n",
       "  </tbody>\n",
       "</table>\n",
       "</div>"
      ],
      "text/plain": [
       "  hypothesis       test    10pct     5pct     1pct\n",
       "0      r = 0  67.357528  57.7954  61.0404  67.6415\n",
       "1     r <= 1  44.001302  51.8528  54.9629  61.3449\n",
       "2     r <= 2  39.286669  45.8930  48.8795  55.0335\n",
       "3     r <= 3  34.652217  39.9085  42.7679  48.6606\n",
       "4     r <= 4  30.544753  33.9271  36.6301  42.2333\n",
       "5     r <= 5  25.928491  27.9160  30.4428  35.7359\n",
       "6     r <= 6  16.958686  21.8370  24.1592  29.0609\n",
       "7     r <= 7  13.945114  15.7175  17.7961  22.2519\n",
       "8     r <= 8   7.107390   9.4748  11.2246  15.0923\n",
       "9     r <= 9   1.141663   2.9762   4.1296   6.9406"
      ]
     },
     "execution_count": 103,
     "metadata": {},
     "output_type": "execute_result"
    }
   ],
   "source": [
    "johansen_summary(coint_johansen(data.iloc[:, 2:21:2], det_order=-1, k_ar_diff=2))"
   ]
  },
  {
   "cell_type": "markdown",
   "id": "e0e5022f-852e-4882-8f77-1a7bad79f8ec",
   "metadata": {},
   "source": [
    "**NB** The R implementation reports 2 vectors in this case. The difference needs to be investigated."
   ]
  },
  {
   "cell_type": "markdown",
   "id": "68f34ed8-3752-400a-b2a0-83954cc47ede",
   "metadata": {
    "tags": []
   },
   "source": [
    "#### Problem 8"
   ]
  },
  {
   "cell_type": "markdown",
   "id": "fbc3bd6e-ce27-4636-bb37-377a3603f433",
   "metadata": {},
   "source": [
    "Using 8 lags, the test still does not identify cointegrated vectors:"
   ]
  },
  {
   "cell_type": "code",
   "execution_count": 104,
   "id": "49ed6887-f1cf-4c65-85ff-4594975c9944",
   "metadata": {
    "tags": []
   },
   "outputs": [
    {
     "data": {
      "text/html": [
       "<div>\n",
       "<style scoped>\n",
       "    .dataframe tbody tr th:only-of-type {\n",
       "        vertical-align: middle;\n",
       "    }\n",
       "\n",
       "    .dataframe tbody tr th {\n",
       "        vertical-align: top;\n",
       "    }\n",
       "\n",
       "    .dataframe thead th {\n",
       "        text-align: right;\n",
       "    }\n",
       "</style>\n",
       "<table border=\"1\" class=\"dataframe\">\n",
       "  <thead>\n",
       "    <tr style=\"text-align: right;\">\n",
       "      <th></th>\n",
       "      <th>hypothesis</th>\n",
       "      <th>test</th>\n",
       "      <th>10pct</th>\n",
       "      <th>5pct</th>\n",
       "      <th>1pct</th>\n",
       "    </tr>\n",
       "  </thead>\n",
       "  <tbody>\n",
       "    <tr>\n",
       "      <th>0</th>\n",
       "      <td>r = 0</td>\n",
       "      <td>64.301539</td>\n",
       "      <td>57.7954</td>\n",
       "      <td>61.0404</td>\n",
       "      <td>67.6415</td>\n",
       "    </tr>\n",
       "    <tr>\n",
       "      <th>1</th>\n",
       "      <td>r &lt;= 1</td>\n",
       "      <td>46.759203</td>\n",
       "      <td>51.8528</td>\n",
       "      <td>54.9629</td>\n",
       "      <td>61.3449</td>\n",
       "    </tr>\n",
       "    <tr>\n",
       "      <th>2</th>\n",
       "      <td>r &lt;= 2</td>\n",
       "      <td>41.292829</td>\n",
       "      <td>45.8930</td>\n",
       "      <td>48.8795</td>\n",
       "      <td>55.0335</td>\n",
       "    </tr>\n",
       "    <tr>\n",
       "      <th>3</th>\n",
       "      <td>r &lt;= 3</td>\n",
       "      <td>32.328214</td>\n",
       "      <td>39.9085</td>\n",
       "      <td>42.7679</td>\n",
       "      <td>48.6606</td>\n",
       "    </tr>\n",
       "    <tr>\n",
       "      <th>4</th>\n",
       "      <td>r &lt;= 4</td>\n",
       "      <td>30.176211</td>\n",
       "      <td>33.9271</td>\n",
       "      <td>36.6301</td>\n",
       "      <td>42.2333</td>\n",
       "    </tr>\n",
       "    <tr>\n",
       "      <th>5</th>\n",
       "      <td>r &lt;= 5</td>\n",
       "      <td>22.193641</td>\n",
       "      <td>27.9160</td>\n",
       "      <td>30.4428</td>\n",
       "      <td>35.7359</td>\n",
       "    </tr>\n",
       "    <tr>\n",
       "      <th>6</th>\n",
       "      <td>r &lt;= 6</td>\n",
       "      <td>19.435965</td>\n",
       "      <td>21.8370</td>\n",
       "      <td>24.1592</td>\n",
       "      <td>29.0609</td>\n",
       "    </tr>\n",
       "    <tr>\n",
       "      <th>7</th>\n",
       "      <td>r &lt;= 7</td>\n",
       "      <td>11.874152</td>\n",
       "      <td>15.7175</td>\n",
       "      <td>17.7961</td>\n",
       "      <td>22.2519</td>\n",
       "    </tr>\n",
       "    <tr>\n",
       "      <th>8</th>\n",
       "      <td>r &lt;= 8</td>\n",
       "      <td>7.149947</td>\n",
       "      <td>9.4748</td>\n",
       "      <td>11.2246</td>\n",
       "      <td>15.0923</td>\n",
       "    </tr>\n",
       "    <tr>\n",
       "      <th>9</th>\n",
       "      <td>r &lt;= 9</td>\n",
       "      <td>1.477186</td>\n",
       "      <td>2.9762</td>\n",
       "      <td>4.1296</td>\n",
       "      <td>6.9406</td>\n",
       "    </tr>\n",
       "  </tbody>\n",
       "</table>\n",
       "</div>"
      ],
      "text/plain": [
       "  hypothesis       test    10pct     5pct     1pct\n",
       "0      r = 0  64.301539  57.7954  61.0404  67.6415\n",
       "1     r <= 1  46.759203  51.8528  54.9629  61.3449\n",
       "2     r <= 2  41.292829  45.8930  48.8795  55.0335\n",
       "3     r <= 3  32.328214  39.9085  42.7679  48.6606\n",
       "4     r <= 4  30.176211  33.9271  36.6301  42.2333\n",
       "5     r <= 5  22.193641  27.9160  30.4428  35.7359\n",
       "6     r <= 6  19.435965  21.8370  24.1592  29.0609\n",
       "7     r <= 7  11.874152  15.7175  17.7961  22.2519\n",
       "8     r <= 8   7.149947   9.4748  11.2246  15.0923\n",
       "9     r <= 9   1.477186   2.9762   4.1296   6.9406"
      ]
     },
     "execution_count": 104,
     "metadata": {},
     "output_type": "execute_result"
    }
   ],
   "source": [
    "johansen_summary(coint_johansen(data.iloc[:, 2:21:2], det_order=-1, k_ar_diff=8))"
   ]
  },
  {
   "cell_type": "markdown",
   "id": "e757564a-c838-46ba-9fc8-4500be672ac4",
   "metadata": {},
   "source": [
    "**NB** The R implementation reports 1 vector in this case. The difference needs to be investigated."
   ]
  },
  {
   "cell_type": "markdown",
   "id": "83677e6e-3b0e-4fb5-9511-839a3d5b8fcc",
   "metadata": {},
   "source": [
    "### 15.5.4 Simulation"
   ]
  },
  {
   "cell_type": "code",
   "execution_count": 171,
   "id": "c69e47df-e5dd-4c53-93cb-32aa762cc598",
   "metadata": {
    "tags": []
   },
   "outputs": [],
   "source": [
    "rng = np.random.default_rng(12345)"
   ]
  },
  {
   "cell_type": "code",
   "execution_count": 337,
   "id": "30987d61-ef63-4210-a0e6-f0ff24bc0cae",
   "metadata": {
    "tags": []
   },
   "outputs": [],
   "source": [
    "samples = 1_000_000\n",
    "days = 200\n",
    "mu = 1_030_000\n",
    "phi = 0.99\n",
    "sigma = 5000\n",
    "initial_position = 1_000_000\n",
    "investment = 50_000\n",
    "exit_threshold = 20_000"
   ]
  },
  {
   "cell_type": "code",
   "execution_count": 338,
   "id": "a1798924-53e4-4cd4-ac93-62d297220f5c",
   "metadata": {
    "tags": []
   },
   "outputs": [],
   "source": [
    "def price_via_convolve(eps):\n",
    "    sum_eps = convolve2d(eps, phi ** np.arange(days).reshape(1, -1))[:, :days]\n",
    "    deviation = sum_eps + (initial_position - mu) * phi ** (np.arange(days) + 1).reshape(1, -1)\n",
    "    deviation = deviation\n",
    "    return np.hstack([np.repeat(initial_position, samples).reshape(-1, 1), mu + deviation])"
   ]
  },
  {
   "cell_type": "code",
   "execution_count": 339,
   "id": "449c0276-2c38-4309-a50c-3f4b444eb24e",
   "metadata": {
    "tags": []
   },
   "outputs": [],
   "source": [
    "def price_via_iteration(eps):\n",
    "    p = np.zeros((samples, days + 1))\n",
    "    p[:, 0] = np.repeat(initial_position - mu, samples)\n",
    "    for i in range(days):\n",
    "        p[:, i + 1] = p[:, i] * phi + eps[:, i]\n",
    "    return p + mu"
   ]
  },
  {
   "cell_type": "code",
   "execution_count": 353,
   "id": "9a38ec22-ae8d-492f-9fc6-26ce564318cb",
   "metadata": {
    "tags": []
   },
   "outputs": [
    {
     "ename": "TypeError",
     "evalue": "normal() got an unexpected keyword argument 'random_state'",
     "output_type": "error",
     "traceback": [
      "\u001b[0;31m---------------------------------------------------------------------------\u001b[0m",
      "\u001b[0;31mTypeError\u001b[0m                                 Traceback (most recent call last)",
      "File \u001b[0;32m<timed exec>:1\u001b[0m\n",
      "File \u001b[0;32m_generator.pyx:1049\u001b[0m, in \u001b[0;36mnumpy.random._generator.Generator.normal\u001b[0;34m()\u001b[0m\n",
      "\u001b[0;31mTypeError\u001b[0m: normal() got an unexpected keyword argument 'random_state'"
     ]
    }
   ],
   "source": [
    "%time eps = rng.normal(size=(samples, days), scale=sigma)"
   ]
  },
  {
   "cell_type": "code",
   "execution_count": 341,
   "id": "abe2a483-39c7-4aa0-a939-1f0d70151814",
   "metadata": {
    "tags": []
   },
   "outputs": [],
   "source": [
    "# this is very slow, despite vectorisation\n",
    "# %time p1 = price_via_convolve(eps)"
   ]
  },
  {
   "cell_type": "code",
   "execution_count": 342,
   "id": "d545f486-76e6-41ae-96d1-fb5eb7eda662",
   "metadata": {
    "tags": []
   },
   "outputs": [
    {
     "name": "stdout",
     "output_type": "stream",
     "text": [
      "CPU times: user 5.04 s, sys: 187 ms, total: 5.23 s\n",
      "Wall time: 5.23 s\n"
     ]
    }
   ],
   "source": [
    "%time p = price_via_iteration(eps)"
   ]
  },
  {
   "cell_type": "code",
   "execution_count": 343,
   "id": "5cf17e6a-7900-47e0-9947-78f8917e0e74",
   "metadata": {
    "tags": []
   },
   "outputs": [],
   "source": [
    "# check if the calculations via iteration and vectorisation agree\n",
    "# p.allclose(p1, p)"
   ]
  },
  {
   "cell_type": "code",
   "execution_count": 344,
   "id": "97a1b57c-6262-42eb-bf85-a85c6ffcaa79",
   "metadata": {
    "tags": []
   },
   "outputs": [
    {
     "data": {
      "image/png": "[encoded data removed]",
      "text/plain": [
       "<Figure size 600x600 with 1 Axes>"
      ]
     },
     "metadata": {},
     "output_type": "display_data"
    }
   ],
   "source": [
    "selected_samples = rng.choice(p.shape[0], size=10)\n",
    "\n",
    "fig, axs = plt.subplots(1, 1, figsize=(6, 6))\n",
    "\n",
    "axs.plot(p[selected_samples].T);\n",
    "axs.set_title('Position value evolution');\n",
    "axs.set_xlabel('Trading day');\n",
    "axs.set_ylabel('Position value');"
   ]
  },
  {
   "cell_type": "code",
   "execution_count": 345,
   "id": "c452abb6-d479-4952-bbc6-1dd46359cae2",
   "metadata": {
    "tags": []
   },
   "outputs": [],
   "source": [
    "def find_first_hit(condition, price):\n",
    "    any_hit = condition.any(axis=1)\n",
    "    hit_idx = np.argmax(condition, axis=1)\n",
    "    price_at_hit = np.where(any_hit, price[np.arange(price.shape[0]), hit_idx], np.nan)\n",
    "    hit_idx_adj = np.where(any_hit, hit_idx, np.nan)\n",
    "    return any_hit, hit_idx_adj, price_at_hit"
   ]
  },
  {
   "cell_type": "code",
   "execution_count": 346,
   "id": "674559b9-a036-450c-bb27-7519896aab38",
   "metadata": {
    "tags": []
   },
   "outputs": [],
   "source": [
    "early_loss, early_loss_idx, early_loss_price = find_first_hit(p < initial_position - investment, p)\n",
    "early_gain, early_gain_idx, early_gain_price = find_first_hit(p >= initial_position + exit_threshold, p)"
   ]
  },
  {
   "cell_type": "code",
   "execution_count": 347,
   "id": "79a90b87-eb2c-4db2-9eb7-69ce5c7819f6",
   "metadata": {
    "tags": []
   },
   "outputs": [],
   "source": [
    "sell_price = np.where(\n",
    "    early_loss & ((~early_gain) | (early_loss_idx < early_gain_idx)),\n",
    "    early_loss_price,\n",
    "    np.where(early_gain, early_gain_price, p[:, -1])\n",
    ")\n",
    "sell_day = np.where(\n",
    "    early_loss & ((~early_gain) | (early_loss_idx < early_gain_idx)),\n",
    "    early_loss_idx,\n",
    "    np.where(early_gain, early_gain_idx, days)\n",
    ")"
   ]
  },
  {
   "cell_type": "markdown",
   "id": "d435ff26-7cd3-4171-b868-2fc72d6d3fd4",
   "metadata": {},
   "source": [
    "Probability of reaching the end of the simulation period with the position unliquidated:"
   ]
  },
  {
   "cell_type": "code",
   "execution_count": 348,
   "id": "af77f323-741a-44b8-b423-b6ef3653c91c",
   "metadata": {
    "tags": []
   },
   "outputs": [
    {
     "data": {
      "text/plain": [
       "0.013217"
      ]
     },
     "execution_count": 348,
     "metadata": {},
     "output_type": "execute_result"
    }
   ],
   "source": [
    "np.mean(sell_day == days)"
   ]
  },
  {
   "cell_type": "markdown",
   "id": "e5d30704-54ee-431c-bc0e-15656af1b49f",
   "metadata": {},
   "source": [
    "#### Problem 9\n",
    "\n",
    "The expected profit is:"
   ]
  },
  {
   "cell_type": "code",
   "execution_count": 349,
   "id": "0fafbded-14ce-445b-a33b-f1cbff1b805c",
   "metadata": {
    "tags": []
   },
   "outputs": [
    {
     "data": {
      "text/plain": [
       "15673.177894757857"
      ]
     },
     "execution_count": 349,
     "metadata": {},
     "output_type": "execute_result"
    }
   ],
   "source": [
    "np.mean(sell_price - initial_position)"
   ]
  },
  {
   "cell_type": "markdown",
   "id": "c61e679a-1c0f-4409-baae-dd0e13aa6bd0",
   "metadata": {},
   "source": [
    "#### Problem 10"
   ]
  },
  {
   "cell_type": "markdown",
   "id": "ab094f27-ac39-4ae2-98c4-4d91b9ca377b",
   "metadata": {
    "tags": []
   },
   "source": [
    "The probability of an early loss:"
   ]
  },
  {
   "cell_type": "code",
   "execution_count": 350,
   "id": "9eaf083c-75a2-4646-b5fd-7accb7ed6b05",
   "metadata": {
    "tags": []
   },
   "outputs": [
    {
     "data": {
      "text/plain": [
       "0.090503"
      ]
     },
     "execution_count": 350,
     "metadata": {},
     "output_type": "execute_result"
    }
   ],
   "source": [
    "p_early_loss = (early_loss & ((~early_gain) | (early_loss_idx < early_gain_idx))).sum() / samples\n",
    "p_early_loss"
   ]
  },
  {
   "cell_type": "markdown",
   "id": "60ada87d-c391-4602-baf9-994b605beb2e",
   "metadata": {
    "tags": []
   },
   "source": [
    "#### Problem 11\n",
    "\n",
    "The expected waiting time until liquidation:"
   ]
  },
  {
   "cell_type": "code",
   "execution_count": 351,
   "id": "f077e449-b557-4212-ba74-3e57d6caa41f",
   "metadata": {
    "tags": []
   },
   "outputs": [
    {
     "data": {
      "text/plain": [
       "43.6703"
      ]
     },
     "execution_count": 351,
     "metadata": {},
     "output_type": "execute_result"
    }
   ],
   "source": [
    "np.mean(sell_day)"
   ]
  },
  {
   "cell_type": "markdown",
   "id": "997e12c9-4412-4e97-a7e1-f993492edce6",
   "metadata": {
    "tags": []
   },
   "source": [
    "#### Problem 12"
   ]
  },
  {
   "cell_type": "markdown",
   "id": "08604927-55ae-44c3-bc02-b374f31043f9",
   "metadata": {},
   "source": [
    "The expected yearly return on the investment is:"
   ]
  },
  {
   "cell_type": "code",
   "execution_count": 352,
   "id": "525e673c-fa04-4ec4-9359-2565630723f0",
   "metadata": {
    "tags": []
   },
   "outputs": [
    {
     "data": {
      "text/plain": [
       "6.039086961634935"
      ]
     },
     "execution_count": 352,
     "metadata": {},
     "output_type": "execute_result"
    }
   ],
   "source": [
    "np.mean((sell_price - initial_position) / investment / (sell_day / 253))"
   ]
  }
 ],
 "metadata": {
  "kernelspec": {
   "display_name": "Python 3 (ipykernel)",
   "language": "python",
   "name": "python3"
  },
  "language_info": {
   "codemirror_mode": {
    "name": "ipython",
    "version": 3
   },
   "file_extension": ".py",
   "mimetype": "text/x-python",
   "name": "python",
   "nbconvert_exporter": "python",
   "pygments_lexer": "ipython3",
   "version": "3.11.2"
  }
 },
 "nbformat": 4,
 "nbformat_minor": 5
}
