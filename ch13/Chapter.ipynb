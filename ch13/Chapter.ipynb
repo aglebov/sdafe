{
 "cells": [
  {
   "cell_type": "code",
   "execution_count": 1,
   "id": "455d9abb-9738-4017-8507-69647eafb90a",
   "metadata": {
    "tags": []
   },
   "outputs": [],
   "source": [
    "import math\n",
    "\n",
    "import numpy as np\n",
    "import pandas as pd\n",
    "import matplotlib.pyplot as plt\n",
    "import scipy.stats as stats\n",
    "import seaborn as sns\n",
    "import statsmodels.api as sm\n",
    "\n",
    "from statsmodels.formula.api import ols\n",
    "from statsmodels.graphics.tsaplots import plot_accf_grid\n",
    "from statsmodels.tsa.stattools import ccf"
   ]
  },
  {
   "cell_type": "code",
   "execution_count": 2,
   "id": "69e848f6-98f8-4714-ab8c-ebd9022d65e2",
   "metadata": {
    "tags": []
   },
   "outputs": [],
   "source": [
    "import rpy2.robjects as robjects\n",
    "from rpy2.robjects.packages import importr\n",
    "from rpy2.robjects import pandas2ri, numpy2ri, default_converter\n",
    "\n",
    "np_cv_rules = default_converter + numpy2ri.converter"
   ]
  },
  {
   "cell_type": "code",
   "execution_count": 3,
   "id": "2379bf2a-5941-4c8e-87ec-c8a3da61bec6",
   "metadata": {
    "tags": []
   },
   "outputs": [],
   "source": [
    "MTS = importr('MTS')\n",
    "rstats = importr('stats')"
   ]
  },
  {
   "cell_type": "markdown",
   "id": "ab4f7cad-0a53-4586-8adb-2abda09bf68c",
   "metadata": {},
   "source": [
    "#### Example 13.5"
   ]
  },
  {
   "cell_type": "code",
   "execution_count": 4,
   "id": "2f858483-fcd3-4889-81f3-503e1f292e86",
   "metadata": {
    "tags": []
   },
   "outputs": [],
   "source": [
    "n = 200\n",
    "phi = 0.99"
   ]
  },
  {
   "cell_type": "code",
   "execution_count": 5,
   "id": "89503264-6278-44ba-bbdb-10a49f23c9a2",
   "metadata": {
    "tags": []
   },
   "outputs": [],
   "source": [
    "x = sm.tsa.ArmaProcess.from_coeffs([phi], []).generate_sample(n)\n",
    "y = sm.tsa.ArmaProcess.from_coeffs([phi], []).generate_sample(n)"
   ]
  },
  {
   "cell_type": "code",
   "execution_count": 6,
   "id": "1742004c-b4e8-47ef-92b6-9c73f5e6e268",
   "metadata": {
    "tags": []
   },
   "outputs": [
    {
     "data": {
      "image/png": "[encoded data removed]",
      "text/plain": [
       "<Figure size 640x480 with 1 Axes>"
      ]
     },
     "metadata": {},
     "output_type": "display_data"
    }
   ],
   "source": [
    "fig, ax = plt.subplots()\n",
    "ax.scatter(x, y);"
   ]
  },
  {
   "cell_type": "code",
   "execution_count": 7,
   "id": "dedaf231-c4df-4c8b-891d-dac82ba438c2",
   "metadata": {
    "tags": []
   },
   "outputs": [
    {
     "data": {
      "text/html": [
       "<table class=\"simpletable\">\n",
       "<caption>OLS Regression Results</caption>\n",
       "<tr>\n",
       "  <th>Dep. Variable:</th>            <td>y</td>        <th>  R-squared:         </th> <td>   0.731</td>\n",
       "</tr>\n",
       "<tr>\n",
       "  <th>Model:</th>                   <td>OLS</td>       <th>  Adj. R-squared:    </th> <td>   0.730</td>\n",
       "</tr>\n",
       "<tr>\n",
       "  <th>Method:</th>             <td>Least Squares</td>  <th>  F-statistic:       </th> <td>   538.8</td>\n",
       "</tr>\n",
       "<tr>\n",
       "  <th>Date:</th>             <td>Wed, 14 Jun 2023</td> <th>  Prob (F-statistic):</th> <td>2.11e-58</td>\n",
       "</tr>\n",
       "<tr>\n",
       "  <th>Time:</th>                 <td>16:43:50</td>     <th>  Log-Likelihood:    </th> <td> -511.26</td>\n",
       "</tr>\n",
       "<tr>\n",
       "  <th>No. Observations:</th>      <td>   200</td>      <th>  AIC:               </th> <td>   1027.</td>\n",
       "</tr>\n",
       "<tr>\n",
       "  <th>Df Residuals:</th>          <td>   198</td>      <th>  BIC:               </th> <td>   1033.</td>\n",
       "</tr>\n",
       "<tr>\n",
       "  <th>Df Model:</th>              <td>     1</td>      <th>                     </th>     <td> </td>   \n",
       "</tr>\n",
       "<tr>\n",
       "  <th>Covariance Type:</th>      <td>nonrobust</td>    <th>                     </th>     <td> </td>   \n",
       "</tr>\n",
       "</table>\n",
       "<table class=\"simpletable\">\n",
       "<tr>\n",
       "    <td></td>       <th>coef</th>     <th>std err</th>      <th>t</th>      <th>P>|t|</th>  <th>[0.025</th>    <th>0.975]</th>  \n",
       "</tr>\n",
       "<tr>\n",
       "  <th>const</th> <td>   -0.6021</td> <td>    0.230</td> <td>   -2.617</td> <td> 0.010</td> <td>   -1.056</td> <td>   -0.148</td>\n",
       "</tr>\n",
       "<tr>\n",
       "  <th>x1</th>    <td>    0.8698</td> <td>    0.037</td> <td>   23.212</td> <td> 0.000</td> <td>    0.796</td> <td>    0.944</td>\n",
       "</tr>\n",
       "</table>\n",
       "<table class=\"simpletable\">\n",
       "<tr>\n",
       "  <th>Omnibus:</th>       <td>13.426</td> <th>  Durbin-Watson:     </th> <td>   0.170</td>\n",
       "</tr>\n",
       "<tr>\n",
       "  <th>Prob(Omnibus):</th> <td> 0.001</td> <th>  Jarque-Bera (JB):  </th> <td>  13.558</td>\n",
       "</tr>\n",
       "<tr>\n",
       "  <th>Skew:</th>          <td> 0.593</td> <th>  Prob(JB):          </th> <td> 0.00114</td>\n",
       "</tr>\n",
       "<tr>\n",
       "  <th>Kurtosis:</th>      <td> 2.531</td> <th>  Cond. No.          </th> <td>    6.39</td>\n",
       "</tr>\n",
       "</table><br/><br/>Notes:<br/>[1] Standard Errors assume that the covariance matrix of the errors is correctly specified."
      ],
      "text/latex": [
       "\\begin{center}\n",
       "\\begin{tabular}{lclc}\n",
       "\\toprule\n",
       "\\textbf{Dep. Variable:}    &        y         & \\textbf{  R-squared:         } &     0.731   \\\\\n",
       "\\textbf{Model:}            &       OLS        & \\textbf{  Adj. R-squared:    } &     0.730   \\\\\n",
       "\\textbf{Method:}           &  Least Squares   & \\textbf{  F-statistic:       } &     538.8   \\\\\n",
       "\\textbf{Date:}             & Wed, 14 Jun 2023 & \\textbf{  Prob (F-statistic):} &  2.11e-58   \\\\\n",
       "\\textbf{Time:}             &     16:43:50     & \\textbf{  Log-Likelihood:    } &   -511.26   \\\\\n",
       "\\textbf{No. Observations:} &         200      & \\textbf{  AIC:               } &     1027.   \\\\\n",
       "\\textbf{Df Residuals:}     &         198      & \\textbf{  BIC:               } &     1033.   \\\\\n",
       "\\textbf{Df Model:}         &           1      & \\textbf{                     } &             \\\\\n",
       "\\textbf{Covariance Type:}  &    nonrobust     & \\textbf{                     } &             \\\\\n",
       "\\bottomrule\n",
       "\\end{tabular}\n",
       "\\begin{tabular}{lcccccc}\n",
       "               & \\textbf{coef} & \\textbf{std err} & \\textbf{t} & \\textbf{P$> |$t$|$} & \\textbf{[0.025} & \\textbf{0.975]}  \\\\\n",
       "\\midrule\n",
       "\\textbf{const} &      -0.6021  &        0.230     &    -2.617  &         0.010        &       -1.056    &       -0.148     \\\\\n",
       "\\textbf{x1}    &       0.8698  &        0.037     &    23.212  &         0.000        &        0.796    &        0.944     \\\\\n",
       "\\bottomrule\n",
       "\\end{tabular}\n",
       "\\begin{tabular}{lclc}\n",
       "\\textbf{Omnibus:}       & 13.426 & \\textbf{  Durbin-Watson:     } &    0.170  \\\\\n",
       "\\textbf{Prob(Omnibus):} &  0.001 & \\textbf{  Jarque-Bera (JB):  } &   13.558  \\\\\n",
       "\\textbf{Skew:}          &  0.593 & \\textbf{  Prob(JB):          } &  0.00114  \\\\\n",
       "\\textbf{Kurtosis:}      &  2.531 & \\textbf{  Cond. No.          } &     6.39  \\\\\n",
       "\\bottomrule\n",
       "\\end{tabular}\n",
       "%\\caption{OLS Regression Results}\n",
       "\\end{center}\n",
       "\n",
       "Notes: \\newline\n",
       " [1] Standard Errors assume that the covariance matrix of the errors is correctly specified."
      ],
      "text/plain": [
       "<class 'statsmodels.iolib.summary.Summary'>\n",
       "\"\"\"\n",
       "                            OLS Regression Results                            \n",
       "==============================================================================\n",
       "Dep. Variable:                      y   R-squared:                       0.731\n",
       "Model:                            OLS   Adj. R-squared:                  0.730\n",
       "Method:                 Least Squares   F-statistic:                     538.8\n",
       "Date:                Wed, 14 Jun 2023   Prob (F-statistic):           2.11e-58\n",
       "Time:                        16:43:50   Log-Likelihood:                -511.26\n",
       "No. Observations:                 200   AIC:                             1027.\n",
       "Df Residuals:                     198   BIC:                             1033.\n",
       "Df Model:                           1                                         \n",
       "Covariance Type:            nonrobust                                         \n",
       "==============================================================================\n",
       "                 coef    std err          t      P>|t|      [0.025      0.975]\n",
       "------------------------------------------------------------------------------\n",
       "const         -0.6021      0.230     -2.617      0.010      -1.056      -0.148\n",
       "x1             0.8698      0.037     23.212      0.000       0.796       0.944\n",
       "==============================================================================\n",
       "Omnibus:                       13.426   Durbin-Watson:                   0.170\n",
       "Prob(Omnibus):                  0.001   Jarque-Bera (JB):               13.558\n",
       "Skew:                           0.593   Prob(JB):                      0.00114\n",
       "Kurtosis:                       2.531   Cond. No.                         6.39\n",
       "==============================================================================\n",
       "\n",
       "Notes:\n",
       "[1] Standard Errors assume that the covariance matrix of the errors is correctly specified.\n",
       "\"\"\""
      ]
     },
     "execution_count": 7,
     "metadata": {},
     "output_type": "execute_result"
    }
   ],
   "source": [
    "fit1 = sm.OLS(y, sm.add_constant(x)).fit()\n",
    "fit1.summary()"
   ]
  },
  {
   "cell_type": "code",
   "execution_count": 8,
   "id": "47f8d637-2d0b-4c4f-8bba-97cafa1c69f6",
   "metadata": {
    "tags": []
   },
   "outputs": [
    {
     "data": {
      "text/html": [
       "<table class=\"simpletable\">\n",
       "<caption>OLS Regression Results</caption>\n",
       "<tr>\n",
       "  <th>Dep. Variable:</th>            <td>y</td>        <th>  R-squared:         </th> <td>   0.000</td>\n",
       "</tr>\n",
       "<tr>\n",
       "  <th>Model:</th>                   <td>OLS</td>       <th>  Adj. R-squared:    </th> <td>  -0.005</td>\n",
       "</tr>\n",
       "<tr>\n",
       "  <th>Method:</th>             <td>Least Squares</td>  <th>  F-statistic:       </th> <td>0.002963</td>\n",
       "</tr>\n",
       "<tr>\n",
       "  <th>Date:</th>             <td>Wed, 14 Jun 2023</td> <th>  Prob (F-statistic):</th>  <td> 0.957</td> \n",
       "</tr>\n",
       "<tr>\n",
       "  <th>Time:</th>                 <td>16:43:50</td>     <th>  Log-Likelihood:    </th> <td> -275.89</td>\n",
       "</tr>\n",
       "<tr>\n",
       "  <th>No. Observations:</th>      <td>   199</td>      <th>  AIC:               </th> <td>   555.8</td>\n",
       "</tr>\n",
       "<tr>\n",
       "  <th>Df Residuals:</th>          <td>   197</td>      <th>  BIC:               </th> <td>   562.4</td>\n",
       "</tr>\n",
       "<tr>\n",
       "  <th>Df Model:</th>              <td>     1</td>      <th>                     </th>     <td> </td>   \n",
       "</tr>\n",
       "<tr>\n",
       "  <th>Covariance Type:</th>      <td>nonrobust</td>    <th>                     </th>     <td> </td>   \n",
       "</tr>\n",
       "</table>\n",
       "<table class=\"simpletable\">\n",
       "<tr>\n",
       "    <td></td>       <th>coef</th>     <th>std err</th>      <th>t</th>      <th>P>|t|</th>  <th>[0.025</th>    <th>0.975]</th>  \n",
       "</tr>\n",
       "<tr>\n",
       "  <th>const</th> <td>   -0.0374</td> <td>    0.069</td> <td>   -0.542</td> <td> 0.589</td> <td>   -0.173</td> <td>    0.099</td>\n",
       "</tr>\n",
       "<tr>\n",
       "  <th>x1</th>    <td>    0.0038</td> <td>    0.070</td> <td>    0.054</td> <td> 0.957</td> <td>   -0.134</td> <td>    0.142</td>\n",
       "</tr>\n",
       "</table>\n",
       "<table class=\"simpletable\">\n",
       "<tr>\n",
       "  <th>Omnibus:</th>       <td> 0.619</td> <th>  Durbin-Watson:     </th> <td>   2.184</td>\n",
       "</tr>\n",
       "<tr>\n",
       "  <th>Prob(Omnibus):</th> <td> 0.734</td> <th>  Jarque-Bera (JB):  </th> <td>   0.717</td>\n",
       "</tr>\n",
       "<tr>\n",
       "  <th>Skew:</th>          <td> 0.125</td> <th>  Prob(JB):          </th> <td>   0.699</td>\n",
       "</tr>\n",
       "<tr>\n",
       "  <th>Kurtosis:</th>      <td> 2.846</td> <th>  Cond. No.          </th> <td>    1.03</td>\n",
       "</tr>\n",
       "</table><br/><br/>Notes:<br/>[1] Standard Errors assume that the covariance matrix of the errors is correctly specified."
      ],
      "text/latex": [
       "\\begin{center}\n",
       "\\begin{tabular}{lclc}\n",
       "\\toprule\n",
       "\\textbf{Dep. Variable:}    &        y         & \\textbf{  R-squared:         } &     0.000   \\\\\n",
       "\\textbf{Model:}            &       OLS        & \\textbf{  Adj. R-squared:    } &    -0.005   \\\\\n",
       "\\textbf{Method:}           &  Least Squares   & \\textbf{  F-statistic:       } &  0.002963   \\\\\n",
       "\\textbf{Date:}             & Wed, 14 Jun 2023 & \\textbf{  Prob (F-statistic):} &    0.957    \\\\\n",
       "\\textbf{Time:}             &     16:43:50     & \\textbf{  Log-Likelihood:    } &   -275.89   \\\\\n",
       "\\textbf{No. Observations:} &         199      & \\textbf{  AIC:               } &     555.8   \\\\\n",
       "\\textbf{Df Residuals:}     &         197      & \\textbf{  BIC:               } &     562.4   \\\\\n",
       "\\textbf{Df Model:}         &           1      & \\textbf{                     } &             \\\\\n",
       "\\textbf{Covariance Type:}  &    nonrobust     & \\textbf{                     } &             \\\\\n",
       "\\bottomrule\n",
       "\\end{tabular}\n",
       "\\begin{tabular}{lcccccc}\n",
       "               & \\textbf{coef} & \\textbf{std err} & \\textbf{t} & \\textbf{P$> |$t$|$} & \\textbf{[0.025} & \\textbf{0.975]}  \\\\\n",
       "\\midrule\n",
       "\\textbf{const} &      -0.0374  &        0.069     &    -0.542  &         0.589        &       -0.173    &        0.099     \\\\\n",
       "\\textbf{x1}    &       0.0038  &        0.070     &     0.054  &         0.957        &       -0.134    &        0.142     \\\\\n",
       "\\bottomrule\n",
       "\\end{tabular}\n",
       "\\begin{tabular}{lclc}\n",
       "\\textbf{Omnibus:}       &  0.619 & \\textbf{  Durbin-Watson:     } &    2.184  \\\\\n",
       "\\textbf{Prob(Omnibus):} &  0.734 & \\textbf{  Jarque-Bera (JB):  } &    0.717  \\\\\n",
       "\\textbf{Skew:}          &  0.125 & \\textbf{  Prob(JB):          } &    0.699  \\\\\n",
       "\\textbf{Kurtosis:}      &  2.846 & \\textbf{  Cond. No.          } &     1.03  \\\\\n",
       "\\bottomrule\n",
       "\\end{tabular}\n",
       "%\\caption{OLS Regression Results}\n",
       "\\end{center}\n",
       "\n",
       "Notes: \\newline\n",
       " [1] Standard Errors assume that the covariance matrix of the errors is correctly specified."
      ],
      "text/plain": [
       "<class 'statsmodels.iolib.summary.Summary'>\n",
       "\"\"\"\n",
       "                            OLS Regression Results                            \n",
       "==============================================================================\n",
       "Dep. Variable:                      y   R-squared:                       0.000\n",
       "Model:                            OLS   Adj. R-squared:                 -0.005\n",
       "Method:                 Least Squares   F-statistic:                  0.002963\n",
       "Date:                Wed, 14 Jun 2023   Prob (F-statistic):              0.957\n",
       "Time:                        16:43:50   Log-Likelihood:                -275.89\n",
       "No. Observations:                 199   AIC:                             555.8\n",
       "Df Residuals:                     197   BIC:                             562.4\n",
       "Df Model:                           1                                         \n",
       "Covariance Type:            nonrobust                                         \n",
       "==============================================================================\n",
       "                 coef    std err          t      P>|t|      [0.025      0.975]\n",
       "------------------------------------------------------------------------------\n",
       "const         -0.0374      0.069     -0.542      0.589      -0.173       0.099\n",
       "x1             0.0038      0.070      0.054      0.957      -0.134       0.142\n",
       "==============================================================================\n",
       "Omnibus:                        0.619   Durbin-Watson:                   2.184\n",
       "Prob(Omnibus):                  0.734   Jarque-Bera (JB):                0.717\n",
       "Skew:                           0.125   Prob(JB):                        0.699\n",
       "Kurtosis:                       2.846   Cond. No.                         1.03\n",
       "==============================================================================\n",
       "\n",
       "Notes:\n",
       "[1] Standard Errors assume that the covariance matrix of the errors is correctly specified.\n",
       "\"\"\""
      ]
     },
     "execution_count": 8,
     "metadata": {},
     "output_type": "execute_result"
    }
   ],
   "source": [
    "fit2 = sm.OLS(np.diff(y), sm.add_constant(np.diff(x))).fit()\n",
    "fit2.summary()"
   ]
  },
  {
   "cell_type": "markdown",
   "id": "f9b2056f-b449-4361-b1f6-411f745748be",
   "metadata": {
    "tags": []
   },
   "source": [
    "#### Example 13.7"
   ]
  },
  {
   "cell_type": "code",
   "execution_count": 9,
   "id": "e3f751aa-1af6-4cd2-9937-32b77c13d478",
   "metadata": {
    "tags": []
   },
   "outputs": [
    {
     "data": {
      "text/html": [
       "<div>\n",
       "<style scoped>\n",
       "    .dataframe tbody tr th:only-of-type {\n",
       "        vertical-align: middle;\n",
       "    }\n",
       "\n",
       "    .dataframe tbody tr th {\n",
       "        vertical-align: top;\n",
       "    }\n",
       "\n",
       "    .dataframe thead th {\n",
       "        text-align: right;\n",
       "    }\n",
       "</style>\n",
       "<table border=\"1\" class=\"dataframe\">\n",
       "  <thead>\n",
       "    <tr style=\"text-align: right;\">\n",
       "      <th></th>\n",
       "      <th>month</th>\n",
       "      <th>day</th>\n",
       "      <th>year</th>\n",
       "      <th>ff</th>\n",
       "      <th>tb03</th>\n",
       "      <th>cm10</th>\n",
       "      <th>cm30</th>\n",
       "      <th>discount</th>\n",
       "      <th>prime</th>\n",
       "      <th>aaa</th>\n",
       "      <th>xxx</th>\n",
       "    </tr>\n",
       "  </thead>\n",
       "  <tbody>\n",
       "    <tr>\n",
       "      <th>0</th>\n",
       "      <td>2</td>\n",
       "      <td>16</td>\n",
       "      <td>77</td>\n",
       "      <td>4.70</td>\n",
       "      <td>4.62</td>\n",
       "      <td>7.36</td>\n",
       "      <td>7.69</td>\n",
       "      <td>5.25</td>\n",
       "      <td>6.25</td>\n",
       "      <td>8.04</td>\n",
       "      <td>105.30</td>\n",
       "    </tr>\n",
       "    <tr>\n",
       "      <th>1</th>\n",
       "      <td>2</td>\n",
       "      <td>23</td>\n",
       "      <td>77</td>\n",
       "      <td>4.74</td>\n",
       "      <td>4.67</td>\n",
       "      <td>7.39</td>\n",
       "      <td>7.75</td>\n",
       "      <td>5.25</td>\n",
       "      <td>6.25</td>\n",
       "      <td>8.08</td>\n",
       "      <td>105.24</td>\n",
       "    </tr>\n",
       "    <tr>\n",
       "      <th>2</th>\n",
       "      <td>3</td>\n",
       "      <td>2</td>\n",
       "      <td>77</td>\n",
       "      <td>4.68</td>\n",
       "      <td>4.70</td>\n",
       "      <td>7.47</td>\n",
       "      <td>7.81</td>\n",
       "      <td>5.25</td>\n",
       "      <td>6.25</td>\n",
       "      <td>8.10</td>\n",
       "      <td>105.30</td>\n",
       "    </tr>\n",
       "    <tr>\n",
       "      <th>3</th>\n",
       "      <td>3</td>\n",
       "      <td>9</td>\n",
       "      <td>77</td>\n",
       "      <td>4.63</td>\n",
       "      <td>4.64</td>\n",
       "      <td>7.49</td>\n",
       "      <td>7.82</td>\n",
       "      <td>5.25</td>\n",
       "      <td>6.25</td>\n",
       "      <td>8.12</td>\n",
       "      <td>105.26</td>\n",
       "    </tr>\n",
       "    <tr>\n",
       "      <th>4</th>\n",
       "      <td>3</td>\n",
       "      <td>16</td>\n",
       "      <td>77</td>\n",
       "      <td>4.62</td>\n",
       "      <td>4.59</td>\n",
       "      <td>7.45</td>\n",
       "      <td>7.80</td>\n",
       "      <td>5.25</td>\n",
       "      <td>6.25</td>\n",
       "      <td>8.09</td>\n",
       "      <td>105.40</td>\n",
       "    </tr>\n",
       "  </tbody>\n",
       "</table>\n",
       "</div>"
      ],
      "text/plain": [
       "   month  day  year    ff  tb03  cm10  cm30  discount  prime   aaa     xxx\n",
       "0      2   16    77  4.70  4.62  7.36  7.69      5.25   6.25  8.04  105.30\n",
       "1      2   23    77  4.74  4.67  7.39  7.75      5.25   6.25  8.08  105.24\n",
       "2      3    2    77  4.68  4.70  7.47  7.81      5.25   6.25  8.10  105.30\n",
       "3      3    9    77  4.63  4.64  7.49  7.82      5.25   6.25  8.12  105.26\n",
       "4      3   16    77  4.62  4.59  7.45  7.80      5.25   6.25  8.09  105.40"
      ]
     },
     "execution_count": 9,
     "metadata": {},
     "output_type": "execute_result"
    }
   ],
   "source": [
    "data = pd.read_csv('../data/WeekInt.txt', sep='\\\\s+')\n",
    "data.head()"
   ]
  },
  {
   "cell_type": "code",
   "execution_count": 10,
   "id": "5c34dac8-2f11-4c19-9c94-87b57320f21c",
   "metadata": {
    "tags": []
   },
   "outputs": [
    {
     "data": {
      "text/html": [
       "<table class=\"simpletable\">\n",
       "<caption>OLS Regression Results</caption>\n",
       "<tr>\n",
       "  <th>Dep. Variable:</th>           <td>aaa</td>       <th>  R-squared:         </th> <td>   0.756</td> \n",
       "</tr>\n",
       "<tr>\n",
       "  <th>Model:</th>                   <td>OLS</td>       <th>  Adj. R-squared:    </th> <td>   0.756</td> \n",
       "</tr>\n",
       "<tr>\n",
       "  <th>Method:</th>             <td>Least Squares</td>  <th>  F-statistic:       </th> <td>   1360.</td> \n",
       "</tr>\n",
       "<tr>\n",
       "  <th>Date:</th>             <td>Wed, 14 Jun 2023</td> <th>  Prob (F-statistic):</th> <td>1.83e-269</td>\n",
       "</tr>\n",
       "<tr>\n",
       "  <th>Time:</th>                 <td>16:43:51</td>     <th>  Log-Likelihood:    </th> <td>  1163.4</td> \n",
       "</tr>\n",
       "<tr>\n",
       "  <th>No. Observations:</th>      <td>   880</td>      <th>  AIC:               </th> <td>  -2321.</td> \n",
       "</tr>\n",
       "<tr>\n",
       "  <th>Df Residuals:</th>          <td>   877</td>      <th>  BIC:               </th> <td>  -2306.</td> \n",
       "</tr>\n",
       "<tr>\n",
       "  <th>Df Model:</th>              <td>     2</td>      <th>                     </th>     <td> </td>    \n",
       "</tr>\n",
       "<tr>\n",
       "  <th>Covariance Type:</th>      <td>nonrobust</td>    <th>                     </th>     <td> </td>    \n",
       "</tr>\n",
       "</table>\n",
       "<table class=\"simpletable\">\n",
       "<tr>\n",
       "    <td></td>       <th>coef</th>     <th>std err</th>      <th>t</th>      <th>P>|t|</th>  <th>[0.025</th>    <th>0.975]</th>  \n",
       "</tr>\n",
       "<tr>\n",
       "  <th>const</th> <td>-9.376e-05</td> <td>    0.002</td> <td>   -0.043</td> <td> 0.966</td> <td>   -0.004</td> <td>    0.004</td>\n",
       "</tr>\n",
       "<tr>\n",
       "  <th>x1</th>    <td>    0.3602</td> <td>    0.045</td> <td>    8.092</td> <td> 0.000</td> <td>    0.273</td> <td>    0.448</td>\n",
       "</tr>\n",
       "<tr>\n",
       "  <th>x2</th>    <td>    0.2968</td> <td>    0.050</td> <td>    5.956</td> <td> 0.000</td> <td>    0.199</td> <td>    0.395</td>\n",
       "</tr>\n",
       "</table>\n",
       "<table class=\"simpletable\">\n",
       "<tr>\n",
       "  <th>Omnibus:</th>       <td>110.341</td> <th>  Durbin-Watson:     </th> <td>   2.173</td> \n",
       "</tr>\n",
       "<tr>\n",
       "  <th>Prob(Omnibus):</th> <td> 0.000</td>  <th>  Jarque-Bera (JB):  </th> <td>1025.447</td> \n",
       "</tr>\n",
       "<tr>\n",
       "  <th>Skew:</th>          <td> 0.101</td>  <th>  Prob(JB):          </th> <td>2.12e-223</td>\n",
       "</tr>\n",
       "<tr>\n",
       "  <th>Kurtosis:</th>      <td> 8.284</td>  <th>  Cond. No.          </th> <td>    30.4</td> \n",
       "</tr>\n",
       "</table><br/><br/>Notes:<br/>[1] Standard Errors assume that the covariance matrix of the errors is correctly specified."
      ],
      "text/latex": [
       "\\begin{center}\n",
       "\\begin{tabular}{lclc}\n",
       "\\toprule\n",
       "\\textbf{Dep. Variable:}    &       aaa        & \\textbf{  R-squared:         } &     0.756   \\\\\n",
       "\\textbf{Model:}            &       OLS        & \\textbf{  Adj. R-squared:    } &     0.756   \\\\\n",
       "\\textbf{Method:}           &  Least Squares   & \\textbf{  F-statistic:       } &     1360.   \\\\\n",
       "\\textbf{Date:}             & Wed, 14 Jun 2023 & \\textbf{  Prob (F-statistic):} & 1.83e-269   \\\\\n",
       "\\textbf{Time:}             &     16:43:51     & \\textbf{  Log-Likelihood:    } &    1163.4   \\\\\n",
       "\\textbf{No. Observations:} &         880      & \\textbf{  AIC:               } &    -2321.   \\\\\n",
       "\\textbf{Df Residuals:}     &         877      & \\textbf{  BIC:               } &    -2306.   \\\\\n",
       "\\textbf{Df Model:}         &           2      & \\textbf{                     } &             \\\\\n",
       "\\textbf{Covariance Type:}  &    nonrobust     & \\textbf{                     } &             \\\\\n",
       "\\bottomrule\n",
       "\\end{tabular}\n",
       "\\begin{tabular}{lcccccc}\n",
       "               & \\textbf{coef} & \\textbf{std err} & \\textbf{t} & \\textbf{P$> |$t$|$} & \\textbf{[0.025} & \\textbf{0.975]}  \\\\\n",
       "\\midrule\n",
       "\\textbf{const} &   -9.376e-05  &        0.002     &    -0.043  &         0.966        &       -0.004    &        0.004     \\\\\n",
       "\\textbf{x1}    &       0.3602  &        0.045     &     8.092  &         0.000        &        0.273    &        0.448     \\\\\n",
       "\\textbf{x2}    &       0.2968  &        0.050     &     5.956  &         0.000        &        0.199    &        0.395     \\\\\n",
       "\\bottomrule\n",
       "\\end{tabular}\n",
       "\\begin{tabular}{lclc}\n",
       "\\textbf{Omnibus:}       & 110.341 & \\textbf{  Durbin-Watson:     } &     2.173  \\\\\n",
       "\\textbf{Prob(Omnibus):} &   0.000 & \\textbf{  Jarque-Bera (JB):  } &  1025.447  \\\\\n",
       "\\textbf{Skew:}          &   0.101 & \\textbf{  Prob(JB):          } & 2.12e-223  \\\\\n",
       "\\textbf{Kurtosis:}      &   8.284 & \\textbf{  Cond. No.          } &      30.4  \\\\\n",
       "\\bottomrule\n",
       "\\end{tabular}\n",
       "%\\caption{OLS Regression Results}\n",
       "\\end{center}\n",
       "\n",
       "Notes: \\newline\n",
       " [1] Standard Errors assume that the covariance matrix of the errors is correctly specified."
      ],
      "text/plain": [
       "<class 'statsmodels.iolib.summary.Summary'>\n",
       "\"\"\"\n",
       "                            OLS Regression Results                            \n",
       "==============================================================================\n",
       "Dep. Variable:                    aaa   R-squared:                       0.756\n",
       "Model:                            OLS   Adj. R-squared:                  0.756\n",
       "Method:                 Least Squares   F-statistic:                     1360.\n",
       "Date:                Wed, 14 Jun 2023   Prob (F-statistic):          1.83e-269\n",
       "Time:                        16:43:51   Log-Likelihood:                 1163.4\n",
       "No. Observations:                 880   AIC:                            -2321.\n",
       "Df Residuals:                     877   BIC:                            -2306.\n",
       "Df Model:                           2                                         \n",
       "Covariance Type:            nonrobust                                         \n",
       "==============================================================================\n",
       "                 coef    std err          t      P>|t|      [0.025      0.975]\n",
       "------------------------------------------------------------------------------\n",
       "const      -9.376e-05      0.002     -0.043      0.966      -0.004       0.004\n",
       "x1             0.3602      0.045      8.092      0.000       0.273       0.448\n",
       "x2             0.2968      0.050      5.956      0.000       0.199       0.395\n",
       "==============================================================================\n",
       "Omnibus:                      110.341   Durbin-Watson:                   2.173\n",
       "Prob(Omnibus):                  0.000   Jarque-Bera (JB):             1025.447\n",
       "Skew:                           0.101   Prob(JB):                    2.12e-223\n",
       "Kurtosis:                       8.284   Cond. No.                         30.4\n",
       "==============================================================================\n",
       "\n",
       "Notes:\n",
       "[1] Standard Errors assume that the covariance matrix of the errors is correctly specified.\n",
       "\"\"\""
      ]
     },
     "execution_count": 10,
     "metadata": {},
     "output_type": "execute_result"
    }
   ],
   "source": [
    "fit = sm.OLS(data['aaa'].diff().dropna(), sm.add_constant(data[['cm10', 'cm30']].diff().dropna().values)).fit()\n",
    "fit.summary()"
   ]
  },
  {
   "cell_type": "code",
   "execution_count": 11,
   "id": "1976013e-ba89-4fbb-b838-0907ca213dd9",
   "metadata": {
    "tags": []
   },
   "outputs": [
    {
     "data": {
      "text/html": [
       "<table class=\"simpletable\">\n",
       "<caption>OLS Regression Results</caption>\n",
       "<tr>\n",
       "  <th>Dep. Variable:</th>           <td>aaa</td>       <th>  R-squared:         </th> <td>   0.756</td> \n",
       "</tr>\n",
       "<tr>\n",
       "  <th>Model:</th>                   <td>OLS</td>       <th>  Adj. R-squared:    </th> <td>   0.756</td> \n",
       "</tr>\n",
       "<tr>\n",
       "  <th>Method:</th>             <td>Least Squares</td>  <th>  F-statistic:       </th> <td>   495.1</td> \n",
       "</tr>\n",
       "<tr>\n",
       "  <th>Date:</th>             <td>Wed, 14 Jun 2023</td> <th>  Prob (F-statistic):</th> <td>1.24e-144</td>\n",
       "</tr>\n",
       "<tr>\n",
       "  <th>Time:</th>                 <td>16:43:51</td>     <th>  Log-Likelihood:    </th> <td>  1163.4</td> \n",
       "</tr>\n",
       "<tr>\n",
       "  <th>No. Observations:</th>      <td>   880</td>      <th>  AIC:               </th> <td>  -2321.</td> \n",
       "</tr>\n",
       "<tr>\n",
       "  <th>Df Residuals:</th>          <td>   877</td>      <th>  BIC:               </th> <td>  -2306.</td> \n",
       "</tr>\n",
       "<tr>\n",
       "  <th>Df Model:</th>              <td>     2</td>      <th>                     </th>     <td> </td>    \n",
       "</tr>\n",
       "<tr>\n",
       "  <th>Covariance Type:</th>         <td>HAC</td>       <th>                     </th>     <td> </td>    \n",
       "</tr>\n",
       "</table>\n",
       "<table class=\"simpletable\">\n",
       "<tr>\n",
       "    <td></td>       <th>coef</th>     <th>std err</th>      <th>z</th>      <th>P>|z|</th>  <th>[0.025</th>    <th>0.975]</th>  \n",
       "</tr>\n",
       "<tr>\n",
       "  <th>const</th> <td>-9.376e-05</td> <td>    0.002</td> <td>   -0.043</td> <td> 0.966</td> <td>   -0.004</td> <td>    0.004</td>\n",
       "</tr>\n",
       "<tr>\n",
       "  <th>x1</th>    <td>    0.3602</td> <td>    0.079</td> <td>    4.553</td> <td> 0.000</td> <td>    0.205</td> <td>    0.515</td>\n",
       "</tr>\n",
       "<tr>\n",
       "  <th>x2</th>    <td>    0.2968</td> <td>    0.082</td> <td>    3.637</td> <td> 0.000</td> <td>    0.137</td> <td>    0.457</td>\n",
       "</tr>\n",
       "</table>\n",
       "<table class=\"simpletable\">\n",
       "<tr>\n",
       "  <th>Omnibus:</th>       <td>110.341</td> <th>  Durbin-Watson:     </th> <td>   2.173</td> \n",
       "</tr>\n",
       "<tr>\n",
       "  <th>Prob(Omnibus):</th> <td> 0.000</td>  <th>  Jarque-Bera (JB):  </th> <td>1025.447</td> \n",
       "</tr>\n",
       "<tr>\n",
       "  <th>Skew:</th>          <td> 0.101</td>  <th>  Prob(JB):          </th> <td>2.12e-223</td>\n",
       "</tr>\n",
       "<tr>\n",
       "  <th>Kurtosis:</th>      <td> 8.284</td>  <th>  Cond. No.          </th> <td>    30.4</td> \n",
       "</tr>\n",
       "</table><br/><br/>Notes:<br/>[1] Standard Errors are heteroscedasticity and autocorrelation robust (HAC) using 0 lags and without small sample correction"
      ],
      "text/latex": [
       "\\begin{center}\n",
       "\\begin{tabular}{lclc}\n",
       "\\toprule\n",
       "\\textbf{Dep. Variable:}    &       aaa        & \\textbf{  R-squared:         } &     0.756   \\\\\n",
       "\\textbf{Model:}            &       OLS        & \\textbf{  Adj. R-squared:    } &     0.756   \\\\\n",
       "\\textbf{Method:}           &  Least Squares   & \\textbf{  F-statistic:       } &     495.1   \\\\\n",
       "\\textbf{Date:}             & Wed, 14 Jun 2023 & \\textbf{  Prob (F-statistic):} & 1.24e-144   \\\\\n",
       "\\textbf{Time:}             &     16:43:51     & \\textbf{  Log-Likelihood:    } &    1163.4   \\\\\n",
       "\\textbf{No. Observations:} &         880      & \\textbf{  AIC:               } &    -2321.   \\\\\n",
       "\\textbf{Df Residuals:}     &         877      & \\textbf{  BIC:               } &    -2306.   \\\\\n",
       "\\textbf{Df Model:}         &           2      & \\textbf{                     } &             \\\\\n",
       "\\textbf{Covariance Type:}  &       HAC        & \\textbf{                     } &             \\\\\n",
       "\\bottomrule\n",
       "\\end{tabular}\n",
       "\\begin{tabular}{lcccccc}\n",
       "               & \\textbf{coef} & \\textbf{std err} & \\textbf{z} & \\textbf{P$> |$z$|$} & \\textbf{[0.025} & \\textbf{0.975]}  \\\\\n",
       "\\midrule\n",
       "\\textbf{const} &   -9.376e-05  &        0.002     &    -0.043  &         0.966        &       -0.004    &        0.004     \\\\\n",
       "\\textbf{x1}    &       0.3602  &        0.079     &     4.553  &         0.000        &        0.205    &        0.515     \\\\\n",
       "\\textbf{x2}    &       0.2968  &        0.082     &     3.637  &         0.000        &        0.137    &        0.457     \\\\\n",
       "\\bottomrule\n",
       "\\end{tabular}\n",
       "\\begin{tabular}{lclc}\n",
       "\\textbf{Omnibus:}       & 110.341 & \\textbf{  Durbin-Watson:     } &     2.173  \\\\\n",
       "\\textbf{Prob(Omnibus):} &   0.000 & \\textbf{  Jarque-Bera (JB):  } &  1025.447  \\\\\n",
       "\\textbf{Skew:}          &   0.101 & \\textbf{  Prob(JB):          } & 2.12e-223  \\\\\n",
       "\\textbf{Kurtosis:}      &   8.284 & \\textbf{  Cond. No.          } &      30.4  \\\\\n",
       "\\bottomrule\n",
       "\\end{tabular}\n",
       "%\\caption{OLS Regression Results}\n",
       "\\end{center}\n",
       "\n",
       "Notes: \\newline\n",
       " [1] Standard Errors are heteroscedasticity and autocorrelation robust (HAC) using 0 lags and without small sample correction"
      ],
      "text/plain": [
       "<class 'statsmodels.iolib.summary.Summary'>\n",
       "\"\"\"\n",
       "                            OLS Regression Results                            \n",
       "==============================================================================\n",
       "Dep. Variable:                    aaa   R-squared:                       0.756\n",
       "Model:                            OLS   Adj. R-squared:                  0.756\n",
       "Method:                 Least Squares   F-statistic:                     495.1\n",
       "Date:                Wed, 14 Jun 2023   Prob (F-statistic):          1.24e-144\n",
       "Time:                        16:43:51   Log-Likelihood:                 1163.4\n",
       "No. Observations:                 880   AIC:                            -2321.\n",
       "Df Residuals:                     877   BIC:                            -2306.\n",
       "Df Model:                           2                                         \n",
       "Covariance Type:                  HAC                                         \n",
       "==============================================================================\n",
       "                 coef    std err          z      P>|z|      [0.025      0.975]\n",
       "------------------------------------------------------------------------------\n",
       "const      -9.376e-05      0.002     -0.043      0.966      -0.004       0.004\n",
       "x1             0.3602      0.079      4.553      0.000       0.205       0.515\n",
       "x2             0.2968      0.082      3.637      0.000       0.137       0.457\n",
       "==============================================================================\n",
       "Omnibus:                      110.341   Durbin-Watson:                   2.173\n",
       "Prob(Omnibus):                  0.000   Jarque-Bera (JB):             1025.447\n",
       "Skew:                           0.101   Prob(JB):                    2.12e-223\n",
       "Kurtosis:                       8.284   Cond. No.                         30.4\n",
       "==============================================================================\n",
       "\n",
       "Notes:\n",
       "[1] Standard Errors are heteroscedasticity and autocorrelation robust (HAC) using 0 lags and without small sample correction\n",
       "\"\"\""
      ]
     },
     "execution_count": 11,
     "metadata": {},
     "output_type": "execute_result"
    }
   ],
   "source": [
    "sm.OLS(data['aaa'].diff().dropna(), sm.add_constant(data[['cm10', 'cm30']].diff().dropna().values)).fit(cov_type='HAC', cov_kwds={'maxlags': 0}).summary()"
   ]
  },
  {
   "cell_type": "code",
   "execution_count": 12,
   "id": "783a860a-edd4-48d0-bfe9-256f4b21477d",
   "metadata": {
    "tags": []
   },
   "outputs": [
    {
     "data": {
      "text/html": [
       "<table class=\"simpletable\">\n",
       "<caption>OLS Regression Results</caption>\n",
       "<tr>\n",
       "  <th>Dep. Variable:</th>           <td>aaa</td>       <th>  R-squared:         </th> <td>   0.756</td> \n",
       "</tr>\n",
       "<tr>\n",
       "  <th>Model:</th>                   <td>OLS</td>       <th>  Adj. R-squared:    </th> <td>   0.756</td> \n",
       "</tr>\n",
       "<tr>\n",
       "  <th>Method:</th>             <td>Least Squares</td>  <th>  F-statistic:       </th> <td>   533.5</td> \n",
       "</tr>\n",
       "<tr>\n",
       "  <th>Date:</th>             <td>Wed, 14 Jun 2023</td> <th>  Prob (F-statistic):</th> <td>2.53e-152</td>\n",
       "</tr>\n",
       "<tr>\n",
       "  <th>Time:</th>                 <td>16:43:51</td>     <th>  Log-Likelihood:    </th> <td>  1163.4</td> \n",
       "</tr>\n",
       "<tr>\n",
       "  <th>No. Observations:</th>      <td>   880</td>      <th>  AIC:               </th> <td>  -2321.</td> \n",
       "</tr>\n",
       "<tr>\n",
       "  <th>Df Residuals:</th>          <td>   877</td>      <th>  BIC:               </th> <td>  -2306.</td> \n",
       "</tr>\n",
       "<tr>\n",
       "  <th>Df Model:</th>              <td>     2</td>      <th>                     </th>     <td> </td>    \n",
       "</tr>\n",
       "<tr>\n",
       "  <th>Covariance Type:</th>         <td>HAC</td>       <th>                     </th>     <td> </td>    \n",
       "</tr>\n",
       "</table>\n",
       "<table class=\"simpletable\">\n",
       "<tr>\n",
       "    <td></td>       <th>coef</th>     <th>std err</th>      <th>z</th>      <th>P>|z|</th>  <th>[0.025</th>    <th>0.975]</th>  \n",
       "</tr>\n",
       "<tr>\n",
       "  <th>const</th> <td>-9.376e-05</td> <td>    0.002</td> <td>   -0.044</td> <td> 0.965</td> <td>   -0.004</td> <td>    0.004</td>\n",
       "</tr>\n",
       "<tr>\n",
       "  <th>x1</th>    <td>    0.3602</td> <td>    0.082</td> <td>    4.415</td> <td> 0.000</td> <td>    0.200</td> <td>    0.520</td>\n",
       "</tr>\n",
       "<tr>\n",
       "  <th>x2</th>    <td>    0.2968</td> <td>    0.084</td> <td>    3.551</td> <td> 0.000</td> <td>    0.133</td> <td>    0.461</td>\n",
       "</tr>\n",
       "</table>\n",
       "<table class=\"simpletable\">\n",
       "<tr>\n",
       "  <th>Omnibus:</th>       <td>110.341</td> <th>  Durbin-Watson:     </th> <td>   2.173</td> \n",
       "</tr>\n",
       "<tr>\n",
       "  <th>Prob(Omnibus):</th> <td> 0.000</td>  <th>  Jarque-Bera (JB):  </th> <td>1025.447</td> \n",
       "</tr>\n",
       "<tr>\n",
       "  <th>Skew:</th>          <td> 0.101</td>  <th>  Prob(JB):          </th> <td>2.12e-223</td>\n",
       "</tr>\n",
       "<tr>\n",
       "  <th>Kurtosis:</th>      <td> 8.284</td>  <th>  Cond. No.          </th> <td>    30.4</td> \n",
       "</tr>\n",
       "</table><br/><br/>Notes:<br/>[1] Standard Errors are heteroscedasticity and autocorrelation robust (HAC) using 3 lags and without small sample correction"
      ],
      "text/latex": [
       "\\begin{center}\n",
       "\\begin{tabular}{lclc}\n",
       "\\toprule\n",
       "\\textbf{Dep. Variable:}    &       aaa        & \\textbf{  R-squared:         } &     0.756   \\\\\n",
       "\\textbf{Model:}            &       OLS        & \\textbf{  Adj. R-squared:    } &     0.756   \\\\\n",
       "\\textbf{Method:}           &  Least Squares   & \\textbf{  F-statistic:       } &     533.5   \\\\\n",
       "\\textbf{Date:}             & Wed, 14 Jun 2023 & \\textbf{  Prob (F-statistic):} & 2.53e-152   \\\\\n",
       "\\textbf{Time:}             &     16:43:51     & \\textbf{  Log-Likelihood:    } &    1163.4   \\\\\n",
       "\\textbf{No. Observations:} &         880      & \\textbf{  AIC:               } &    -2321.   \\\\\n",
       "\\textbf{Df Residuals:}     &         877      & \\textbf{  BIC:               } &    -2306.   \\\\\n",
       "\\textbf{Df Model:}         &           2      & \\textbf{                     } &             \\\\\n",
       "\\textbf{Covariance Type:}  &       HAC        & \\textbf{                     } &             \\\\\n",
       "\\bottomrule\n",
       "\\end{tabular}\n",
       "\\begin{tabular}{lcccccc}\n",
       "               & \\textbf{coef} & \\textbf{std err} & \\textbf{z} & \\textbf{P$> |$z$|$} & \\textbf{[0.025} & \\textbf{0.975]}  \\\\\n",
       "\\midrule\n",
       "\\textbf{const} &   -9.376e-05  &        0.002     &    -0.044  &         0.965        &       -0.004    &        0.004     \\\\\n",
       "\\textbf{x1}    &       0.3602  &        0.082     &     4.415  &         0.000        &        0.200    &        0.520     \\\\\n",
       "\\textbf{x2}    &       0.2968  &        0.084     &     3.551  &         0.000        &        0.133    &        0.461     \\\\\n",
       "\\bottomrule\n",
       "\\end{tabular}\n",
       "\\begin{tabular}{lclc}\n",
       "\\textbf{Omnibus:}       & 110.341 & \\textbf{  Durbin-Watson:     } &     2.173  \\\\\n",
       "\\textbf{Prob(Omnibus):} &   0.000 & \\textbf{  Jarque-Bera (JB):  } &  1025.447  \\\\\n",
       "\\textbf{Skew:}          &   0.101 & \\textbf{  Prob(JB):          } & 2.12e-223  \\\\\n",
       "\\textbf{Kurtosis:}      &   8.284 & \\textbf{  Cond. No.          } &      30.4  \\\\\n",
       "\\bottomrule\n",
       "\\end{tabular}\n",
       "%\\caption{OLS Regression Results}\n",
       "\\end{center}\n",
       "\n",
       "Notes: \\newline\n",
       " [1] Standard Errors are heteroscedasticity and autocorrelation robust (HAC) using 3 lags and without small sample correction"
      ],
      "text/plain": [
       "<class 'statsmodels.iolib.summary.Summary'>\n",
       "\"\"\"\n",
       "                            OLS Regression Results                            \n",
       "==============================================================================\n",
       "Dep. Variable:                    aaa   R-squared:                       0.756\n",
       "Model:                            OLS   Adj. R-squared:                  0.756\n",
       "Method:                 Least Squares   F-statistic:                     533.5\n",
       "Date:                Wed, 14 Jun 2023   Prob (F-statistic):          2.53e-152\n",
       "Time:                        16:43:51   Log-Likelihood:                 1163.4\n",
       "No. Observations:                 880   AIC:                            -2321.\n",
       "Df Residuals:                     877   BIC:                            -2306.\n",
       "Df Model:                           2                                         \n",
       "Covariance Type:                  HAC                                         \n",
       "==============================================================================\n",
       "                 coef    std err          z      P>|z|      [0.025      0.975]\n",
       "------------------------------------------------------------------------------\n",
       "const      -9.376e-05      0.002     -0.044      0.965      -0.004       0.004\n",
       "x1             0.3602      0.082      4.415      0.000       0.200       0.520\n",
       "x2             0.2968      0.084      3.551      0.000       0.133       0.461\n",
       "==============================================================================\n",
       "Omnibus:                      110.341   Durbin-Watson:                   2.173\n",
       "Prob(Omnibus):                  0.000   Jarque-Bera (JB):             1025.447\n",
       "Skew:                           0.101   Prob(JB):                    2.12e-223\n",
       "Kurtosis:                       8.284   Cond. No.                         30.4\n",
       "==============================================================================\n",
       "\n",
       "Notes:\n",
       "[1] Standard Errors are heteroscedasticity and autocorrelation robust (HAC) using 3 lags and without small sample correction\n",
       "\"\"\""
      ]
     },
     "execution_count": 12,
     "metadata": {},
     "output_type": "execute_result"
    }
   ],
   "source": [
    "sm.OLS(data['aaa'].diff().dropna(), sm.add_constant(data[['cm10', 'cm30']].diff().dropna().values)).fit(cov_type='HAC', cov_kwds={'maxlags': 3}).summary()"
   ]
  },
  {
   "cell_type": "markdown",
   "id": "103ef2c9-62d2-42b5-8732-b50540d11116",
   "metadata": {},
   "source": [
    "#### Example 13.8"
   ]
  },
  {
   "cell_type": "code",
   "execution_count": 13,
   "id": "ec6a522c-cc5b-4260-a687-5f9b4150cdb3",
   "metadata": {
    "tags": []
   },
   "outputs": [
    {
     "data": {
      "text/html": [
       "<div>\n",
       "<style scoped>\n",
       "    .dataframe tbody tr th:only-of-type {\n",
       "        vertical-align: middle;\n",
       "    }\n",
       "\n",
       "    .dataframe tbody tr th {\n",
       "        vertical-align: top;\n",
       "    }\n",
       "\n",
       "    .dataframe thead th {\n",
       "        text-align: right;\n",
       "    }\n",
       "</style>\n",
       "<table border=\"1\" class=\"dataframe\">\n",
       "  <thead>\n",
       "    <tr style=\"text-align: right;\">\n",
       "      <th></th>\n",
       "      <th>cons</th>\n",
       "      <th>income</th>\n",
       "      <th>price</th>\n",
       "      <th>temp</th>\n",
       "    </tr>\n",
       "  </thead>\n",
       "  <tbody>\n",
       "    <tr>\n",
       "      <th>0</th>\n",
       "      <td>0.386</td>\n",
       "      <td>78</td>\n",
       "      <td>0.270</td>\n",
       "      <td>41</td>\n",
       "    </tr>\n",
       "    <tr>\n",
       "      <th>1</th>\n",
       "      <td>0.374</td>\n",
       "      <td>79</td>\n",
       "      <td>0.282</td>\n",
       "      <td>56</td>\n",
       "    </tr>\n",
       "    <tr>\n",
       "      <th>2</th>\n",
       "      <td>0.393</td>\n",
       "      <td>81</td>\n",
       "      <td>0.277</td>\n",
       "      <td>63</td>\n",
       "    </tr>\n",
       "    <tr>\n",
       "      <th>3</th>\n",
       "      <td>0.425</td>\n",
       "      <td>80</td>\n",
       "      <td>0.280</td>\n",
       "      <td>68</td>\n",
       "    </tr>\n",
       "    <tr>\n",
       "      <th>4</th>\n",
       "      <td>0.406</td>\n",
       "      <td>76</td>\n",
       "      <td>0.272</td>\n",
       "      <td>69</td>\n",
       "    </tr>\n",
       "  </tbody>\n",
       "</table>\n",
       "</div>"
      ],
      "text/plain": [
       "    cons  income  price  temp\n",
       "0  0.386      78  0.270    41\n",
       "1  0.374      79  0.282    56\n",
       "2  0.393      81  0.277    63\n",
       "3  0.425      80  0.280    68\n",
       "4  0.406      76  0.272    69"
      ]
     },
     "execution_count": 13,
     "metadata": {},
     "output_type": "execute_result"
    }
   ],
   "source": [
    "data = pd.read_csv('../data/Icecream.csv')\n",
    "data.head()"
   ]
  },
  {
   "cell_type": "code",
   "execution_count": 14,
   "id": "957c7cef-064f-48f8-9950-bf60e5de0f80",
   "metadata": {
    "tags": []
   },
   "outputs": [
    {
     "data": {
      "text/html": [
       "<table class=\"simpletable\">\n",
       "<caption>OLS Regression Results</caption>\n",
       "<tr>\n",
       "  <th>Dep. Variable:</th>          <td>cons</td>       <th>  R-squared:         </th> <td>   0.719</td>\n",
       "</tr>\n",
       "<tr>\n",
       "  <th>Model:</th>                   <td>OLS</td>       <th>  Adj. R-squared:    </th> <td>   0.687</td>\n",
       "</tr>\n",
       "<tr>\n",
       "  <th>Method:</th>             <td>Least Squares</td>  <th>  F-statistic:       </th> <td>   22.17</td>\n",
       "</tr>\n",
       "<tr>\n",
       "  <th>Date:</th>             <td>Wed, 14 Jun 2023</td> <th>  Prob (F-statistic):</th> <td>2.45e-07</td>\n",
       "</tr>\n",
       "<tr>\n",
       "  <th>Time:</th>                 <td>16:43:51</td>     <th>  Log-Likelihood:    </th> <td>  58.619</td>\n",
       "</tr>\n",
       "<tr>\n",
       "  <th>No. Observations:</th>      <td>    30</td>      <th>  AIC:               </th> <td>  -109.2</td>\n",
       "</tr>\n",
       "<tr>\n",
       "  <th>Df Residuals:</th>          <td>    26</td>      <th>  BIC:               </th> <td>  -103.6</td>\n",
       "</tr>\n",
       "<tr>\n",
       "  <th>Df Model:</th>              <td>     3</td>      <th>                     </th>     <td> </td>   \n",
       "</tr>\n",
       "<tr>\n",
       "  <th>Covariance Type:</th>      <td>nonrobust</td>    <th>                     </th>     <td> </td>   \n",
       "</tr>\n",
       "</table>\n",
       "<table class=\"simpletable\">\n",
       "<tr>\n",
       "      <td></td>         <th>coef</th>     <th>std err</th>      <th>t</th>      <th>P>|t|</th>  <th>[0.025</th>    <th>0.975]</th>  \n",
       "</tr>\n",
       "<tr>\n",
       "  <th>Intercept</th> <td>    0.1973</td> <td>    0.270</td> <td>    0.730</td> <td> 0.472</td> <td>   -0.358</td> <td>    0.753</td>\n",
       "</tr>\n",
       "<tr>\n",
       "  <th>income</th>    <td>    0.0033</td> <td>    0.001</td> <td>    2.824</td> <td> 0.009</td> <td>    0.001</td> <td>    0.006</td>\n",
       "</tr>\n",
       "<tr>\n",
       "  <th>price</th>     <td>   -1.0444</td> <td>    0.834</td> <td>   -1.252</td> <td> 0.222</td> <td>   -2.759</td> <td>    0.671</td>\n",
       "</tr>\n",
       "<tr>\n",
       "  <th>temp</th>      <td>    0.0035</td> <td>    0.000</td> <td>    7.762</td> <td> 0.000</td> <td>    0.003</td> <td>    0.004</td>\n",
       "</tr>\n",
       "</table>\n",
       "<table class=\"simpletable\">\n",
       "<tr>\n",
       "  <th>Omnibus:</th>       <td> 0.565</td> <th>  Durbin-Watson:     </th> <td>   1.021</td>\n",
       "</tr>\n",
       "<tr>\n",
       "  <th>Prob(Omnibus):</th> <td> 0.754</td> <th>  Jarque-Bera (JB):  </th> <td>   0.047</td>\n",
       "</tr>\n",
       "<tr>\n",
       "  <th>Skew:</th>          <td> 0.038</td> <th>  Prob(JB):          </th> <td>   0.977</td>\n",
       "</tr>\n",
       "<tr>\n",
       "  <th>Kurtosis:</th>      <td> 3.179</td> <th>  Cond. No.          </th> <td>1.27e+04</td>\n",
       "</tr>\n",
       "</table><br/><br/>Notes:<br/>[1] Standard Errors assume that the covariance matrix of the errors is correctly specified.<br/>[2] The condition number is large, 1.27e+04. This might indicate that there are<br/>strong multicollinearity or other numerical problems."
      ],
      "text/latex": [
       "\\begin{center}\n",
       "\\begin{tabular}{lclc}\n",
       "\\toprule\n",
       "\\textbf{Dep. Variable:}    &       cons       & \\textbf{  R-squared:         } &     0.719   \\\\\n",
       "\\textbf{Model:}            &       OLS        & \\textbf{  Adj. R-squared:    } &     0.687   \\\\\n",
       "\\textbf{Method:}           &  Least Squares   & \\textbf{  F-statistic:       } &     22.17   \\\\\n",
       "\\textbf{Date:}             & Wed, 14 Jun 2023 & \\textbf{  Prob (F-statistic):} &  2.45e-07   \\\\\n",
       "\\textbf{Time:}             &     16:43:51     & \\textbf{  Log-Likelihood:    } &    58.619   \\\\\n",
       "\\textbf{No. Observations:} &          30      & \\textbf{  AIC:               } &    -109.2   \\\\\n",
       "\\textbf{Df Residuals:}     &          26      & \\textbf{  BIC:               } &    -103.6   \\\\\n",
       "\\textbf{Df Model:}         &           3      & \\textbf{                     } &             \\\\\n",
       "\\textbf{Covariance Type:}  &    nonrobust     & \\textbf{                     } &             \\\\\n",
       "\\bottomrule\n",
       "\\end{tabular}\n",
       "\\begin{tabular}{lcccccc}\n",
       "                   & \\textbf{coef} & \\textbf{std err} & \\textbf{t} & \\textbf{P$> |$t$|$} & \\textbf{[0.025} & \\textbf{0.975]}  \\\\\n",
       "\\midrule\n",
       "\\textbf{Intercept} &       0.1973  &        0.270     &     0.730  &         0.472        &       -0.358    &        0.753     \\\\\n",
       "\\textbf{income}    &       0.0033  &        0.001     &     2.824  &         0.009        &        0.001    &        0.006     \\\\\n",
       "\\textbf{price}     &      -1.0444  &        0.834     &    -1.252  &         0.222        &       -2.759    &        0.671     \\\\\n",
       "\\textbf{temp}      &       0.0035  &        0.000     &     7.762  &         0.000        &        0.003    &        0.004     \\\\\n",
       "\\bottomrule\n",
       "\\end{tabular}\n",
       "\\begin{tabular}{lclc}\n",
       "\\textbf{Omnibus:}       &  0.565 & \\textbf{  Durbin-Watson:     } &    1.021  \\\\\n",
       "\\textbf{Prob(Omnibus):} &  0.754 & \\textbf{  Jarque-Bera (JB):  } &    0.047  \\\\\n",
       "\\textbf{Skew:}          &  0.038 & \\textbf{  Prob(JB):          } &    0.977  \\\\\n",
       "\\textbf{Kurtosis:}      &  3.179 & \\textbf{  Cond. No.          } & 1.27e+04  \\\\\n",
       "\\bottomrule\n",
       "\\end{tabular}\n",
       "%\\caption{OLS Regression Results}\n",
       "\\end{center}\n",
       "\n",
       "Notes: \\newline\n",
       " [1] Standard Errors assume that the covariance matrix of the errors is correctly specified. \\newline\n",
       " [2] The condition number is large, 1.27e+04. This might indicate that there are \\newline\n",
       " strong multicollinearity or other numerical problems."
      ],
      "text/plain": [
       "<class 'statsmodels.iolib.summary.Summary'>\n",
       "\"\"\"\n",
       "                            OLS Regression Results                            \n",
       "==============================================================================\n",
       "Dep. Variable:                   cons   R-squared:                       0.719\n",
       "Model:                            OLS   Adj. R-squared:                  0.687\n",
       "Method:                 Least Squares   F-statistic:                     22.17\n",
       "Date:                Wed, 14 Jun 2023   Prob (F-statistic):           2.45e-07\n",
       "Time:                        16:43:51   Log-Likelihood:                 58.619\n",
       "No. Observations:                  30   AIC:                            -109.2\n",
       "Df Residuals:                      26   BIC:                            -103.6\n",
       "Df Model:                           3                                         \n",
       "Covariance Type:            nonrobust                                         \n",
       "==============================================================================\n",
       "                 coef    std err          t      P>|t|      [0.025      0.975]\n",
       "------------------------------------------------------------------------------\n",
       "Intercept      0.1973      0.270      0.730      0.472      -0.358       0.753\n",
       "income         0.0033      0.001      2.824      0.009       0.001       0.006\n",
       "price         -1.0444      0.834     -1.252      0.222      -2.759       0.671\n",
       "temp           0.0035      0.000      7.762      0.000       0.003       0.004\n",
       "==============================================================================\n",
       "Omnibus:                        0.565   Durbin-Watson:                   1.021\n",
       "Prob(Omnibus):                  0.754   Jarque-Bera (JB):                0.047\n",
       "Skew:                           0.038   Prob(JB):                        0.977\n",
       "Kurtosis:                       3.179   Cond. No.                     1.27e+04\n",
       "==============================================================================\n",
       "\n",
       "Notes:\n",
       "[1] Standard Errors assume that the covariance matrix of the errors is correctly specified.\n",
       "[2] The condition number is large, 1.27e+04. This might indicate that there are\n",
       "strong multicollinearity or other numerical problems.\n",
       "\"\"\""
      ]
     },
     "execution_count": 14,
     "metadata": {},
     "output_type": "execute_result"
    }
   ],
   "source": [
    "fit = ols('cons ~ income + price + temp', data=data).fit()\n",
    "fit.summary()"
   ]
  },
  {
   "cell_type": "code",
   "execution_count": 15,
   "id": "fcdd11f4-9bcd-43c4-a95c-a604367ed877",
   "metadata": {
    "tags": []
   },
   "outputs": [
    {
     "data": {
      "text/html": [
       "<table class=\"simpletable\">\n",
       "<caption>SARIMAX Results</caption>\n",
       "<tr>\n",
       "  <th>Dep. Variable:</th>         <td>cons</td>       <th>  No. Observations:  </th>    <td>30</td>   \n",
       "</tr>\n",
       "<tr>\n",
       "  <th>Model:</th>            <td>ARIMA(1, 0, 0)</td>  <th>  Log Likelihood     </th>  <td>62.085</td> \n",
       "</tr>\n",
       "<tr>\n",
       "  <th>Date:</th>            <td>Wed, 14 Jun 2023</td> <th>  AIC                </th> <td>-112.169</td>\n",
       "</tr>\n",
       "<tr>\n",
       "  <th>Time:</th>                <td>16:43:53</td>     <th>  BIC                </th> <td>-103.762</td>\n",
       "</tr>\n",
       "<tr>\n",
       "  <th>Sample:</th>                  <td>0</td>        <th>  HQIC               </th> <td>-109.480</td>\n",
       "</tr>\n",
       "<tr>\n",
       "  <th></th>                       <td> - 30</td>      <th>                     </th>     <td> </td>   \n",
       "</tr>\n",
       "<tr>\n",
       "  <th>Covariance Type:</th>        <td>opg</td>       <th>                     </th>     <td> </td>   \n",
       "</tr>\n",
       "</table>\n",
       "<table class=\"simpletable\">\n",
       "<tr>\n",
       "     <td></td>       <th>coef</th>     <th>std err</th>      <th>z</th>      <th>P>|z|</th>  <th>[0.025</th>    <th>0.975]</th>  \n",
       "</tr>\n",
       "<tr>\n",
       "  <th>const</th>  <td>    0.5380</td> <td>    0.376</td> <td>    1.431</td> <td> 0.152</td> <td>   -0.199</td> <td>    1.275</td>\n",
       "</tr>\n",
       "<tr>\n",
       "  <th>income</th> <td>   -0.0002</td> <td>    0.003</td> <td>   -0.074</td> <td> 0.941</td> <td>   -0.005</td> <td>    0.005</td>\n",
       "</tr>\n",
       "<tr>\n",
       "  <th>price</th>  <td>   -1.0859</td> <td>    0.776</td> <td>   -1.400</td> <td> 0.162</td> <td>   -2.606</td> <td>    0.434</td>\n",
       "</tr>\n",
       "<tr>\n",
       "  <th>temp</th>   <td>    0.0030</td> <td>    0.001</td> <td>    2.679</td> <td> 0.007</td> <td>    0.001</td> <td>    0.005</td>\n",
       "</tr>\n",
       "<tr>\n",
       "  <th>ar.L1</th>  <td>    0.7322</td> <td>    0.318</td> <td>    2.303</td> <td> 0.021</td> <td>    0.109</td> <td>    1.355</td>\n",
       "</tr>\n",
       "<tr>\n",
       "  <th>sigma2</th> <td>    0.0009</td> <td>    0.000</td> <td>    4.056</td> <td> 0.000</td> <td>    0.000</td> <td>    0.001</td>\n",
       "</tr>\n",
       "</table>\n",
       "<table class=\"simpletable\">\n",
       "<tr>\n",
       "  <th>Ljung-Box (L1) (Q):</th>     <td>0.03</td> <th>  Jarque-Bera (JB):  </th> <td>3.17</td>\n",
       "</tr>\n",
       "<tr>\n",
       "  <th>Prob(Q):</th>                <td>0.85</td> <th>  Prob(JB):          </th> <td>0.20</td>\n",
       "</tr>\n",
       "<tr>\n",
       "  <th>Heteroskedasticity (H):</th> <td>1.38</td> <th>  Skew:              </th> <td>0.61</td>\n",
       "</tr>\n",
       "<tr>\n",
       "  <th>Prob(H) (two-sided):</th>    <td>0.62</td> <th>  Kurtosis:          </th> <td>4.03</td>\n",
       "</tr>\n",
       "</table><br/><br/>Warnings:<br/>[1] Covariance matrix calculated using the outer product of gradients (complex-step)."
      ],
      "text/latex": [
       "\\begin{center}\n",
       "\\begin{tabular}{lclc}\n",
       "\\toprule\n",
       "\\textbf{Dep. Variable:}          &       cons       & \\textbf{  No. Observations:  } &     30      \\\\\n",
       "\\textbf{Model:}                  &  ARIMA(1, 0, 0)  & \\textbf{  Log Likelihood     } &   62.085    \\\\\n",
       "\\textbf{Date:}                   & Wed, 14 Jun 2023 & \\textbf{  AIC                } &  -112.169   \\\\\n",
       "\\textbf{Time:}                   &     16:43:53     & \\textbf{  BIC                } &  -103.762   \\\\\n",
       "\\textbf{Sample:}                 &        0         & \\textbf{  HQIC               } &  -109.480   \\\\\n",
       "\\textbf{}                        &       - 30       & \\textbf{                     } &             \\\\\n",
       "\\textbf{Covariance Type:}        &       opg        & \\textbf{                     } &             \\\\\n",
       "\\bottomrule\n",
       "\\end{tabular}\n",
       "\\begin{tabular}{lcccccc}\n",
       "                & \\textbf{coef} & \\textbf{std err} & \\textbf{z} & \\textbf{P$> |$z$|$} & \\textbf{[0.025} & \\textbf{0.975]}  \\\\\n",
       "\\midrule\n",
       "\\textbf{const}  &       0.5380  &        0.376     &     1.431  &         0.152        &       -0.199    &        1.275     \\\\\n",
       "\\textbf{income} &      -0.0002  &        0.003     &    -0.074  &         0.941        &       -0.005    &        0.005     \\\\\n",
       "\\textbf{price}  &      -1.0859  &        0.776     &    -1.400  &         0.162        &       -2.606    &        0.434     \\\\\n",
       "\\textbf{temp}   &       0.0030  &        0.001     &     2.679  &         0.007        &        0.001    &        0.005     \\\\\n",
       "\\textbf{ar.L1}  &       0.7322  &        0.318     &     2.303  &         0.021        &        0.109    &        1.355     \\\\\n",
       "\\textbf{sigma2} &       0.0009  &        0.000     &     4.056  &         0.000        &        0.000    &        0.001     \\\\\n",
       "\\bottomrule\n",
       "\\end{tabular}\n",
       "\\begin{tabular}{lclc}\n",
       "\\textbf{Ljung-Box (L1) (Q):}     & 0.03 & \\textbf{  Jarque-Bera (JB):  } & 3.17  \\\\\n",
       "\\textbf{Prob(Q):}                & 0.85 & \\textbf{  Prob(JB):          } & 0.20  \\\\\n",
       "\\textbf{Heteroskedasticity (H):} & 1.38 & \\textbf{  Skew:              } & 0.61  \\\\\n",
       "\\textbf{Prob(H) (two-sided):}    & 0.62 & \\textbf{  Kurtosis:          } & 4.03  \\\\\n",
       "\\bottomrule\n",
       "\\end{tabular}\n",
       "%\\caption{SARIMAX Results}\n",
       "\\end{center}\n",
       "\n",
       "Warnings: \\newline\n",
       " [1] Covariance matrix calculated using the outer product of gradients (complex-step)."
      ],
      "text/plain": [
       "<class 'statsmodels.iolib.summary.Summary'>\n",
       "\"\"\"\n",
       "                               SARIMAX Results                                \n",
       "==============================================================================\n",
       "Dep. Variable:                   cons   No. Observations:                   30\n",
       "Model:                 ARIMA(1, 0, 0)   Log Likelihood                  62.085\n",
       "Date:                Wed, 14 Jun 2023   AIC                           -112.169\n",
       "Time:                        16:43:53   BIC                           -103.762\n",
       "Sample:                             0   HQIC                          -109.480\n",
       "                                 - 30                                         \n",
       "Covariance Type:                  opg                                         \n",
       "==============================================================================\n",
       "                 coef    std err          z      P>|z|      [0.025      0.975]\n",
       "------------------------------------------------------------------------------\n",
       "const          0.5380      0.376      1.431      0.152      -0.199       1.275\n",
       "income        -0.0002      0.003     -0.074      0.941      -0.005       0.005\n",
       "price         -1.0859      0.776     -1.400      0.162      -2.606       0.434\n",
       "temp           0.0030      0.001      2.679      0.007       0.001       0.005\n",
       "ar.L1          0.7322      0.318      2.303      0.021       0.109       1.355\n",
       "sigma2         0.0009      0.000      4.056      0.000       0.000       0.001\n",
       "===================================================================================\n",
       "Ljung-Box (L1) (Q):                   0.03   Jarque-Bera (JB):                 3.17\n",
       "Prob(Q):                              0.85   Prob(JB):                         0.20\n",
       "Heteroskedasticity (H):               1.38   Skew:                             0.61\n",
       "Prob(H) (two-sided):                  0.62   Kurtosis:                         4.03\n",
       "===================================================================================\n",
       "\n",
       "Warnings:\n",
       "[1] Covariance matrix calculated using the outer product of gradients (complex-step).\n",
       "\"\"\""
      ]
     },
     "execution_count": 15,
     "metadata": {},
     "output_type": "execute_result"
    }
   ],
   "source": [
    "mod = sm.tsa.arima.ARIMA(data['cons'], exog=data[['income', 'price', 'temp']], order=(1, 0, 0)).fit(method='innovations_mle')\n",
    "mod.summary()"
   ]
  },
  {
   "cell_type": "code",
   "execution_count": 16,
   "id": "a9b9cbdd-c1bf-427d-9b92-be2703c66c28",
   "metadata": {
    "tags": []
   },
   "outputs": [
    {
     "data": {
      "text/html": [
       "<table class=\"simpletable\">\n",
       "<caption>SARIMAX Results</caption>\n",
       "<tr>\n",
       "  <th>Dep. Variable:</th>         <td>cons</td>       <th>  No. Observations:  </th>    <td>30</td>   \n",
       "</tr>\n",
       "<tr>\n",
       "  <th>Model:</th>            <td>ARIMA(0, 0, 1)</td>  <th>  Log Likelihood     </th>  <td>61.567</td> \n",
       "</tr>\n",
       "<tr>\n",
       "  <th>Date:</th>            <td>Wed, 14 Jun 2023</td> <th>  AIC                </th> <td>-111.133</td>\n",
       "</tr>\n",
       "<tr>\n",
       "  <th>Time:</th>                <td>16:43:53</td>     <th>  BIC                </th> <td>-102.726</td>\n",
       "</tr>\n",
       "<tr>\n",
       "  <th>Sample:</th>                  <td>0</td>        <th>  HQIC               </th> <td>-108.444</td>\n",
       "</tr>\n",
       "<tr>\n",
       "  <th></th>                       <td> - 30</td>      <th>                     </th>     <td> </td>   \n",
       "</tr>\n",
       "<tr>\n",
       "  <th>Covariance Type:</th>        <td>opg</td>       <th>                     </th>     <td> </td>   \n",
       "</tr>\n",
       "</table>\n",
       "<table class=\"simpletable\">\n",
       "<tr>\n",
       "     <td></td>       <th>coef</th>     <th>std err</th>      <th>z</th>      <th>P>|z|</th>  <th>[0.025</th>    <th>0.975]</th>  \n",
       "</tr>\n",
       "<tr>\n",
       "  <th>const</th>  <td>    0.3319</td> <td>    0.290</td> <td>    1.144</td> <td> 0.253</td> <td>   -0.237</td> <td>    0.900</td>\n",
       "</tr>\n",
       "<tr>\n",
       "  <th>income</th> <td>    0.0029</td> <td>    0.002</td> <td>    1.911</td> <td> 0.056</td> <td>-7.36e-05</td> <td>    0.006</td>\n",
       "</tr>\n",
       "<tr>\n",
       "  <th>price</th>  <td>   -1.3975</td> <td>    0.874</td> <td>   -1.598</td> <td> 0.110</td> <td>   -3.111</td> <td>    0.316</td>\n",
       "</tr>\n",
       "<tr>\n",
       "  <th>temp</th>   <td>    0.0034</td> <td>    0.001</td> <td>    5.400</td> <td> 0.000</td> <td>    0.002</td> <td>    0.005</td>\n",
       "</tr>\n",
       "<tr>\n",
       "  <th>ma.L1</th>  <td>    0.5030</td> <td>    0.325</td> <td>    1.547</td> <td> 0.122</td> <td>   -0.134</td> <td>    1.140</td>\n",
       "</tr>\n",
       "<tr>\n",
       "  <th>sigma2</th> <td>    0.0010</td> <td>    0.000</td> <td>    3.234</td> <td> 0.001</td> <td>    0.000</td> <td>    0.002</td>\n",
       "</tr>\n",
       "</table>\n",
       "<table class=\"simpletable\">\n",
       "<tr>\n",
       "  <th>Ljung-Box (L1) (Q):</th>     <td>0.01</td> <th>  Jarque-Bera (JB):  </th> <td>1.07</td>\n",
       "</tr>\n",
       "<tr>\n",
       "  <th>Prob(Q):</th>                <td>0.92</td> <th>  Prob(JB):          </th> <td>0.59</td>\n",
       "</tr>\n",
       "<tr>\n",
       "  <th>Heteroskedasticity (H):</th> <td>0.99</td> <th>  Skew:              </th> <td>0.44</td>\n",
       "</tr>\n",
       "<tr>\n",
       "  <th>Prob(H) (two-sided):</th>    <td>0.98</td> <th>  Kurtosis:          </th> <td>3.27</td>\n",
       "</tr>\n",
       "</table><br/><br/>Warnings:<br/>[1] Covariance matrix calculated using the outer product of gradients (complex-step)."
      ],
      "text/latex": [
       "\\begin{center}\n",
       "\\begin{tabular}{lclc}\n",
       "\\toprule\n",
       "\\textbf{Dep. Variable:}          &       cons       & \\textbf{  No. Observations:  } &     30      \\\\\n",
       "\\textbf{Model:}                  &  ARIMA(0, 0, 1)  & \\textbf{  Log Likelihood     } &   61.567    \\\\\n",
       "\\textbf{Date:}                   & Wed, 14 Jun 2023 & \\textbf{  AIC                } &  -111.133   \\\\\n",
       "\\textbf{Time:}                   &     16:43:53     & \\textbf{  BIC                } &  -102.726   \\\\\n",
       "\\textbf{Sample:}                 &        0         & \\textbf{  HQIC               } &  -108.444   \\\\\n",
       "\\textbf{}                        &       - 30       & \\textbf{                     } &             \\\\\n",
       "\\textbf{Covariance Type:}        &       opg        & \\textbf{                     } &             \\\\\n",
       "\\bottomrule\n",
       "\\end{tabular}\n",
       "\\begin{tabular}{lcccccc}\n",
       "                & \\textbf{coef} & \\textbf{std err} & \\textbf{z} & \\textbf{P$> |$z$|$} & \\textbf{[0.025} & \\textbf{0.975]}  \\\\\n",
       "\\midrule\n",
       "\\textbf{const}  &       0.3319  &        0.290     &     1.144  &         0.253        &       -0.237    &        0.900     \\\\\n",
       "\\textbf{income} &       0.0029  &        0.002     &     1.911  &         0.056        &    -7.36e-05    &        0.006     \\\\\n",
       "\\textbf{price}  &      -1.3975  &        0.874     &    -1.598  &         0.110        &       -3.111    &        0.316     \\\\\n",
       "\\textbf{temp}   &       0.0034  &        0.001     &     5.400  &         0.000        &        0.002    &        0.005     \\\\\n",
       "\\textbf{ma.L1}  &       0.5030  &        0.325     &     1.547  &         0.122        &       -0.134    &        1.140     \\\\\n",
       "\\textbf{sigma2} &       0.0010  &        0.000     &     3.234  &         0.001        &        0.000    &        0.002     \\\\\n",
       "\\bottomrule\n",
       "\\end{tabular}\n",
       "\\begin{tabular}{lclc}\n",
       "\\textbf{Ljung-Box (L1) (Q):}     & 0.01 & \\textbf{  Jarque-Bera (JB):  } & 1.07  \\\\\n",
       "\\textbf{Prob(Q):}                & 0.92 & \\textbf{  Prob(JB):          } & 0.59  \\\\\n",
       "\\textbf{Heteroskedasticity (H):} & 0.99 & \\textbf{  Skew:              } & 0.44  \\\\\n",
       "\\textbf{Prob(H) (two-sided):}    & 0.98 & \\textbf{  Kurtosis:          } & 3.27  \\\\\n",
       "\\bottomrule\n",
       "\\end{tabular}\n",
       "%\\caption{SARIMAX Results}\n",
       "\\end{center}\n",
       "\n",
       "Warnings: \\newline\n",
       " [1] Covariance matrix calculated using the outer product of gradients (complex-step)."
      ],
      "text/plain": [
       "<class 'statsmodels.iolib.summary.Summary'>\n",
       "\"\"\"\n",
       "                               SARIMAX Results                                \n",
       "==============================================================================\n",
       "Dep. Variable:                   cons   No. Observations:                   30\n",
       "Model:                 ARIMA(0, 0, 1)   Log Likelihood                  61.567\n",
       "Date:                Wed, 14 Jun 2023   AIC                           -111.133\n",
       "Time:                        16:43:53   BIC                           -102.726\n",
       "Sample:                             0   HQIC                          -108.444\n",
       "                                 - 30                                         \n",
       "Covariance Type:                  opg                                         \n",
       "==============================================================================\n",
       "                 coef    std err          z      P>|z|      [0.025      0.975]\n",
       "------------------------------------------------------------------------------\n",
       "const          0.3319      0.290      1.144      0.253      -0.237       0.900\n",
       "income         0.0029      0.002      1.911      0.056   -7.36e-05       0.006\n",
       "price         -1.3975      0.874     -1.598      0.110      -3.111       0.316\n",
       "temp           0.0034      0.001      5.400      0.000       0.002       0.005\n",
       "ma.L1          0.5030      0.325      1.547      0.122      -0.134       1.140\n",
       "sigma2         0.0010      0.000      3.234      0.001       0.000       0.002\n",
       "===================================================================================\n",
       "Ljung-Box (L1) (Q):                   0.01   Jarque-Bera (JB):                 1.07\n",
       "Prob(Q):                              0.92   Prob(JB):                         0.59\n",
       "Heteroskedasticity (H):               0.99   Skew:                             0.44\n",
       "Prob(H) (two-sided):                  0.98   Kurtosis:                         3.27\n",
       "===================================================================================\n",
       "\n",
       "Warnings:\n",
       "[1] Covariance matrix calculated using the outer product of gradients (complex-step).\n",
       "\"\"\""
      ]
     },
     "execution_count": 16,
     "metadata": {},
     "output_type": "execute_result"
    }
   ],
   "source": [
    "mod = sm.tsa.arima.ARIMA(data['cons'], exog=data[['income', 'price', 'temp']], order=(0, 0, 1)).fit(method='innovations_mle')\n",
    "mod.summary()"
   ]
  },
  {
   "cell_type": "markdown",
   "id": "3d306813-5a90-4c86-a780-2d9fdd552e85",
   "metadata": {},
   "source": [
    "**NB** the S.E. estimates for the coefficients are significantly different from R, which is likely due to Hessian estimates being different between the two."
   ]
  },
  {
   "cell_type": "markdown",
   "id": "aa626b7e-a399-4cac-8644-3e783429ed66",
   "metadata": {
    "tags": []
   },
   "source": [
    "#### Example 13.9"
   ]
  },
  {
   "cell_type": "code",
   "execution_count": 17,
   "id": "33ef119d-f0f8-40b2-94bb-469fd4bb9038",
   "metadata": {
    "tags": []
   },
   "outputs": [
    {
     "data": {
      "text/html": [
       "<div>\n",
       "<style scoped>\n",
       "    .dataframe tbody tr th:only-of-type {\n",
       "        vertical-align: middle;\n",
       "    }\n",
       "\n",
       "    .dataframe tbody tr th {\n",
       "        vertical-align: top;\n",
       "    }\n",
       "\n",
       "    .dataframe thead th {\n",
       "        text-align: right;\n",
       "    }\n",
       "</style>\n",
       "<table border=\"1\" class=\"dataframe\">\n",
       "  <thead>\n",
       "    <tr style=\"text-align: right;\">\n",
       "      <th></th>\n",
       "      <th>CPI</th>\n",
       "    </tr>\n",
       "    <tr>\n",
       "      <th>X.Y..m..d</th>\n",
       "      <th></th>\n",
       "    </tr>\n",
       "  </thead>\n",
       "  <tbody>\n",
       "    <tr>\n",
       "      <th>1913-01-31</th>\n",
       "      <td>9.8</td>\n",
       "    </tr>\n",
       "    <tr>\n",
       "      <th>1913-02-28</th>\n",
       "      <td>9.8</td>\n",
       "    </tr>\n",
       "    <tr>\n",
       "      <th>1913-03-31</th>\n",
       "      <td>9.8</td>\n",
       "    </tr>\n",
       "    <tr>\n",
       "      <th>1913-04-30</th>\n",
       "      <td>9.8</td>\n",
       "    </tr>\n",
       "    <tr>\n",
       "      <th>1913-05-31</th>\n",
       "      <td>9.7</td>\n",
       "    </tr>\n",
       "  </tbody>\n",
       "</table>\n",
       "</div>"
      ],
      "text/plain": [
       "            CPI\n",
       "X.Y..m..d      \n",
       "1913-01-31  9.8\n",
       "1913-02-28  9.8\n",
       "1913-03-31  9.8\n",
       "1913-04-30  9.8\n",
       "1913-05-31  9.7"
      ]
     },
     "execution_count": 17,
     "metadata": {},
     "output_type": "execute_result"
    }
   ],
   "source": [
    "CPI = pd.read_csv('../data/CPI.dat.csv', index_col=0, parse_dates=[0])\n",
    "CPI.head()"
   ]
  },
  {
   "cell_type": "code",
   "execution_count": 18,
   "id": "2982bf6b-d177-4884-9031-12ed2521fe06",
   "metadata": {
    "tags": []
   },
   "outputs": [
    {
     "data": {
      "text/html": [
       "<div>\n",
       "<style scoped>\n",
       "    .dataframe tbody tr th:only-of-type {\n",
       "        vertical-align: middle;\n",
       "    }\n",
       "\n",
       "    .dataframe tbody tr th {\n",
       "        vertical-align: top;\n",
       "    }\n",
       "\n",
       "    .dataframe thead th {\n",
       "        text-align: right;\n",
       "    }\n",
       "</style>\n",
       "<table border=\"1\" class=\"dataframe\">\n",
       "  <thead>\n",
       "    <tr style=\"text-align: right;\">\n",
       "      <th></th>\n",
       "      <th>IP</th>\n",
       "    </tr>\n",
       "    <tr>\n",
       "      <th>X.Y..m..d</th>\n",
       "      <th></th>\n",
       "    </tr>\n",
       "  </thead>\n",
       "  <tbody>\n",
       "    <tr>\n",
       "      <th>1919-01-28</th>\n",
       "      <td>7.628</td>\n",
       "    </tr>\n",
       "    <tr>\n",
       "      <th>1919-02-28</th>\n",
       "      <td>7.291</td>\n",
       "    </tr>\n",
       "    <tr>\n",
       "      <th>1919-03-28</th>\n",
       "      <td>7.080</td>\n",
       "    </tr>\n",
       "    <tr>\n",
       "      <th>1919-04-28</th>\n",
       "      <td>7.206</td>\n",
       "    </tr>\n",
       "    <tr>\n",
       "      <th>1919-05-28</th>\n",
       "      <td>7.249</td>\n",
       "    </tr>\n",
       "  </tbody>\n",
       "</table>\n",
       "</div>"
      ],
      "text/plain": [
       "               IP\n",
       "X.Y..m..d        \n",
       "1919-01-28  7.628\n",
       "1919-02-28  7.291\n",
       "1919-03-28  7.080\n",
       "1919-04-28  7.206\n",
       "1919-05-28  7.249"
      ]
     },
     "execution_count": 18,
     "metadata": {},
     "output_type": "execute_result"
    }
   ],
   "source": [
    "IP = pd.read_csv('../data/IP.dat.csv', index_col=0, parse_dates=[0])\n",
    "IP.head()"
   ]
  },
  {
   "cell_type": "code",
   "execution_count": 19,
   "id": "22cb4e81-712d-4014-9afd-0b8b85256527",
   "metadata": {
    "tags": []
   },
   "outputs": [],
   "source": [
    "CPI_diff = np.log(CPI['1977':'1987']).diff().dropna()\n",
    "IP_diff = np.log(IP['1977':'1987']).diff().dropna()"
   ]
  },
  {
   "cell_type": "code",
   "execution_count": 20,
   "id": "5552893d-f159-4b8c-9fd2-e760370c586a",
   "metadata": {
    "tags": []
   },
   "outputs": [
    {
     "data": {
      "image/png": "[encoded data removed]",
      "text/plain": [
       "<Figure size 1000x800 with 4 Axes>"
      ]
     },
     "metadata": {},
     "output_type": "display_data"
    }
   ],
   "source": [
    "fig, axs = plt.subplots(2, 2, figsize=(10, 8), sharex=True)\n",
    "\n",
    "axs[0][0].plot(np.log(CPI['1977':'1987']));\n",
    "axs[0][0].set_title('log(CPI)');\n",
    "\n",
    "axs[0][1].plot(np.log(IP['1977':'1987']));\n",
    "axs[0][1].set_title('log(IP)');\n",
    "\n",
    "axs[1][0].plot(CPI_diff);\n",
    "axs[1][0].set_title('$\\\\Delta$ log(CPI)');\n",
    "\n",
    "axs[1][1].plot(IP_diff);\n",
    "axs[1][1].set_title('$\\\\Delta$ log(IP)');"
   ]
  },
  {
   "cell_type": "code",
   "execution_count": 21,
   "id": "57145958-d64e-42a9-8c45-3d77b7d681c7",
   "metadata": {
    "tags": []
   },
   "outputs": [
    {
     "data": {
      "image/png": "[encoded data removed]",
      "text/plain": [
       "<Figure size 1200x500 with 2 Axes>"
      ]
     },
     "metadata": {},
     "output_type": "display_data"
    }
   ],
   "source": [
    "fig, axs = plt.subplots(1, 2, figsize=(12, 5))\n",
    "axs[0].bar(x=range(len(CPI_diff)), height=ccf(CPI_diff, IP_diff));\n",
    "axs[0].set_title('CCF(CPI, IP)');\n",
    "axs[1].bar(x=range(len(CPI_diff)), height=ccf(IP_diff, CPI_diff));\n",
    "axs[1].set_title('CCF(IP, CPI)');"
   ]
  },
  {
   "cell_type": "code",
   "execution_count": 22,
   "id": "fe3394d3-ce82-4a74-9240-d59238ca5c88",
   "metadata": {
    "tags": []
   },
   "outputs": [],
   "source": [
    "def ccf_r(x, y, lag_bounds=None):\n",
    "    \"\"\"Returns CCF values for positive and negative lags within the provided bounds (inclusive)\"\"\"\n",
    "    assert len(x) == len(y)\n",
    "    n = len(x)\n",
    "    ccf_pos = ccf(x, y)\n",
    "    ccf_neg = ccf(y, x)\n",
    "    all_lags = np.concatenate([np.flip(ccf_neg[1:]), ccf_pos])\n",
    "    if lag_bounds is None:\n",
    "        return all_lags\n",
    "    else:\n",
    "        return all_lags[lag_bounds[0] + n - 1:lag_bounds[1] + n]"
   ]
  },
  {
   "cell_type": "code",
   "execution_count": 23,
   "id": "0bca2fbe-4579-43cf-9a28-b7ca32edb804",
   "metadata": {
    "tags": []
   },
   "outputs": [
    {
     "data": {
      "image/png": "[encoded data removed]",
      "text/plain": [
       "<Figure size 640x480 with 1 Axes>"
      ]
     },
     "metadata": {},
     "output_type": "display_data"
    }
   ],
   "source": [
    "fig, ax = plt.subplots()\n",
    "ax.bar(x=range(-18, 19), height=ccf_r(CPI_diff, IP_diff, lag_bounds=(-18, 18)));\n",
    "ax.set_xlabel('Lag');\n",
    "ax.set_ylabel('CCF');"
   ]
  },
  {
   "cell_type": "code",
   "execution_count": 24,
   "id": "758242c5-a4b0-4f09-be22-12d444edf5d0",
   "metadata": {
    "tags": []
   },
   "outputs": [
    {
     "data": {
      "image/png": "[encoded data removed]",
      "text/plain": [
       "<Figure size 1200x1000 with 4 Axes>"
      ]
     },
     "metadata": {},
     "output_type": "display_data"
    }
   ],
   "source": [
    "df = pd.DataFrame({'CPI_diff': np.squeeze(CPI_diff.values.T), 'IP_diff': np.squeeze(IP_diff.values.T)})\n",
    "\n",
    "fig = plt.figure(figsize=(12, 10))\n",
    "plot_accf_grid(df, fig=fig);"
   ]
  },
  {
   "cell_type": "code",
   "execution_count": 25,
   "id": "9a788d60-99a1-4fde-b5f0-a8c480b67969",
   "metadata": {
    "tags": []
   },
   "outputs": [],
   "source": [
    "CPI_IP = np.hstack([CPI_diff.values, IP_diff.values])"
   ]
  },
  {
   "cell_type": "code",
   "execution_count": 26,
   "id": "cfa3cae3-07b0-41f2-b296-b94d21c9990c",
   "metadata": {
    "tags": []
   },
   "outputs": [
    {
     "name": "stdout",
     "output_type": "stream",
     "text": [
      "Ljung-Box Statistics:  \n",
      "        m       Q(m)     df    p-value\n",
      " [1,]   1.0      92.5     4.0        0\n",
      " [2,]   2.0     157.4     8.0        0\n",
      " [3,]   3.0     208.6    12.0        0\n",
      " [4,]   4.0     258.7    16.0        0\n",
      " [5,]   5.0     298.5    20.0        0\n",
      " [6,]   6.0     336.4    24.0        0\n",
      " [7,]   7.0     377.8    28.0        0\n",
      " [8,]   8.0     427.2    32.0        0\n",
      " [9,]   9.0     478.4    36.0        0\n",
      "[10,]  10.0     532.5    40.0        0\n"
     ]
    },
    {
     "data": {
      "text/plain": [
       "<rpy2.rinterface_lib.sexp.NULLType object at 0x7f41e880c190> [0]"
      ]
     },
     "execution_count": 26,
     "metadata": {},
     "output_type": "execute_result"
    }
   ],
   "source": [
    "with np_cv_rules.context():\n",
    "    res = MTS.mq(CPI_IP, lag=10)\n",
    "res"
   ]
  },
  {
   "cell_type": "markdown",
   "id": "35abc6ff-804d-4db3-bdc7-92b36e058f2b",
   "metadata": {
    "tags": []
   },
   "source": [
    "#### Example 13.10"
   ]
  },
  {
   "cell_type": "code",
   "execution_count": 27,
   "id": "410b74fa-7e48-40ec-bd8e-55a6b7041bb4",
   "metadata": {
    "tags": []
   },
   "outputs": [
    {
     "data": {
      "text/plain": [
       "array([127.99351863,   0.17412834,   1.28745331,   5.04570881,\n",
       "         3.40092622,   0.        ,   6.8699559 ,   9.33067148,\n",
       "        10.82561129,  13.19182792,  14.10873899])"
      ]
     },
     "execution_count": 27,
     "metadata": {},
     "output_type": "execute_result"
    }
   ],
   "source": [
    "with np_cv_rules.context():\n",
    "    res = rstats.ar(CPI_IP, order_max=10)\n",
    "res['aic']"
   ]
  },
  {
   "cell_type": "code",
   "execution_count": 28,
   "id": "46ac47f5-a194-4fde-825b-ac9f7feb8e76",
   "metadata": {
    "tags": []
   },
   "outputs": [],
   "source": [
    "with np_cv_rules.context():\n",
    "    res1 = rstats.ar(CPI_IP, order_max=1)"
   ]
  },
  {
   "cell_type": "code",
   "execution_count": 29,
   "id": "f443dcc4-49bc-41e1-944d-fdf83140cc98",
   "metadata": {
    "tags": []
   },
   "outputs": [
    {
     "data": {
      "text/plain": [
       "array([[[ 0.76727004,  0.01124642],\n",
       "        [-0.3296211 ,  0.30138452]]])"
      ]
     },
     "execution_count": 29,
     "metadata": {},
     "output_type": "execute_result"
    }
   ],
   "source": [
    "res1['ar']"
   ]
  },
  {
   "cell_type": "code",
   "execution_count": 30,
   "id": "e6f1f17b-5f61-4237-a30d-aaa234086df2",
   "metadata": {
    "tags": []
   },
   "outputs": [
    {
     "data": {
      "text/plain": [
       "array([[5.67787852e-06, 3.32515137e-06],\n",
       "       [3.32515137e-06, 6.73181082e-05]])"
      ]
     },
     "execution_count": 30,
     "metadata": {},
     "output_type": "execute_result"
    }
   ],
   "source": [
    "res1['var.pred']"
   ]
  },
  {
   "cell_type": "code",
   "execution_count": 31,
   "id": "deb78659-072e-43ed-ad43-638dff134ee7",
   "metadata": {
    "tags": []
   },
   "outputs": [
    {
     "data": {
      "text/plain": [
       "array([0.00517985, 0.00214622])"
      ]
     },
     "execution_count": 31,
     "metadata": {},
     "output_type": "execute_result"
    }
   ],
   "source": [
    "res1['x.mean']"
   ]
  }
 ],
 "metadata": {
  "kernelspec": {
   "display_name": "Python 3 (ipykernel)",
   "language": "python",
   "name": "python3"
  },
  "language_info": {
   "codemirror_mode": {
    "name": "ipython",
    "version": 3
   },
   "file_extension": ".py",
   "mimetype": "text/x-python",
   "name": "python",
   "nbconvert_exporter": "python",
   "pygments_lexer": "ipython3",
   "version": "3.11.3"
  }
 },
 "nbformat": 4,
 "nbformat_minor": 5
}
