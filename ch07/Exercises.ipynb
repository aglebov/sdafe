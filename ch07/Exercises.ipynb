{
 "cells": [
  {
   "cell_type": "code",
   "execution_count": 1,
   "id": "7227cfb0-0ed2-43fc-ba2a-f5c8ff1c5be9",
   "metadata": {
    "tags": []
   },
   "outputs": [],
   "source": [
    "import numpy as np\n",
    "import pandas as pd"
   ]
  },
  {
   "cell_type": "markdown",
   "id": "c8521b74-5c3f-4082-9b70-c3e5ecc91b1e",
   "metadata": {
    "tags": []
   },
   "source": [
    "#### Exercise 1"
   ]
  },
  {
   "cell_type": "code",
   "execution_count": 8,
   "id": "4374e0ee-c08d-4045-886d-c8f1499bcd3c",
   "metadata": {
    "tags": []
   },
   "outputs": [],
   "source": [
    "E = np.array([1.0, 1.5])\n",
    "Var = np.array([2.0, 2.7])\n",
    "Cov = np.array([\n",
    "    [2.0, 0.8],\n",
    "    [0.8, 2.7],\n",
    "])"
   ]
  },
  {
   "cell_type": "markdown",
   "id": "290976a5-c7b8-4cce-b333-09911232744a",
   "metadata": {},
   "source": [
    "(a) $E[0.2X+0.8Y]=0.2E[X] + 0.8E[Y]$"
   ]
  },
  {
   "cell_type": "code",
   "execution_count": 6,
   "id": "092739c9-a9d4-4eb3-9e5e-68d3554ddda5",
   "metadata": {
    "tags": []
   },
   "outputs": [
    {
     "data": {
      "text/plain": [
       "1.4000000000000001"
      ]
     },
     "execution_count": 6,
     "metadata": {},
     "output_type": "execute_result"
    }
   ],
   "source": [
    "w = np.array([0.2, 0.8])\n",
    "w @ E"
   ]
  },
  {
   "cell_type": "markdown",
   "id": "44dc51ca-90ba-4804-85a2-0ab94e7c6f77",
   "metadata": {},
   "source": [
    "$\\mathrm{Var}[w'X] = w' \\Sigma w$"
   ]
  },
  {
   "cell_type": "code",
   "execution_count": 9,
   "id": "7b2e30c9-9a8d-4695-b707-3a8fc27dacec",
   "metadata": {
    "tags": []
   },
   "outputs": [
    {
     "data": {
      "text/plain": [
       "2.0640000000000005"
      ]
     },
     "execution_count": 9,
     "metadata": {},
     "output_type": "execute_result"
    }
   ],
   "source": [
    "w @ Cov @ w"
   ]
  },
  {
   "cell_type": "markdown",
   "id": "a2fe75dd-0af7-49b3-a7c4-a7c5241c367a",
   "metadata": {
    "tags": []
   },
   "source": [
    "(b) Since\n",
    "$$\\mathrm{Var}[w X + (1-w)Y]=w^2\\mathrm{Var}[X] + 2w(1-w)\\mathrm{Cov}[X,Y] + (1-w)^2\\mathrm{Var}[Y],$$\n",
    "setting \n",
    "$$(w^2\\mathrm{Var}[X] + 2w(1-w)\\mathrm{Cov}[X,Y] + (1-w)^2\\mathrm{Var}[Y])' = 2w\\mathrm{Var}[X] + 2(1-2w)\\mathrm{Cov}[X, Y] - 2(1-w)\\mathrm{Var}[Y] = 0$$\n",
    "yields\n",
    "$$w = \\frac{\\mathrm{Var}[X]- \\mathrm{Cov}[X, Y]}{\\mathrm{Var}[X] - 2\\mathrm{Cov}[X, Y] + \\mathrm{Var}[Y]}$$"
   ]
  },
  {
   "cell_type": "code",
   "execution_count": 11,
   "id": "b2a3fef9-f9a9-4f3b-ac8f-5ef6c8f529c7",
   "metadata": {
    "tags": []
   },
   "outputs": [
    {
     "data": {
      "text/plain": [
       "0.3870967741935484"
      ]
     },
     "execution_count": 11,
     "metadata": {},
     "output_type": "execute_result"
    }
   ],
   "source": [
    "w = (Cov[0, 0] - Cov[0, 1]) / (Cov[0, 0] - 2 * Cov[0, 1] + Cov[1, 1])\n",
    "w"
   ]
  },
  {
   "cell_type": "markdown",
   "id": "aaa453b8-1bbf-4a55-a013-5e9e3cdd7b78",
   "metadata": {
    "tags": []
   },
   "source": [
    "#### Exercise 2"
   ]
  },
  {
   "cell_type": "markdown",
   "id": "7ab7c943-fc3e-4dd7-9fdc-771ad3bd3ca9",
   "metadata": {},
   "source": [
    "$$\\mathrm{Cov}\\left[ \\sum_{i=1}^n a_i X_i, \\sum_{j=1}^m b_j Y_j \\right] = E\\left[ \\left( \\sum_{i=1}^n a_i X_i - E\\left[\\sum_{i=1}^n a_i X_i\\right] \\right) \\left( \\sum_{j=1}^m b_j Y_j - E\\left[\\sum_{j=1}^m b_j Y_j\\right] \\right) \\right] = E\\left[ \\left( \\sum_{i=1}^n a_i X_i - \\sum_{i=1}^n a_i E[X_i] \\right) \\left( \\sum_{j=1}^m b_j Y_j - \\sum_{j=1}^m b_j E[Y_j] \\right) \\right] = \\\\\n",
    "= E\\left[ \\sum_{i=1}^n a_i \\left( X_i - E[X_i] \\right) \\sum_{j=1}^m b_j \\left( Y_j - E[Y_j] \\right) \\right] = \\sum_{i=1}^n \\sum_{j=1}^m a_i b_j E\\left[ \\left( X_i - E[X_i] \\right)  \\left( Y_j - E[Y_j] \\right) \\right] = \\sum_{i=1}^n \\sum_{j=1}^m a_i b_j \\mathrm{Cov}[X_i, Y_j].$$"
   ]
  },
  {
   "cell_type": "markdown",
   "id": "94047241-ada8-4db1-b416-1295a33b6b4c",
   "metadata": {
    "tags": []
   },
   "source": [
    "#### Exercise 3"
   ]
  },
  {
   "cell_type": "markdown",
   "id": "607dc75f-e711-419e-a164-a24799f01e18",
   "metadata": {
    "tags": []
   },
   "source": [
    "$$\\mathrm{Cov}[X, Y] = E\\left[(X - E[X])(Y - E[Y])\\right] = E\\left[ X Y - Y E[X] - X E[Y] + E[X]E[Y]\\right] = E[XY] - E[Y]E[X] - E[X]E[Y] + E[X]E[Y] = E[XY] - E[X]E[Y].$$"
   ]
  },
  {
   "cell_type": "markdown",
   "id": "c475c88f-bdc3-475d-b91f-96dc68b31843",
   "metadata": {},
   "source": [
    "$$\\mathrm{Cov}[X, Y] = E\\left[(X - E[X])(Y - E[Y])\\right] = E\\left[ X Y - Y E[X] - X E[Y] + E[X]E[Y]\\right] = E[(X - E[X])Y] - E[X]E[Y] + E[X]E[Y] = E[(X - E[X])Y].$$"
   ]
  },
  {
   "cell_type": "markdown",
   "id": "f112215a-f9cf-4b56-aef4-860f9c0da60b",
   "metadata": {},
   "source": [
    "By symmetry of the expression, $$\\mathrm{Cov}[X,Y] = E[X(Y - E[Y])].$$"
   ]
  },
  {
   "cell_type": "markdown",
   "id": "7d27d70c-7428-4bee-b43a-9b543fea5b2f",
   "metadata": {},
   "source": [
    "From (A.24), when $E[X] = 0$ or $E[Y] = 0$, we have $\\mathrm{Cov}[X, Y] = E[XY].$"
   ]
  },
  {
   "cell_type": "markdown",
   "id": "276155c8-3509-4709-8046-ec4216a0f6f0",
   "metadata": {
    "tags": []
   },
   "source": [
    "#### Exercise 4"
   ]
  },
  {
   "cell_type": "markdown",
   "id": "be019c93-1e32-4452-89a0-cbe542b25692",
   "metadata": {
    "tags": []
   },
   "source": [
    "(a) $$E[X - E[X]] = E[X] - E[E[X]] = E[X] - E[X] = 0$$"
   ]
  },
  {
   "cell_type": "markdown",
   "id": "c8636f16-a5df-434f-bbcf-e65df8db17cb",
   "metadata": {},
   "source": [
    "(b) From (A.31), $E[XY] = E[X]E[Y]$, then using (A.24) for independent variables $X$ and $Y$, $\\mathrm{Cov}[X,Y]=E[XY] - E[X]E[Y] = E[X]E[Y] - E[X]E[Y] = 0$."
   ]
  },
  {
   "cell_type": "markdown",
   "id": "e07120c0-e094-4e7e-8863-2ed6fae8c305",
   "metadata": {},
   "source": [
    "#### Exercise 5"
   ]
  },
  {
   "cell_type": "markdown",
   "id": "0d63023a-0dba-4d58-b0b3-6ef2fec6fba7",
   "metadata": {},
   "source": [
    "The variables $X$ and $Y$ are not independent:\n",
    "$$E[Y|X] = X^2 \\neq E[Y] = E[X^2] = \\int_{-a}^{a} \\frac{x^2}{2a} dx = \\frac{a^2}{3},$$\n",
    "however they are uncorrelated:\n",
    "$$\\mathrm{Cov}[X,Y] = \\mathrm{Cov}\\left[X,X^2\\right] = E\\left[(X - E[X])\\left(X^2 - E[X^2]\\right)\\right] = E\\left[X^3 - X \\frac{a^2}{3}\\right] = 0,$$\n",
    "where we used $E[X] = \\int_{-a}^{a} x \\frac{1}{2a}dx = 0$ and $E[X^3] = \\int_{-a}^{a} x^3 \\frac{1}{2a} dx = 0$ as integrals of odd functions."
   ]
  },
  {
   "cell_type": "markdown",
   "id": "fbc6ea8f-f992-41fa-99da-b9b15ff8440c",
   "metadata": {},
   "source": [
    "#### Exercise 6"
   ]
  },
  {
   "cell_type": "markdown",
   "id": "cff46fa4-6861-4714-9f69-9f93e5387595",
   "metadata": {
    "tags": []
   },
   "source": [
    "By definition of the scalar product, $\\mathbf{w}^T \\mathbf{X} = \\sum_{i=1}^n w_i X_i$.\n",
    "\n",
    "From linearity of expectation, $$E[\\mathbf{w}^T \\mathbf{X}] = E[\\sum_{i=1}^n w_i X_i] = \\sum_{i=1}^n w_i E[X_i] = \\mathbf{w}^T E[\\mathbf{X}].$$\n",
    "\n",
    "Finally, using the result of Exercise 2 above, $$\\mathrm{Var}[\\mathbf{w}^T \\mathbf{X}] = \\mathrm{Cov}[\\mathbf{w}^T \\mathbf{X}, \\mathbf{w}^T \\mathbf{X}] = \\mathrm{Cov}[\\sum_{i=1}^n w_i X_i, \\sum_{j=1}^n w_j X_j] = \\sum_{i=1}^n \\sum_{j=1}^n w_i w_j \\mathrm{Cov}[X_i, X_j] = \\mathbf{w}^T \\mathrm{COV}(\\mathbf{X}) \\mathbf{w}.$$"
   ]
  },
  {
   "cell_type": "markdown",
   "id": "5b4b4ba8-d9fe-4db2-abbd-277141b1e9c8",
   "metadata": {},
   "source": [
    " #### Exercise 7"
   ]
  },
  {
   "cell_type": "markdown",
   "id": "7d3799e2-2ee1-4e39-a6c0-6ad4c944c6be",
   "metadata": {},
   "source": [
    "Setting $a=0$ and picking the weights as follows:"
   ]
  },
  {
   "cell_type": "code",
   "execution_count": 22,
   "id": "9e43e7f8-cd2c-44c5-b234-4843ee8f7783",
   "metadata": {
    "tags": []
   },
   "outputs": [],
   "source": [
    "a = 0"
   ]
  },
  {
   "cell_type": "code",
   "execution_count": 23,
   "id": "bd320420-865c-4308-9464-a58f3ab4c883",
   "metadata": {
    "tags": []
   },
   "outputs": [],
   "source": [
    "w = np.array([1/3, -1/3, 1/3])"
   ]
  },
  {
   "cell_type": "code",
   "execution_count": 24,
   "id": "11653338-460f-4171-aa2a-661a3ea15c4a",
   "metadata": {
    "tags": []
   },
   "outputs": [],
   "source": [
    "C = np.array([\n",
    "    [1.0, 0.9, a],\n",
    "    [0.9, 1.0, 0.9],\n",
    "    [a, 0.9, 1.0],\n",
    "])"
   ]
  },
  {
   "cell_type": "markdown",
   "id": "63dd8d3c-9bc5-4574-b3a9-712de30b427f",
   "metadata": {},
   "source": [
    "we obtain that the variance of the weighted sum is negative:"
   ]
  },
  {
   "cell_type": "code",
   "execution_count": 25,
   "id": "f6fadae4-a5f5-4972-8968-b2e6d25579e8",
   "metadata": {
    "tags": []
   },
   "outputs": [
    {
     "data": {
      "text/plain": [
       "-0.06666666666666665"
      ]
     },
     "execution_count": 25,
     "metadata": {},
     "output_type": "execute_result"
    }
   ],
   "source": [
    "w @ C @ w"
   ]
  },
  {
   "cell_type": "markdown",
   "id": "68e9f553-a84d-4de8-90f8-ed371345ec33",
   "metadata": {},
   "source": [
    "Therefore, $a$ cannot be equal to 0."
   ]
  }
 ],
 "metadata": {
  "kernelspec": {
   "display_name": "Python 3 (ipykernel)",
   "language": "python",
   "name": "python3"
  },
  "language_info": {
   "codemirror_mode": {
    "name": "ipython",
    "version": 3
   },
   "file_extension": ".py",
   "mimetype": "text/x-python",
   "name": "python",
   "nbconvert_exporter": "python",
   "pygments_lexer": "ipython3",
   "version": "3.11.2"
  }
 },
 "nbformat": 4,
 "nbformat_minor": 5
}
