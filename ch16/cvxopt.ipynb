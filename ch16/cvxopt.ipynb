{
 "cells": [
  {
   "cell_type": "code",
   "execution_count": 36,
   "id": "a9b690c1-127b-498d-8755-6e16e9cb62b5",
   "metadata": {
    "tags": []
   },
   "outputs": [],
   "source": [
    "from cvxopt import matrix\n",
    "from cvxopt.blas import gbmv, gemv"
   ]
  },
  {
   "cell_type": "markdown",
   "id": "50499adc-1445-4a9f-ab66-18cebaabb374",
   "metadata": {
    "tags": []
   },
   "source": [
    "#### gbmv"
   ]
  },
  {
   "cell_type": "code",
   "execution_count": 25,
   "id": "175bccbb-e285-4d19-8b43-d39958baf3cc",
   "metadata": {
    "tags": []
   },
   "outputs": [],
   "source": [
    "A = matrix([[0., 1., 2.], [6., -4., -3.], [3., -1., 0.], [1., 0., 0.]])\n",
    "x = matrix([1., -1., 2., -2.])\n",
    "y = matrix(0., (3, 1))\n",
    "print(A)"
   ]
  },
  {
   "cell_type": "code",
   "execution_count": 26,
   "id": "ffe59dac-a9fe-436d-a6a1-1fccea784d62",
   "metadata": {
    "tags": []
   },
   "outputs": [],
   "source": [
    "gbmv(A, 3, 1, x, y)\n",
    "print(y)"
   ]
  },
  {
   "cell_type": "markdown",
   "id": "36537a03-8006-460e-bc61-3e1689c4b3b7",
   "metadata": {
    "tags": []
   },
   "source": [
    "#### gbsv"
   ]
  },
  {
   "cell_type": "code",
   "execution_count": 38,
   "id": "c80c4389-55ef-4934-8579-0bc20c269728",
   "metadata": {
    "tags": []
   },
   "outputs": [],
   "source": [
    "from cvxopt.lapack import gbsv"
   ]
  },
  {
   "cell_type": "code",
   "execution_count": 34,
   "id": "88513305-d903-4fa2-896f-2be561279674",
   "metadata": {
    "tags": []
   },
   "outputs": [
    {
     "name": "stdout",
     "output_type": "stream",
     "text": [
      "[ 0.00e+00  0.00e+00  0.00e+00  3.00e+00  6.00e+00  1.10e+01]\n",
      "[ 0.00e+00  0.00e+00  2.00e+00  5.00e+00  1.00e+01  1.50e+01]\n",
      "[ 0.00e+00  1.00e+00  4.00e+00  9.00e+00  1.40e+01  0.00e+00]\n",
      "[ 0.00e+00  3.00e+00  8.00e+00  1.30e+01  0.00e+00  0.00e+00]\n",
      "[ 2.00e+00  7.00e+00  1.20e+01  0.00e+00  0.00e+00  0.00e+00]\n",
      "\n"
     ]
    }
   ],
   "source": [
    "A = matrix([[0., 0., 0., 0., 2.], [0., 0., 1., 3., 7.], [0., 2., 4., 8., 12.], [3., 5., 9., 13., 0.], [6., 10., 14., 0., 0.], [11., 15., 0., 0., 0.]])\n",
    "print(A)"
   ]
  },
  {
   "cell_type": "code",
   "execution_count": 46,
   "id": "4c030bff-3925-415f-a6db-341626291a13",
   "metadata": {},
   "outputs": [
    {
     "ename": "ArithmeticError",
     "evalue": "5",
     "output_type": "error",
     "traceback": [
      "\u001b[0;31m---------------------------------------------------------------------------\u001b[0m",
      "\u001b[0;31mArithmeticError\u001b[0m                           Traceback (most recent call last)",
      "Cell \u001b[0;32mIn[46], line 1\u001b[0m\n\u001b[0;32m----> 1\u001b[0m \u001b[43mgbsv\u001b[49m\u001b[43m(\u001b[49m\u001b[43mA\u001b[49m\u001b[43m,\u001b[49m\u001b[43m \u001b[49m\u001b[38;5;241;43m1\u001b[39;49m\u001b[43m,\u001b[49m\u001b[43m \u001b[49m\u001b[43mmatrix\u001b[49m\u001b[43m(\u001b[49m\u001b[38;5;241;43m1.0\u001b[39;49m\u001b[43m,\u001b[49m\u001b[43m \u001b[49m\u001b[43m(\u001b[49m\u001b[38;5;241;43m6\u001b[39;49m\u001b[43m,\u001b[49m\u001b[43m \u001b[49m\u001b[38;5;241;43m1\u001b[39;49m\u001b[43m)\u001b[49m\u001b[43m)\u001b[49m\u001b[43m,\u001b[49m\u001b[43m \u001b[49m\u001b[43mmatrix\u001b[49m\u001b[43m(\u001b[49m\u001b[38;5;241;43m0\u001b[39;49m\u001b[43m,\u001b[49m\u001b[43m \u001b[49m\u001b[43m(\u001b[49m\u001b[38;5;241;43m1\u001b[39;49m\u001b[43m,\u001b[49m\u001b[43m \u001b[49m\u001b[38;5;241;43m6\u001b[39;49m\u001b[43m)\u001b[49m\u001b[43m)\u001b[49m\u001b[43m)\u001b[49m\n",
      "\u001b[0;31mArithmeticError\u001b[0m: 5"
     ]
    }
   ],
   "source": [
    "gbsv(A, 1, matrix(1.0, (6, 1)), matrix(0, (1, 6)))"
   ]
  },
  {
   "cell_type": "code",
   "execution_count": 40,
   "id": "4c913780-37a8-48ee-a4fe-05b450c0908c",
   "metadata": {
    "tags": []
   },
   "outputs": [
    {
     "data": {
      "text/plain": [
       "\u001b[0;31mDocstring:\u001b[0m\n",
       "Solves a real or complex set of linear equations with a banded\n",
       "coefficient matrix.\n",
       "\n",
       "gbsv(A, kl, B, ipiv=None, ku=None, n=A.size[1], nrhs=B.size[1],\n",
       "     ldA=max(1,A.size[0]), ldB=max(1,B.size[0]), offsetA=0, \n",
       "     offsetB=0)\n",
       "\n",
       "PURPOSE\n",
       "Solves A*X=B with A an n by n real or complex band matrix with kl\n",
       "subdiagonals and ku superdiagonals.\n",
       "If ipiv is provided, then on entry the kl+ku+1 diagonals of the\n",
       "matrix are stored in rows kl+1 to 2*kl+ku+1 of A, in the BLAS\n",
       "format for general band matrices.  On exit, A and ipiv contain the\n",
       "details of the factorization.  If ipiv is not provided, then on\n",
       "entry the diagonals of the matrix are stored in rows 1 to kl+ku+1 \n",
       "of A, and gbsv() does not return the factorization and does not\n",
       "modify A.  On exit B is replaced with solution X.\n",
       "\n",
       "ARGUMENTS.\n",
       "A         'd' or 'z' banded matrix\n",
       "\n",
       "kl        nonnegative integer\n",
       "\n",
       "B         'd' or 'z' matrix.  Must have the same type as A.\n",
       "\n",
       "ipiv      'i' matrix of length at least n\n",
       "\n",
       "ku        nonnegative integer.  If negative, the default value is\n",
       "          used.  The default value is A.size[0]-kl-1 if ipiv is\n",
       "          not provided, and A.size[0]-2*kl-1 otherwise.\n",
       "\n",
       "n         nonnegative integer.  If negative, the default value is\n",
       "          used.\n",
       "\n",
       "nrhs      nonnegative integer.  If negative, the default value is\n",
       "          used.\n",
       "\n",
       "ldA       positive integer.  ldA >= kl+ku+1 if ipiv is not provided\n",
       "          and ldA >= 2*kl+ku+1 if ipiv is provided.  If zero, the\n",
       "          default value is used.\n",
       "\n",
       "ldB       positive integer.  ldB >= max(1,n).  If zero, the default\n",
       "          default value is used.\n",
       "\n",
       "offsetA   nonnegative integer\n",
       "\n",
       "offsetB   nonnegative integer\n",
       "\u001b[0;31mType:\u001b[0m      builtin_function_or_method"
      ]
     },
     "metadata": {},
     "output_type": "display_data"
    }
   ],
   "source": [
    "?gbsv"
   ]
  },
  {
   "cell_type": "code",
   "execution_count": null,
   "id": "5e19e418-88b0-4e1f-b517-f7e8a94acd3d",
   "metadata": {},
   "outputs": [],
   "source": []
  },
  {
   "cell_type": "code",
   "execution_count": null,
   "id": "cbf43b7b-8934-4932-9a66-8893447e840d",
   "metadata": {},
   "outputs": [],
   "source": []
  }
 ],
 "metadata": {
  "kernelspec": {
   "display_name": "Python 3 (ipykernel)",
   "language": "python",
   "name": "python3"
  },
  "language_info": {
   "codemirror_mode": {
    "name": "ipython",
    "version": 3
   },
   "file_extension": ".py",
   "mimetype": "text/x-python",
   "name": "python",
   "nbconvert_exporter": "python",
   "pygments_lexer": "ipython3",
   "version": "3.11.2"
  }
 },
 "nbformat": 4,
 "nbformat_minor": 5
}
