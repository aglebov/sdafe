{
 "cells": [
  {
   "cell_type": "code",
   "execution_count": 57,
   "id": "f0a99ba4-cd35-40de-aae9-2e70c8fd117f",
   "metadata": {
    "tags": []
   },
   "outputs": [
    {
     "name": "stdout",
     "output_type": "stream",
     "text": [
      "(CVXPY) Apr 19 03:40:35 PM: Encountered unexpected exception importing solver GLPK:\n",
      "ImportError(\"cannot import name 'glpk' from 'cvxopt' (/home/artem/Study/SDAFE/venv/lib/python3.11/site-packages/cvxopt/__init__.py)\")\n",
      "(CVXPY) Apr 19 03:40:35 PM: Encountered unexpected exception importing solver GLPK_MI:\n",
      "ImportError(\"cannot import name 'glpk' from 'cvxopt' (/home/artem/Study/SDAFE/venv/lib/python3.11/site-packages/cvxopt/__init__.py)\")\n"
     ]
    }
   ],
   "source": [
    "import math\n",
    "\n",
    "import numpy as np\n",
    "import pandas as pd\n",
    "import matplotlib.pyplot as plt\n",
    "import scipy.stats as stats\n",
    "import seaborn as sns\n",
    "import statsmodels.api as sm\n",
    "\n",
    "import cvxpy as cp"
   ]
  },
  {
   "cell_type": "markdown",
   "id": "2db2f923-a470-4201-9a07-9686211d72f9",
   "metadata": {
    "tags": []
   },
   "source": [
    "#### Exercise 1"
   ]
  },
  {
   "cell_type": "code",
   "execution_count": 18,
   "id": "01ada62b-e7f9-46dc-b90b-ac64dae2092b",
   "metadata": {
    "tags": []
   },
   "outputs": [],
   "source": [
    "r1 = 2.3\n",
    "r2 = 4.5\n",
    "sigma1 = np.sqrt(6)\n",
    "sigma2 = np.sqrt(11)\n",
    "rho = 0.17"
   ]
  },
  {
   "cell_type": "markdown",
   "id": "e99cef54-f8ae-4834-ac6c-e588daa58792",
   "metadata": {},
   "source": [
    "(a) \n",
    "$$\n",
    "w r_1 + (1-w) r_2 = r_t\n",
    "$$\n",
    "gives us\n",
    "$$w = \\frac{r_t - r_2}{r_1 - r_2}$$"
   ]
  },
  {
   "cell_type": "code",
   "execution_count": 38,
   "id": "652b404f-2fdb-4cb9-ac8a-d4ea04b529d3",
   "metadata": {
    "tags": []
   },
   "outputs": [
    {
     "data": {
      "text/plain": [
       "0.6818181818181818"
      ]
     },
     "execution_count": 38,
     "metadata": {},
     "output_type": "execute_result"
    }
   ],
   "source": [
    "rt = 3\n",
    "w = (rt - r2) / (r1 - r2)\n",
    "w"
   ]
  },
  {
   "cell_type": "code",
   "execution_count": 39,
   "id": "fbfce86b-7b0a-4516-b96f-ad8057143a89",
   "metadata": {
    "tags": []
   },
   "outputs": [
    {
     "data": {
      "text/plain": [
       "3.0"
      ]
     },
     "execution_count": 39,
     "metadata": {},
     "output_type": "execute_result"
    }
   ],
   "source": [
    "w * r1 + (1 - w) * r2"
   ]
  },
  {
   "cell_type": "markdown",
   "id": "2d687fba-7599-4173-9e44-cb262ee65022",
   "metadata": {
    "tags": []
   },
   "source": [
    "(b)\n",
    "$$\n",
    "\\mathrm{Var}[wr_1 + (1-w)r_2] = w^2 \\sigma_1^2 + (1-w)^2 \\sigma_2^2 + 2w(1-w)\\rho\\sigma_1\\sigma_2 = \\sigma^2,\n",
    "$$\n",
    "gives us\n",
    "$$w_{1,2} = \\frac{-2\\sigma_2(\\rho \\sigma_1 - \\sigma_2) \\pm \\sqrt{D}}{2(\\sigma_1^2 + \\sigma_2^2 - 2 \\rho \\sigma_1 \\sigma_2)},$$\n",
    "where\n",
    "$$D = 4 \\sigma_2^2 (\\rho \\sigma_1 - \\sigma_2)^2 - 4(\\sigma_2^2 - \\sigma_t^2)(\\sigma_1^2 + \\sigma_2^2 - 2 \\rho \\sigma_1 \\sigma_2)$$"
   ]
  },
  {
   "cell_type": "code",
   "execution_count": 40,
   "id": "1a4b10b2-8b89-4bc5-8674-71706641e62f",
   "metadata": {
    "tags": []
   },
   "outputs": [],
   "source": [
    "sigmat = np.sqrt(5.5)"
   ]
  },
  {
   "cell_type": "code",
   "execution_count": 41,
   "id": "b1478bea-1591-4e13-8da3-2a7d86ed5359",
   "metadata": {
    "tags": []
   },
   "outputs": [
    {
     "data": {
      "text/plain": [
       "array([0.94039993, 0.41077726])"
      ]
     },
     "execution_count": 41,
     "metadata": {},
     "output_type": "execute_result"
    }
   ],
   "source": [
    "D = 4 * sigma2 ** 2 * (rho * sigma1 - sigma2) ** 2 - 4 * (sigma2 ** 2 - sigmat ** 2) * (sigma1 ** 2 + sigma2 ** 2 - 2 * rho * sigma1 * sigma2)\n",
    "w = (-2 * sigma2 * (rho * sigma1 - sigma2) + np.array([1, -1]) * np.sqrt(D)) / 2 / (sigma1 ** 2 + sigma2 ** 2 - 2 * rho * sigma1 * sigma2)\n",
    "w"
   ]
  },
  {
   "cell_type": "code",
   "execution_count": 42,
   "id": "58e7556b-9e7f-48d4-887d-049460938fa5",
   "metadata": {
    "tags": []
   },
   "outputs": [],
   "source": [
    "def var(w, sigma1, sigma2, rho):\n",
    "    return np.sqrt(w ** 2 * sigma1 ** 2 + (1 - w) ** 2 * sigma2 ** 2 + 2 * w * (1 - w) * rho * sigma1 * sigma2)"
   ]
  },
  {
   "cell_type": "code",
   "execution_count": 35,
   "id": "a6fdbb46-89e5-4cdd-9ed6-51701c07904b",
   "metadata": {
    "tags": []
   },
   "outputs": [
    {
     "data": {
      "text/plain": [
       "array([2.34520788, 2.34520788])"
      ]
     },
     "execution_count": 35,
     "metadata": {},
     "output_type": "execute_result"
    }
   ],
   "source": [
    "var(w, sigma1, sigma2, rho)"
   ]
  },
  {
   "cell_type": "markdown",
   "id": "72167551-9692-4eed-bc78-1caf210093ed",
   "metadata": {},
   "source": [
    "#### Exercise 2\n",
    "\n",
    "Let $r_t$ and $\\sigma_t$ be the expected return and the standard deviation of return on the tangency portfolio, $w_c$ the weight allocated to the risk-free asset, and $\\sigma_*$ the target standard deviation.\n",
    "\n",
    "Then\n",
    "$$w_c r_f + (1 - w_c) r_t = r_*$$\n",
    "and\n",
    "$$(1 - w_c)^2 \\sigma_t^2 = \\sigma_*^2,$$\n",
    "which gives us two solutions:\n",
    "$$w_c = 1 \\pm \\frac{\\sigma_*}{\\sigma_t}.$$\n",
    "\n",
    "Consider the solution $$w_c = 1 + \\frac{\\sigma_*}{\\sigma_t},$$\n",
    "then the resulting portfolio return\n",
    "$$r_* = \\left( 1 + \\frac{\\sigma_*}{\\sigma_t} \\right) r_f - \\frac{\\sigma_*}{\\sigma_t} r_t = r_f + \\frac{\\sigma_*}{\\sigma_t}(r_f - r_t).$$\n",
    "Normally, $r_t > r_f$ which then in this case implies $r_* < r_f$. There is no point constructing a portfolio with a return below risk-free, hence we can ignore this solution.\n",
    "\n",
    "This leaves us with\n",
    "$$w_c = 1 - \\frac{\\sigma_*}{\\sigma_t}.$$\n",
    "\n",
    "The $i$-th asset weight in the overall portfolio is then given by $\\frac{\\sigma_*}{\\sigma_t} w_i$, where $w_i$ is the $i$-th asset weight in the tangency portfolio.\n"
   ]
  },
  {
   "cell_type": "code",
   "execution_count": 43,
   "id": "999432e4-baa5-4c28-ad7f-7cebcf93e1a6",
   "metadata": {
    "tags": []
   },
   "outputs": [],
   "source": [
    "w1 = 0.65\n",
    "w2 = 0.35\n",
    "rt = 5\n",
    "sigmat = 7\n",
    "rf = 1.5\n",
    "sigma_target = 5"
   ]
  },
  {
   "cell_type": "code",
   "execution_count": 44,
   "id": "f1491600-ac41-4825-8023-43531adcf89e",
   "metadata": {
    "tags": []
   },
   "outputs": [],
   "source": [
    "wc = 1 - sigma_target / sigmat"
   ]
  },
  {
   "cell_type": "markdown",
   "id": "dbc55025-e453-4070-9ebc-c37c78159ee7",
   "metadata": {},
   "source": [
    "The weight of the risk-free asset is:"
   ]
  },
  {
   "cell_type": "code",
   "execution_count": 45,
   "id": "a3e2b1c7-092c-4b51-b334-42944d99fd8b",
   "metadata": {
    "tags": []
   },
   "outputs": [
    {
     "data": {
      "text/plain": [
       "0.2857142857142857"
      ]
     },
     "execution_count": 45,
     "metadata": {},
     "output_type": "execute_result"
    }
   ],
   "source": [
    "wc"
   ]
  },
  {
   "cell_type": "markdown",
   "id": "068b4ccf-7479-4a54-95d7-fdb90718aa02",
   "metadata": {},
   "source": [
    "The weight of asset C:"
   ]
  },
  {
   "cell_type": "code",
   "execution_count": 46,
   "id": "3e835f5d-1542-42fd-bed0-a6efbaa1f7da",
   "metadata": {
    "tags": []
   },
   "outputs": [
    {
     "data": {
      "text/plain": [
       "0.4642857142857143"
      ]
     },
     "execution_count": 46,
     "metadata": {},
     "output_type": "execute_result"
    }
   ],
   "source": [
    "(1 - wc) * w1"
   ]
  },
  {
   "cell_type": "markdown",
   "id": "66b5bea2-ee52-46af-bd30-ea5388e42b53",
   "metadata": {},
   "source": [
    "The weight of asset D:"
   ]
  },
  {
   "cell_type": "code",
   "execution_count": 48,
   "id": "dfe1a1b8-5cf8-4ba8-b7d7-81351e94d1e4",
   "metadata": {
    "tags": []
   },
   "outputs": [
    {
     "data": {
      "text/plain": [
       "0.25"
      ]
     },
     "execution_count": 48,
     "metadata": {},
     "output_type": "execute_result"
    }
   ],
   "source": [
    "(1 - wc) * w2"
   ]
  },
  {
   "cell_type": "markdown",
   "id": "1345b254-3bbd-44d8-a933-23e01f8dcfc3",
   "metadata": {
    "tags": []
   },
   "source": [
    "The weights add up to 1:"
   ]
  },
  {
   "cell_type": "code",
   "execution_count": 50,
   "id": "49a0d2a4-800d-4c06-8369-abd8cbc89f73",
   "metadata": {
    "tags": []
   },
   "outputs": [
    {
     "data": {
      "text/plain": [
       "1.0"
      ]
     },
     "execution_count": 50,
     "metadata": {},
     "output_type": "execute_result"
    }
   ],
   "source": [
    "wc + (1 - wc) * w1 + (1 - wc) * w2"
   ]
  },
  {
   "cell_type": "markdown",
   "id": "45f3d946-8487-43f3-ae70-953517140972",
   "metadata": {},
   "source": [
    "#### Exercise 3\n",
    "\n",
    "(a-b) The weight of the $j$-th stock in a portfolio is given by\n",
    "$$w_j = \\frac{P_j n_j}{\\sum_{i=1}^N P_i n_i}.$$"
   ]
  },
  {
   "cell_type": "code",
   "execution_count": 52,
   "id": "8676fbdb-e14d-4344-927d-b76b15651069",
   "metadata": {
    "tags": []
   },
   "outputs": [],
   "source": [
    "p = np.array([75, 115])\n",
    "n = np.array([300, 100])"
   ]
  },
  {
   "cell_type": "markdown",
   "id": "4e431091-b4b0-4cfd-87e8-2699acfcd491",
   "metadata": {},
   "source": [
    "The weights of stocks in the portfolio are:"
   ]
  },
  {
   "cell_type": "code",
   "execution_count": 53,
   "id": "2aa12096-95d4-43e0-b770-1f5992245fbf",
   "metadata": {
    "tags": []
   },
   "outputs": [
    {
     "data": {
      "text/plain": [
       "array([0.66176471, 0.33823529])"
      ]
     },
     "execution_count": 53,
     "metadata": {},
     "output_type": "execute_result"
    }
   ],
   "source": [
    "p * n / np.sum(p * n)"
   ]
  },
  {
   "cell_type": "markdown",
   "id": "3881d0ca-2fa5-4c62-970c-b9c6b45f1ad6",
   "metadata": {},
   "source": [
    "#### Exercise 4"
   ]
  },
  {
   "cell_type": "markdown",
   "id": "45097ec2-78dd-4797-acf2-63a541ab9c0f",
   "metadata": {
    "tags": []
   },
   "source": [
    "Let prices of individual assets be $p_i$ and the quantities of those assets in the portfolio $n_i$.\n",
    "\n",
    "Then the weights of assets are given by\n",
    "$$w_i = \\frac{p_i n_i}{\\sum_{j=1}^N p_j n_j},$$\n",
    "the net returns by\n",
    "$$r_i = \\frac{p'_i}{p_i} - 1,$$\n",
    "and the gross returns by\n",
    "$$R_i = \\frac{p'_i}{p_i},$$\n",
    "where $p_i$ is the price of the asset at time $t-1$ and $p'_i$ is the price of the asset at time $t$. From this we have\n",
    "$$p'_i - p_i = r_i p_i.$$\n",
    "\n",
    "The value of the entire portfolio at time $t-1$ is given by\n",
    "$$P = \\sum_{i=1}^N p_i n_i$$\n",
    "and at time $t$ by\n",
    "$$P' = \\sum_{i=1}^N p'_i n_i.$$\n",
    "\n",
    "The net return on the portfolio is\n",
    "$$\n",
    "r = \\frac{P'}{P'} - 1\n",
    "= \\frac{\\sum_{i=1}^N p'_i n_i}{\\sum_{i=1}^N p_i n_i} - 1 \n",
    "= \\frac{\\sum_{i=1}^N p'_i n_i - \\sum_{i=1}^N p_i n_i}{\\sum_{i=1}^N p_i n_i}\n",
    "= \\frac{\\sum_{i=1}^N (p'_i - p_i) n_i}{\\sum_{i=1}^N p_i n_i}\n",
    "= \\frac{\\sum_{i=1}^N r_i p_i n_i}{\\sum_{i=1}^N p_i n_i}\n",
    "= \\sum_{i=1}^N r_i \\frac{p_i n_i}{\\sum_{j=1}^N p_j n_j}\n",
    "= \\sum_{i=1}^N r_i w_i.\n",
    "$$\n",
    "\n",
    "The gross return on the portfolio is\n",
    "$$\n",
    "R = \\frac{P'}{P'} = r + 1 = \\sum_{i=1}^N r_i w_i + 1 = \\sum_{i=1}^N r_i w_i + \\sum_{i=1}^N w_i = \\sum_{i=1}^N (r_i + 1) w_i = \\sum_{i=1}^N R_i w_i.\n",
    "$$\n",
    "\n",
    "However for log returns:\n",
    "$$\n",
    "\\log R = \\log \\left( \\sum_{i=1}^N R_i w_i \\right) \\neq \\sum_{i=1}^N w_i \\log R_i.$$"
   ]
  },
  {
   "cell_type": "markdown",
   "id": "340b0150-3ecc-493a-872f-4c7199add9d6",
   "metadata": {
    "tags": []
   },
   "source": [
    "#### Exercise 5"
   ]
  },
  {
   "cell_type": "code",
   "execution_count": 87,
   "id": "352b94bb-e0bd-4358-856d-5d11a1c04564",
   "metadata": {
    "tags": []
   },
   "outputs": [],
   "source": [
    "mu = np.array([0.0032, 0.0074])\n",
    "sigma = np.array([\n",
    "    [0.0170, 0.0059],\n",
    "    [0.0059, 0.025],\n",
    "])\n",
    "mu_b = np.array([0.0047, 0.0065])\n",
    "sigma_b = np.array([\n",
    "    [0.0125, 0.0058],\n",
    "    [0.0058, 0.023],\n",
    "])\n",
    "mu_target = 0.005"
   ]
  },
  {
   "cell_type": "markdown",
   "id": "fd7c3a54-3650-464b-adc3-d46034c54032",
   "metadata": {},
   "source": [
    "(a)"
   ]
  },
  {
   "cell_type": "code",
   "execution_count": 88,
   "id": "777a95e7-5206-496f-bc36-bc89ad36b039",
   "metadata": {
    "tags": []
   },
   "outputs": [
    {
     "data": {
      "text/plain": [
       "array([0.83333333, 0.16666667])"
      ]
     },
     "execution_count": 88,
     "metadata": {},
     "output_type": "execute_result"
    }
   ],
   "source": [
    "w = cp.Variable(2)\n",
    "risk = cp.quad_form(w, sigma_b)\n",
    "prob = cp.Problem(cp.Minimize(risk), [w.T @ mu_b == mu_target, cp.sum(w) == 1])\n",
    "prob.solve()\n",
    "w.value"
   ]
  },
  {
   "cell_type": "markdown",
   "id": "9d8c1233-d1fd-4fdd-9893-1b8abbd2192e",
   "metadata": {},
   "source": [
    "The solution provided by the authors (https://people.orie.cornell.edu/davidr/SDAFE2/Solutions/chapter16.pdf) does not appear to be correct:"
   ]
  },
  {
   "cell_type": "code",
   "execution_count": null,
   "id": "84bc7338-129b-45ab-9c9c-295912557257",
   "metadata": {},
   "outputs": [],
   "source": [
    "w_sol = np.array([0.5714, 0.4286])"
   ]
  },
  {
   "cell_type": "code",
   "execution_count": null,
   "id": "75a01d35-2b8f-4c08-910c-3f1f7e37b7d3",
   "metadata": {},
   "outputs": [
    {
     "data": {
      "text/plain": [
       "0.00547148"
      ]
     },
     "execution_count": 96,
     "metadata": {},
     "output_type": "execute_result"
    }
   ],
   "source": [
    "w_sol.T @ mu_b"
   ]
  },
  {
   "cell_type": "code",
   "execution_count": 101,
   "id": "10e37f32-5472-4aa7-82ba-e809e8b3badc",
   "metadata": {
    "tags": []
   },
   "outputs": [
    {
     "data": {
      "text/plain": [
       "0.011147141244"
      ]
     },
     "execution_count": 101,
     "metadata": {},
     "output_type": "execute_result"
    }
   ],
   "source": [
    "w_sol.T @ sigma_b @ w_sol"
   ]
  },
  {
   "cell_type": "code",
   "execution_count": 102,
   "id": "c5407ad8-7911-4a5a-affd-0f1dd277bce0",
   "metadata": {
    "tags": []
   },
   "outputs": [
    {
     "data": {
      "text/plain": [
       "0.00500012"
      ]
     },
     "execution_count": 102,
     "metadata": {},
     "output_type": "execute_result"
    }
   ],
   "source": [
    "w_sol.T @ mu"
   ]
  },
  {
   "cell_type": "code",
   "execution_count": 103,
   "id": "a86389e4-801d-4a5e-bb4b-041edf355ab5",
   "metadata": {
    "tags": []
   },
   "outputs": [
    {
     "data": {
      "text/plain": [
       "0.013032758392"
      ]
     },
     "execution_count": 103,
     "metadata": {},
     "output_type": "execute_result"
    }
   ],
   "source": [
    "w_sol.T @ sigma @ w_sol"
   ]
  },
  {
   "cell_type": "markdown",
   "id": "de6cacab-045b-4a6b-bf5d-d992cd773637",
   "metadata": {},
   "source": [
    "(b)"
   ]
  },
  {
   "cell_type": "code",
   "execution_count": 64,
   "id": "5efd9419-9359-4f16-aa58-1b6836f8d0b3",
   "metadata": {
    "tags": []
   },
   "outputs": [
    {
     "data": {
      "text/plain": [
       "0.010930555555555551"
      ]
     },
     "execution_count": 64,
     "metadata": {},
     "output_type": "execute_result"
    }
   ],
   "source": [
    "risk.value"
   ]
  },
  {
   "cell_type": "markdown",
   "id": "dd985d98-57b5-4847-969f-3ebef762ae48",
   "metadata": {},
   "source": [
    "(c) The actual portfolio mean return is:"
   ]
  },
  {
   "cell_type": "code",
   "execution_count": 65,
   "id": "41c123c0-e073-4748-9236-8bc1a33b0e5b",
   "metadata": {
    "tags": []
   },
   "outputs": [
    {
     "data": {
      "text/plain": [
       "0.003900000000000004"
      ]
     },
     "execution_count": 65,
     "metadata": {},
     "output_type": "execute_result"
    }
   ],
   "source": [
    "w.value.T @ mu"
   ]
  },
  {
   "cell_type": "markdown",
   "id": "7b49714a-6666-4fea-b261-5d2465f76d6f",
   "metadata": {},
   "source": [
    "and the variance is:"
   ]
  },
  {
   "cell_type": "code",
   "execution_count": 66,
   "id": "4ea59737-97ec-4edd-b2f8-55a01adf119e",
   "metadata": {
    "tags": []
   },
   "outputs": [
    {
     "data": {
      "text/plain": [
       "0.01413888888888888"
      ]
     },
     "execution_count": 66,
     "metadata": {},
     "output_type": "execute_result"
    }
   ],
   "source": [
    "w.value.T @ sigma @ w.value"
   ]
  },
  {
   "cell_type": "markdown",
   "id": "a57ca4ea-f1c4-414e-9a0f-7592a4ec1ea6",
   "metadata": {},
   "source": [
    "#### Exercise 6"
   ]
  },
  {
   "cell_type": "code",
   "execution_count": 67,
   "id": "9ecec32a-ad82-4f49-9575-591b032fea34",
   "metadata": {
    "tags": []
   },
   "outputs": [],
   "source": [
    "mu = np.array([0.001, 0.0015])\n",
    "n = np.array([200, 100])\n",
    "p = np.array([100, 125])\n",
    "sd = np.array([0.03, 0.04])\n",
    "rho = 0.35"
   ]
  },
  {
   "cell_type": "code",
   "execution_count": 81,
   "id": "0356c717-6e82-4f5f-9a23-9c3b1373b352",
   "metadata": {
    "tags": []
   },
   "outputs": [],
   "source": [
    "w = n * p / np.sum(n * p)"
   ]
  },
  {
   "cell_type": "markdown",
   "id": "4354f1ad-5d3c-4bfe-b43b-ec2f579e95ba",
   "metadata": {},
   "source": [
    "The correlation matrix of the stock returns is:"
   ]
  },
  {
   "cell_type": "code",
   "execution_count": 78,
   "id": "af23106f-ddb6-4c13-a33d-48386b9f7576",
   "metadata": {
    "tags": []
   },
   "outputs": [
    {
     "data": {
      "text/plain": [
       "array([[1.  , 0.35],\n",
       "       [0.35, 1.  ]])"
      ]
     },
     "execution_count": 78,
     "metadata": {},
     "output_type": "execute_result"
    }
   ],
   "source": [
    "corr = np.array([\n",
    "    [1, rho],\n",
    "    [rho, 1]\n",
    "])\n",
    "corr"
   ]
  },
  {
   "cell_type": "code",
   "execution_count": 79,
   "id": "d89becfa-ef68-4817-af15-5eb01d02957b",
   "metadata": {
    "tags": []
   },
   "outputs": [],
   "source": [
    "sigma = np.diag(sd) @ corr @ np.diag(sd)"
   ]
  },
  {
   "cell_type": "markdown",
   "id": "4aa27c70-5bd6-42d7-adcd-e6013bcb20f2",
   "metadata": {},
   "source": [
    "The return on the portfolio:"
   ]
  },
  {
   "cell_type": "code",
   "execution_count": 82,
   "id": "3c3a14b8-411f-4ebb-94e5-45f2a3a199b1",
   "metadata": {
    "tags": []
   },
   "outputs": [
    {
     "data": {
      "text/plain": [
       "0.0011923076923076924"
      ]
     },
     "execution_count": 82,
     "metadata": {},
     "output_type": "execute_result"
    }
   ],
   "source": [
    "w.T @ mu"
   ]
  },
  {
   "cell_type": "markdown",
   "id": "31e9cd51-895e-4077-815b-615c829b37fb",
   "metadata": {
    "tags": []
   },
   "source": [
    "The standard deviation of the portfolio return:"
   ]
  },
  {
   "cell_type": "code",
   "execution_count": 85,
   "id": "c830e417-d9b3-42ed-a4d7-8535f0b358da",
   "metadata": {
    "tags": []
   },
   "outputs": [
    {
     "data": {
      "text/plain": [
       "0.027862723501961284"
      ]
     },
     "execution_count": 85,
     "metadata": {},
     "output_type": "execute_result"
    }
   ],
   "source": [
    "np.sqrt(w.T @ sigma @ w)"
   ]
  }
 ],
 "metadata": {
  "kernelspec": {
   "display_name": "Python 3 (ipykernel)",
   "language": "python",
   "name": "python3"
  },
  "language_info": {
   "codemirror_mode": {
    "name": "ipython",
    "version": 3
   },
   "file_extension": ".py",
   "mimetype": "text/x-python",
   "name": "python",
   "nbconvert_exporter": "python",
   "pygments_lexer": "ipython3",
   "version": "3.11.2"
  }
 },
 "nbformat": 4,
 "nbformat_minor": 5
}
