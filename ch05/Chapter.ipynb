{
 "cells": [
  {
   "cell_type": "code",
   "execution_count": 31,
   "id": "46193fce-6e7d-40e9-b24c-feedadbaae78",
   "metadata": {
    "tags": []
   },
   "outputs": [],
   "source": [
    "import numpy as np\n",
    "import pandas as pd\n",
    "import matplotlib.pyplot as plt\n",
    "import scipy.stats as stats\n",
    "from scipy.optimize import minimize\n",
    "from scipy.misc import derivative"
   ]
  },
  {
   "cell_type": "code",
   "execution_count": 32,
   "id": "875819f3-f4d7-4f96-82ef-7ba0d967c5aa",
   "metadata": {
    "tags": []
   },
   "outputs": [],
   "source": [
    "import sys\n",
    "sys.path.append('/home/artem/git/sdafe-utils')"
   ]
  },
  {
   "cell_type": "code",
   "execution_count": 34,
   "id": "3fe0d485-678b-44a7-bcd0-8e27d585aa3a",
   "metadata": {
    "tags": []
   },
   "outputs": [],
   "source": [
    "from sdafe.ch05.mle import mle_se, aic, bic\n",
    "from sdafe.ch05.univariate import dged, dsged, dsstd"
   ]
  },
  {
   "cell_type": "markdown",
   "id": "bc12e961-56ae-406a-bc62-37c5867dc990",
   "metadata": {
    "tags": []
   },
   "source": [
    "### 5.6 Generalized Error Distributions"
   ]
  },
  {
   "cell_type": "code",
   "execution_count": 35,
   "id": "3f4f6a48-2f7f-489f-80a2-f88eda21da43",
   "metadata": {
    "tags": []
   },
   "outputs": [],
   "source": [
    "xs = np.array([-5, -2, -1, 0, 1, 2, 5])"
   ]
  },
  {
   "cell_type": "code",
   "execution_count": 36,
   "id": "577b871c-879d-44e1-8dde-dcd1ddb82fc7",
   "metadata": {
    "tags": []
   },
   "outputs": [
    {
     "data": {
      "text/plain": [
       "array([0.00629197, 0.07816905, 0.14185042, 0.2154269 , 0.2154269 ,\n",
       "       0.14185042, 0.01617664])"
      ]
     },
     "execution_count": 36,
     "metadata": {},
     "output_type": "execute_result"
    }
   ],
   "source": [
    "dged(xs, 0.5, 2, 1.5)"
   ]
  },
  {
   "cell_type": "code",
   "execution_count": 37,
   "id": "8b986f82-4e88-456d-afde-e46bcd32575c",
   "metadata": {
    "tags": []
   },
   "outputs": [
    {
     "data": {
      "text/plain": [
       "array([0.01027024, 0.07004339, 0.11518841, 0.17287878, 0.23004985,\n",
       "       0.20420655, 0.00653799])"
      ]
     },
     "execution_count": 37,
     "metadata": {},
     "output_type": "execute_result"
    }
   ],
   "source": [
    "dsged(xs, 0.5, 2, 1.5, 0.7)"
   ]
  },
  {
   "cell_type": "markdown",
   "id": "e70bfb19-1828-4a96-8202-533d44d8be3a",
   "metadata": {},
   "source": [
    "### 5.14 Fitting Distributions by Maximum Likelihood"
   ]
  },
  {
   "cell_type": "code",
   "execution_count": 38,
   "id": "2048f054-2076-40bb-a318-09acd00b128b",
   "metadata": {
    "tags": []
   },
   "outputs": [
    {
     "data": {
      "text/html": [
       "<div>\n",
       "<style scoped>\n",
       "    .dataframe tbody tr th:only-of-type {\n",
       "        vertical-align: middle;\n",
       "    }\n",
       "\n",
       "    .dataframe tbody tr th {\n",
       "        vertical-align: top;\n",
       "    }\n",
       "\n",
       "    .dataframe thead th {\n",
       "        text-align: right;\n",
       "    }\n",
       "</style>\n",
       "<table border=\"1\" class=\"dataframe\">\n",
       "  <thead>\n",
       "    <tr style=\"text-align: right;\">\n",
       "      <th></th>\n",
       "      <th>rfood</th>\n",
       "      <th>rdur</th>\n",
       "      <th>rcon</th>\n",
       "      <th>rmrf</th>\n",
       "      <th>rf</th>\n",
       "    </tr>\n",
       "  </thead>\n",
       "  <tbody>\n",
       "    <tr>\n",
       "      <th>1</th>\n",
       "      <td>-4.59</td>\n",
       "      <td>0.87</td>\n",
       "      <td>-6.84</td>\n",
       "      <td>-6.99</td>\n",
       "      <td>0.33</td>\n",
       "    </tr>\n",
       "    <tr>\n",
       "      <th>2</th>\n",
       "      <td>2.62</td>\n",
       "      <td>3.46</td>\n",
       "      <td>2.78</td>\n",
       "      <td>0.99</td>\n",
       "      <td>0.29</td>\n",
       "    </tr>\n",
       "    <tr>\n",
       "      <th>3</th>\n",
       "      <td>-1.67</td>\n",
       "      <td>-2.28</td>\n",
       "      <td>-0.48</td>\n",
       "      <td>-1.46</td>\n",
       "      <td>0.35</td>\n",
       "    </tr>\n",
       "    <tr>\n",
       "      <th>4</th>\n",
       "      <td>0.86</td>\n",
       "      <td>2.41</td>\n",
       "      <td>-2.02</td>\n",
       "      <td>-1.70</td>\n",
       "      <td>0.19</td>\n",
       "    </tr>\n",
       "    <tr>\n",
       "      <th>5</th>\n",
       "      <td>7.34</td>\n",
       "      <td>6.33</td>\n",
       "      <td>3.69</td>\n",
       "      <td>3.08</td>\n",
       "      <td>0.27</td>\n",
       "    </tr>\n",
       "  </tbody>\n",
       "</table>\n",
       "</div>"
      ],
      "text/plain": [
       "   rfood  rdur  rcon  rmrf    rf\n",
       "1  -4.59  0.87 -6.84 -6.99  0.33\n",
       "2   2.62  3.46  2.78  0.99  0.29\n",
       "3  -1.67 -2.28 -0.48 -1.46  0.35\n",
       "4   0.86  2.41 -2.02 -1.70  0.19\n",
       "5   7.34  6.33  3.69  3.08  0.27"
      ]
     },
     "execution_count": 38,
     "metadata": {},
     "output_type": "execute_result"
    }
   ],
   "source": [
    "capm = pd.read_csv(\"../data/Capm.csv\", index_col=0)\n",
    "capm.head()"
   ]
  },
  {
   "cell_type": "code",
   "execution_count": 39,
   "id": "4896ee55-c662-408d-b633-a22422a21fcd",
   "metadata": {
    "tags": []
   },
   "outputs": [],
   "source": [
    "x = capm['rf'].diff().dropna()"
   ]
  },
  {
   "cell_type": "markdown",
   "id": "b8d0de27-3fc7-4be2-8162-33a9ac09cae7",
   "metadata": {},
   "source": [
    "#### Fit symmetric t-distribution"
   ]
  },
  {
   "cell_type": "code",
   "execution_count": 40,
   "id": "8454654a-5c40-478b-b323-c836cafbcf83",
   "metadata": {
    "tags": []
   },
   "outputs": [],
   "source": [
    "start = np.array([np.mean(x), np.std(x, ddof=1), 5])"
   ]
  },
  {
   "cell_type": "code",
   "execution_count": 41,
   "id": "b0d39ad2-ca2b-42d5-87c8-e57680414c79",
   "metadata": {
    "tags": []
   },
   "outputs": [],
   "source": [
    "loglik_f = lambda beta: np.sum(-np.log(stats.t.pdf((x - beta[0]) / beta[1], beta[2])) + np.log(beta[1]))"
   ]
  },
  {
   "cell_type": "code",
   "execution_count": 42,
   "id": "535ed32c-73ef-4608-98c5-4b9a56b01373",
   "metadata": {
    "tags": []
   },
   "outputs": [
    {
     "data": {
      "text/plain": [
       "  message: CONVERGENCE: REL_REDUCTION_OF_F_<=_FACTR*EPSMCH\n",
       "  success: True\n",
       "   status: 0\n",
       "      fun: -693.1793170655013\n",
       "        x: [ 1.215e-03  4.584e-02  3.334e+00]\n",
       "      nit: 20\n",
       "      jac: [ 0.000e+00 -2.387e-04 -1.137e-05]\n",
       "     nfev: 112\n",
       "     njev: 28\n",
       " hess_inv: <3x3 LbfgsInvHessProduct with dtype=float64>"
      ]
     },
     "execution_count": 42,
     "metadata": {},
     "output_type": "execute_result"
    }
   ],
   "source": [
    "fit_t = minimize(loglik_f, start, method='L-BFGS-B', bounds=[(-1, None), (0.001, None), (1, None)])\n",
    "fit_t"
   ]
  },
  {
   "cell_type": "markdown",
   "id": "93899a65-470e-40bf-b0a6-f2bf3d51483e",
   "metadata": {},
   "source": [
    "NB the inverse Hessian approximation returned by ``scipy.optimize.minimize`` is unstable (in particular, it seems to be sensitive to the starting point)."
   ]
  },
  {
   "cell_type": "code",
   "execution_count": 43,
   "id": "0c3dfb48-20e7-49bc-bfce-14933a84f626",
   "metadata": {
    "tags": []
   },
   "outputs": [
    {
     "data": {
      "text/plain": [
       "array([1.21472223e-03, 4.58428407e-02, 3.33396451e+00])"
      ]
     },
     "execution_count": 43,
     "metadata": {},
     "output_type": "execute_result"
    }
   ],
   "source": [
    "fit_t.x"
   ]
  },
  {
   "cell_type": "code",
   "execution_count": 44,
   "id": "357a3f5a-40bc-4e7b-a8fd-3d9d3d87397b",
   "metadata": {
    "tags": []
   },
   "outputs": [
    {
     "data": {
      "text/plain": [
       "array([2.67304507e-03, 6.97907604e-03, 3.72350982e+00])"
      ]
     },
     "execution_count": 44,
     "metadata": {},
     "output_type": "execute_result"
    }
   ],
   "source": [
    "np.sqrt(np.diag(fit_t.hess_inv.todense()))"
   ]
  },
  {
   "cell_type": "markdown",
   "id": "9a9189e3-16a7-45b7-ba4d-b0c9aa95f550",
   "metadata": {},
   "source": [
    "So we attempt to calculate the Hessian numerically ourselves:"
   ]
  },
  {
   "cell_type": "code",
   "execution_count": 45,
   "id": "c3c8016c-9e47-4eb6-8542-eab204533f36",
   "metadata": {
    "tags": []
   },
   "outputs": [],
   "source": [
    "def second_deriv(f, x0, dx):\n",
    "    \"\"\"Numerically approximate the second derivative using a symmetric difference\"\"\"\n",
    "    return (f(x0 + dx) - 2 * f(x0) + f(x0 - dx)) / dx ** 2"
   ]
  },
  {
   "cell_type": "code",
   "execution_count": 46,
   "id": "0a5edd4b-2fef-49e9-bafe-095ab5755549",
   "metadata": {
    "tags": []
   },
   "outputs": [],
   "source": [
    "def second_deriv_comp(f, x0, i, dx):\n",
    "    \"\"\"Numerically approximate the second derivative by a component of the input vector\"\"\"\n",
    "    def f_mod(x):\n",
    "        x0c = x0.copy()\n",
    "        x0c[i] = x\n",
    "        return f(x0c)\n",
    "    return second_deriv(f_mod, x0[i], dx)"
   ]
  },
  {
   "cell_type": "markdown",
   "id": "387311c1-b979-4997-8d6b-feafdcc7490c",
   "metadata": {},
   "source": [
    "Plot the sensitivity of the numerically approximated derivative value to the choice of the increment:"
   ]
  },
  {
   "cell_type": "code",
   "execution_count": 47,
   "id": "a6b4a0f0-56f3-4cff-a82e-000d652c7e43",
   "metadata": {
    "tags": []
   },
   "outputs": [
    {
     "name": "stderr",
     "output_type": "stream",
     "text": [
      "/tmp/ipykernel_190184/817180242.py:1: RuntimeWarning: invalid value encountered in log\n",
      "  loglik_f = lambda beta: np.sum(-np.log(stats.t.pdf((x - beta[0]) / beta[1], beta[2])) + np.log(beta[1]))\n"
     ]
    },
    {
     "data": {
      "image/png": "[encoded data removed]",
      "text/plain": [
       "<Figure size 1600x400 with 3 Axes>"
      ]
     },
     "metadata": {},
     "output_type": "display_data"
    }
   ],
   "source": [
    "xs = np.exp(np.linspace(-20, -0.1))\n",
    "\n",
    "fig, axs = plt.subplots(1, 3, figsize=(16, 4))\n",
    "\n",
    "for i in range(len(fit_t.x)):\n",
    "    d2f = lambda dx: second_deriv_comp(loglik_f, fit_t.x, i, dx)\n",
    "    ys = [d2f(x) for x in xs]\n",
    "\n",
    "    axs[i].plot(xs, ys)\n",
    "    axs[i].set_xscale('log')\n",
    "    axs[i].set_title(f'Argument {i}')"
   ]
  },
  {
   "cell_type": "markdown",
   "id": "188a3544-8d1d-4f9e-8c74-e741314444df",
   "metadata": {},
   "source": [
    "Calculate standard errors of the MLE estimates using the Hessian:"
   ]
  },
  {
   "cell_type": "code",
   "execution_count": 48,
   "id": "69bdd206-2cf1-4d17-8114-accfaa3729ac",
   "metadata": {
    "tags": []
   },
   "outputs": [
    {
     "data": {
      "text/plain": [
       "array([1.21472223e-03, 4.58428407e-02, 3.33396451e+00])"
      ]
     },
     "execution_count": 48,
     "metadata": {},
     "output_type": "execute_result"
    }
   ],
   "source": [
    "fit_t.x"
   ]
  },
  {
   "cell_type": "code",
   "execution_count": 49,
   "id": "844f243b-6f97-4759-972f-afee9558489a",
   "metadata": {
    "tags": []
   },
   "outputs": [
    {
     "data": {
      "text/plain": [
       "array([0.00245358, 0.00246146, 0.49987179])"
      ]
     },
     "execution_count": 49,
     "metadata": {},
     "output_type": "execute_result"
    }
   ],
   "source": [
    "mle_se(fit_t.x, loglik_f, 1e-6)"
   ]
  },
  {
   "cell_type": "code",
   "execution_count": 50,
   "id": "46b32d81-955e-444b-9a4a-2ca4c1926913",
   "metadata": {
    "tags": []
   },
   "outputs": [
    {
     "data": {
      "text/plain": [
       "-1380.3586341310026"
      ]
     },
     "execution_count": 50,
     "metadata": {},
     "output_type": "execute_result"
    }
   ],
   "source": [
    "aic(fit_t)"
   ]
  },
  {
   "cell_type": "code",
   "execution_count": 51,
   "id": "8ecc1074-cdf3-4ed3-b1e6-149234788aad",
   "metadata": {
    "tags": []
   },
   "outputs": [
    {
     "data": {
      "text/plain": [
       "-1367.6261334290114"
      ]
     },
     "execution_count": 51,
     "metadata": {},
     "output_type": "execute_result"
    }
   ],
   "source": [
    "bic(fit_t, len(x))"
   ]
  },
  {
   "cell_type": "markdown",
   "id": "1855fac2-3349-4d1f-a68b-ee92fb133aae",
   "metadata": {},
   "source": [
    "Fit skewed t distribution"
   ]
  },
  {
   "cell_type": "code",
   "execution_count": 52,
   "id": "a7cd1ae6-821e-463e-90e8-ef8eb9b2bfc2",
   "metadata": {
    "tags": []
   },
   "outputs": [],
   "source": [
    "loglik_f = lambda beta: np.sum(-np.log(dsstd(x, mean=beta[0], sd=beta[1], nu=beta[2], xi=beta[3])))"
   ]
  },
  {
   "cell_type": "code",
   "execution_count": 53,
   "id": "f853e25c-aa4d-485f-b50e-e517d031bc38",
   "metadata": {
    "tags": []
   },
   "outputs": [],
   "source": [
    "start = np.array([np.mean(x), np.std(x, ddof=1), 5, 1])"
   ]
  },
  {
   "cell_type": "code",
   "execution_count": 54,
   "id": "3db43967-3f32-4667-b855-935a9ddc10c1",
   "metadata": {
    "tags": []
   },
   "outputs": [
    {
     "data": {
      "text/plain": [
       "  message: CONVERGENCE: REL_REDUCTION_OF_F_<=_FACTR*EPSMCH\n",
       "  success: True\n",
       "   status: 0\n",
       "      fun: -693.1795188395072\n",
       "        x: [ 1.180e-03  7.246e-02  3.336e+00  9.987e-01]\n",
       "      nit: 30\n",
       "      jac: [ 2.046e-04 -1.228e-03 -2.274e-05  0.000e+00]\n",
       "     nfev: 180\n",
       "     njev: 36\n",
       " hess_inv: <4x4 LbfgsInvHessProduct with dtype=float64>"
      ]
     },
     "execution_count": 54,
     "metadata": {},
     "output_type": "execute_result"
    }
   ],
   "source": [
    "fit_t = minimize(loglik_f, start, method='L-BFGS-B', bounds=[(-1, None), (0.001, None), (2.1, None), (0, None)])\n",
    "fit_t"
   ]
  },
  {
   "cell_type": "code",
   "execution_count": 55,
   "id": "24ee9c3e-6a75-4ea0-b40c-c37f3ffa4dfe",
   "metadata": {
    "tags": []
   },
   "outputs": [
    {
     "data": {
      "text/plain": [
       "array([0.01795505, 0.01332224, 3.5029864 , 0.27201348])"
      ]
     },
     "execution_count": 55,
     "metadata": {},
     "output_type": "execute_result"
    }
   ],
   "source": [
    "np.sqrt(np.diag(fit_t.hess_inv.todense()))"
   ]
  },
  {
   "cell_type": "code",
   "execution_count": 56,
   "id": "05df22a8-9156-4454-a602-8b171bb704da",
   "metadata": {
    "tags": []
   },
   "outputs": [
    {
     "data": {
      "text/plain": [
       "array([0.00299423, 0.00659192, 0.50778325, 0.06431231])"
      ]
     },
     "execution_count": 56,
     "metadata": {},
     "output_type": "execute_result"
    }
   ],
   "source": [
    "mle_se(fit_t.x, loglik_f, 1e-6)"
   ]
  },
  {
   "cell_type": "code",
   "execution_count": 57,
   "id": "25486adf-50ea-4d81-97fc-1d0379dbb8a6",
   "metadata": {
    "tags": []
   },
   "outputs": [
    {
     "data": {
      "text/plain": [
       "-1378.3590376790144"
      ]
     },
     "execution_count": 57,
     "metadata": {},
     "output_type": "execute_result"
    }
   ],
   "source": [
    "aic(fit_t)"
   ]
  },
  {
   "cell_type": "code",
   "execution_count": 58,
   "id": "d7344c92-b435-431a-aac9-60bbafbd003e",
   "metadata": {
    "tags": []
   },
   "outputs": [
    {
     "data": {
      "text/plain": [
       "-1361.3823700763594"
      ]
     },
     "execution_count": 58,
     "metadata": {},
     "output_type": "execute_result"
    }
   ],
   "source": [
    "bic(fit_t, len(x))"
   ]
  }
 ],
 "metadata": {
  "kernelspec": {
   "display_name": "Python 3 (ipykernel)",
   "language": "python",
   "name": "python3"
  },
  "language_info": {
   "codemirror_mode": {
    "name": "ipython",
    "version": 3
   },
   "file_extension": ".py",
   "mimetype": "text/x-python",
   "name": "python",
   "nbconvert_exporter": "python",
   "pygments_lexer": "ipython3",
   "version": "3.11.3"
  }
 },
 "nbformat": 4,
 "nbformat_minor": 5
}
