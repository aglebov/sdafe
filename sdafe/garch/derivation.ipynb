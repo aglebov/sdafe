{
 "cells": [
  {
   "cell_type": "markdown",
   "source": [
    "### The derivation of the formula used in `sdafe.garch.ewma.sigma_step`\n",
    "\n",
    "Start with\n",
    "$$\n",
    "\\hat{\\Sigma}_t = (1-\\lambda) \\sum_{i=1}^\\infty \\lambda^{i-1} a_{t-i}a_{t-i}^T\n",
    "$$\n",
    "and note that the weights sum up to 1:\n",
    "$$\n",
    "(1-\\lambda) \\sum_{i=1}^\\infty \\lambda^{i-1} = (1-\\lambda) \\sum_{i=0}^\\infty \\lambda^i = (1-\\lambda) \\frac{1}{1-\\lambda} = 1.\n",
    "$$\n",
    "\n",
    "Now if we only have a finite number of terms:\n",
    "$$\n",
    "\\hat{\\Sigma}_t = a (1-\\lambda) \\sum_{i=1}^{t-1} \\lambda^{i-1} a_{t-i}a_{t-i}^T\n",
    "$$\n",
    "we need to renormalise the weights, so that\n",
    "$$\n",
    "1 = a (1-\\lambda) \\sum_{i=1}^{t-1} \\lambda^{i-1} = a (1-\\lambda) \\sum_{i=0}^{t-2} \\lambda^{i-1} = a (1-\\lambda) \\frac{1 - \\lambda^{t-1}}{1 - \\lambda} = a (1 - \\lambda^{t-1}),\n",
    "$$\n",
    "which gives us $a=(1-\\lambda^{t-1})^{-1}$ and\n",
    "$$\n",
    "\\hat{\\Sigma}_t = \\frac{1-\\lambda}{1-\\lambda^{t-1}} \\sum_{i=1}^{t-1} \\lambda^{i-1} a_{t-i}a_{t-i}^T.\n",
    "$$\n",
    "\n",
    "Now we take the first term out of the sum:\n",
    "$$\n",
    "\\begin{equation}\n",
    "\\begin{split}\n",
    "\\hat{\\Sigma}_t\n",
    "&=& \\frac{1-\\lambda}{1-\\lambda^{t-1}} a_{t-1} a_{t-1}^T + \\frac{1-\\lambda}{1-\\lambda^{t-1}} \\sum_{i=2}^{t-1} \\lambda^{i-1} a_{t-i}a_{t-i}^T \\\\\n",
    "&=& \\frac{1-\\lambda}{1-\\lambda^{t-1}} a_{t-1} a_{t-1}^T + \\frac{1-\\lambda}{1-\\lambda^{t-1}} \\sum_{i=1}^{t-2} \\lambda^i a_{t-1-i}a_{t-1-i}^T. \\\\\n",
    "\\end{split}\n",
    "\\end{equation}\n",
    "$$\n",
    "\n",
    "We notice that\n",
    "$$\n",
    "\\hat{\\Sigma}_{t-1} = \\frac{1-\\lambda}{1-\\lambda^{t-2}} \\sum_{i=1}^{t-2} \\lambda^{i-1} a_{t-1-i}a_{t-1-i}^T,\n",
    "$$\n",
    "so\n",
    "$$\n",
    "\\begin{equation}\n",
    "\\begin{split}\n",
    "\\hat{\\Sigma}_t\n",
    "&=& \\frac{1-\\lambda}{1-\\lambda^{t-1}} a_{t-1} a_{t-1}^T + \\frac{1-\\lambda}{1-\\lambda^{t-1}} \\lambda \\frac{1-\\lambda^{t-2}}{1-\\lambda} \\hat{\\Sigma}_{t-1}. \\\\\n",
    "&=& \\frac{1-\\lambda}{1-\\lambda^{t-1}} a_{t-1} a_{t-1}^T + \\lambda \\frac{1-\\lambda^{t-2}}{1-\\lambda^{t-1}} \\hat{\\Sigma}_{t-1}. \\\\\n",
    "\\end{split}\n",
    "\\end{equation}\n",
    "$$\n",
    "\n",
    "Note that $\\hat{\\Sigma}_1$ does not exist, and that even if $\\hat{\\Sigma}_1$ existed,\n",
    "$$\n",
    "\\hat{\\Sigma}_2\n",
    "= \\frac{1-\\lambda}{1-\\lambda} a_1 a_1^T + \\lambda \\frac{1-\\lambda^0}{1-\\lambda} \\hat{\\Sigma}_1 = a_1 a_1^T \\\\\n",
    "$$\n",
    "would not depend on it.\n",
    "\n",
    "Therefore, we set $\\hat{\\Sigma}_2$ to the marginal covariance and start the recursion from $t=3$."
   ],
   "metadata": {
    "collapsed": false
   }
  }
 ],
 "metadata": {
  "kernelspec": {
   "display_name": "Python 3",
   "language": "python",
   "name": "python3"
  },
  "language_info": {
   "codemirror_mode": {
    "name": "ipython",
    "version": 2
   },
   "file_extension": ".py",
   "mimetype": "text/x-python",
   "name": "python",
   "nbconvert_exporter": "python",
   "pygments_lexer": "ipython2",
   "version": "2.7.6"
  }
 },
 "nbformat": 4,
 "nbformat_minor": 0
}
