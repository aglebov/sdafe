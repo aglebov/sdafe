{
 "cells": [
  {
   "cell_type": "code",
   "execution_count": 1,
   "id": "8ae27f92-8506-40bc-a118-399f59eec812",
   "metadata": {
    "tags": []
   },
   "outputs": [],
   "source": [
    "import math\n",
    "\n",
    "import numpy as np\n",
    "import pandas as pd\n",
    "import matplotlib.pyplot as plt\n",
    "import scipy.stats as stats\n",
    "import seaborn as sns"
   ]
  },
  {
   "cell_type": "markdown",
   "id": "45acc61a-d7d4-45ba-904f-3419035ef51f",
   "metadata": {
    "tags": []
   },
   "source": [
    "#### Exercise 1\n",
    "\n",
    "The plots suggest that several assumptions of the linear regression model might not hold:\n",
    "   * the relationship between the response variable and $x$ appears to be non-linear (plot a),\n",
    "   * there is some heteroskedasticity (plot b),\n",
    "   * there is serial correlation between residuals (plot d),\n",
    "   * the first and last observations appear to be outliers, suggesting a possible data quality issue (plots e and f).\n",
    "\n",
    "Possible remedies:\n",
    "   * investigate the nature of outliers in the first and last observations,\n",
    "   * difference the dependent variable instead of using raw values,\n",
    "   * fit a model including a square of the independent variable."
   ]
  },
  {
   "cell_type": "markdown",
   "id": "ae488bdf-2572-4ed7-8985-c121dacbfa5d",
   "metadata": {
    "tags": []
   },
   "source": [
    "#### Exercise 2\n",
    "\n",
    "There is one high-leverage outlier (observation #58) that needs to be investigated."
   ]
  },
  {
   "cell_type": "markdown",
   "id": "339b4430-4df7-47ab-983e-c89fac964a66",
   "metadata": {
    "tags": []
   },
   "source": [
    "#### Exercise 3\n",
    "\n",
    "There is possibly some non-linearity in the relationship between $X$ and $Y$. There is strong evidence of autocorrelation between residuals.\n",
    "A small number of outliers should be investigated."
   ]
  },
  {
   "cell_type": "markdown",
   "id": "6032be7e-f9e6-4d5b-b4b3-5ee162592dd4",
   "metadata": {
    "tags": []
   },
   "source": [
    "#### Exercise 4\n",
    "\n",
    "The plots exhibit heteroskedasticity, so a transformation of the response variable might be appropriate. There is also a small number of outliers that need to be investigated."
   ]
  },
  {
   "cell_type": "markdown",
   "id": "8469574c-86df-418b-9e15-30b6bd742630",
   "metadata": {},
   "source": [
    "#### Exercise 5\n",
    "\n",
    "The simulated data from Example 10.1 (plot a) demonstrate an example of a point with high leverage, but low Cook's distance. This happens because that point lies on the fitted line that would be obtained from the remaining observations."
   ]
  }
 ],
 "metadata": {
  "kernelspec": {
   "display_name": "Python 3 (ipykernel)",
   "language": "python",
   "name": "python3"
  },
  "language_info": {
   "codemirror_mode": {
    "name": "ipython",
    "version": 3
   },
   "file_extension": ".py",
   "mimetype": "text/x-python",
   "name": "python",
   "nbconvert_exporter": "python",
   "pygments_lexer": "ipython3",
   "version": "3.11.2"
  }
 },
 "nbformat": 4,
 "nbformat_minor": 5
}
