{
 "cells": [
  {
   "cell_type": "code",
   "execution_count": 1,
   "id": "d02df197-05d9-4561-8348-ef19345b43f0",
   "metadata": {
    "tags": []
   },
   "outputs": [],
   "source": [
    "import math\n",
    "\n",
    "import numpy as np\n",
    "import pandas as pd\n",
    "import matplotlib.pyplot as plt\n",
    "import scipy.stats as stats\n",
    "import seaborn as sns\n",
    "import statsmodels.api as sm"
   ]
  },
  {
   "cell_type": "markdown",
   "id": "5fb38c0c-3944-4135-82f4-95c4c1f90cbe",
   "metadata": {
    "tags": []
   },
   "source": [
    "#### Exercise 1\n",
    "\n",
    "Since \n",
    "$$E[R_P] - \\mu_f = \\beta_P (E[R_M] - \\mu_f),$$\n",
    "we have\n",
    "$$\\beta_P = \\frac{E[R_P] - \\mu_f}{E[R_M] - \\mu_f}$$"
   ]
  },
  {
   "cell_type": "code",
   "execution_count": 6,
   "id": "551c62d0-88f0-4b10-9df0-84fed325e339",
   "metadata": {
    "tags": []
   },
   "outputs": [],
   "source": [
    "rP = 16\n",
    "rf = 5\n",
    "rM = 11"
   ]
  },
  {
   "cell_type": "code",
   "execution_count": 7,
   "id": "9512b11a-a207-49ed-9b98-cd6be01a05b1",
   "metadata": {
    "tags": []
   },
   "outputs": [
    {
     "data": {
      "text/plain": [
       "1.8333333333333333"
      ]
     },
     "execution_count": 7,
     "metadata": {},
     "output_type": "execute_result"
    }
   ],
   "source": [
    "(rP - rf) / (rM - rf)"
   ]
  },
  {
   "cell_type": "markdown",
   "id": "9ea3968f-08cc-496b-91b6-382ac5c7b527",
   "metadata": {},
   "source": [
    "#### Exercise 2"
   ]
  },
  {
   "cell_type": "code",
   "execution_count": 8,
   "id": "a1bb150f-98ad-4f5b-8449-e791ad8e2abc",
   "metadata": {
    "tags": []
   },
   "outputs": [],
   "source": [
    "rf = 0.03\n",
    "rM = 0.14\n",
    "sigmaM = 0.12"
   ]
  },
  {
   "cell_type": "markdown",
   "id": "4ec2238f-e835-4f5d-9282-db7728a8be6b",
   "metadata": {},
   "source": [
    "(a)\n",
    "On the capital market line\n",
    "$$w r_M + (1-w) r_f = r_P,$$\n",
    "from which we obtain\n",
    "$$w = \\frac{r_P - r_f}{r_M - r_f}$$"
   ]
  },
  {
   "cell_type": "code",
   "execution_count": 9,
   "id": "a8c76e1d-c982-4fca-825c-147a9d7624c4",
   "metadata": {
    "tags": []
   },
   "outputs": [
    {
     "data": {
      "text/plain": [
       "0.7272727272727272"
      ]
     },
     "execution_count": 9,
     "metadata": {},
     "output_type": "execute_result"
    }
   ],
   "source": [
    "rP = 0.11\n",
    "w = (rP - rf) / (rM - rf)\n",
    "w"
   ]
  },
  {
   "cell_type": "markdown",
   "id": "0ac2b540-7ce0-482c-a74c-4953acdb22aa",
   "metadata": {},
   "source": [
    "So we need to invest 73% in the market portfolio and 27% in the risk-free asset."
   ]
  },
  {
   "cell_type": "markdown",
   "id": "1311e887-b6d5-4b63-af0e-3a7aed8a0334",
   "metadata": {
    "tags": []
   },
   "source": [
    "(b) The risk of this portfolio is\n",
    "$$\\sigma_P = w \\sigma_M$$"
   ]
  },
  {
   "cell_type": "code",
   "execution_count": 12,
   "id": "5ec07d45-2928-4d8a-9725-d22f0632fd80",
   "metadata": {
    "tags": []
   },
   "outputs": [
    {
     "data": {
      "text/plain": [
       "0.08727272727272725"
      ]
     },
     "execution_count": 12,
     "metadata": {},
     "output_type": "execute_result"
    }
   ],
   "source": [
    "w * sigmaM"
   ]
  },
  {
   "cell_type": "markdown",
   "id": "90575e82-9005-4c5b-8618-3e1631cf476c",
   "metadata": {},
   "source": [
    "#### Exercise 3"
   ]
  },
  {
   "cell_type": "code",
   "execution_count": 13,
   "id": "c1415ec7-b921-4087-8a54-bed3e2b1863d",
   "metadata": {
    "tags": []
   },
   "outputs": [],
   "source": [
    "rf = 0.023\n",
    "rM = 0.1\n",
    "sigmaM = 0.12"
   ]
  },
  {
   "cell_type": "markdown",
   "id": "4887b3ac-b280-4b29-8b8c-1f957641ae9c",
   "metadata": {},
   "source": [
    "(a)"
   ]
  },
  {
   "cell_type": "code",
   "execution_count": 14,
   "id": "a263f27a-63b3-4605-83e1-50aa1eda0b61",
   "metadata": {
    "tags": []
   },
   "outputs": [],
   "source": [
    "sigmaR = 0.05"
   ]
  },
  {
   "cell_type": "markdown",
   "id": "3a3ecfdd-9eb6-41f3-a025-9dbd95b2b062",
   "metadata": {},
   "source": [
    "The weight of the risky asset in the portfolio:"
   ]
  },
  {
   "cell_type": "code",
   "execution_count": 15,
   "id": "b9d93f94-3686-4dcf-bd9a-443ebc0086eb",
   "metadata": {
    "tags": []
   },
   "outputs": [
    {
     "data": {
      "text/plain": [
       "0.4166666666666667"
      ]
     },
     "execution_count": 15,
     "metadata": {},
     "output_type": "execute_result"
    }
   ],
   "source": [
    "w = sigmaR / sigmaM\n",
    "w"
   ]
  },
  {
   "cell_type": "markdown",
   "id": "9c5e4770-6ed7-407d-8c90-ef6b574f358c",
   "metadata": {},
   "source": [
    "The return of the portfolio:"
   ]
  },
  {
   "cell_type": "code",
   "execution_count": 16,
   "id": "aa298d0d-7c2b-476a-a11f-2bd59c82aac1",
   "metadata": {
    "tags": []
   },
   "outputs": [
    {
     "data": {
      "text/plain": [
       "0.05508333333333334"
      ]
     },
     "execution_count": 16,
     "metadata": {},
     "output_type": "execute_result"
    }
   ],
   "source": [
    "rf + (rM - rf) * w"
   ]
  },
  {
   "cell_type": "markdown",
   "id": "ef2799d7-76d9-40f2-b2a0-8b67268a4a5a",
   "metadata": {},
   "source": [
    "(b) \n",
    "$$\\beta = \\frac{\\sigma_{A,M}}{\\sigma_M^2}$$"
   ]
  },
  {
   "cell_type": "code",
   "execution_count": 17,
   "id": "7142c55c-91d6-4cf3-86f5-f4919b4680cd",
   "metadata": {
    "tags": []
   },
   "outputs": [],
   "source": [
    "sigmaAM = 0.004"
   ]
  },
  {
   "cell_type": "code",
   "execution_count": 18,
   "id": "f6d692ee-4df7-4a64-84e8-2153e7556ffd",
   "metadata": {
    "tags": []
   },
   "outputs": [
    {
     "data": {
      "text/plain": [
       "0.2777777777777778"
      ]
     },
     "execution_count": 18,
     "metadata": {},
     "output_type": "execute_result"
    }
   ],
   "source": [
    "sigmaAM / sigmaM ** 2"
   ]
  },
  {
   "cell_type": "markdown",
   "id": "4faa1dc8-a136-4e6f-8de5-c0afb6cd8a75",
   "metadata": {
    "tags": []
   },
   "source": [
    "(c) "
   ]
  },
  {
   "cell_type": "code",
   "execution_count": 20,
   "id": "f25d0c32-40a8-4763-9d37-3418f8c56153",
   "metadata": {
    "tags": []
   },
   "outputs": [],
   "source": [
    "betaB = 1.5\n",
    "sigmaB = 0.08\n",
    "betaC = 1.8\n",
    "sigmaC = 0.10"
   ]
  },
  {
   "cell_type": "code",
   "execution_count": 21,
   "id": "6ace91df-5e5d-4ef8-bd95-cb8c605408a3",
   "metadata": {
    "tags": []
   },
   "outputs": [],
   "source": [
    "w = 0.5"
   ]
  },
  {
   "cell_type": "markdown",
   "id": "f907cdfc-4d5a-41ec-8de1-2d876001427f",
   "metadata": {},
   "source": [
    "The expected return on the portfolio:"
   ]
  },
  {
   "cell_type": "code",
   "execution_count": 22,
   "id": "a4cd16a3-e8a7-4da4-b7a7-c2db36acd6a1",
   "metadata": {
    "tags": []
   },
   "outputs": [
    {
     "data": {
      "text/plain": [
       "0.188"
      ]
     },
     "execution_count": 22,
     "metadata": {},
     "output_type": "execute_result"
    }
   ],
   "source": [
    "rf + w * betaB * rM + (1 - w) * betaC * rM"
   ]
  },
  {
   "cell_type": "markdown",
   "id": "ec711a8b-1975-402b-9c7b-511db4c331f6",
   "metadata": {
    "tags": []
   },
   "source": [
    "The volatility of the portfolio:"
   ]
  },
  {
   "cell_type": "code",
   "execution_count": 24,
   "id": "58561e39-f4c3-4cc0-bb55-c98da5c3136f",
   "metadata": {
    "tags": []
   },
   "outputs": [
    {
     "data": {
      "text/plain": [
       "0.06403124237432849"
      ]
     },
     "execution_count": 24,
     "metadata": {},
     "output_type": "execute_result"
    }
   ],
   "source": [
    "np.sqrt(w ** 2 * sigmaB ** 2 + (1 - w) ** 2 * sigmaC ** 2)"
   ]
  },
  {
   "cell_type": "markdown",
   "id": "e1326779-fb05-4ddd-b6dc-1298fa1454e2",
   "metadata": {},
   "source": [
    "#### Exercise 4"
   ]
  },
  {
   "cell_type": "markdown",
   "id": "f69e27d5-54fe-4b61-bd34-2e12638b993f",
   "metadata": {
    "tags": []
   },
   "source": [
    "From equation (7.8):\n",
    "$$\\mathrm{Cov}(w_j^T Y, w^Y) = w_j^T \\mathrm{COV}(Y) w,$$\n",
    "where $w_j=(0, ..., 0, 1, 0, ..., 0)$ - a vector with 1 in the $j$-th position and 0 everywhere else, and $w = (w_{i,M})$ is vector of weights in the market portfolio. Then\n",
    "$$w_j^T \\mathrm{COV}(Y) w = \\left(\\mathrm{COV}(Y) w \\right)_j = \\sum_{i=1}^N \\sigma_{j,i} w_{i,M}$$"
   ]
  },
  {
   "cell_type": "markdown",
   "id": "21430da8-52be-44fa-bc49-9dfda7536191",
   "metadata": {
    "tags": []
   },
   "source": [
    "#### Exercise 5\n",
    "\n",
    "False: the market only compensates investors for the non-diversifiable component of risk, not for idiosyncratic component."
   ]
  },
  {
   "cell_type": "markdown",
   "id": "d1efa1cc-a3c7-4ed1-92da-8ad898084eb4",
   "metadata": {
    "tags": []
   },
   "source": [
    "#### Exercise 6"
   ]
  },
  {
   "cell_type": "code",
   "execution_count": 28,
   "id": "3a9bc0c6-3d22-46a9-bb98-88e2c578d1aa",
   "metadata": {
    "tags": []
   },
   "outputs": [],
   "source": [
    "rf = 4\n",
    "rM = 12\n",
    "sigmaM = 11\n",
    "sigmaAM = 165"
   ]
  },
  {
   "cell_type": "markdown",
   "id": "2e09bc6c-d308-4bce-9353-c1c655822c9a",
   "metadata": {},
   "source": [
    "(a) The beta of A is:"
   ]
  },
  {
   "cell_type": "code",
   "execution_count": 30,
   "id": "a8175393-12d3-4d91-a785-a323a8dcf8a9",
   "metadata": {
    "tags": []
   },
   "outputs": [
    {
     "data": {
      "text/plain": [
       "1.3636363636363635"
      ]
     },
     "execution_count": 30,
     "metadata": {},
     "output_type": "execute_result"
    }
   ],
   "source": [
    "betaA = sigmaAM / sigmaM ** 2\n",
    "betaA"
   ]
  },
  {
   "cell_type": "markdown",
   "id": "e1577f88-5443-41e4-908c-fb290b07c750",
   "metadata": {},
   "source": [
    "(b) The expected return of stock A:"
   ]
  },
  {
   "cell_type": "code",
   "execution_count": 31,
   "id": "e6339670-bb75-47dc-abed-4ab4e6686dc8",
   "metadata": {
    "tags": []
   },
   "outputs": [
    {
     "data": {
      "text/plain": [
       "14.909090909090908"
      ]
     },
     "execution_count": 31,
     "metadata": {},
     "output_type": "execute_result"
    }
   ],
   "source": [
    "rf + (rM - rf) * betaA"
   ]
  },
  {
   "cell_type": "markdown",
   "id": "2574557b-23a2-4eac-8499-c9df3e9a407f",
   "metadata": {},
   "source": [
    "(c) The variance of a stock can be decomposed as follows:\n",
    "$$\\sigma_A^2 = \\beta_A^2 \\sigma_M^2 + \\sigma_\\epsilon^2$$\n",
    "The fraction of the variance due to market risk is then:\n",
    "    $$\\frac{\\beta_A^2 \\sigma_M^2}{\\sigma_A^2}$$"
   ]
  },
  {
   "cell_type": "code",
   "execution_count": 36,
   "id": "72e97832-2821-4092-b780-b4aa64733b98",
   "metadata": {
    "tags": []
   },
   "outputs": [
    {
     "data": {
      "text/plain": [
       "14.832396974191326"
      ]
     },
     "execution_count": 36,
     "metadata": {},
     "output_type": "execute_result"
    }
   ],
   "source": [
    "sigmaA = np.sqrt(220)\n",
    "sigmaA"
   ]
  },
  {
   "cell_type": "code",
   "execution_count": 35,
   "id": "dac84d9e-37c6-4af4-b6e7-36ca807ef782",
   "metadata": {
    "tags": []
   },
   "outputs": [
    {
     "data": {
      "text/plain": [
       "1.0227272727272727"
      ]
     },
     "execution_count": 35,
     "metadata": {},
     "output_type": "execute_result"
    }
   ],
   "source": [
    "(betaA * sigmaM / sigmaA) ** 2"
   ]
  },
  {
   "cell_type": "markdown",
   "id": "f80f3c0f-46da-4b03-a586-7c51969f58d7",
   "metadata": {
    "tags": []
   },
   "source": [
    "This value is impossibly, since the idiosyncratic component cannot be negative."
   ]
  },
  {
   "cell_type": "markdown",
   "id": "959d03a1-7e0f-4208-be9c-5aa9dabafc3c",
   "metadata": {
    "tags": []
   },
   "source": [
    "#### Exercise 7"
   ]
  },
  {
   "cell_type": "code",
   "execution_count": 40,
   "id": "88c9d70a-534d-4417-a54d-dd17da4d3811",
   "metadata": {
    "tags": []
   },
   "outputs": [],
   "source": [
    "betas = np.array([0.9, 1.1, 0.6])\n",
    "sigmas = np.sqrt(np.array([0.010, 0.015, 0.011]))"
   ]
  },
  {
   "cell_type": "code",
   "execution_count": 41,
   "id": "45927357-c565-402b-9421-c9c72c52d17f",
   "metadata": {
    "tags": []
   },
   "outputs": [],
   "source": [
    "sigmaM = np.sqrt(0.014)"
   ]
  },
  {
   "cell_type": "markdown",
   "id": "078fbe8e-23ec-434d-8ed0-0d083c3658c1",
   "metadata": {},
   "source": [
    "(a) The beta of an equally weighted portfolio of these three assets is:"
   ]
  },
  {
   "cell_type": "code",
   "execution_count": 49,
   "id": "45f59e44-562d-4697-ac25-ef5523c71196",
   "metadata": {
    "tags": []
   },
   "outputs": [
    {
     "data": {
      "text/plain": [
       "0.8666666666666667"
      ]
     },
     "execution_count": 49,
     "metadata": {},
     "output_type": "execute_result"
    }
   ],
   "source": [
    "betaP = np.mean(betas)\n",
    "betaP"
   ]
  },
  {
   "cell_type": "markdown",
   "id": "a904a4d3-1375-43e4-b889-9d16a26dd4b9",
   "metadata": {},
   "source": [
    "(b) The variance of the excess return on the equally weighted portfolio:"
   ]
  },
  {
   "cell_type": "code",
   "execution_count": 51,
   "id": "8ecc66b6-e281-4eef-8a5e-db60186f0b3f",
   "metadata": {
    "tags": []
   },
   "outputs": [
    {
     "data": {
      "text/plain": [
       "0.014515555555555556"
      ]
     },
     "execution_count": 51,
     "metadata": {},
     "output_type": "execute_result"
    }
   ],
   "source": [
    "(betaP * sigmaM) ** 2 + np.sum(sigmas ** 2) / 9"
   ]
  },
  {
   "cell_type": "markdown",
   "id": "b058a855-280d-4e4d-b481-67b21594a8fa",
   "metadata": {},
   "source": [
    "(c) The proportion of the total risk of asset 1 due to the market:"
   ]
  },
  {
   "cell_type": "code",
   "execution_count": 48,
   "id": "5bf9f379-bb2e-4b93-95e4-9e59ff9e1861",
   "metadata": {
    "tags": []
   },
   "outputs": [
    {
     "data": {
      "text/plain": [
       "0.5313964386129334"
      ]
     },
     "execution_count": 48,
     "metadata": {},
     "output_type": "execute_result"
    }
   ],
   "source": [
    "(betas[0] * sigmaM) ** 2 / ((betas[0] * sigmaM) ** 2 + sigmas[0] ** 2)"
   ]
  },
  {
   "cell_type": "markdown",
   "id": "4b1fbaf8-287d-448c-bcbd-c8bff24e2254",
   "metadata": {},
   "source": [
    "#### Exercise 8"
   ]
  },
  {
   "cell_type": "code",
   "execution_count": 70,
   "id": "9a19eb33-3058-4a42-b103-155a1930f14a",
   "metadata": {
    "tags": []
   },
   "outputs": [],
   "source": [
    "w = np.array([0.6, 0.4])\n",
    "r = np.array([4., 6.])\n",
    "sigmas = np.array([10., 18.])\n",
    "rho = 0.5\n",
    "rf = 1.2"
   ]
  },
  {
   "cell_type": "markdown",
   "id": "e73c4313-a3a2-4242-ade2-6a3699026766",
   "metadata": {},
   "source": [
    "(a) The expected annual return on the tangency portfolio is:"
   ]
  },
  {
   "cell_type": "code",
   "execution_count": 80,
   "id": "463c7a71-ee3e-45af-849b-7539dbcf490a",
   "metadata": {
    "tags": []
   },
   "outputs": [
    {
     "data": {
      "text/plain": [
       "4.800000000000001"
      ]
     },
     "execution_count": 80,
     "metadata": {},
     "output_type": "execute_result"
    }
   ],
   "source": [
    "rT = np.sum(w @ r)\n",
    "rT"
   ]
  },
  {
   "cell_type": "markdown",
   "id": "923e826d-0e31-479e-a5b2-d11bd9ec29b2",
   "metadata": {},
   "source": [
    "(b) The covariance matrix for the assets in the tangency portfolio is:"
   ]
  },
  {
   "cell_type": "code",
   "execution_count": 72,
   "id": "06730a63-c2e2-42f1-b7fc-1a3601da4837",
   "metadata": {
    "tags": []
   },
   "outputs": [],
   "source": [
    "Sigma = np.diag(sigmas) @ np.array([[1, rho], [rho, 1]]) @ np.diag(sigmas)"
   ]
  },
  {
   "cell_type": "markdown",
   "id": "b91efe36-3418-4d15-a609-15449c542a8b",
   "metadata": {},
   "source": [
    "The standard deviation of the return on the tangency portfolio is:"
   ]
  },
  {
   "cell_type": "code",
   "execution_count": 81,
   "id": "719c7086-3810-4dcc-b764-a447dd06a5cb",
   "metadata": {
    "tags": []
   },
   "outputs": [
    {
     "data": {
      "text/plain": [
       "11.447270417003347"
      ]
     },
     "execution_count": 81,
     "metadata": {},
     "output_type": "execute_result"
    }
   ],
   "source": [
    "sigmaT = np.sqrt(w.T @ Sigma @ w)\n",
    "sigmaT"
   ]
  },
  {
   "cell_type": "markdown",
   "id": "640781b4-a33c-4096-8c9e-ab8cc71207a7",
   "metadata": {
    "tags": []
   },
   "source": [
    "(c) The weight of the risky asset in the portfolio is:"
   ]
  },
  {
   "cell_type": "code",
   "execution_count": 82,
   "id": "2819fe3b-fae1-4bc6-a5e1-9e442ca532c8",
   "metadata": {
    "tags": []
   },
   "outputs": [],
   "source": [
    "sigmaP = 3\n",
    "wt = sigmaP / sigmaT"
   ]
  },
  {
   "cell_type": "markdown",
   "id": "bb374392-6257-4a59-b58c-ad4c1276688c",
   "metadata": {
    "tags": []
   },
   "source": [
    "The weight of the risk-free asset is then:"
   ]
  },
  {
   "cell_type": "code",
   "execution_count": 83,
   "id": "ed1744aa-6fb5-45f8-b93e-1dbee51bc369",
   "metadata": {
    "tags": []
   },
   "outputs": [
    {
     "data": {
      "text/plain": [
       "0.7379287908195205"
      ]
     },
     "execution_count": 83,
     "metadata": {},
     "output_type": "execute_result"
    }
   ],
   "source": [
    "1 - wt"
   ]
  },
  {
   "cell_type": "markdown",
   "id": "6510b5ab-bc2c-4fb6-b359-4ad31caadfaa",
   "metadata": {
    "tags": []
   },
   "source": [
    "(d) The weight of the risky asset in the portfolio is:"
   ]
  },
  {
   "cell_type": "code",
   "execution_count": 84,
   "id": "9455ce1b-65bb-4b12-8552-f6fd38c91206",
   "metadata": {
    "tags": []
   },
   "outputs": [
    {
     "data": {
      "text/plain": [
       "1.6111111111111107"
      ]
     },
     "execution_count": 84,
     "metadata": {},
     "output_type": "execute_result"
    }
   ],
   "source": [
    "rP = 7\n",
    "wt = (rP - rf) / (rT - rf)\n",
    "wt"
   ]
  },
  {
   "cell_type": "markdown",
   "id": "a4a72e18-3602-4df9-b038-aaa164a2b397",
   "metadata": {
    "tags": []
   },
   "source": [
    "The weights of assets C and D in the resulting portfolio are:"
   ]
  },
  {
   "cell_type": "code",
   "execution_count": 85,
   "id": "961c0ab7-ee82-4fc8-8d39-8c83dd742ba4",
   "metadata": {
    "tags": []
   },
   "outputs": [
    {
     "data": {
      "text/plain": [
       "array([0.96666667, 0.64444444])"
      ]
     },
     "execution_count": 85,
     "metadata": {},
     "output_type": "execute_result"
    }
   ],
   "source": [
    "wt * w"
   ]
  },
  {
   "cell_type": "markdown",
   "id": "8345ecca-e47c-46f1-ba89-78b0f9f830c3",
   "metadata": {},
   "source": [
    "The weight of the risk-free asset:"
   ]
  },
  {
   "cell_type": "code",
   "execution_count": 86,
   "id": "a07a87e8-9861-41bd-a6bb-3ed5e0c6c2eb",
   "metadata": {
    "tags": []
   },
   "outputs": [
    {
     "data": {
      "text/plain": [
       "-0.6111111111111107"
      ]
     },
     "execution_count": 86,
     "metadata": {},
     "output_type": "execute_result"
    }
   ],
   "source": [
    "1 - wt"
   ]
  },
  {
   "cell_type": "markdown",
   "id": "df2d5586-8582-4fb5-a227-78b1d8e10936",
   "metadata": {},
   "source": [
    "#### Exercise 9"
   ]
  },
  {
   "cell_type": "markdown",
   "id": "a9b90911-96fc-4b8d-b564-fb146f5c8e63",
   "metadata": {},
   "source": [
    "Similarly to Exercise 1:"
   ]
  },
  {
   "cell_type": "code",
   "execution_count": 87,
   "id": "cef9b3f9-c0a8-44ee-8029-6c5476d08409",
   "metadata": {
    "tags": []
   },
   "outputs": [],
   "source": [
    "rP = 15\n",
    "rf = 6\n",
    "rM = 12"
   ]
  },
  {
   "cell_type": "code",
   "execution_count": 88,
   "id": "1e57b45c-9431-4d28-ba83-3d1fa32c293f",
   "metadata": {
    "tags": []
   },
   "outputs": [
    {
     "data": {
      "text/plain": [
       "1.5"
      ]
     },
     "execution_count": 88,
     "metadata": {},
     "output_type": "execute_result"
    }
   ],
   "source": [
    "(rP - rf) / (rM - rf)"
   ]
  },
  {
   "cell_type": "markdown",
   "id": "cacdb754-abc6-460f-a5cd-e770941954c7",
   "metadata": {},
   "source": [
    "#### Exercise 10\n",
    "\n",
    "Similarly to Exercise 2:"
   ]
  },
  {
   "cell_type": "code",
   "execution_count": 89,
   "id": "4967a12e-5d7a-4514-981d-ec246b035264",
   "metadata": {
    "tags": []
   },
   "outputs": [],
   "source": [
    "rf = 0.07\n",
    "rM = 0.14\n",
    "sigmaM = 0.12"
   ]
  },
  {
   "cell_type": "markdown",
   "id": "f8e8edce-3398-4bda-8b43-a6fcf6c06d59",
   "metadata": {},
   "source": [
    "(a)"
   ]
  },
  {
   "cell_type": "code",
   "execution_count": 90,
   "id": "b34cfaff-445e-40fa-ba5a-a40f67f243d8",
   "metadata": {
    "tags": []
   },
   "outputs": [
    {
     "data": {
      "text/plain": [
       "0.5714285714285713"
      ]
     },
     "execution_count": 90,
     "metadata": {},
     "output_type": "execute_result"
    }
   ],
   "source": [
    "rP = 0.11\n",
    "w = (rP - rf) / (rM - rf)\n",
    "w"
   ]
  },
  {
   "cell_type": "markdown",
   "id": "ae995bd4-9fb6-412c-94db-2743caa33bc1",
   "metadata": {},
   "source": [
    "So we need to invest 57% in the market portfolio and 43% in the risk-free asset."
   ]
  },
  {
   "cell_type": "markdown",
   "id": "db795f6b-b64b-46b2-958a-edba799b0e77",
   "metadata": {
    "tags": []
   },
   "source": [
    "(b) The risk of this portfolio is\n",
    "$$\\sigma_P = w \\sigma_M$$"
   ]
  },
  {
   "cell_type": "code",
   "execution_count": 91,
   "id": "005006e4-8f77-4f6b-aec9-a23b42c4a9f1",
   "metadata": {
    "tags": []
   },
   "outputs": [
    {
     "data": {
      "text/plain": [
       "0.06857142857142855"
      ]
     },
     "execution_count": 91,
     "metadata": {},
     "output_type": "execute_result"
    }
   ],
   "source": [
    "w * sigmaM"
   ]
  },
  {
   "cell_type": "markdown",
   "id": "57729ee2-4956-4802-b282-6305d0928178",
   "metadata": {},
   "source": [
    "#### Exercise 11\n",
    "\n",
    "Similarly to Exercise 7:"
   ]
  },
  {
   "cell_type": "code",
   "execution_count": 96,
   "id": "b37a26f1-e76b-491c-a7a8-76be556457b1",
   "metadata": {
    "tags": []
   },
   "outputs": [],
   "source": [
    "betas = np.array([0.7, 0.8, 0.6])\n",
    "sigmas = np.sqrt(np.array([0.010, 0.025, 0.012]))"
   ]
  },
  {
   "cell_type": "code",
   "execution_count": 97,
   "id": "b1dfef77-fab8-40f5-8131-c0d84721c432",
   "metadata": {
    "tags": []
   },
   "outputs": [],
   "source": [
    "sigmaM = np.sqrt(0.02)"
   ]
  },
  {
   "cell_type": "markdown",
   "id": "f1d1d111-e539-45fd-b15c-2cfda4eef0da",
   "metadata": {},
   "source": [
    "(a) The beta of an equally weighted portfolio of these three assets is:"
   ]
  },
  {
   "cell_type": "code",
   "execution_count": 98,
   "id": "21c035b1-767d-4e87-9081-3aa1f1fe32aa",
   "metadata": {
    "tags": []
   },
   "outputs": [
    {
     "data": {
      "text/plain": [
       "0.7000000000000001"
      ]
     },
     "execution_count": 98,
     "metadata": {},
     "output_type": "execute_result"
    }
   ],
   "source": [
    "betaP = np.mean(betas)\n",
    "betaP"
   ]
  },
  {
   "cell_type": "markdown",
   "id": "39eeecfe-37a2-43cc-ba0d-b3f6aab39dae",
   "metadata": {},
   "source": [
    "(b) The variance of the excess return on the equally weighted portfolio:"
   ]
  },
  {
   "cell_type": "code",
   "execution_count": 99,
   "id": "90a4640a-da91-4b2e-b075-27d7036500ee",
   "metadata": {
    "tags": []
   },
   "outputs": [
    {
     "data": {
      "text/plain": [
       "0.015022222222222223"
      ]
     },
     "execution_count": 99,
     "metadata": {},
     "output_type": "execute_result"
    }
   ],
   "source": [
    "(betaP * sigmaM) ** 2 + np.sum(sigmas ** 2) / 9"
   ]
  },
  {
   "cell_type": "markdown",
   "id": "33c38b57-9e30-4af5-a885-5f16873c488b",
   "metadata": {},
   "source": [
    "(c) The proportion of the total risk of asset 1 due to the market:"
   ]
  },
  {
   "cell_type": "code",
   "execution_count": 100,
   "id": "bd3e6dd9-f134-4260-8cde-6235dad26b25",
   "metadata": {
    "tags": []
   },
   "outputs": [
    {
     "data": {
      "text/plain": [
       "0.4949494949494949"
      ]
     },
     "execution_count": 100,
     "metadata": {},
     "output_type": "execute_result"
    }
   ],
   "source": [
    "(betas[0] * sigmaM) ** 2 / ((betas[0] * sigmaM) ** 2 + sigmas[0] ** 2)"
   ]
  },
  {
   "cell_type": "markdown",
   "id": "02d6efd9-8352-4189-ae07-5bda269abc25",
   "metadata": {},
   "source": [
    "#### Exercise 12"
   ]
  },
  {
   "cell_type": "markdown",
   "id": "095df912-e519-425a-8279-1a18a90144a6",
   "metadata": {},
   "source": [
    "The first portfolio is concentrated in technology, so is exposed to sector risk. The second portfolio is more diversified and likely to be less sensitive to sector risk."
   ]
  }
 ],
 "metadata": {
  "kernelspec": {
   "display_name": "Python 3 (ipykernel)",
   "language": "python",
   "name": "python3"
  },
  "language_info": {
   "codemirror_mode": {
    "name": "ipython",
    "version": 3
   },
   "file_extension": ".py",
   "mimetype": "text/x-python",
   "name": "python",
   "nbconvert_exporter": "python",
   "pygments_lexer": "ipython3",
   "version": "3.11.2"
  }
 },
 "nbformat": 4,
 "nbformat_minor": 5
}
