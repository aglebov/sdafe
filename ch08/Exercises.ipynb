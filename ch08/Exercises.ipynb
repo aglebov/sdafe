{
 "cells": [
  {
   "cell_type": "code",
   "execution_count": 47,
   "id": "ba0c61de-c574-43d8-a231-44db3a97d38b",
   "metadata": {
    "tags": []
   },
   "outputs": [],
   "source": [
    "import math\n",
    "\n",
    "import numpy as np\n",
    "import pandas as pd\n",
    "import matplotlib.pyplot as plt\n",
    "import scipy.stats as stats"
   ]
  },
  {
   "cell_type": "code",
   "execution_count": 48,
   "id": "67f2a4ac-133f-4be2-ad99-cded4a6e8595",
   "metadata": {
    "tags": []
   },
   "outputs": [],
   "source": [
    "import sys\n",
    "sys.path.append(\"../\") # go to parent dir"
   ]
  },
  {
   "cell_type": "markdown",
   "id": "793dbb88-a6a1-4fce-83ec-346de9789e12",
   "metadata": {
    "tags": []
   },
   "source": [
    "#### Exercise 1\n",
    "\n",
    "Changing $Y$ to $1/Y$ makes all concordant pairs discordant and vice versa, so Kendall's tau becomes negative of the original value.\n",
    "\n",
    "Changing $X$ to $1/X$ and $Y$ to $1/Y$ preserves concordant and discordant pairs, so Kendall's tau does not change as a result."
   ]
  },
  {
   "cell_type": "markdown",
   "id": "1d0f3e10-c99d-4e25-b799-676edc21fa74",
   "metadata": {
    "tags": []
   },
   "source": [
    "#### Exercise 2\n",
    "\n",
    "Since $X^2$ is a strictly monotically increasing function of $X$, all pairs $(X, X^2)$ are concordant, hence Kendall's tau equals 1.\n",
    "\n",
    "The CDF for $X$ is $$F_X(x) = P\\{X < x\\} = x,$$\n",
    "the CDF for $Y$ is $$F_Y(y) = P\\{Y < y\\} = P\\{X^2 < y\\} = P\\{ X < \\sqrt{y}\\} = F_X(\\sqrt{y}) = \\sqrt{y},$$\n",
    "then $$(F_X^{-1}(x), F_Y^{-1}(y)) = (x, \\sqrt{y}) = (x, x),$$ \n",
    "so the Spearman's rho is also equal to 1."
   ]
  },
  {
   "cell_type": "markdown",
   "id": "0b050fa5-65a0-417e-be55-be6011390571",
   "metadata": {
    "tags": []
   },
   "source": [
    "Now\n",
    "$$E[X] = \\int_0^1 x dx = \\left. \\frac{x^2}{2} \\right|_0^1 = \\frac{1}{2},$$\n",
    "$$E[Y] = E[X^2] = \\int_0^1 x^2 dx = \\left. \\frac{x^3}{3} \\right|_0^1 = \\frac{1}{3},$$\n",
    "$$E[Y^2] = E[X^4] = \\int_0^1 x^4 dx = \\left. \\frac{x^5}{5} \\right|_0^1 = \\frac{1}{5},$$\n",
    "$$\\mathrm{Var}[X] = E[X^2] - E[X]^2 = \\frac{1}{3} - \\frac{1}{4} = \\frac{1}{12},$$\n",
    "$$\\mathrm{Var}[Y] = E[Y^2] - E[Y]^2 = E[X^4] - E[X^2]^2 = \\frac{1}{5} - \\frac{1}{9} = \\frac{4}{45},$$\n",
    "$$\\mathrm{Cov}[X,Y] = E[(X - E[X])(Y - E[Y])] = \\int_0^1 \\left(x - \\frac{1}{2}\\right)\\left(x^2 - \\frac{1}{3}\\right) dx = \\int_0^1 \\left(x^3 - \\frac{x}{3} - \\frac{x^2}{2} + \\frac{1}{6} \\right) dx = \\left. \\left( \\frac{x^4}{4} - \\frac{x^2}{6} - \\frac{x^3}{6} + \\frac{x}{6} \\right) \\right|_0^1 = \\frac{1}{12},$$\n",
    "$$\\rho = \\frac{\\mathrm{Cov}[X, Y]}{\\sqrt{\\mathrm{Var}[X] \\mathrm{Var}[Y]}} = \\frac{\\sqrt{15}}{4}$$"
   ]
  },
  {
   "cell_type": "code",
   "execution_count": 49,
   "id": "d3ceb2b8-c1ac-4ffe-a45e-4f32aef1eed0",
   "metadata": {
    "tags": []
   },
   "outputs": [
    {
     "data": {
      "text/plain": [
       "0.9682458365518543"
      ]
     },
     "execution_count": 49,
     "metadata": {},
     "output_type": "execute_result"
    }
   ],
   "source": [
    "np.sqrt(15) / 4"
   ]
  },
  {
   "cell_type": "markdown",
   "id": "a67f6028-457c-4e44-ac75-5ce2fcda8301",
   "metadata": {},
   "source": [
    "We can confirm this empirically:"
   ]
  },
  {
   "cell_type": "code",
   "execution_count": 50,
   "id": "e104e91b-ffdf-49a5-8703-4fce9c356ea6",
   "metadata": {
    "tags": []
   },
   "outputs": [
    {
     "data": {
      "text/plain": [
       "0.9682328090076356"
      ]
     },
     "execution_count": 50,
     "metadata": {},
     "output_type": "execute_result"
    }
   ],
   "source": [
    "X = stats.uniform.rvs(size=1000_000)\n",
    "Y = X ** 2\n",
    "np.corrcoef(X, Y)[0, 1]"
   ]
  },
  {
   "cell_type": "markdown",
   "id": "544e7e73-a659-43f4-b353-6324db87958d",
   "metadata": {
    "tags": []
   },
   "source": [
    "#### Exercise 3\n",
    "\n",
    "If $\\varphi(u) = -\\log u$, then $\\varphi^{-1}(y) = e^{-y}$, so\n",
    "$$C(u_1, ..., u_d) = \\varphi^{-1}(\\varphi(u_1) + ... + \\varphi(u_d)) = e^{\\log u_1 + ... + \\log u_d} = e^{\\log (u_1 \\cdot ... \\cdot u_d)} = u_1 \\cdot ... \\cdot u_d,$$\n",
    "which is the independence copula. The same holds for logarithms of other bases."
   ]
  },
  {
   "cell_type": "markdown",
   "id": "747447cc-9465-4fe5-986c-49399e66e30c",
   "metadata": {
    "tags": []
   },
   "source": [
    "#### Exercise 4"
   ]
  },
  {
   "cell_type": "markdown",
   "id": "fb1509c6-c2a1-4ff5-b2ee-af501a519855",
   "metadata": {
    "tags": []
   },
   "source": [
    "Taking\n",
    "$$\\varphi(u) =\n",
    "\\begin{cases}\n",
    "    +\\infty, &\\text{if } x = 0 \\\\\n",
    "    1 - x, &\\text{if } x > 0,\n",
    "\\end{cases}\n",
    "$$\n",
    "we have\n",
    "$$\n",
    "\\varphi^{-1}(x) = \\max(1-x, 0)\n",
    "$$\n",
    "and\n",
    "$$\n",
    "C(u_1, u_2) = \\varphi^{-1}(\\varphi(u_1) + \\varphi(u_2)) =\n",
    "\\begin{cases}\n",
    "0, &\\text{if } u_1 = 0 \\text{ or } u_2 = 0 \\\\\n",
    "\\max(1 - (1 - u_1 + 1 - u_2), 0) = \\max(u_1 + u_2 - 1, 0), &\\text{if } u_1 > 0 \\text{ and } u_2 > 0\n",
    "\\end{cases}\n",
    "$$\n",
    "If $u_1 = 0$ or $u_2 = 0$, then $\\max(u_1 + u_2 - 1, 0) = 0$, so both cases above can be collapsed into one: $$C(u_1, u_2) = \\max(u_1 + u_2 - 1, 0),$$\n",
    "which is the counter-monotonicity copula."
   ]
  },
  {
   "cell_type": "markdown",
   "id": "13fd1f65-4297-42be-b4f2-c65859126efb",
   "metadata": {},
   "source": [
    "#### Exercise 5\n",
    "\n",
    "First,\n",
    "$$\n",
    "\\varphi_{\\textrm{Fr}}(0|\\theta) = -\\log \\left( \\frac{e^{-\\theta \\cdot 0} - 1}{e^{-\\theta} - 1} \\right) = -\\log 0 + \\log(e^{-\\theta} - 1) = +\\infty,\n",
    "$$\n",
    "and\n",
    "$$\n",
    "\\varphi_{\\textrm{Fr}}(1|\\theta) = -\\log \\left( \\frac{e^{-\\theta \\cdot 1} - 1}{e^{-\\theta} - 1} \\right) = -\\log 1 = 0.\n",
    "$$\n",
    "\n",
    "Now consider the case $\\theta > 0$. Then $e^{-\\theta} - 1 < 0$ and $\\frac{e^{-\\theta u} - 1}{e^{-\\theta} - 1}$ is strictly monotonically increasing, hence $\\varphi_{\\textrm{Fr}}(u|\\theta)$ is strictly monotonically decreasing.\n",
    "\n",
    "If on the other hand $\\theta < 0$, then $e^{-\\theta} - 1 > 0$ and again $\\frac{e^{-\\theta u} - 1}{e^{-\\theta} - 1}$ is strictly monotonically increasing, hence $\\varphi_{\\textrm{Fr}}(u|\\theta)$ is strictly monotonically decreasing.\n",
    "\n",
    "Therefore, $\\varphi_{\\textrm{Fr}}(u|\\theta)$ satisfies the definition of a generating function."
   ]
  },
  {
   "cell_type": "markdown",
   "id": "43fb527a-1505-48a8-9f71-73e7ec8065e5",
   "metadata": {
    "tags": []
   },
   "source": [
    "#### Exercise 6\n",
    "\n",
    "First, note that when $x \\to \\infty$,\n",
    "$$c e^{-ax} + d e^{-bx} \\sim \n",
    "\\begin{cases}\n",
    "c e^{-ax}, &\\text{if } a < b\\\\\n",
    "d e^{-bx}, &\\text{if } b < a\n",
    "\\end{cases}\n",
    "$$\n",
    "Suppose that $a<b$, then\n",
    "$$\\frac{c e^{-ax} + d e^{-bx}}{c e^{-ax}} = 1 + \\frac{d e^{(a-b)x}}{c} \\to 1.$$\n",
    "And if $b<a$,\n",
    "$$\\frac{c e^{-ax} + d e^{-bx}}{d e^{-b x}} = \\frac{c e^{(b-a)x}}{d} + 1 \\to 1.$$"
   ]
  },
  {
   "cell_type": "markdown",
   "id": "832ea335-261d-4016-95c5-a21f485d36f2",
   "metadata": {
    "tags": []
   },
   "source": [
    "If \n",
    "$$\\varphi_{\\textrm{Fr}}(u|\\theta) = -\\log \\left( \\frac{e^{-\\theta u} - 1}{e^{-\\theta} - 1} \\right),$$\n",
    "then\n",
    "$$\\varphi_{\\textrm{Fr}}^{-1}(y) = -\\frac{1}{\\theta}\\left(e^{-y}(e^{-\\theta} - 1) + 1\\right),$$\n",
    "so\n",
    "$$C_{\\textrm{Fr}}(u_1, u_2 | \\theta) = -\\frac{1}{\\theta} \\log \\left( 1 + \\frac{(e^{-\\theta u_1} - 1)(e^{-\\theta u_2} - 1)}{e^{-\\theta} - 1} \\right) = -\\frac{1}{\\theta}\\log \\left( \\frac{e^{-\\theta(u_1 + u_2)} - e^{-\\theta u_1} - e^{-\\theta u_2} + e^{-\\theta}}{e^{-\\theta} - 1}\\right) = -\\frac{1}{\\theta}\\log \\left( -e^{-\\theta(u_1 + u_2)} + e^{-\\theta u_1} + e^{-\\theta u_2} - e^{-\\theta}\\right) + \\frac{1}{\\theta}\\log\\left(1-e^{-\\theta}\\right) \\sim \\\\ \\sim -\\frac{1}{\\theta}\\log \\left( -e^{-\\theta(u_1 + u_2)} + e^{-\\theta u_1} + e^{-\\theta u_2} - e^{-\\theta}\\right) \\sim -\\frac{1}{\\theta}\\log \\left(e^{-\\theta \\min(u_1, u_2)}\\right) = \\min(u_1,u_2),$$\n",
    "where we used the equivalence from above."
   ]
  },
  {
   "cell_type": "markdown",
   "id": "fc955b80-cefe-4820-933e-0a367c375674",
   "metadata": {
    "tags": []
   },
   "source": [
    "#### Exercise 7\n",
    "\n"
   ]
  },
  {
   "cell_type": "code",
   "execution_count": 36,
   "id": "ebefe976-0988-4c57-8b6b-ab5a1be9bb26",
   "metadata": {
    "tags": []
   },
   "outputs": [],
   "source": [
    "def f1(x):\n",
    "    return 1 / x - 1\n",
    "def f1i(x):\n",
    "    return 1 / (x + 1)\n",
    "def f2(x):\n",
    "    return -np.log(x)\n",
    "def f2i(x):\n",
    "    return np.exp(-x)"
   ]
  },
  {
   "cell_type": "code",
   "execution_count": 37,
   "id": "db39b66f-4332-46c1-9f26-3d473d7920c6",
   "metadata": {
    "tags": []
   },
   "outputs": [],
   "source": [
    "u1 = 0.2\n",
    "u2 = 0.3"
   ]
  },
  {
   "cell_type": "code",
   "execution_count": 41,
   "id": "41103a82-a3f9-4800-8c91-986d3c982211",
   "metadata": {
    "tags": []
   },
   "outputs": [
    {
     "data": {
      "text/plain": [
       "0.13636363636363635"
      ]
     },
     "execution_count": 41,
     "metadata": {},
     "output_type": "execute_result"
    }
   ],
   "source": [
    "f1i(f1(u1)+f1(u2))"
   ]
  },
  {
   "cell_type": "code",
   "execution_count": 42,
   "id": "348c1b19-0153-4951-abb1-c2ae578f1312",
   "metadata": {
    "tags": []
   },
   "outputs": [
    {
     "data": {
      "text/plain": [
       "0.06"
      ]
     },
     "execution_count": 42,
     "metadata": {},
     "output_type": "execute_result"
    }
   ],
   "source": [
    "f2i(f2(u1)+f2(u2))"
   ]
  },
  {
   "cell_type": "code",
   "execution_count": 46,
   "id": "3fa1ab55-9d90-4fc8-a5f5-d081da0fb0bf",
   "metadata": {
    "tags": []
   },
   "outputs": [
    {
     "data": {
      "text/plain": [
       "0.3"
      ]
     },
     "execution_count": 46,
     "metadata": {},
     "output_type": "execute_result"
    }
   ],
   "source": [
    "f1i(f1(u2))"
   ]
  },
  {
   "cell_type": "code",
   "execution_count": null,
   "id": "3c845b9c-7acd-4c4b-aaa1-3f8e8e7e3fbe",
   "metadata": {},
   "outputs": [],
   "source": []
  },
  {
   "cell_type": "markdown",
   "id": "3a382f95-7efd-4126-b5f3-5c2171818dc8",
   "metadata": {
    "tags": []
   },
   "source": [
    "#### Exercise 8\n",
    "\n",
    "Let\n",
    "$$\n",
    "\\varphi(u|\\theta) = \n",
    "\\begin{cases}\n",
    "\\infty, &\\text{if } u = 0 \\\\\n",
    "(1-u)^\\theta, &\\text{if } 0 < u \\leq 1\n",
    "\\end{cases}\n",
    "$$\n",
    "then\n",
    "$$\n",
    "\\varphi^{-1}(y) = \n",
    "\\begin{cases}\n",
    "0, &\\text{if } y \\leq 1 \\\\\n",
    "1-y^{1/\\theta}, &\\text{if } 0 \\leq y <  1\n",
    "\\end{cases}\n",
    "$$\n",
    "which can be collapsed into\n",
    "$$\\varphi^{-1}(y) = max(0, 1 - y^{1/\\theta}),$$\n",
    "so\n",
    "$$\n",
    "C(u_1, u_2|\\theta) = \\varphi^{-1}(\\varphi(u_1|\\theta)+\\varphi(u_2|\\theta)) = \\max\\left(0, 1 - \\left((1-u_1)^\\theta + (1-u_2)^\\theta\\right)^{1/\\theta}\\right)\n",
    "$$"
   ]
  },
  {
   "cell_type": "markdown",
   "id": "2574f52b-91ac-445c-9cae-673dad22c196",
   "metadata": {},
   "source": [
    "When $\\theta \\to \\infty$, $a^\\theta + b^\\theta \\sim \\max(a, b)^\\theta$, so\n",
    "$$\n",
    "\\begin{equation}\n",
    "\\begin{split}\n",
    "C(u_1, u_2|\\theta) & = \\max\\left(0, 1 - \\left((1-u_1)^\\theta + (1-u_2)^\\theta\\right)^{1/\\theta}\\right) \\\\\n",
    "&\\sim \\max\\left(0, 1 - \\left(\\max(1-u_1,1-u_2)^\\theta\\right)^{1/\\theta}\\right) \\\\\n",
    "&= \\max(0, 1 - \\max(1-u_1,1-u_2)) \\\\\n",
    "&= \\max(0, 1 + \\min(u_1 - 1, u_2 - 1)) \\\\\n",
    "&= \\max(0, 1 + \\min(u_1, u_2) - 1) \\\\\n",
    "&= \\max(0, \\min(u_1, u_2)) \\\\\n",
    "&= \\min(u_1, u_2) \\\\\n",
    "&= C_+(u_1, u_2).\n",
    "\\end{split}\n",
    "\\end{equation}\n",
    "$$"
   ]
  },
  {
   "cell_type": "markdown",
   "id": "a39340ef-44ec-42dc-ad7e-ec5faf971c17",
   "metadata": {
    "tags": []
   },
   "source": [
    "The function $C(u_1, u_2|\\theta)$ is continuous in $\\theta$, hence \n",
    "$$\\lim_{\\theta \\to 1} C(u_1, u_2|\\theta) = C(u_1, u_2 | 1) = \\max\\left(0, 1 - \\left((1-u_1) + (1-u_2)\\right)\\right) = \\max(0, u_1 + u_2 - 1) = C_-(u_1, u_2).$$"
   ]
  },
  {
   "cell_type": "markdown",
   "id": "8318f02a-764f-4cb2-8f62-44ceef409aef",
   "metadata": {},
   "source": [
    "#### Exercise 9\n",
    "\n",
    "A copula is a CDF of a multivariate distribute, who margial distributions are uniform. Given that a convex combination of CDFs is also a CDF, we need to check that the marginal distributions of the resulting multivariate distribution remain uniform.\n",
    "\n",
    "That is, for\n",
    "$$C(u_1, ..., u_d) = \\sum_{i=1}^k a_i C_i(u_1, ..., u_d)$$\n",
    "if for all $i$ and $j$ we have\n",
    "$$C_i(1, ..., 1, u_j, 1, ..., 1) = u_j,$$\n",
    "then\n",
    "$$C(1, ..., 1, u_j, 1, ..., 1) = \\sum_{i=1}^k a_i C_i(1, ..., 1, u_j, 1, ..., 1) = \\sum_{i=1}^k a_i u_j = u_j \\sum_{i=1}^k a_i = u_j,$$\n",
    "and so indeed a convex combination of copulas is also a copula."
   ]
  },
  {
   "cell_type": "markdown",
   "id": "026d55d8-27d9-4739-a030-2f1b4e9c9cc0",
   "metadata": {},
   "source": [
    "#### Exercise 10\n",
    "\n",
    "By Result 8.1, if $\\rho_{\\tau}(Y_i, Y_j) = 0$, then $\\arcsin(\\Omega_{ij}) = 0$ and so $\\Omega_{ij}=0$ and $\\mathbf{\\Omega}$ is a diagonal matrix. Since dependence in a meta-Gaussian copula comes solely from covariances, it follows that $Y_1, Y_2, ..., Y_d$ are independent."
   ]
  }
 ],
 "metadata": {
  "kernelspec": {
   "display_name": "Python 3 (ipykernel)",
   "language": "python",
   "name": "python3"
  },
  "language_info": {
   "codemirror_mode": {
    "name": "ipython",
    "version": 3
   },
   "file_extension": ".py",
   "mimetype": "text/x-python",
   "name": "python",
   "nbconvert_exporter": "python",
   "pygments_lexer": "ipython3",
   "version": "3.11.3"
  }
 },
 "nbformat": 4,
 "nbformat_minor": 5
}
