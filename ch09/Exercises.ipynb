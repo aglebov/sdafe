{
 "cells": [
  {
   "cell_type": "code",
   "execution_count": 27,
   "id": "290c3df7-3e44-49cf-97b6-8c9661004d3b",
   "metadata": {
    "tags": []
   },
   "outputs": [],
   "source": [
    "import math\n",
    "\n",
    "import numpy as np\n",
    "import pandas as pd\n",
    "import matplotlib.pyplot as plt\n",
    "import scipy.stats as stats\n",
    "import seaborn as sns"
   ]
  },
  {
   "cell_type": "code",
   "execution_count": 2,
   "id": "fc43150c-f24f-49f1-b5f5-2dc33cf7fcb2",
   "metadata": {
    "tags": []
   },
   "outputs": [],
   "source": [
    "import sys\n",
    "sys.path.append(\"../\") # go to parent dir"
   ]
  },
  {
   "cell_type": "markdown",
   "id": "486ac694-357a-44fe-8f72-1441da24b0e8",
   "metadata": {
    "tags": []
   },
   "source": [
    "#### Exercise 1\n",
    "\n",
    "(a) $E[Y_i | X_i] = \\beta_0 + \\beta_1 X_i + E[\\epsilon_i|X_i] = \\beta_0 + \\beta_1 X_i$"
   ]
  },
  {
   "cell_type": "code",
   "execution_count": 4,
   "id": "275ea8b8-00f5-4b3c-9fb2-0e5dfdf80307",
   "metadata": {
    "tags": []
   },
   "outputs": [],
   "source": [
    "beta0 = 1.4\n",
    "beta1 = 1.7\n",
    "X1 = 1\n",
    "sigma = np.sqrt(0.3)"
   ]
  },
  {
   "cell_type": "code",
   "execution_count": 5,
   "id": "b8d40fff-38d3-4e30-9e6a-4d7d7994b6df",
   "metadata": {
    "tags": []
   },
   "outputs": [
    {
     "data": {
      "text/plain": [
       "3.0999999999999996"
      ]
     },
     "execution_count": 5,
     "metadata": {},
     "output_type": "execute_result"
    }
   ],
   "source": [
    "beta0 + beta1 * X1"
   ]
  },
  {
   "cell_type": "markdown",
   "id": "b0b97d3b-9888-4601-91d8-41e67c9187a2",
   "metadata": {},
   "source": [
    "$\\mathrm{Var}[Y_i | X_i] = \\mathrm{Var}[\\beta_0 + \\beta_1 X_i + \\epsilon_i | X_i] = \\mathrm{Var}[\\epsilon_i|X_i] = \\mathrm{Var}[\\epsilon_i]$"
   ]
  },
  {
   "cell_type": "code",
   "execution_count": 6,
   "id": "288ff7bd-9e11-45d1-bd01-0c538b7da90c",
   "metadata": {
    "tags": []
   },
   "outputs": [
    {
     "data": {
      "text/plain": [
       "0.29999999999999993"
      ]
     },
     "execution_count": 6,
     "metadata": {},
     "output_type": "execute_result"
    }
   ],
   "source": [
    "sigma ** 2"
   ]
  },
  {
   "cell_type": "markdown",
   "id": "89494064-1bfb-4f7c-af68-0e14d3abe01a",
   "metadata": {
    "tags": []
   },
   "source": [
    "$P(Y_i \\leq 3 | X_i = 1) = P(\\beta_0 + \\beta_1 X_i + \\epsilon_i \\leq 3 | X_i = 1) = P(\\epsilon_i \\leq -0.1) = \\Phi\\left(\\frac{-0.1}{\\sigma}\\right)$"
   ]
  },
  {
   "cell_type": "code",
   "execution_count": 8,
   "id": "bce7f66a-255a-419f-9be9-c9626ba736c9",
   "metadata": {
    "tags": []
   },
   "outputs": [
    {
     "data": {
      "text/plain": [
       "0.42756607029235294"
      ]
     },
     "execution_count": 8,
     "metadata": {},
     "output_type": "execute_result"
    }
   ],
   "source": [
    "stats.norm.cdf(-0.1 / sigma)"
   ]
  },
  {
   "cell_type": "markdown",
   "id": "1bcb991f-f15b-40d2-bf8c-4543cb27088e",
   "metadata": {
    "tags": []
   },
   "source": [
    "(b) If $X_i \\sim N(1, 0.7)$, then $Y_i \\sim N(\\beta_0 + \\beta_1 E[X_i] + E[\\epsilon_i], \\beta_1^2 \\mathrm{Var}[X_i] + \\mathrm{Var}[\\epsilon_i])$"
   ]
  },
  {
   "cell_type": "markdown",
   "id": "85277e86-4b16-40d8-bd08-2cab60c009f0",
   "metadata": {},
   "source": [
    "The expected value of $Y_i$ is:"
   ]
  },
  {
   "cell_type": "code",
   "execution_count": 10,
   "id": "82c546c7-0c5e-4590-bd63-2e457f4a0c25",
   "metadata": {
    "tags": []
   },
   "outputs": [
    {
     "data": {
      "text/plain": [
       "3.0999999999999996"
      ]
     },
     "execution_count": 10,
     "metadata": {},
     "output_type": "execute_result"
    }
   ],
   "source": [
    "beta0 + beta1 * 1"
   ]
  },
  {
   "cell_type": "markdown",
   "id": "11b3a467-b0f5-4709-a8cb-3e22ca2f5709",
   "metadata": {},
   "source": [
    "The variance of $Y_i$ is:"
   ]
  },
  {
   "cell_type": "code",
   "execution_count": 11,
   "id": "5b68562b-f559-4cf2-a65b-5b4f9a90c944",
   "metadata": {
    "tags": []
   },
   "outputs": [
    {
     "data": {
      "text/plain": [
       "2.3229999999999995"
      ]
     },
     "execution_count": 11,
     "metadata": {},
     "output_type": "execute_result"
    }
   ],
   "source": [
    "beta1 ** 2 * 0.7 + 0.3"
   ]
  },
  {
   "cell_type": "markdown",
   "id": "e77ff8dd-a6ef-45df-b042-978474bb1258",
   "metadata": {},
   "source": [
    "#### Exercise 2\n",
    "\n",
    "Assuming a linear model $Y_i = \\beta_0 + \\beta_1 X_i + \\epsilon_i$, we have $\\epsilon_i = Y_i - \\beta_0 - \\beta_1 X_i$. If $\\epsilon_i$ are i.i.d. $N(0,\\sigma_\\epsilon^2)$, then the likelihood is\n",
    "$$L(\\beta_0,\\beta_1) = \\prod_{i=1}^n \\frac{1}{\\sqrt{2\\pi} \\sigma} \\exp\\left(-\\frac{\\epsilon_i^2}{2\\sigma^2}\\right),$$\n",
    "and the log-likelihood is given by\n",
    "$$\\log L(\\beta_0,\\beta_1) = -\\frac{n}{2} \\log(2 \\pi) - n \\log \\sigma_\\epsilon - \\sum_{i=1}^n \\frac{\\epsilon_i^2}{2\\sigma^2} = -\\frac{n}{2} \\log(2 \\pi) - n \\log \\sigma_\\epsilon - \\sum_{i=1}^n \\frac{(Y_i - \\beta_0 - \\beta_1 X_i)^2}{2\\sigma^2}.$$\n",
    "Setting\n",
    "$$\\frac{d}{d\\beta_0} \\log L(\\beta_0, \\beta_1) = 0$$\n",
    "and\n",
    "$$\\frac{d}{d\\beta_1} \\log L(\\beta_0, \\beta_1) = 0$$\n",
    "leads to the following equations:\n",
    "$$\\frac{d}{d\\beta_0} \\sum_{i=1}^n (Y_i - \\beta_0 - \\beta_1 X_i)^2 = 0,$$\n",
    "$$\\frac{d}{d\\beta_1} \\sum_{i=1}^n (Y_i - \\beta_0 - \\beta_1 X_i)^2 = 0,$$\n",
    "which are the least-squares equations for $\\beta_0$ and $\\beta_1$, and hence have the same solutions."
   ]
  },
  {
   "cell_type": "markdown",
   "id": "476cdb54-fca2-4f91-a1d1-fc719adf92f5",
   "metadata": {
    "tags": []
   },
   "source": [
    "#### Exercise 3\n",
    "\n",
    "$$\\mathrm{Var}[\\hat{\\beta}_1|X_1, ..., X_n] \n",
    "= \\mathrm{Var}\\left[\\sum_{i=1}^n w_i Y_i|X_1, ..., X_n\\right] \n",
    "= \\mathrm{Var}\\left[\\sum_{i=1}^n w_i (\\beta_0 + \\beta_1 X_i + \\epsilon_i)|X_1, ..., X_n\\right] \n",
    "= \\mathrm{Var}\\left[\\sum_{i=1}^n w_i \\epsilon_i\\right] \n",
    "= \\sum_{i=1}^n w_i^2 \\mathrm{Var}[\\epsilon_i]\n",
    "= \\sigma_\\epsilon^2 \\sum_{i=1}^n w_i^2 = \\\\\n",
    "= \\sigma_\\epsilon^2 \\sum_{i=1}^n \\frac{(X_i - \\bar{X})^2}{\\left( \\sum_{j=1}^n (X_j - \\bar{X})^2 \\right)^2}\n",
    "= \\sigma_\\epsilon^2 \\frac{\\sum_{i=1}^n (X_i - \\bar{X})^2}{\\left( \\sum_{j=1}^n (X_j - \\bar{X})^2 \\right)^2}\n",
    "= \\frac{\\sigma_\\epsilon^2}{\\sum_{j=1}^n (X_j - \\bar{X})^2}\n",
    "= \\frac{\\sigma_\\epsilon^2}{(n - 1) s_X^2}.$$"
   ]
  },
  {
   "cell_type": "markdown",
   "id": "35703917-b1d3-4ac5-b627-891a9ebb3fbf",
   "metadata": {
    "tags": []
   },
   "source": [
    "#### Exercise 4"
   ]
  },
  {
   "cell_type": "code",
   "execution_count": 16,
   "id": "442cee9a-ce4c-4c05-9e0d-7665c8cb12d6",
   "metadata": {
    "tags": []
   },
   "outputs": [],
   "source": [
    "Xi = np.arange(30) * 14 / (30 - 1) + 1"
   ]
  },
  {
   "cell_type": "markdown",
   "id": "a64024f3-3a52-4277-9d6c-c4067584d1a4",
   "metadata": {},
   "source": [
    "(a) The correlation coefficient between $X$ and $X^2$:"
   ]
  },
  {
   "cell_type": "code",
   "execution_count": 19,
   "id": "8ae18626-3eeb-4567-af4d-37f089957e8d",
   "metadata": {
    "tags": []
   },
   "outputs": [
    {
     "data": {
      "text/plain": [
       "0.9738711056686896"
      ]
     },
     "execution_count": 19,
     "metadata": {},
     "output_type": "execute_result"
    }
   ],
   "source": [
    "np.corrcoef(Xi, Xi ** 2)[0, 1]"
   ]
  },
  {
   "cell_type": "code",
   "execution_count": 28,
   "id": "0b7f8537-51d8-4827-94d7-d7bc814ac428",
   "metadata": {
    "tags": []
   },
   "outputs": [],
   "source": [
    "import statsmodels.api as sm\n",
    "from statsmodels.stats.outliers_influence import variance_inflation_factor"
   ]
  },
  {
   "cell_type": "code",
   "execution_count": 29,
   "id": "61a69e2a-1cff-42e6-ad6e-45adca10e88a",
   "metadata": {
    "tags": []
   },
   "outputs": [],
   "source": [
    "def vif(x):\n",
    "    x = sm.add_constant(x, prepend=True)\n",
    "    return pd.Series([variance_inflation_factor(x, i) for i in range(len(x.columns)) if x.columns[i] != 'const'], index=x.columns[1:])"
   ]
  },
  {
   "cell_type": "markdown",
   "id": "bc68c710-8748-4acf-b987-706e01396a99",
   "metadata": {},
   "source": [
    "The VIFs are:"
   ]
  },
  {
   "cell_type": "code",
   "execution_count": 30,
   "id": "5daaf245-54de-490c-93b5-93a20475828c",
   "metadata": {
    "tags": []
   },
   "outputs": [
    {
     "data": {
      "text/plain": [
       "X      19.389213\n",
       "X^2    19.389213\n",
       "dtype: float64"
      ]
     },
     "execution_count": 30,
     "metadata": {},
     "output_type": "execute_result"
    }
   ],
   "source": [
    "vif(pd.DataFrame({'X': Xi, 'X^2': Xi ** 2}))"
   ]
  },
  {
   "cell_type": "markdown",
   "id": "636f5250-7b5e-4f75-96bb-3ca374b69490",
   "metadata": {},
   "source": [
    "Therefore, $X$ and $X^2$ are highly collinear."
   ]
  },
  {
   "cell_type": "markdown",
   "id": "39a8be2d-d948-4eb5-af63-dbe864ba08dd",
   "metadata": {
    "tags": []
   },
   "source": [
    "(b) The correlation coefficients between $X - \\bar{X}$ and $(X - \\bar{X})^2$:"
   ]
  },
  {
   "cell_type": "code",
   "execution_count": 32,
   "id": "84f209f5-e6b3-4557-89ef-f47b3e7d4836",
   "metadata": {
    "tags": []
   },
   "outputs": [
    {
     "data": {
      "text/plain": [
       "0.0"
      ]
     },
     "execution_count": 32,
     "metadata": {},
     "output_type": "execute_result"
    }
   ],
   "source": [
    "np.corrcoef(Xi - np.mean(Xi), (Xi - np.mean(Xi)) ** 2)[0, 1]"
   ]
  },
  {
   "cell_type": "markdown",
   "id": "5b283f2d-a7e7-468c-a243-df9d6f6eb008",
   "metadata": {},
   "source": [
    "and the VIFs are:"
   ]
  },
  {
   "cell_type": "code",
   "execution_count": 33,
   "id": "24fe9d22-e7ea-451e-b090-b8858cd7975b",
   "metadata": {
    "tags": []
   },
   "outputs": [
    {
     "data": {
      "text/plain": [
       "X      1.0\n",
       "X^2    1.0\n",
       "dtype: float64"
      ]
     },
     "execution_count": 33,
     "metadata": {},
     "output_type": "execute_result"
    }
   ],
   "source": [
    "vif(pd.DataFrame({'X': Xi - np.mean(Xi), 'X^2': (Xi - np.mean(Xi)) ** 2}))"
   ]
  },
  {
   "cell_type": "markdown",
   "id": "f444bb3c-2939-4a9f-8788-f4bb366ef2c0",
   "metadata": {
    "tags": []
   },
   "source": [
    "Therefore $(X-\\bar{X})$ and $(X-\\bar{X})^2$ are not collinear."
   ]
  },
  {
   "cell_type": "markdown",
   "id": "df84d6ec-d42a-4c33-bc97-f75245746148",
   "metadata": {
    "tags": []
   },
   "source": [
    "#### Exercise 5\n",
    "\n",
    "Given $\\rho(Y, \\hat{Y}) = 0.65$ and $\\mathrm{TSS}=100$:\n",
    "\n",
    "(a) $R^2 = \\rho(Y, \\hat{Y}) ^2 = 0.65^2$.\n",
    "\n",
    "(b) $\\mathrm{reg. SS} = \\mathrm{TSS} ( 1- R^2) = 35.$\n",
    "\n",
    "(c) $\\mathrm{res. SS} = \\mathrm{TSS} \\cdot R^2 = 65.$\n",
    "\n",
    "(d) $s^2 = \\frac{\\mathrm{res. SS}}{n - p - 1} = \\frac{65}{96}.$"
   ]
  },
  {
   "cell_type": "markdown",
   "id": "6cde30aa-22b1-465d-8260-c19a12a479e8",
   "metadata": {
    "tags": []
   },
   "source": [
    "#### Exercise 6"
   ]
  },
  {
   "cell_type": "markdown",
   "id": "e2f2e63f-28bb-4d1a-904c-f6f1b66de962",
   "metadata": {
    "tags": []
   },
   "source": [
    "$C_p = \\frac{SSE(p)}{\\hat{\\sigma}_{\\epsilon, M}^2} - n + 2 (p + 1)$"
   ]
  },
  {
   "cell_type": "code",
   "execution_count": 49,
   "id": "46ca0143-fe8f-4e8f-b7ec-0f2c13e6ee67",
   "metadata": {
    "tags": []
   },
   "outputs": [],
   "source": [
    "def Cp(SSE, sigma, n, p):\n",
    "    return SSE / sigma ** 2 - n + 2 * (p + 1)\n",
    "def Rsq(SSE, TSS):\n",
    "    return 1 - SSE / TSS"
   ]
  },
  {
   "cell_type": "code",
   "execution_count": 43,
   "id": "5f07a39d-a309-45f3-b095-743f4c1158ec",
   "metadata": {
    "tags": []
   },
   "outputs": [],
   "source": [
    "RSS = np.array([12.2, 10.1, 10.0])\n",
    "p = np.array([3, 4, 5])"
   ]
  },
  {
   "cell_type": "code",
   "execution_count": 50,
   "id": "e3a7a9f8-7016-4a3f-bf4c-ca03cc9d8126",
   "metadata": {
    "tags": []
   },
   "outputs": [],
   "source": [
    "n = 66\n",
    "sigma_eps = np.sqrt(RSS[2] / (n - p[2] - 1))\n",
    "TSS = 48"
   ]
  },
  {
   "cell_type": "code",
   "execution_count": 51,
   "id": "bd3b0a43-8348-4291-91e7-63060e34fa34",
   "metadata": {
    "tags": []
   },
   "outputs": [
    {
     "data": {
      "text/plain": [
       "array([15.2,  4.6,  6. ])"
      ]
     },
     "execution_count": 51,
     "metadata": {},
     "output_type": "execute_result"
    }
   ],
   "source": [
    "Cp(RSS, sigma_eps, n, p) "
   ]
  },
  {
   "cell_type": "code",
   "execution_count": 52,
   "id": "ec7ca806-2e07-4e92-950a-78e840702ee6",
   "metadata": {
    "tags": []
   },
   "outputs": [
    {
     "data": {
      "text/plain": [
       "array([0.74583333, 0.78958333, 0.79166667])"
      ]
     },
     "execution_count": 52,
     "metadata": {},
     "output_type": "execute_result"
    }
   ],
   "source": [
    "Rsq(RSS, TSS)"
   ]
  },
  {
   "cell_type": "markdown",
   "id": "8ce34927-b47f-4830-8121-4cba8e57aeb3",
   "metadata": {},
   "source": [
    "Based on this information, one should pick the model with 4 parameters. $R^2$ should not be used to compare models - instead, one could use the adjusted $R^2$."
   ]
  },
  {
   "cell_type": "markdown",
   "id": "7120f231-000f-4c2b-aeaf-697ee4ee3027",
   "metadata": {
    "tags": []
   },
   "source": [
    "#### Exercise 7\n",
    "\n",
    "Within the setup of the regression problem (i.e. assuming the true model is $Y_i = \\beta_0 + \\beta_1 X_i + \\beta_2 X_i^2 + \\epsilon_i$), the result does not allow us to reject the hypothesis that both $\\beta_1$ and $\\beta_2$ are zero.\n",
    "\n",
    "However, this does not provide evidence on the validity of the chosen model as such."
   ]
  },
  {
   "cell_type": "markdown",
   "id": "cad58a2d-1e7f-4b45-a9d4-dd5a11c405e0",
   "metadata": {
    "tags": []
   },
   "source": [
    "#### Exercise 8\n",
    "\n",
    "Setting\n",
    "$$\\frac{d}{d\\beta_1} \\sum_{i=1}^n (Y_i - \\beta_1 X_i)^2 = 0$$\n",
    "gives us\n",
    "$$\\beta_1 = \\frac{\\sum_{i=1}^n X_i Y_i}{\\sum_{i=1}^n X_i^2}.$$"
   ]
  },
  {
   "cell_type": "markdown",
   "id": "53684cd9-6d7f-40b0-a216-f392e08a8d83",
   "metadata": {
    "tags": []
   },
   "source": [
    "#### Exercise 9\n",
    "\n",
    "| Source     | df  | SS    | MS    | F    | P    |\n",
    "| ---        | --- | ---   | ---   | ---  | ---  |\n",
    "| Regression | 2   | 5.851 | 2.926 | 4.26 | 0.04 |\n",
    "| Error      | 12  | 5.66  | 0.472 |\n",
    "| Total      | 15  |"
   ]
  },
  {
   "cell_type": "markdown",
   "id": "3264d0c2-974c-4935-9691-93bbba585444",
   "metadata": {},
   "source": [
    "MS = SS / error df:"
   ]
  },
  {
   "cell_type": "code",
   "execution_count": 68,
   "id": "c85a5125-2b91-4bb2-9d36-2d6aab1cb5f3",
   "metadata": {
    "tags": []
   },
   "outputs": [
    {
     "data": {
      "text/plain": [
       "0.4716666666666667"
      ]
     },
     "execution_count": 68,
     "metadata": {},
     "output_type": "execute_result"
    }
   ],
   "source": [
    "MS = 5.66 / 12\n",
    "MS"
   ]
  },
  {
   "cell_type": "markdown",
   "id": "2584d776-1cf0-475a-9b9b-fe24c0937eaa",
   "metadata": {
    "tags": []
   },
   "source": [
    "The F statistic can be recovered from the p-value:"
   ]
  },
  {
   "cell_type": "code",
   "execution_count": 67,
   "id": "86728213-d951-4600-bf43-90467124be14",
   "metadata": {
    "tags": []
   },
   "outputs": [
    {
     "data": {
      "text/plain": [
       "4.259855680060178"
      ]
     },
     "execution_count": 67,
     "metadata": {},
     "output_type": "execute_result"
    }
   ],
   "source": [
    "F = stats.f.ppf(1 - 0.04, 2, 12)\n",
    "F"
   ]
  },
  {
   "cell_type": "markdown",
   "id": "c13210ee-8c11-41e6-b5b3-0af7c30e04b9",
   "metadata": {},
   "source": [
    "$\\sigma_\\epsilon = \\sqrt{\\text{error MS}}$:"
   ]
  },
  {
   "cell_type": "code",
   "execution_count": 69,
   "id": "5704000c-fe77-4b09-866b-0042bb58abce",
   "metadata": {
    "tags": []
   },
   "outputs": [
    {
     "data": {
      "text/plain": [
       "0.6867799259345505"
      ]
     },
     "execution_count": 69,
     "metadata": {},
     "output_type": "execute_result"
    }
   ],
   "source": [
    "sigma = np.sqrt(MS)\n",
    "sigma"
   ]
  },
  {
   "cell_type": "markdown",
   "id": "ac8747dd-740c-4b11-8d92-bbfff28b6d55",
   "metadata": {
    "tags": []
   },
   "source": [
    "Then regression MS is F * $\\sigma_\\epsilon$:"
   ]
  },
  {
   "cell_type": "code",
   "execution_count": 71,
   "id": "f2bfd42a-c816-4d71-88de-26d85689c873",
   "metadata": {
    "tags": []
   },
   "outputs": [
    {
     "data": {
      "text/plain": [
       "2.9255833684436032"
      ]
     },
     "execution_count": 71,
     "metadata": {},
     "output_type": "execute_result"
    }
   ],
   "source": [
    "regMS = F * sigma\n",
    "regMS"
   ]
  },
  {
   "cell_type": "markdown",
   "id": "6708650f-95ec-4dbe-8167-541c2474222a",
   "metadata": {},
   "source": [
    "and regression SS is regression MS * regression df:"
   ]
  },
  {
   "cell_type": "code",
   "execution_count": 72,
   "id": "f1c36d04-4008-4e3d-b962-7a584f474150",
   "metadata": {
    "tags": []
   },
   "outputs": [
    {
     "data": {
      "text/plain": [
       "5.8511667368872065"
      ]
     },
     "execution_count": 72,
     "metadata": {},
     "output_type": "execute_result"
    }
   ],
   "source": [
    "regMS * 2"
   ]
  },
  {
   "cell_type": "markdown",
   "id": "a71734fb-e878-4864-be07-b9d323237ac4",
   "metadata": {
    "tags": []
   },
   "source": [
    "#### Exercise 10\n",
    "\n",
    "(a) 1.042\n",
    "\n",
    "(b) 0.93492\n",
    "\n",
    "(c) The 95% confidence interval is:"
   ]
  },
  {
   "cell_type": "code",
   "execution_count": 75,
   "id": "c26823bd-7c08-4c1d-88c7-becf59ba1897",
   "metadata": {
    "tags": []
   },
   "outputs": [
    {
     "data": {
      "text/plain": [
       "array([0.1283036, 0.1756964])"
      ]
     },
     "execution_count": 75,
     "metadata": {},
     "output_type": "execute_result"
    }
   ],
   "source": [
    "np.array([-1, 1]) * 1.96 * 0.01209 + 0.152"
   ]
  },
  {
   "cell_type": "markdown",
   "id": "55e34f96-9651-4a38-9904-c9e70f705d40",
   "metadata": {},
   "source": [
    "(d) The convergence code 0 mean successful completion."
   ]
  }
 ],
 "metadata": {
  "kernelspec": {
   "display_name": "Python 3 (ipykernel)",
   "language": "python",
   "name": "python3"
  },
  "language_info": {
   "codemirror_mode": {
    "name": "ipython",
    "version": 3
   },
   "file_extension": ".py",
   "mimetype": "text/x-python",
   "name": "python",
   "nbconvert_exporter": "python",
   "pygments_lexer": "ipython3",
   "version": "3.11.2"
  }
 },
 "nbformat": 4,
 "nbformat_minor": 5
}
