{
 "cells": [
  {
   "cell_type": "code",
   "execution_count": 1,
   "id": "8dfef224-cfad-4df9-a90b-20c5b43a5dab",
   "metadata": {
    "tags": []
   },
   "outputs": [],
   "source": [
    "import numpy as np\n",
    "import pandas as pd\n",
    "import matplotlib.pyplot as plt"
   ]
  },
  {
   "cell_type": "markdown",
   "id": "ae0af02b-7a47-4ac2-9454-5e085d483f56",
   "metadata": {
    "tags": []
   },
   "source": [
    "#### Exercise 1"
   ]
  },
  {
   "cell_type": "code",
   "execution_count": 2,
   "id": "b176be3c-d9d7-480b-9738-74a5b2b5b4bb",
   "metadata": {
    "tags": []
   },
   "outputs": [],
   "source": [
    "from scipy.stats import norm"
   ]
  },
  {
   "cell_type": "code",
   "execution_count": 3,
   "id": "c201bf37-c110-4773-a127-35e94e6aefa9",
   "metadata": {
    "tags": []
   },
   "outputs": [],
   "source": [
    "S0 = 1000\n",
    "ST = 990\n",
    "mu = 0.001\n",
    "sigma = 0.015"
   ]
  },
  {
   "cell_type": "code",
   "execution_count": 4,
   "id": "657b937d-e288-48a3-b529-93f084be4031",
   "metadata": {
    "tags": []
   },
   "outputs": [],
   "source": [
    "def prob_below(S0, ST, mu, sigma, periods):\n",
    "    return norm.cdf(np.log(ST / S0), mu * periods, sigma * np.sqrt(periods))"
   ]
  },
  {
   "cell_type": "markdown",
   "id": "11428a50-85d0-4b8a-9ce6-b57a2ef1dfc4",
   "metadata": {},
   "source": [
    "(a)"
   ]
  },
  {
   "cell_type": "code",
   "execution_count": 5,
   "id": "d9272845-219e-4957-8e89-d7ce4af94d93",
   "metadata": {
    "tags": []
   },
   "outputs": [
    {
     "data": {
      "text/plain": [
       "0.23065573155475771"
      ]
     },
     "execution_count": 5,
     "metadata": {},
     "output_type": "execute_result"
    }
   ],
   "source": [
    "prob_below(S0, ST, mu, sigma, 1)"
   ]
  },
  {
   "cell_type": "markdown",
   "id": "486eecf0-3dff-4817-a11f-d48bbb276d22",
   "metadata": {},
   "source": [
    "(b)"
   ]
  },
  {
   "cell_type": "code",
   "execution_count": 6,
   "id": "05715189-7436-410b-92cf-fab6208f96aa",
   "metadata": {
    "tags": []
   },
   "outputs": [
    {
     "data": {
      "text/plain": [
       "0.3268188763247845"
      ]
     },
     "execution_count": 6,
     "metadata": {},
     "output_type": "execute_result"
    }
   ],
   "source": [
    "prob_below(S0, ST, mu, sigma, 5)"
   ]
  },
  {
   "cell_type": "markdown",
   "id": "c8691c65-a53e-4210-8cf6-bfe48ccf3d38",
   "metadata": {
    "tags": []
   },
   "source": [
    "#### Exercise 2"
   ]
  },
  {
   "cell_type": "code",
   "execution_count": 7,
   "id": "98d410ba-e906-42d2-a68a-a4a44d643ee5",
   "metadata": {
    "tags": []
   },
   "outputs": [
    {
     "data": {
      "text/plain": [
       "0.5093539805793366"
      ]
     },
     "execution_count": 7,
     "metadata": {},
     "output_type": "execute_result"
    }
   ],
   "source": [
    "1 - prob_below(100, 110, 0.1, 0.2, 1)"
   ]
  },
  {
   "cell_type": "markdown",
   "id": "dbba29f6-fc55-41d6-9728-e2aaa62ec54a",
   "metadata": {
    "tags": []
   },
   "source": [
    "#### Exercise 3"
   ]
  },
  {
   "cell_type": "code",
   "execution_count": 8,
   "id": "b55a5b2a-6aae-4b85-a992-627140a1cef0",
   "metadata": {
    "tags": []
   },
   "outputs": [
    {
     "data": {
      "text/plain": [
       "0.5788735865041656"
      ]
     },
     "execution_count": 8,
     "metadata": {},
     "output_type": "execute_result"
    }
   ],
   "source": [
    "1 - prob_below(80, 90, 0.08, 0.15, 2)"
   ]
  },
  {
   "cell_type": "markdown",
   "id": "f2332944-791e-4d26-ad58-c2aa0f2e2c93",
   "metadata": {
    "tags": []
   },
   "source": [
    "#### Exercise 4"
   ]
  },
  {
   "cell_type": "code",
   "execution_count": 9,
   "id": "dba3dc05-80a8-446b-970c-867fbb398823",
   "metadata": {
    "tags": []
   },
   "outputs": [],
   "source": [
    "def Rtk(prices, t, k):\n",
    "    return prices.loc[t] / prices.loc[t - k] - 1"
   ]
  },
  {
   "cell_type": "code",
   "execution_count": 10,
   "id": "81937afb-9feb-4a3a-8c25-bf27da31f7ef",
   "metadata": {
    "tags": []
   },
   "outputs": [],
   "source": [
    "def rtk(prices, t, k):\n",
    "    return np.log(1 + Rtk(prices, t, k))[0]"
   ]
  },
  {
   "cell_type": "code",
   "execution_count": 11,
   "id": "8c63f9db-f5d3-4085-af9d-782cd2fd71df",
   "metadata": {
    "tags": []
   },
   "outputs": [
    {
     "data": {
      "text/html": [
       "<div>\n",
       "<style scoped>\n",
       "    .dataframe tbody tr th:only-of-type {\n",
       "        vertical-align: middle;\n",
       "    }\n",
       "\n",
       "    .dataframe tbody tr th {\n",
       "        vertical-align: top;\n",
       "    }\n",
       "\n",
       "    .dataframe thead th {\n",
       "        text-align: right;\n",
       "    }\n",
       "</style>\n",
       "<table border=\"1\" class=\"dataframe\">\n",
       "  <thead>\n",
       "    <tr style=\"text-align: right;\">\n",
       "      <th></th>\n",
       "      <th>0</th>\n",
       "    </tr>\n",
       "  </thead>\n",
       "  <tbody>\n",
       "    <tr>\n",
       "      <th>1</th>\n",
       "      <td>95</td>\n",
       "    </tr>\n",
       "    <tr>\n",
       "      <th>2</th>\n",
       "      <td>103</td>\n",
       "    </tr>\n",
       "    <tr>\n",
       "      <th>3</th>\n",
       "      <td>98</td>\n",
       "    </tr>\n",
       "  </tbody>\n",
       "</table>\n",
       "</div>"
      ],
      "text/plain": [
       "     0\n",
       "1   95\n",
       "2  103\n",
       "3   98"
      ]
     },
     "execution_count": 11,
     "metadata": {},
     "output_type": "execute_result"
    }
   ],
   "source": [
    "prices = pd.DataFrame([95, 103, 98], index=np.arange(1, 4))\n",
    "prices"
   ]
  },
  {
   "cell_type": "code",
   "execution_count": 12,
   "id": "fe73a9a3-0178-4ff0-81a2-b206d9e330c6",
   "metadata": {
    "tags": []
   },
   "outputs": [
    {
     "data": {
      "text/plain": [
       "0.03109058707003118"
      ]
     },
     "execution_count": 12,
     "metadata": {},
     "output_type": "execute_result"
    }
   ],
   "source": [
    "rtk(prices, 3, 2)"
   ]
  },
  {
   "cell_type": "markdown",
   "id": "82f9ac4f-f94d-4d34-941a-5fc806c7c8d9",
   "metadata": {
    "tags": []
   },
   "source": [
    "#### Exercise 5"
   ]
  },
  {
   "cell_type": "code",
   "execution_count": 13,
   "id": "f5768ba1-3e89-46b0-b36c-d55d75d4fb8a",
   "metadata": {
    "tags": []
   },
   "outputs": [
    {
     "data": {
      "text/html": [
       "<div>\n",
       "<style scoped>\n",
       "    .dataframe tbody tr th:only-of-type {\n",
       "        vertical-align: middle;\n",
       "    }\n",
       "\n",
       "    .dataframe tbody tr th {\n",
       "        vertical-align: top;\n",
       "    }\n",
       "\n",
       "    .dataframe thead th {\n",
       "        text-align: right;\n",
       "    }\n",
       "</style>\n",
       "<table border=\"1\" class=\"dataframe\">\n",
       "  <thead>\n",
       "    <tr style=\"text-align: right;\">\n",
       "      <th></th>\n",
       "      <th>Pt</th>\n",
       "      <th>Dt</th>\n",
       "      <th>PtDt</th>\n",
       "    </tr>\n",
       "  </thead>\n",
       "  <tbody>\n",
       "    <tr>\n",
       "      <th>1</th>\n",
       "      <td>52</td>\n",
       "      <td>0.20</td>\n",
       "      <td>52.20</td>\n",
       "    </tr>\n",
       "    <tr>\n",
       "      <th>2</th>\n",
       "      <td>54</td>\n",
       "      <td>0.20</td>\n",
       "      <td>54.20</td>\n",
       "    </tr>\n",
       "    <tr>\n",
       "      <th>3</th>\n",
       "      <td>53</td>\n",
       "      <td>0.20</td>\n",
       "      <td>53.20</td>\n",
       "    </tr>\n",
       "    <tr>\n",
       "      <th>4</th>\n",
       "      <td>59</td>\n",
       "      <td>0.25</td>\n",
       "      <td>59.25</td>\n",
       "    </tr>\n",
       "  </tbody>\n",
       "</table>\n",
       "</div>"
      ],
      "text/plain": [
       "   Pt    Dt   PtDt\n",
       "1  52  0.20  52.20\n",
       "2  54  0.20  54.20\n",
       "3  53  0.20  53.20\n",
       "4  59  0.25  59.25"
      ]
     },
     "execution_count": 13,
     "metadata": {},
     "output_type": "execute_result"
    }
   ],
   "source": [
    "values = pd.DataFrame({'Pt': [52, 54, 53, 59], 'Dt': [0.2, 0.2, 0.2, 0.25]}, index=np.arange(1, 5))\n",
    "values['PtDt'] = values['Pt'] + values['Dt']\n",
    "values"
   ]
  },
  {
   "cell_type": "code",
   "execution_count": 14,
   "id": "01813ba9-a8b7-44c6-9d7a-ce9e0e78edd6",
   "metadata": {
    "tags": []
   },
   "outputs": [],
   "source": [
    "def RDtk(values, t, k):\n",
    "    return values.loc[t, 'PtDt'] / values.loc[t - k, 'Pt'] - 1"
   ]
  },
  {
   "cell_type": "code",
   "execution_count": 15,
   "id": "97f93f50-a4f3-4f08-b69b-a97b9402c6b4",
   "metadata": {
    "tags": []
   },
   "outputs": [],
   "source": [
    "def rDtk(values, t, k):\n",
    "    return np.log(1 + RDtk(values, t, k))"
   ]
  },
  {
   "cell_type": "code",
   "execution_count": 16,
   "id": "336c7342-3ece-4445-856e-b165a72e404b",
   "metadata": {
    "tags": []
   },
   "outputs": [
    {
     "data": {
      "text/plain": [
       "0.04230769230769238"
      ]
     },
     "execution_count": 16,
     "metadata": {},
     "output_type": "execute_result"
    }
   ],
   "source": [
    "RDtk(values, 2, 1)"
   ]
  },
  {
   "cell_type": "code",
   "execution_count": 17,
   "id": "94260fbb-95d5-45b5-b3f4-9bc1baa71740",
   "metadata": {
    "tags": []
   },
   "outputs": [
    {
     "data": {
      "text/plain": [
       "0.13942307692307687"
      ]
     },
     "execution_count": 17,
     "metadata": {},
     "output_type": "execute_result"
    }
   ],
   "source": [
    "RDtk(values, 4, 3)"
   ]
  },
  {
   "cell_type": "code",
   "execution_count": 18,
   "id": "51e72378-a738-4d0d-b4c6-530f111fdf95",
   "metadata": {
    "tags": []
   },
   "outputs": [
    {
     "data": {
      "text/plain": [
       "-0.014925650216675593"
      ]
     },
     "execution_count": 18,
     "metadata": {},
     "output_type": "execute_result"
    }
   ],
   "source": [
    "rDtk(values, 3, 1)"
   ]
  },
  {
   "cell_type": "markdown",
   "id": "37af04d3-208f-40f6-9b0f-878c865ccf2c",
   "metadata": {
    "tags": []
   },
   "source": [
    "#### Exercise 6"
   ]
  },
  {
   "cell_type": "code",
   "execution_count": 19,
   "id": "175a7e4a-228b-4afa-b01a-9e7836a4bcd3",
   "metadata": {
    "tags": []
   },
   "outputs": [
    {
     "data": {
      "text/html": [
       "<div>\n",
       "<style scoped>\n",
       "    .dataframe tbody tr th:only-of-type {\n",
       "        vertical-align: middle;\n",
       "    }\n",
       "\n",
       "    .dataframe tbody tr th {\n",
       "        vertical-align: top;\n",
       "    }\n",
       "\n",
       "    .dataframe thead th {\n",
       "        text-align: right;\n",
       "    }\n",
       "</style>\n",
       "<table border=\"1\" class=\"dataframe\">\n",
       "  <thead>\n",
       "    <tr style=\"text-align: right;\">\n",
       "      <th></th>\n",
       "      <th>Pt</th>\n",
       "      <th>Dt</th>\n",
       "      <th>PtDt</th>\n",
       "    </tr>\n",
       "  </thead>\n",
       "  <tbody>\n",
       "    <tr>\n",
       "      <th>1</th>\n",
       "      <td>82</td>\n",
       "      <td>0.100</td>\n",
       "      <td>82.100</td>\n",
       "    </tr>\n",
       "    <tr>\n",
       "      <th>2</th>\n",
       "      <td>85</td>\n",
       "      <td>0.100</td>\n",
       "      <td>85.100</td>\n",
       "    </tr>\n",
       "    <tr>\n",
       "      <th>3</th>\n",
       "      <td>83</td>\n",
       "      <td>0.000</td>\n",
       "      <td>83.000</td>\n",
       "    </tr>\n",
       "    <tr>\n",
       "      <th>4</th>\n",
       "      <td>87</td>\n",
       "      <td>0.125</td>\n",
       "      <td>87.125</td>\n",
       "    </tr>\n",
       "  </tbody>\n",
       "</table>\n",
       "</div>"
      ],
      "text/plain": [
       "   Pt     Dt    PtDt\n",
       "1  82  0.100  82.100\n",
       "2  85  0.100  85.100\n",
       "3  83  0.000  83.000\n",
       "4  87  0.125  87.125"
      ]
     },
     "execution_count": 19,
     "metadata": {},
     "output_type": "execute_result"
    }
   ],
   "source": [
    "values = pd.DataFrame({'Pt': [82, 85, 83, 87], 'Dt': [0.1, 0.1, 0.0, 0.125]}, index=np.arange(1, 5))\n",
    "values['PtDt'] = values['Pt'] + values['Dt']\n",
    "values"
   ]
  },
  {
   "cell_type": "code",
   "execution_count": 20,
   "id": "12bc18e9-6b04-4257-aa24-d9993ed557d5",
   "metadata": {
    "tags": []
   },
   "outputs": [
    {
     "data": {
      "text/plain": [
       "0.012195121951219523"
      ]
     },
     "execution_count": 20,
     "metadata": {},
     "output_type": "execute_result"
    }
   ],
   "source": [
    "RDtk(values, 3, 2)"
   ]
  },
  {
   "cell_type": "code",
   "execution_count": 21,
   "id": "9b0277b9-17ff-4c9f-aa9e-623725aee4dd",
   "metadata": {
    "tags": []
   },
   "outputs": [
    {
     "data": {
      "text/plain": [
       "0.06062462181643484"
      ]
     },
     "execution_count": 21,
     "metadata": {},
     "output_type": "execute_result"
    }
   ],
   "source": [
    "rDtk(values, 4, 3)"
   ]
  },
  {
   "cell_type": "markdown",
   "id": "75353f0e-f875-481a-949c-0e44c364f119",
   "metadata": {
    "tags": []
   },
   "source": [
    "#### Exercise 7"
   ]
  },
  {
   "cell_type": "markdown",
   "id": "bbe23f4c-a5a9-47c6-a6c9-f38a1168ecf4",
   "metadata": {
    "tags": []
   },
   "source": [
    "(a) The distribution of $r_t(4)$ is $N(0.06 * 4, 0.47 * \\sqrt{4})$."
   ]
  },
  {
   "cell_type": "markdown",
   "id": "78043330-2a26-4eb4-8449-2bbc1a085fdd",
   "metadata": {},
   "source": [
    "(b)"
   ]
  },
  {
   "cell_type": "code",
   "execution_count": 22,
   "id": "d325d36e-e9ac-4049-9e56-0beb78c549c4",
   "metadata": {
    "tags": []
   },
   "outputs": [
    {
     "data": {
      "text/plain": [
       "0.9694202393299295"
      ]
     },
     "execution_count": 22,
     "metadata": {},
     "output_type": "execute_result"
    }
   ],
   "source": [
    "norm.cdf(2, 0.06 * 4, 0.47 * np.sqrt(4))"
   ]
  },
  {
   "cell_type": "markdown",
   "id": "1a4bd1bb-1530-4521-ba5b-119238c611ee",
   "metadata": {},
   "source": [
    "(c)"
   ]
  },
  {
   "cell_type": "markdown",
   "id": "8f2bb0b0-8aab-4f6f-943e-508612f56773",
   "metadata": {
    "tags": []
   },
   "source": [
    "$\\mathrm{Cov}(r_2(2), r_2(1)) = \\mathrm{Cov}(r_2 + r_1, r_2) = \\mathrm{Cov}(r_2, r_2) + \\mathrm{Cov}(r_1, r_2) = \\mathrm{Var}(r_2) = 0.47^2$."
   ]
  },
  {
   "cell_type": "markdown",
   "id": "c78eab22-0210-4867-b59f-948f70c47ada",
   "metadata": {
    "tags": []
   },
   "source": [
    "(d) $r_t(3) = r_t + r_{t-1} + r_{t-2} = r_t + r_{t-1} + 0.6 \\sim N(0.6 + 0.06 * 2, 0.47 * \\sqrt{2})$."
   ]
  },
  {
   "cell_type": "markdown",
   "id": "f4474d32-983d-4b1e-ad34-c27ae78f70c8",
   "metadata": {},
   "source": [
    "#### Exercise 8"
   ]
  },
  {
   "cell_type": "markdown",
   "id": "e5824be1-c9c5-465f-a18e-fbdfa71d6314",
   "metadata": {},
   "source": [
    "(a) $$1 - \\Phi\\left( \\frac{\\log 1.3 - 2\\mu}{\\sigma \\sqrt{2}} \\right)$$"
   ]
  },
  {
   "cell_type": "markdown",
   "id": "8f4549dc-0872-4eb5-ab1e-3d5d1b6b9bb4",
   "metadata": {
    "tags": []
   },
   "source": [
    "(b) $$f(X_1) = \\frac1{X_1} \\frac{1}{\\sqrt{2\\pi}\\sigma} \\exp \\left(-\\frac12 \\left( \\frac{\\log X_1 - \\log X_0 - \\mu}{\\sigma} \\right)^2 \\right)$$"
   ]
  },
  {
   "cell_type": "markdown",
   "id": "4b7ef43b-2391-4e44-accf-d417473935dc",
   "metadata": {},
   "source": [
    "(c) $$q_{k,\\alpha} = k\\mu + \\sigma \\sqrt{k} q_\\alpha$$"
   ]
  },
  {
   "cell_type": "markdown",
   "id": "fbfbaf53-8216-4ef0-b2f1-d59ba7500a1f",
   "metadata": {
    "tags": []
   },
   "source": [
    "(d) If $$X_k = X_0 e^{r_k},$$ where $$r_k \\sim N(\\mu, \\sigma^2),$$ then $$E[X_k] = X_0 e^{\\mu + \\frac{\\sigma^2}{2}}.$$\n",
    "Therefore $$X_k^2 = X_0^2 e^{2 r_k} = X_0' e^{r_k'},$$ where $X_0' = X_0^2$ and $r_k' = 2r_k \\sim N(2\\mu, 4\\sigma^2)$, and thus $$E[X_k^2] = X_0^2 e^{2\\mu + 2\\sigma^2}$$"
   ]
  },
  {
   "cell_type": "markdown",
   "id": "7cbdf329-52ae-4588-b989-d617e0ebb4a9",
   "metadata": {},
   "source": [
    "(e) $$\\mathrm{Var}(X_k) = E[X_k^2] - E^2[X_k] = X_0^2 e^{2\\mu + 2\\sigma^2} - X_0^2 e^{2\\mu + \\sigma^2} = X_0^2 e^{2\\mu + 2\\sigma^2}\\left( 1 - e^{-\\sigma^2} \\right)$$"
   ]
  },
  {
   "cell_type": "markdown",
   "id": "f71adb12-419c-4108-bcf7-feee1e1017aa",
   "metadata": {
    "tags": []
   },
   "source": [
    "#### Exercise 9"
   ]
  },
  {
   "cell_type": "markdown",
   "id": "f2850fc6-ba1d-4c38-9b19-dc069fc7a02c",
   "metadata": {
    "tags": []
   },
   "source": [
    "(a)"
   ]
  },
  {
   "cell_type": "code",
   "execution_count": 23,
   "id": "b08dc4a5-d319-4c18-8367-607385291cfc",
   "metadata": {
    "tags": []
   },
   "outputs": [
    {
     "data": {
      "text/plain": [
       "0.6329619339826876"
      ]
     },
     "execution_count": 23,
     "metadata": {},
     "output_type": "execute_result"
    }
   ],
   "source": [
    "1 - prob_below(1, 1.2, 0.1, 0.2, 3)"
   ]
  },
  {
   "cell_type": "markdown",
   "id": "e47d37a4-ecfe-43df-8940-c9df8b2952cb",
   "metadata": {
    "tags": []
   },
   "source": [
    "(b) $$\\mathrm{Var}(X_k/k | X_0) = \\frac{1}{k^2} \\mathrm{Var}(X_k | X_0) = \\frac{X_0^2}{k^2} e^{2\\mu + 2\\sigma^2}\\left( 1 - e^{-\\sigma^2} \\right)$$"
   ]
  },
  {
   "cell_type": "markdown",
   "id": "6f60a1d4-ea09-4bd1-badc-7e53b276ab80",
   "metadata": {},
   "source": [
    "(c)"
   ]
  },
  {
   "cell_type": "code",
   "execution_count": 24,
   "id": "0769f305-84a5-4fc6-a097-7276317cd677",
   "metadata": {
    "tags": []
   },
   "outputs": [
    {
     "data": {
      "text/plain": [
       "17"
      ]
     },
     "execution_count": 24,
     "metadata": {},
     "output_type": "execute_result"
    }
   ],
   "source": [
    "ts = np.arange(1, 100)\n",
    "ps = 1 - prob_below(1, 2, 0.1, 0.2, ts)\n",
    "np.flatnonzero(ps >= 0.9)[0]"
   ]
  },
  {
   "cell_type": "markdown",
   "id": "394b8a9b-f681-4741-b599-3db92fb96558",
   "metadata": {
    "tags": []
   },
   "source": [
    "#### Exercise 10"
   ]
  },
  {
   "cell_type": "code",
   "execution_count": 25,
   "id": "ad02c052-0f7d-4325-b57e-9e0a88d1c442",
   "metadata": {
    "tags": []
   },
   "outputs": [
    {
     "data": {
      "text/plain": [
       "0.4218295335131854"
      ]
     },
     "execution_count": 25,
     "metadata": {},
     "output_type": "execute_result"
    }
   ],
   "source": [
    "1 - prob_below(97, 100, 0.0002, 0.03, 20)"
   ]
  },
  {
   "cell_type": "markdown",
   "id": "a234e211-db07-4004-8590-85570a56b6e4",
   "metadata": {
    "tags": []
   },
   "source": [
    "#### Exercise 11"
   ]
  },
  {
   "cell_type": "code",
   "execution_count": 26,
   "id": "f2c89696-a2ce-4f55-86ca-a19c2f98de87",
   "metadata": {
    "tags": []
   },
   "outputs": [
    {
     "data": {
      "text/plain": [
       "3098"
      ]
     },
     "execution_count": 26,
     "metadata": {},
     "output_type": "execute_result"
    }
   ],
   "source": [
    "ts = np.arange(1, 10000)\n",
    "ps = 1 - prob_below(1, 2, 0.0005, 0.012, ts)\n",
    "np.flatnonzero(ps >= 0.9)[0]"
   ]
  }
 ],
 "metadata": {
  "kernelspec": {
   "display_name": "Python 3 (ipykernel)",
   "language": "python",
   "name": "python3"
  },
  "language_info": {
   "codemirror_mode": {
    "name": "ipython",
    "version": 3
   },
   "file_extension": ".py",
   "mimetype": "text/x-python",
   "name": "python",
   "nbconvert_exporter": "python",
   "pygments_lexer": "ipython3",
   "version": "3.11.2"
  }
 },
 "nbformat": 4,
 "nbformat_minor": 5
}
