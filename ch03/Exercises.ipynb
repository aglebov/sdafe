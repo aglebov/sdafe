{
 "cells": [
  {
   "cell_type": "code",
   "execution_count": 32,
   "id": "a47247af-41e2-4c81-a49b-dfa250882c6f",
   "metadata": {
    "tags": []
   },
   "outputs": [],
   "source": [
    "import numpy as np\n",
    "import matplotlib.pyplot as plt"
   ]
  },
  {
   "cell_type": "markdown",
   "id": "102787f9-6596-4dfd-98ff-6666a03f4a76",
   "metadata": {
    "tags": []
   },
   "source": [
    "#### Exercise 1"
   ]
  },
  {
   "cell_type": "code",
   "execution_count": 33,
   "id": "cdadfc8b-c5a4-4011-9719-d911a8c6114f",
   "metadata": {
    "tags": []
   },
   "outputs": [],
   "source": [
    "def y(R, T):\n",
    "    return R(T) / T\n",
    "\n",
    "def D(R, T, t=0):\n",
    "    return np.exp(-(R(T) - R(t)))"
   ]
  },
  {
   "cell_type": "code",
   "execution_count": 34,
   "id": "765d279d-fd3e-4b24-9f91-e22be428bdf0",
   "metadata": {
    "tags": []
   },
   "outputs": [],
   "source": [
    "def r(t):\n",
    "    return 0.028 + 0.00042 * t\n",
    "\n",
    "def R(t):\n",
    "    return 0.028 * t + 0.00042 * t**2 / 2"
   ]
  },
  {
   "cell_type": "markdown",
   "id": "aa9c22f9-4e59-4f26-ac27-3fc56142fd03",
   "metadata": {},
   "source": [
    "(a)"
   ]
  },
  {
   "cell_type": "code",
   "execution_count": 35,
   "id": "a3f2caa1-0d60-4dea-b7be-3ac074389a32",
   "metadata": {
    "tags": []
   },
   "outputs": [
    {
     "data": {
      "text/plain": [
       "0.0322"
      ]
     },
     "execution_count": 35,
     "metadata": {},
     "output_type": "execute_result"
    }
   ],
   "source": [
    "y(R, 20)"
   ]
  },
  {
   "cell_type": "markdown",
   "id": "dfb1ed97-f367-4771-bb24-568647a12cf3",
   "metadata": {},
   "source": [
    "(b)"
   ]
  },
  {
   "cell_type": "code",
   "execution_count": 36,
   "id": "cdd1a7ea-78fc-424d-971a-3f17e870e18a",
   "metadata": {
    "tags": []
   },
   "outputs": [
    {
     "data": {
      "text/plain": [
       "626.7233899781444"
      ]
     },
     "execution_count": 36,
     "metadata": {},
     "output_type": "execute_result"
    }
   ],
   "source": [
    "1000 * D(R, 15)"
   ]
  },
  {
   "cell_type": "markdown",
   "id": "722b11ad-73ff-4865-b581-5581fbb3c377",
   "metadata": {
    "tags": []
   },
   "source": [
    "#### Exercise 2"
   ]
  },
  {
   "cell_type": "code",
   "execution_count": 37,
   "id": "e7a2f181-a078-443a-9d79-90e36b0095ce",
   "metadata": {
    "tags": []
   },
   "outputs": [],
   "source": [
    "def r(t):\n",
    "    return 0.04 + 0.0002 * t - 0.00003 * t**2\n",
    "\n",
    "def R(t):\n",
    "    return 0.04 * t + 0.0002 * t**2 / 2 - 0.00003 * t**3 / 3"
   ]
  },
  {
   "cell_type": "markdown",
   "id": "d893a227-3ae6-45e0-aa68-95d03f2ad535",
   "metadata": {},
   "source": [
    "(a)"
   ]
  },
  {
   "cell_type": "code",
   "execution_count": 38,
   "id": "182b29fa-c5cc-4aa1-93b9-e6bd5ef61bbf",
   "metadata": {
    "tags": []
   },
   "outputs": [
    {
     "data": {
      "text/plain": [
       "0.04016"
      ]
     },
     "execution_count": 38,
     "metadata": {},
     "output_type": "execute_result"
    }
   ],
   "source": [
    "y(R, 8)"
   ]
  },
  {
   "cell_type": "markdown",
   "id": "b5dfdc27-33ad-4838-83fb-ffc2b300625b",
   "metadata": {},
   "source": [
    "(b)"
   ]
  },
  {
   "cell_type": "code",
   "execution_count": 39,
   "id": "75f32cd9-0e7d-431e-b1ee-b0828a6652e8",
   "metadata": {
    "tags": []
   },
   "outputs": [
    {
     "data": {
      "text/plain": [
       "817.7079790036046"
      ]
     },
     "execution_count": 39,
     "metadata": {},
     "output_type": "execute_result"
    }
   ],
   "source": [
    "1000 * D(R, 5)"
   ]
  },
  {
   "cell_type": "markdown",
   "id": "8c71c2d0-3c5c-4124-a716-48f55ee1a33e",
   "metadata": {},
   "source": [
    "(c)"
   ]
  },
  {
   "cell_type": "code",
   "execution_count": 40,
   "id": "343879b8-1871-4616-b9e4-ea684db5feca",
   "metadata": {
    "tags": []
   },
   "outputs": [],
   "source": [
    "ts = np.linspace(0.01, 30, 300)"
   ]
  },
  {
   "cell_type": "code",
   "execution_count": 41,
   "id": "055b2c36-9088-4c62-8be1-ca93d2d4624a",
   "metadata": {
    "tags": []
   },
   "outputs": [
    {
     "data": {
      "text/plain": [
       "Text(0.5, 1.0, 'yield curve')"
      ]
     },
     "execution_count": 41,
     "metadata": {},
     "output_type": "execute_result"
    },
    {
     "data": {
      "image/png": "[encoded data removed]",
      "text/plain": [
       "<Figure size 1000x400 with 2 Axes>"
      ]
     },
     "metadata": {},
     "output_type": "display_data"
    }
   ],
   "source": [
    "fig, axs = plt.subplots(1, 2, figsize=(10, 4), sharey=True, sharex=True)\n",
    "axs[0].plot(ts, r(ts))\n",
    "axs[0].set_title('forward rate')\n",
    "axs[1].plot(ts, y(R, ts))\n",
    "axs[1].set_title('yield curve')"
   ]
  },
  {
   "cell_type": "markdown",
   "id": "ab4544b7-6041-4ccb-a584-6f5023731c0b",
   "metadata": {},
   "source": [
    "Both curves are concave, but the forward rates are dropping steeper for higher maturities than do yields."
   ]
  },
  {
   "cell_type": "markdown",
   "id": "bc1d29ab-0298-480b-b4e7-09a1d250fbe7",
   "metadata": {},
   "source": [
    "(d)"
   ]
  },
  {
   "cell_type": "code",
   "execution_count": 42,
   "id": "7ae2635b-937c-41d7-b79a-56da4021caef",
   "metadata": {
    "tags": []
   },
   "outputs": [
    {
     "data": {
      "text/plain": [
       "0.04090445137747545"
      ]
     },
     "execution_count": 42,
     "metadata": {},
     "output_type": "execute_result"
    }
   ],
   "source": [
    "D(R, 10, 1) / D(R, 10, 0) - 1"
   ]
  },
  {
   "cell_type": "code",
   "execution_count": 43,
   "id": "8671e8dc-80b3-4173-8aa8-0b4f6911eaa2",
   "metadata": {
    "tags": []
   },
   "outputs": [
    {
     "data": {
      "text/plain": [
       "0.04090445137747567"
      ]
     },
     "execution_count": 43,
     "metadata": {},
     "output_type": "execute_result"
    }
   ],
   "source": [
    "np.exp((R(1) - R(0))) - 1"
   ]
  },
  {
   "cell_type": "markdown",
   "id": "eaf505c8-a993-4da1-b866-bc6506985dc3",
   "metadata": {
    "tags": []
   },
   "source": [
    "#### Exercise 3"
   ]
  },
  {
   "cell_type": "markdown",
   "id": "e3a816e0-08db-436a-b3a6-0ecc3404b602",
   "metadata": {},
   "source": [
    "(a) The coupon rate is $C/par$, whereas the current yield is $C/P$, where $P$ is the current price, hence if the current yield is below the coupon rate, it means that the price is above par."
   ]
  },
  {
   "cell_type": "markdown",
   "id": "1ecb2b9d-ed0a-4baf-b1f2-f94508bc5244",
   "metadata": {},
   "source": [
    "(b) The yield to maturity is below 2.8%, because 2.8% would be the yield to maturity if par was equal to price, but par is below the current price, so the yield to maturity must be lower still."
   ]
  },
  {
   "cell_type": "markdown",
   "id": "d702107b-5c04-4b2a-8377-c34c89751406",
   "metadata": {
    "tags": []
   },
   "source": [
    "#### Exercise 4"
   ]
  },
  {
   "cell_type": "code",
   "execution_count": 44,
   "id": "0fe46e1a-8a73-4b80-a118-50db2e736f79",
   "metadata": {
    "tags": []
   },
   "outputs": [],
   "source": [
    "def r(t):\n",
    "    return 0.032 + 0.0001 * t + 0.00002 * t**2\n",
    "\n",
    "def R(t):\n",
    "    return 0.032 * t + 0.0001 * t**2 / 2 + 0.00002 * t**3 / 3"
   ]
  },
  {
   "cell_type": "markdown",
   "id": "b9695838-b579-4c1d-989d-aeaba31f9265",
   "metadata": {},
   "source": [
    "(a)"
   ]
  },
  {
   "cell_type": "code",
   "execution_count": 45,
   "id": "31beb28e-e7ae-4c61-be85-32d855b0d693",
   "metadata": {
    "tags": []
   },
   "outputs": [
    {
     "data": {
      "text/plain": [
       "0.03241666666666666"
      ]
     },
     "execution_count": 45,
     "metadata": {},
     "output_type": "execute_result"
    }
   ],
   "source": [
    "y(R, 5)"
   ]
  },
  {
   "cell_type": "markdown",
   "id": "2e90844c-ea6c-4a0c-8644-746dd9452b37",
   "metadata": {},
   "source": [
    "(b)"
   ]
  },
  {
   "cell_type": "code",
   "execution_count": 47,
   "id": "cb8764e2-4367-49c1-bb70-86632aa097c1",
   "metadata": {
    "tags": []
   },
   "outputs": [
    {
     "data": {
      "text/plain": [
       "850.3703373926935"
      ]
     },
     "execution_count": 47,
     "metadata": {},
     "output_type": "execute_result"
    }
   ],
   "source": [
    "1000 * D(R, 5)"
   ]
  },
  {
   "cell_type": "markdown",
   "id": "c2950631-da41-4183-b841-9033befac0b7",
   "metadata": {},
   "source": [
    "#### Exercise 5"
   ]
  },
  {
   "cell_type": "code",
   "execution_count": 54,
   "id": "92602d2a-73b2-4635-85f4-e310ec34408f",
   "metadata": {
    "tags": []
   },
   "outputs": [],
   "source": [
    "rates = np.array([0.025, 0.028, 0.032, 0.033])"
   ]
  },
  {
   "cell_type": "code",
   "execution_count": 55,
   "id": "193d7c21-9036-4980-8a48-7696ed4532d9",
   "metadata": {
    "tags": []
   },
   "outputs": [],
   "source": [
    "cash_flows = np.array([35, 35, 35, 1035])"
   ]
  },
  {
   "cell_type": "code",
   "execution_count": 56,
   "id": "d560ae10-87f3-4da7-b02c-8d3bc80a3cd9",
   "metadata": {
    "tags": []
   },
   "outputs": [
    {
     "data": {
      "text/plain": [
       "1008.0578433168787"
      ]
     },
     "execution_count": 56,
     "metadata": {},
     "output_type": "execute_result"
    }
   ],
   "source": [
    "np.sum(cash_flows / (1 + rates) ** np.arange(1, 5))"
   ]
  },
  {
   "cell_type": "markdown",
   "id": "6d43164f-ef5c-4dd2-b69b-eafacdbcd80f",
   "metadata": {
    "tags": []
   },
   "source": [
    "#### Exercise 7"
   ]
  },
  {
   "cell_type": "code",
   "execution_count": 58,
   "id": "b0f55d0e-baaa-466e-8930-72bdd8be4087",
   "metadata": {
    "tags": []
   },
   "outputs": [],
   "source": [
    "def bond_value(c: float, T: float, r: float, par: float):\n",
    "    \"\"\"Computes bv = bond values (current prices) corresponding\n",
    "    to all values of yield to maturity in the input vector r\n",
    "    \n",
    "    Parameters\n",
    "    ==========\n",
    "    c: float\n",
    "        coupon payment (semiannual)\n",
    "    T: float\n",
    "        time to maturity (in years)\n",
    "    r: float\n",
    "        vector of yields to maturity (semiannual rates)\n",
    "    par: float\n",
    "        par value\n",
    "    \"\"\"\n",
    "    return c / r + (par - c / r) * (1 + r)**(-2 * T)"
   ]
  },
  {
   "cell_type": "markdown",
   "id": "bf89a16c-7a58-4583-92e1-d20ccf32740e",
   "metadata": {},
   "source": [
    "(a) The coupon remains $\\frac12 \\cdot 8.5\\% = 4.25\\%$, which is $42.5 semiannually."
   ]
  },
  {
   "cell_type": "markdown",
   "id": "3dcf495e-c521-4f0f-ba83-27f0c1e769ca",
   "metadata": {},
   "source": [
    "(b)"
   ]
  },
  {
   "cell_type": "code",
   "execution_count": 60,
   "id": "5b001c49-210f-4314-967a-c3798dfadcaf",
   "metadata": {
    "tags": []
   },
   "outputs": [
    {
     "data": {
      "text/plain": [
       "1089.7179077140117"
      ]
     },
     "execution_count": 60,
     "metadata": {},
     "output_type": "execute_result"
    }
   ],
   "source": [
    "bond_value(42.5, 19, 0.076 / 2, 1000)"
   ]
  },
  {
   "cell_type": "markdown",
   "id": "662945de-64e0-4ffc-a9f9-360759fb5097",
   "metadata": {},
   "source": [
    "(c)"
   ]
  },
  {
   "cell_type": "code",
   "execution_count": 61,
   "id": "1238321b-e8db-4a87-91ff-3b82060d0a78",
   "metadata": {
    "tags": []
   },
   "outputs": [
    {
     "data": {
      "text/plain": [
       "1132.2179077140117"
      ]
     },
     "execution_count": 61,
     "metadata": {},
     "output_type": "execute_result"
    }
   ],
   "source": [
    "bond_value(42.5, 19, 0.076 / 2, 1000) + 42.5"
   ]
  },
  {
   "cell_type": "markdown",
   "id": "307713db-9ec5-45e0-b0b4-7ac3d26f4134",
   "metadata": {
    "tags": []
   },
   "source": [
    "#### Exercise 8"
   ]
  },
  {
   "cell_type": "markdown",
   "id": "ec5da180-533b-4d4a-a588-20a580435df5",
   "metadata": {},
   "source": [
    "(a)"
   ]
  },
  {
   "cell_type": "code",
   "execution_count": 63,
   "id": "e20c7bcd-8807-4756-a1df-c8be4658f455",
   "metadata": {
    "tags": []
   },
   "outputs": [
    {
     "data": {
      "text/plain": [
       "0.03774842491937548"
      ]
     },
     "execution_count": 63,
     "metadata": {},
     "output_type": "execute_result"
    }
   ],
   "source": [
    "-np.log(828 / 1000) / 5"
   ]
  },
  {
   "cell_type": "markdown",
   "id": "2dad27af-3a8f-4f3f-b0fc-ddaa0ac128b6",
   "metadata": {},
   "source": [
    "(b)"
   ]
  },
  {
   "cell_type": "code",
   "execution_count": 65,
   "id": "64711d07-d39c-496a-be36-a706d9e5d76a",
   "metadata": {
    "tags": []
   },
   "outputs": [
    {
     "data": {
      "text/plain": [
       "845.3538346846588"
      ]
     },
     "execution_count": 65,
     "metadata": {},
     "output_type": "execute_result"
    }
   ],
   "source": [
    "p1y = 1000 * np.exp(-4 * 0.042)\n",
    "p1y"
   ]
  },
  {
   "cell_type": "markdown",
   "id": "5dd5c165-7572-4898-a079-3a0ded9a5b57",
   "metadata": {},
   "source": [
    "(c)"
   ]
  },
  {
   "cell_type": "code",
   "execution_count": 67,
   "id": "e2264f22-aacf-43e0-81c2-d12132c63fb7",
   "metadata": {
    "tags": []
   },
   "outputs": [],
   "source": [
    "p0 = 828"
   ]
  },
  {
   "cell_type": "code",
   "execution_count": 68,
   "id": "1ad4bb62-843c-4642-ab4e-5f9f93068851",
   "metadata": {
    "tags": []
   },
   "outputs": [
    {
     "data": {
      "text/plain": [
       "0.020958737541858393"
      ]
     },
     "execution_count": 68,
     "metadata": {},
     "output_type": "execute_result"
    }
   ],
   "source": [
    "(p1y - p0) / p0"
   ]
  },
  {
   "cell_type": "markdown",
   "id": "bb94b856-f5de-41e2-af7b-2ce1fc14af68",
   "metadata": {},
   "source": [
    "#### Exercise 9"
   ]
  },
  {
   "cell_type": "markdown",
   "id": "26fd51df-d5ec-4f0a-9cda-a631b7eff3e3",
   "metadata": {},
   "source": [
    "(a)"
   ]
  },
  {
   "cell_type": "code",
   "execution_count": 70,
   "id": "aa031a97-0d3d-400b-88cb-8c302f64bfee",
   "metadata": {
    "tags": []
   },
   "outputs": [
    {
     "data": {
      "text/plain": [
       "1016.3514333445971"
      ]
     },
     "execution_count": 70,
     "metadata": {},
     "output_type": "execute_result"
    }
   ],
   "source": [
    "bond_value(21, 10, 0.04 / 2, 1000)"
   ]
  },
  {
   "cell_type": "markdown",
   "id": "7f2b700d-6581-410f-bece-47be253f10e4",
   "metadata": {},
   "source": [
    "(b) The bond is selling above par, because the coupon rate is higher than the yield to maturity."
   ]
  },
  {
   "cell_type": "markdown",
   "id": "8f654b42-31a8-4cfc-973c-b1e8e05f05dc",
   "metadata": {},
   "source": [
    "#### Exercise 10"
   ]
  },
  {
   "cell_type": "markdown",
   "id": "d4e684b2-9285-4cd1-aafd-f0a0cceb9dff",
   "metadata": {},
   "source": [
    "(a)"
   ]
  },
  {
   "cell_type": "code",
   "execution_count": 71,
   "id": "97bc1d10-0e14-4588-b483-734dccc8d8fc",
   "metadata": {
    "tags": []
   },
   "outputs": [],
   "source": [
    "from scipy.optimize import brentq"
   ]
  },
  {
   "cell_type": "code",
   "execution_count": 72,
   "id": "fa009966-ae24-4c16-af3b-ccc0a1d8bc53",
   "metadata": {
    "tags": []
   },
   "outputs": [
    {
     "data": {
      "text/plain": [
       "0.01970282758714493"
      ]
     },
     "execution_count": 72,
     "metadata": {},
     "output_type": "execute_result"
    }
   ],
   "source": [
    "r = brentq(lambda r: bond_value(23, 7, r, 1000) - 1040, 0.001, 1.0)\n",
    "r"
   ]
  },
  {
   "cell_type": "markdown",
   "id": "2a1aa09c-f7d2-48ae-a93d-4ec124c189f7",
   "metadata": {},
   "source": [
    "(b)"
   ]
  },
  {
   "cell_type": "code",
   "execution_count": 73,
   "id": "c84abafe-dbbc-4fab-b3fb-d0c79ccc9f5c",
   "metadata": {
    "tags": []
   },
   "outputs": [
    {
     "data": {
      "text/plain": [
       "0.04423076923076923"
      ]
     },
     "execution_count": 73,
     "metadata": {},
     "output_type": "execute_result"
    }
   ],
   "source": [
    "23 / 1040 * 2"
   ]
  },
  {
   "cell_type": "markdown",
   "id": "89c7a30d-671f-4dc9-b3cf-765031508ec8",
   "metadata": {},
   "source": [
    "(c) The yield to maturity is lower than the current yield since the bond is selling above par."
   ]
  },
  {
   "cell_type": "markdown",
   "id": "b9efcb31-d64e-4d6b-890f-cef2b6bc9e64",
   "metadata": {
    "tags": []
   },
   "source": [
    "#### Exercise 11"
   ]
  },
  {
   "cell_type": "code",
   "execution_count": 75,
   "id": "8c82a38c-da9e-41e5-a653-fd01ebec34be",
   "metadata": {
    "tags": []
   },
   "outputs": [],
   "source": [
    "def r(t):\n",
    "    return 0.033 + 0.0012 * t\n",
    "\n",
    "def R(t):\n",
    "    return 0.033 * t + 0.0012 * t**2 / 2"
   ]
  },
  {
   "cell_type": "code",
   "execution_count": 76,
   "id": "c7f18049-8c98-4b3b-9bc0-dc2904567101",
   "metadata": {
    "tags": []
   },
   "outputs": [
    {
     "data": {
      "text/plain": [
       "532.5918010068972"
      ]
     },
     "execution_count": 76,
     "metadata": {},
     "output_type": "execute_result"
    }
   ],
   "source": [
    "1000 * D(R, 15)"
   ]
  },
  {
   "cell_type": "markdown",
   "id": "ba9c952b-a39a-490c-9a93-f1948e1cb2a9",
   "metadata": {},
   "source": [
    "#### Exercise 12"
   ]
  },
  {
   "cell_type": "code",
   "execution_count": 82,
   "id": "52e3de88-69b7-494d-adea-1c31815adc1f",
   "metadata": {
    "tags": []
   },
   "outputs": [],
   "source": [
    "R1 = lambda t: 0.04 * t + 0.001 * t**2 / 2\n",
    "R2 = lambda t: 0.03 * t + 0.0013 * t**2 / 2"
   ]
  },
  {
   "cell_type": "code",
   "execution_count": 83,
   "id": "38bb1f08-0912-4c60-9e2f-e744aef7b963",
   "metadata": {
    "tags": []
   },
   "outputs": [
    {
     "data": {
      "text/plain": [
       "0.09465308968550235"
      ]
     },
     "execution_count": 83,
     "metadata": {},
     "output_type": "execute_result"
    }
   ],
   "source": [
    "(D(R2, 7.5) - D(R1, 8)) / D(R1, 8)"
   ]
  },
  {
   "cell_type": "markdown",
   "id": "2dabb1db-0629-4826-80ca-d9f42391e762",
   "metadata": {
    "tags": []
   },
   "source": [
    "#### Exercise 13"
   ]
  },
  {
   "cell_type": "code",
   "execution_count": 85,
   "id": "85a19d27-b639-4da8-809b-9103210d546d",
   "metadata": {
    "tags": []
   },
   "outputs": [
    {
     "data": {
      "text/plain": [
       "0.00079"
      ]
     },
     "execution_count": 85,
     "metadata": {},
     "output_type": "execute_result"
    }
   ],
   "source": [
    "0.001 - 0.00021"
   ]
  },
  {
   "cell_type": "code",
   "execution_count": 87,
   "id": "7318b5d1-3376-4a3f-ac7d-0ee9b2624600",
   "metadata": {
    "tags": []
   },
   "outputs": [],
   "source": [
    "# if t < 10\n",
    "R1 = lambda t: 0.03 * t + 0.001 * t**2 / 2\n",
    "# if t >= 10\n",
    "R2 = lambda t: 0.0321 * t + 0.00079 * t**2 / 2"
   ]
  },
  {
   "cell_type": "code",
   "execution_count": 88,
   "id": "00a8ef9e-eacd-4e84-98a4-a9bab22ef133",
   "metadata": {
    "tags": []
   },
   "outputs": [
    {
     "data": {
      "text/plain": [
       "0.037942500000000004"
      ]
     },
     "execution_count": 88,
     "metadata": {},
     "output_type": "execute_result"
    }
   ],
   "source": [
    "1/20 * (R2(20) - R2(10) + R1(10) - R(1))"
   ]
  },
  {
   "cell_type": "markdown",
   "id": "3d4a4a3d-98dd-442e-8f45-e91f255000cf",
   "metadata": {
    "tags": []
   },
   "source": [
    "#### Exercise 14"
   ]
  },
  {
   "cell_type": "code",
   "execution_count": 99,
   "id": "e306f87e-e94d-4565-9491-12ed78bfcc35",
   "metadata": {
    "tags": []
   },
   "outputs": [],
   "source": [
    "spot_rates = np.array([0, 0.031, 0.035, 0.04, 0.042, 0.043])"
   ]
  },
  {
   "cell_type": "code",
   "execution_count": 100,
   "id": "63ff06fc-e625-43b9-b411-50930c965c1f",
   "metadata": {
    "tags": []
   },
   "outputs": [],
   "source": [
    "maturities = np.array([1, 3, 5])"
   ]
  },
  {
   "cell_type": "markdown",
   "id": "ee99a033-1014-4c88-a8e2-080664befbd2",
   "metadata": {},
   "source": [
    "(a)"
   ]
  },
  {
   "cell_type": "code",
   "execution_count": 104,
   "id": "53f19d4d-3ade-4cd4-aa41-83e1eda327dc",
   "metadata": {
    "tags": []
   },
   "outputs": [
    {
     "data": {
      "text/plain": [
       "array([940.76828783, 790.31452573, 656.38238218])"
      ]
     },
     "execution_count": 104,
     "metadata": {},
     "output_type": "execute_result"
    }
   ],
   "source": [
    "p0 = 1000 / (1 + spot_rates[maturities]) ** (2 * maturities)\n",
    "p0"
   ]
  },
  {
   "cell_type": "markdown",
   "id": "91894e61-7b48-4302-acf7-a9c4f6190b2a",
   "metadata": {},
   "source": [
    "(b)"
   ]
  },
  {
   "cell_type": "code",
   "execution_count": 107,
   "id": "4769c87c-3581-455f-8037-c8bca238d6f1",
   "metadata": {
    "tags": []
   },
   "outputs": [
    {
     "data": {
      "text/plain": [
       "array([1000.        ,  871.4422277 ,  719.54547816])"
      ]
     },
     "execution_count": 107,
     "metadata": {},
     "output_type": "execute_result"
    }
   ],
   "source": [
    "p1u = 1000 / (1 + spot_rates[maturities - 1]) ** (2 * (maturities - 1))\n",
    "p1u"
   ]
  },
  {
   "cell_type": "markdown",
   "id": "d1a4429b-53f3-4e78-9d9b-a2a55de26531",
   "metadata": {},
   "source": [
    "(c)"
   ]
  },
  {
   "cell_type": "code",
   "execution_count": 108,
   "id": "c4060410-3b4e-4511-845c-066ee40965c8",
   "metadata": {
    "tags": []
   },
   "outputs": [
    {
     "data": {
      "text/plain": [
       "array([1000.        ,  854.80419103,  692.51079326])"
      ]
     },
     "execution_count": 108,
     "metadata": {},
     "output_type": "execute_result"
    }
   ],
   "source": [
    "p1c = 1000 / (1 + (spot_rates + 0.005)[maturities - 1]) ** (2 * (maturities - 1))\n",
    "p1c"
   ]
  },
  {
   "cell_type": "markdown",
   "id": "c66aca76-e303-4668-b29b-5cea4d644223",
   "metadata": {},
   "source": [
    "(d)"
   ]
  },
  {
   "cell_type": "code",
   "execution_count": 109,
   "id": "366acb3c-cd3f-4706-9007-5aed0d21520f",
   "metadata": {
    "tags": []
   },
   "outputs": [
    {
     "data": {
      "text/plain": [
       "array([0.062961  , 0.0816    , 0.05504171])"
      ]
     },
     "execution_count": 109,
     "metadata": {},
     "output_type": "execute_result"
    }
   ],
   "source": [
    "(p1c - p0) / p0"
   ]
  },
  {
   "cell_type": "markdown",
   "id": "cc953eec-f9bf-4311-a339-43f7c56d7524",
   "metadata": {},
   "source": [
    "Therefore, the 3-year bond produces the highest return."
   ]
  },
  {
   "cell_type": "markdown",
   "id": "b69254bc-87b8-420a-9e3e-096850463083",
   "metadata": {},
   "source": [
    "(e)"
   ]
  },
  {
   "cell_type": "code",
   "execution_count": 110,
   "id": "2b0c8c88-c691-46fa-aaaf-e73b551fcf95",
   "metadata": {
    "tags": []
   },
   "outputs": [
    {
     "data": {
      "text/plain": [
       "array([0.062961  , 0.10265242, 0.09622912])"
      ]
     },
     "execution_count": 110,
     "metadata": {},
     "output_type": "execute_result"
    }
   ],
   "source": [
    "(p1u - p0) / p0"
   ]
  },
  {
   "cell_type": "markdown",
   "id": "f902dfb1-eb05-443d-8485-91e872483d62",
   "metadata": {},
   "source": [
    "The 3-year bond produces the highest return in this scenario as well."
   ]
  },
  {
   "cell_type": "markdown",
   "id": "99f4bb74-5ee4-4ebd-899b-6afe3edddae0",
   "metadata": {},
   "source": [
    "(f) The highest spot rate corresponds to 5-year maturity, but it is the 3-year bond the produces the highest return, so the analyst is not correct."
   ]
  },
  {
   "cell_type": "markdown",
   "id": "7c521c86-5103-4987-b73f-3c9662ac7dde",
   "metadata": {
    "tags": []
   },
   "source": [
    "#### Exercise 16"
   ]
  },
  {
   "cell_type": "markdown",
   "id": "0c723768-680a-49c9-83f4-7c36a9f96714",
   "metadata": {},
   "source": [
    "(a)"
   ]
  },
  {
   "cell_type": "code",
   "execution_count": 112,
   "id": "3298d28f-2637-4012-a3a8-4e853b2fe072",
   "metadata": {
    "tags": []
   },
   "outputs": [],
   "source": [
    "yT = lambda t: 0.04 + 0.001 * t"
   ]
  },
  {
   "cell_type": "code",
   "execution_count": 116,
   "id": "11c1fec6-1d63-4952-9d91-eb498a8918d6",
   "metadata": {
    "tags": []
   },
   "outputs": [
    {
     "data": {
      "text/plain": [
       "606.5306597126335"
      ]
     },
     "execution_count": 116,
     "metadata": {},
     "output_type": "execute_result"
    }
   ],
   "source": [
    "p0 = 1000 / np.exp(10 * yT(10))\n",
    "p0"
   ]
  },
  {
   "cell_type": "markdown",
   "id": "1329631d-e657-4b2b-a02d-60ac1de26e99",
   "metadata": {},
   "source": [
    "(b)"
   ]
  },
  {
   "cell_type": "code",
   "execution_count": 115,
   "id": "80307f2c-c322-4d92-ae98-80ba21ea852a",
   "metadata": {
    "tags": []
   },
   "outputs": [],
   "source": [
    "yT1y = lambda t: 0.042 + 0.001 * t"
   ]
  },
  {
   "cell_type": "code",
   "execution_count": 118,
   "id": "e634768a-7986-46c3-a228-ecdf6d4c4569",
   "metadata": {
    "tags": []
   },
   "outputs": [
    {
     "data": {
      "text/plain": [
       "631.9152448994959"
      ]
     },
     "execution_count": 118,
     "metadata": {},
     "output_type": "execute_result"
    }
   ],
   "source": [
    "p1 = 1000 / np.exp(9 * yT1y(9))\n",
    "p1"
   ]
  },
  {
   "cell_type": "code",
   "execution_count": 119,
   "id": "82af215c-b6c9-408a-9d3c-7cd7894c22dc",
   "metadata": {
    "tags": []
   },
   "outputs": [
    {
     "data": {
      "text/plain": [
       "0.04185210554547944"
      ]
     },
     "execution_count": 119,
     "metadata": {},
     "output_type": "execute_result"
    }
   ],
   "source": [
    "(p1 - p0) / p0"
   ]
  },
  {
   "cell_type": "markdown",
   "id": "7f32511e-952d-4b61-acd2-e31154e84f38",
   "metadata": {
    "tags": []
   },
   "source": [
    "#### Exercise 20"
   ]
  },
  {
   "cell_type": "code",
   "execution_count": 122,
   "id": "078580fa-450b-4847-bd0a-d8c77d6f0c3f",
   "metadata": {
    "tags": []
   },
   "outputs": [],
   "source": [
    "maturities = np.array([0.5, 1.0, 1.5, 2.0])\n",
    "prices = np.array([980.39, 957.41, 923.18, 888.489])"
   ]
  },
  {
   "cell_type": "markdown",
   "id": "82e378d2-b4db-4833-86a7-9bdd489c0d11",
   "metadata": {},
   "source": [
    "(a)"
   ]
  },
  {
   "cell_type": "code",
   "execution_count": 131,
   "id": "523291b5-cf92-413a-b15a-4abdd2f5af50",
   "metadata": {
    "tags": []
   },
   "outputs": [
    {
     "data": {
      "text/plain": [
       "array([0.02000224, 0.02200029, 0.0270018 , 0.02999943])"
      ]
     },
     "execution_count": 131,
     "metadata": {},
     "output_type": "execute_result"
    }
   ],
   "source": [
    "r = (1000 / prices) ** (1 / 2 / maturities) - 1\n",
    "r"
   ]
  },
  {
   "cell_type": "markdown",
   "id": "860f515f-a97e-4497-aaa6-bd144cb29914",
   "metadata": {},
   "source": [
    "(b)"
   ]
  },
  {
   "cell_type": "code",
   "execution_count": 128,
   "id": "cc1fe1d3-465e-426c-8d5e-0bff05ca4c12",
   "metadata": {
    "tags": []
   },
   "outputs": [],
   "source": [
    "cash_flows = np.array([21, 21, 21, 1021])"
   ]
  },
  {
   "cell_type": "code",
   "execution_count": 134,
   "id": "48a07dc9-f9e1-4409-a5e6-753b6b076a71",
   "metadata": {
    "tags": []
   },
   "outputs": [],
   "source": [
    "Df = prices / 1000"
   ]
  },
  {
   "cell_type": "code",
   "execution_count": 135,
   "id": "d16c199a-8058-4f50-806a-a9ad5d16c80f",
   "metadata": {
    "tags": []
   },
   "outputs": [
    {
     "data": {
      "text/plain": [
       "967.2278490000001"
      ]
     },
     "execution_count": 135,
     "metadata": {},
     "output_type": "execute_result"
    }
   ],
   "source": [
    "np.sum(cash_flows * Df)"
   ]
  },
  {
   "cell_type": "markdown",
   "id": "0c2f2153-5f86-4cb8-bfe7-821ae11afccc",
   "metadata": {},
   "source": [
    "Or alternatively,"
   ]
  },
  {
   "cell_type": "code",
   "execution_count": 133,
   "id": "d8ee97d4-a569-499e-b7c3-c080c1ec6749",
   "metadata": {
    "tags": []
   },
   "outputs": [
    {
     "data": {
      "text/plain": [
       "967.2278490000004"
      ]
     },
     "execution_count": 133,
     "metadata": {},
     "output_type": "execute_result"
    }
   ],
   "source": [
    "np.sum(cash_flows / (1 + r) ** np.arange(1, 5))"
   ]
  },
  {
   "cell_type": "markdown",
   "id": "e5a94f55-d3f3-4909-a4f5-221f654bd79e",
   "metadata": {},
   "source": [
    "#### Exercise 21"
   ]
  },
  {
   "cell_type": "code",
   "execution_count": 136,
   "id": "04c3ae7e-ae3b-461d-9a31-d91dadd32540",
   "metadata": {
    "tags": []
   },
   "outputs": [
    {
     "data": {
      "text/plain": [
       "0.022926445293188318"
      ]
     },
     "execution_count": 136,
     "metadata": {},
     "output_type": "execute_result"
    }
   ],
   "source": [
    "r = brentq(lambda r: bond_value(25, 4, r, 1000) - 1015, 0.001, 1.0)\n",
    "r"
   ]
  },
  {
   "cell_type": "markdown",
   "id": "cc46746b-11bb-43ce-868e-add4b8d91cfe",
   "metadata": {},
   "source": [
    "#### Exercise 22"
   ]
  },
  {
   "cell_type": "code",
   "execution_count": 137,
   "id": "fc9d0f34-63c6-4b9d-ae55-9205495fa00b",
   "metadata": {
    "tags": []
   },
   "outputs": [],
   "source": [
    "R = lambda t: 0.022 * t + 0.005 * t**2 / 2 - 0.004 * t**3 / 3 + 0.0003 * t**4 / 4"
   ]
  },
  {
   "cell_type": "code",
   "execution_count": 140,
   "id": "a172523f-1a24-4fa3-a970-ce3e2b80776b",
   "metadata": {
    "tags": []
   },
   "outputs": [],
   "source": [
    "ts = np.arange(1, 9) / 2"
   ]
  },
  {
   "cell_type": "code",
   "execution_count": 145,
   "id": "d39bcff4-694e-4a62-b25e-73979c9a220f",
   "metadata": {
    "tags": []
   },
   "outputs": [],
   "source": [
    "cash_flows = np.array([21] * 8) + np.array([0] * 7 + [1000])"
   ]
  },
  {
   "cell_type": "code",
   "execution_count": 148,
   "id": "c353e491-e4ac-402e-9689-453abb1348fd",
   "metadata": {
    "tags": []
   },
   "outputs": [
    {
     "data": {
      "text/plain": [
       "1100.869661451915"
      ]
     },
     "execution_count": 148,
     "metadata": {},
     "output_type": "execute_result"
    }
   ],
   "source": [
    "np.sum(cash_flows * np.exp(-R(ts)))"
   ]
  }
 ],
 "metadata": {
  "kernelspec": {
   "display_name": "Python 3 (ipykernel)",
   "language": "python",
   "name": "python3"
  },
  "language_info": {
   "codemirror_mode": {
    "name": "ipython",
    "version": 3
   },
   "file_extension": ".py",
   "mimetype": "text/x-python",
   "name": "python",
   "nbconvert_exporter": "python",
   "pygments_lexer": "ipython3",
   "version": "3.11.2"
  }
 },
 "nbformat": 4,
 "nbformat_minor": 5
}
