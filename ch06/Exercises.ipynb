{
 "cells": [
  {
   "cell_type": "code",
   "execution_count": 1,
   "id": "93e92616-9b41-46a1-ace1-8040ae6fdc4c",
   "metadata": {
    "tags": []
   },
   "outputs": [],
   "source": [
    "import numpy as np\n",
    "import pandas as pd\n",
    "import matplotlib.pyplot as plt\n",
    "import scipy.stats as stats"
   ]
  },
  {
   "cell_type": "code",
   "execution_count": 2,
   "id": "578c42ee-8649-4fda-97d8-f6ce5d95410f",
   "metadata": {
    "tags": []
   },
   "outputs": [],
   "source": [
    "import sys\n",
    "sys.path.append(\"../\") # go to parent dir"
   ]
  },
  {
   "cell_type": "markdown",
   "id": "7f86c5df-7a53-4f98-ac7f-f7bfa81a4131",
   "metadata": {},
   "source": [
    "#### Exercise 1"
   ]
  },
  {
   "cell_type": "markdown",
   "id": "463098e7-bdea-4a52-aa8c-1f4b6a3a953e",
   "metadata": {},
   "source": [
    "Using the basic interval method, the 90% confidence interval is:"
   ]
  },
  {
   "cell_type": "code",
   "execution_count": 3,
   "id": "0d892c7c-fab2-450a-a44c-63a248d4aa8d",
   "metadata": {
    "tags": []
   },
   "outputs": [
    {
     "data": {
      "text/plain": [
       "array([0.1023, 0.3999])"
      ]
     },
     "execution_count": 3,
     "metadata": {},
     "output_type": "execute_result"
    }
   ],
   "source": [
    "2 * 0.31 - 0.31 * np.array([1.67, 0.71]) "
   ]
  },
  {
   "cell_type": "markdown",
   "id": "d27d432b-11a7-4086-a355-845544af0525",
   "metadata": {
    "tags": []
   },
   "source": [
    "#### Exercise 2"
   ]
  },
  {
   "cell_type": "markdown",
   "id": "c6cad2be-bbfc-49e2-9f43-149b196ee74c",
   "metadata": {
    "tags": []
   },
   "source": [
    "(a) The bias estimate is:"
   ]
  },
  {
   "cell_type": "code",
   "execution_count": 10,
   "id": "e0c1f0ad-a7f9-42b8-9cae-1e34f8d351cd",
   "metadata": {
    "tags": []
   },
   "outputs": [
    {
     "data": {
      "text/plain": [
       "-0.006879999999999997"
      ]
     },
     "execution_count": 10,
     "metadata": {},
     "output_type": "execute_result"
    }
   ],
   "source": [
    "bias = 0.68431 - 0.69119\n",
    "bias"
   ]
  },
  {
   "cell_type": "markdown",
   "id": "42974057-8d57-4f39-8883-78817e242ec2",
   "metadata": {},
   "source": [
    "(b) The standard deviation of the sample correlation coefficient is:"
   ]
  },
  {
   "cell_type": "code",
   "execution_count": 11,
   "id": "3f1ad3c0-d2ca-4db3-9c23-547bcdbdce15",
   "metadata": {
    "tags": []
   },
   "outputs": [
    {
     "data": {
      "text/plain": [
       "0.11293"
      ]
     },
     "execution_count": 11,
     "metadata": {},
     "output_type": "execute_result"
    }
   ],
   "source": [
    "sboot = 0.11293\n",
    "sboot"
   ]
  },
  {
   "cell_type": "markdown",
   "id": "9b40683e-862c-4bc6-89ac-f233e2007cf9",
   "metadata": {},
   "source": [
    "(c) The MSE of the sample correlation coefficient is:"
   ]
  },
  {
   "cell_type": "code",
   "execution_count": 14,
   "id": "e4e8c80b-2d7a-4edc-a265-1b9f796e43c2",
   "metadata": {
    "tags": []
   },
   "outputs": [
    {
     "data": {
      "text/plain": [
       "0.0128005193"
      ]
     },
     "execution_count": 14,
     "metadata": {},
     "output_type": "execute_result"
    }
   ],
   "source": [
    "mse = bias ** 2 + sboot ** 2\n",
    "mse"
   ]
  },
  {
   "cell_type": "markdown",
   "id": "79ecf34e-8c6f-4c02-ae55-65e8ce311c30",
   "metadata": {
    "tags": []
   },
   "source": [
    "(d) The fraction of MSE accounted for by the bias is very small, so not particularly concerning:"
   ]
  },
  {
   "cell_type": "code",
   "execution_count": 17,
   "id": "26391870-29b3-4314-aff3-89bad7bccce9",
   "metadata": {
    "tags": []
   },
   "outputs": [
    {
     "data": {
      "text/plain": [
       "0.003697849977070849"
      ]
     },
     "execution_count": 17,
     "metadata": {},
     "output_type": "execute_result"
    }
   ],
   "source": [
    "bias ** 2 / mse"
   ]
  },
  {
   "cell_type": "markdown",
   "id": "12df4dc7-ef17-42e6-8da1-5f20c966cc5a",
   "metadata": {
    "tags": []
   },
   "source": [
    "#### Exercise 3"
   ]
  },
  {
   "cell_type": "markdown",
   "id": "44424de6-7616-4ed0-92c1-82bc0471f546",
   "metadata": {},
   "source": [
    "(a) The bias of the estimate:"
   ]
  },
  {
   "cell_type": "code",
   "execution_count": 19,
   "id": "7cd80627-44e2-421c-91cf-4ebcffc2a26e",
   "metadata": {
    "tags": []
   },
   "outputs": [
    {
     "data": {
      "text/plain": [
       "-0.040000000000000036"
      ]
     },
     "execution_count": 19,
     "metadata": {},
     "output_type": "execute_result"
    }
   ],
   "source": [
    "bias = 1.283 - 1.323\n",
    "bias"
   ]
  },
  {
   "cell_type": "markdown",
   "id": "e61b4c3e-a719-44ad-a52e-edf0bbc0af0d",
   "metadata": {
    "tags": []
   },
   "source": [
    "(b) The MSE of the estimate:"
   ]
  },
  {
   "cell_type": "code",
   "execution_count": null,
   "id": "7279695a-0740-4fbb-93d0-9203289142ea",
   "metadata": {},
   "outputs": [],
   "source": [
    "sboot = 0.2386"
   ]
  },
  {
   "cell_type": "code",
   "execution_count": 21,
   "id": "7c0e2953-3158-440c-b9b7-6e03e5a3698a",
   "metadata": {
    "tags": []
   },
   "outputs": [
    {
     "data": {
      "text/plain": [
       "0.014353184900000003"
      ]
     },
     "execution_count": 21,
     "metadata": {},
     "output_type": "execute_result"
    }
   ],
   "source": [
    "mse = bias ** 2 + sboot ** 2\n",
    "mse"
   ]
  }
 ],
 "metadata": {
  "kernelspec": {
   "display_name": "Python 3 (ipykernel)",
   "language": "python",
   "name": "python3"
  },
  "language_info": {
   "codemirror_mode": {
    "name": "ipython",
    "version": 3
   },
   "file_extension": ".py",
   "mimetype": "text/x-python",
   "name": "python",
   "nbconvert_exporter": "python",
   "pygments_lexer": "ipython3",
   "version": "3.11.2"
  }
 },
 "nbformat": 4,
 "nbformat_minor": 5
}
